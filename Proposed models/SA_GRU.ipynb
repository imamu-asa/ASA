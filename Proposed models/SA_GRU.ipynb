{
  "nbformat": 4,
  "nbformat_minor": 0,
  "metadata": {
    "colab": {
      "name": "SA_GRU.ipynb",
      "provenance": [],
      "machine_shape": "hm"
    },
    "kernelspec": {
      "name": "python3",
      "display_name": "Python 3"
    },
    "accelerator": "GPU"
  },
  "cells": [
    {
      "cell_type": "code",
      "metadata": {
        "id": "o6EX2Rz9Cj66",
        "outputId": "333656ff-c54f-4478-83b1-a5f76bab1ff8",
        "colab": {
          "base_uri": "https://localhost:8080/",
          "height": 1000
        }
      },
      "source": [
        "!pip install keras==2.3.1\n",
        "!pip install tensorflow==2.2.0"
      ],
      "execution_count": null,
      "outputs": [
        {
          "output_type": "stream",
          "text": [
            "Collecting keras==2.3.1\n",
            "\u001b[?25l  Downloading https://files.pythonhosted.org/packages/ad/fd/6bfe87920d7f4fd475acd28500a42482b6b84479832bdc0fe9e589a60ceb/Keras-2.3.1-py2.py3-none-any.whl (377kB)\n",
            "\r\u001b[K     |▉                               | 10kB 30.6MB/s eta 0:00:01\r\u001b[K     |█▊                              | 20kB 5.9MB/s eta 0:00:01\r\u001b[K     |██▋                             | 30kB 7.6MB/s eta 0:00:01\r\u001b[K     |███▌                            | 40kB 8.4MB/s eta 0:00:01\r\u001b[K     |████▍                           | 51kB 7.0MB/s eta 0:00:01\r\u001b[K     |█████▏                          | 61kB 7.9MB/s eta 0:00:01\r\u001b[K     |██████                          | 71kB 8.2MB/s eta 0:00:01\r\u001b[K     |███████                         | 81kB 8.1MB/s eta 0:00:01\r\u001b[K     |███████▉                        | 92kB 7.6MB/s eta 0:00:01\r\u001b[K     |████████▊                       | 102kB 8.0MB/s eta 0:00:01\r\u001b[K     |█████████▌                      | 112kB 8.0MB/s eta 0:00:01\r\u001b[K     |██████████▍                     | 122kB 8.0MB/s eta 0:00:01\r\u001b[K     |███████████▎                    | 133kB 8.0MB/s eta 0:00:01\r\u001b[K     |████████████▏                   | 143kB 8.0MB/s eta 0:00:01\r\u001b[K     |█████████████                   | 153kB 8.0MB/s eta 0:00:01\r\u001b[K     |█████████████▉                  | 163kB 8.0MB/s eta 0:00:01\r\u001b[K     |██████████████▊                 | 174kB 8.0MB/s eta 0:00:01\r\u001b[K     |███████████████▋                | 184kB 8.0MB/s eta 0:00:01\r\u001b[K     |████████████████▌               | 194kB 8.0MB/s eta 0:00:01\r\u001b[K     |█████████████████▍              | 204kB 8.0MB/s eta 0:00:01\r\u001b[K     |██████████████████▏             | 215kB 8.0MB/s eta 0:00:01\r\u001b[K     |███████████████████             | 225kB 8.0MB/s eta 0:00:01\r\u001b[K     |████████████████████            | 235kB 8.0MB/s eta 0:00:01\r\u001b[K     |████████████████████▉           | 245kB 8.0MB/s eta 0:00:01\r\u001b[K     |█████████████████████▊          | 256kB 8.0MB/s eta 0:00:01\r\u001b[K     |██████████████████████▌         | 266kB 8.0MB/s eta 0:00:01\r\u001b[K     |███████████████████████▍        | 276kB 8.0MB/s eta 0:00:01\r\u001b[K     |████████████████████████▎       | 286kB 8.0MB/s eta 0:00:01\r\u001b[K     |█████████████████████████▏      | 296kB 8.0MB/s eta 0:00:01\r\u001b[K     |██████████████████████████      | 307kB 8.0MB/s eta 0:00:01\r\u001b[K     |██████████████████████████▉     | 317kB 8.0MB/s eta 0:00:01\r\u001b[K     |███████████████████████████▊    | 327kB 8.0MB/s eta 0:00:01\r\u001b[K     |████████████████████████████▋   | 337kB 8.0MB/s eta 0:00:01\r\u001b[K     |█████████████████████████████▌  | 348kB 8.0MB/s eta 0:00:01\r\u001b[K     |██████████████████████████████▍ | 358kB 8.0MB/s eta 0:00:01\r\u001b[K     |███████████████████████████████▏| 368kB 8.0MB/s eta 0:00:01\r\u001b[K     |████████████████████████████████| 378kB 8.0MB/s \n",
            "\u001b[?25hRequirement already satisfied: pyyaml in /usr/local/lib/python3.6/dist-packages (from keras==2.3.1) (3.13)\n",
            "Collecting keras-applications>=1.0.6\n",
            "\u001b[?25l  Downloading https://files.pythonhosted.org/packages/71/e3/19762fdfc62877ae9102edf6342d71b28fbfd9dea3d2f96a882ce099b03f/Keras_Applications-1.0.8-py3-none-any.whl (50kB)\n",
            "\r\u001b[K     |██████▌                         | 10kB 37.4MB/s eta 0:00:01\r\u001b[K     |█████████████                   | 20kB 45.0MB/s eta 0:00:01\r\u001b[K     |███████████████████▍            | 30kB 52.4MB/s eta 0:00:01\r\u001b[K     |█████████████████████████▉      | 40kB 28.0MB/s eta 0:00:01\r\u001b[K     |████████████████████████████████| 51kB 7.4MB/s \n",
            "\u001b[?25hRequirement already satisfied: numpy>=1.9.1 in /usr/local/lib/python3.6/dist-packages (from keras==2.3.1) (1.18.5)\n",
            "Requirement already satisfied: six>=1.9.0 in /usr/local/lib/python3.6/dist-packages (from keras==2.3.1) (1.15.0)\n",
            "Requirement already satisfied: h5py in /usr/local/lib/python3.6/dist-packages (from keras==2.3.1) (2.10.0)\n",
            "Requirement already satisfied: keras-preprocessing>=1.0.5 in /usr/local/lib/python3.6/dist-packages (from keras==2.3.1) (1.1.2)\n",
            "Requirement already satisfied: scipy>=0.14 in /usr/local/lib/python3.6/dist-packages (from keras==2.3.1) (1.4.1)\n",
            "Installing collected packages: keras-applications, keras\n",
            "  Found existing installation: Keras 2.4.3\n",
            "    Uninstalling Keras-2.4.3:\n",
            "      Successfully uninstalled Keras-2.4.3\n",
            "Successfully installed keras-2.3.1 keras-applications-1.0.8\n",
            "Collecting tensorflow==2.2.0\n",
            "\u001b[?25l  Downloading https://files.pythonhosted.org/packages/3d/be/679ce5254a8c8d07470efb4a4c00345fae91f766e64f1c2aece8796d7218/tensorflow-2.2.0-cp36-cp36m-manylinux2010_x86_64.whl (516.2MB)\n",
            "\u001b[K     |████████████████████████████████| 516.2MB 30kB/s \n",
            "\u001b[?25hRequirement already satisfied: wrapt>=1.11.1 in /usr/local/lib/python3.6/dist-packages (from tensorflow==2.2.0) (1.12.1)\n",
            "Requirement already satisfied: six>=1.12.0 in /usr/local/lib/python3.6/dist-packages (from tensorflow==2.2.0) (1.15.0)\n",
            "Requirement already satisfied: termcolor>=1.1.0 in /usr/local/lib/python3.6/dist-packages (from tensorflow==2.2.0) (1.1.0)\n",
            "Requirement already satisfied: astunparse==1.6.3 in /usr/local/lib/python3.6/dist-packages (from tensorflow==2.2.0) (1.6.3)\n",
            "Requirement already satisfied: google-pasta>=0.1.8 in /usr/local/lib/python3.6/dist-packages (from tensorflow==2.2.0) (0.2.0)\n",
            "Requirement already satisfied: protobuf>=3.8.0 in /usr/local/lib/python3.6/dist-packages (from tensorflow==2.2.0) (3.12.4)\n",
            "Requirement already satisfied: absl-py>=0.7.0 in /usr/local/lib/python3.6/dist-packages (from tensorflow==2.2.0) (0.9.0)\n",
            "Collecting tensorboard<2.3.0,>=2.2.0\n",
            "\u001b[?25l  Downloading https://files.pythonhosted.org/packages/1d/74/0a6fcb206dcc72a6da9a62dd81784bfdbff5fedb099982861dc2219014fb/tensorboard-2.2.2-py3-none-any.whl (3.0MB)\n",
            "\u001b[K     |████████████████████████████████| 3.0MB 45.5MB/s \n",
            "\u001b[?25hRequirement already satisfied: opt-einsum>=2.3.2 in /usr/local/lib/python3.6/dist-packages (from tensorflow==2.2.0) (3.3.0)\n",
            "Collecting tensorflow-estimator<2.3.0,>=2.2.0\n",
            "\u001b[?25l  Downloading https://files.pythonhosted.org/packages/a4/f5/926ae53d6a226ec0fda5208e0e581cffed895ccc89e36ba76a8e60895b78/tensorflow_estimator-2.2.0-py2.py3-none-any.whl (454kB)\n",
            "\u001b[K     |████████████████████████████████| 460kB 78.1MB/s \n",
            "\u001b[?25hRequirement already satisfied: keras-preprocessing>=1.1.0 in /usr/local/lib/python3.6/dist-packages (from tensorflow==2.2.0) (1.1.2)\n",
            "Requirement already satisfied: grpcio>=1.8.6 in /usr/local/lib/python3.6/dist-packages (from tensorflow==2.2.0) (1.31.0)\n",
            "Requirement already satisfied: wheel>=0.26; python_version >= \"3\" in /usr/local/lib/python3.6/dist-packages (from tensorflow==2.2.0) (0.34.2)\n",
            "Requirement already satisfied: gast==0.3.3 in /usr/local/lib/python3.6/dist-packages (from tensorflow==2.2.0) (0.3.3)\n",
            "Requirement already satisfied: numpy<2.0,>=1.16.0 in /usr/local/lib/python3.6/dist-packages (from tensorflow==2.2.0) (1.18.5)\n",
            "Requirement already satisfied: h5py<2.11.0,>=2.10.0 in /usr/local/lib/python3.6/dist-packages (from tensorflow==2.2.0) (2.10.0)\n",
            "Requirement already satisfied: scipy==1.4.1; python_version >= \"3\" in /usr/local/lib/python3.6/dist-packages (from tensorflow==2.2.0) (1.4.1)\n",
            "Requirement already satisfied: setuptools in /usr/local/lib/python3.6/dist-packages (from protobuf>=3.8.0->tensorflow==2.2.0) (49.2.0)\n",
            "Requirement already satisfied: werkzeug>=0.11.15 in /usr/local/lib/python3.6/dist-packages (from tensorboard<2.3.0,>=2.2.0->tensorflow==2.2.0) (1.0.1)\n",
            "Requirement already satisfied: requests<3,>=2.21.0 in /usr/local/lib/python3.6/dist-packages (from tensorboard<2.3.0,>=2.2.0->tensorflow==2.2.0) (2.23.0)\n",
            "Requirement already satisfied: tensorboard-plugin-wit>=1.6.0 in /usr/local/lib/python3.6/dist-packages (from tensorboard<2.3.0,>=2.2.0->tensorflow==2.2.0) (1.7.0)\n",
            "Requirement already satisfied: google-auth<2,>=1.6.3 in /usr/local/lib/python3.6/dist-packages (from tensorboard<2.3.0,>=2.2.0->tensorflow==2.2.0) (1.17.2)\n",
            "Requirement already satisfied: google-auth-oauthlib<0.5,>=0.4.1 in /usr/local/lib/python3.6/dist-packages (from tensorboard<2.3.0,>=2.2.0->tensorflow==2.2.0) (0.4.1)\n",
            "Requirement already satisfied: markdown>=2.6.8 in /usr/local/lib/python3.6/dist-packages (from tensorboard<2.3.0,>=2.2.0->tensorflow==2.2.0) (3.2.2)\n",
            "Requirement already satisfied: certifi>=2017.4.17 in /usr/local/lib/python3.6/dist-packages (from requests<3,>=2.21.0->tensorboard<2.3.0,>=2.2.0->tensorflow==2.2.0) (2020.6.20)\n",
            "Requirement already satisfied: chardet<4,>=3.0.2 in /usr/local/lib/python3.6/dist-packages (from requests<3,>=2.21.0->tensorboard<2.3.0,>=2.2.0->tensorflow==2.2.0) (3.0.4)\n",
            "Requirement already satisfied: urllib3!=1.25.0,!=1.25.1,<1.26,>=1.21.1 in /usr/local/lib/python3.6/dist-packages (from requests<3,>=2.21.0->tensorboard<2.3.0,>=2.2.0->tensorflow==2.2.0) (1.24.3)\n",
            "Requirement already satisfied: idna<3,>=2.5 in /usr/local/lib/python3.6/dist-packages (from requests<3,>=2.21.0->tensorboard<2.3.0,>=2.2.0->tensorflow==2.2.0) (2.10)\n",
            "Requirement already satisfied: rsa<5,>=3.1.4; python_version >= \"3\" in /usr/local/lib/python3.6/dist-packages (from google-auth<2,>=1.6.3->tensorboard<2.3.0,>=2.2.0->tensorflow==2.2.0) (4.6)\n",
            "Requirement already satisfied: cachetools<5.0,>=2.0.0 in /usr/local/lib/python3.6/dist-packages (from google-auth<2,>=1.6.3->tensorboard<2.3.0,>=2.2.0->tensorflow==2.2.0) (4.1.1)\n",
            "Requirement already satisfied: pyasn1-modules>=0.2.1 in /usr/local/lib/python3.6/dist-packages (from google-auth<2,>=1.6.3->tensorboard<2.3.0,>=2.2.0->tensorflow==2.2.0) (0.2.8)\n",
            "Requirement already satisfied: requests-oauthlib>=0.7.0 in /usr/local/lib/python3.6/dist-packages (from google-auth-oauthlib<0.5,>=0.4.1->tensorboard<2.3.0,>=2.2.0->tensorflow==2.2.0) (1.3.0)\n",
            "Requirement already satisfied: importlib-metadata; python_version < \"3.8\" in /usr/local/lib/python3.6/dist-packages (from markdown>=2.6.8->tensorboard<2.3.0,>=2.2.0->tensorflow==2.2.0) (1.7.0)\n",
            "Requirement already satisfied: pyasn1>=0.1.3 in /usr/local/lib/python3.6/dist-packages (from rsa<5,>=3.1.4; python_version >= \"3\"->google-auth<2,>=1.6.3->tensorboard<2.3.0,>=2.2.0->tensorflow==2.2.0) (0.4.8)\n",
            "Requirement already satisfied: oauthlib>=3.0.0 in /usr/local/lib/python3.6/dist-packages (from requests-oauthlib>=0.7.0->google-auth-oauthlib<0.5,>=0.4.1->tensorboard<2.3.0,>=2.2.0->tensorflow==2.2.0) (3.1.0)\n",
            "Requirement already satisfied: zipp>=0.5 in /usr/local/lib/python3.6/dist-packages (from importlib-metadata; python_version < \"3.8\"->markdown>=2.6.8->tensorboard<2.3.0,>=2.2.0->tensorflow==2.2.0) (3.1.0)\n",
            "Installing collected packages: tensorboard, tensorflow-estimator, tensorflow\n",
            "  Found existing installation: tensorboard 2.3.0\n",
            "    Uninstalling tensorboard-2.3.0:\n",
            "      Successfully uninstalled tensorboard-2.3.0\n",
            "  Found existing installation: tensorflow-estimator 2.3.0\n",
            "    Uninstalling tensorflow-estimator-2.3.0:\n",
            "      Successfully uninstalled tensorflow-estimator-2.3.0\n",
            "  Found existing installation: tensorflow 2.3.0\n",
            "    Uninstalling tensorflow-2.3.0:\n",
            "      Successfully uninstalled tensorflow-2.3.0\n",
            "Successfully installed tensorboard-2.2.2 tensorflow-2.2.0 tensorflow-estimator-2.2.0\n"
          ],
          "name": "stdout"
        }
      ]
    },
    {
      "cell_type": "markdown",
      "metadata": {
        "id": "VTuN1ICeEgPk"
      },
      "source": [
        "#**Before Start**"
      ]
    },
    {
      "cell_type": "code",
      "metadata": {
        "id": "3O1F80-wolWV",
        "outputId": "f37ed428-b4a1-400c-c217-c0c4ff516e49",
        "colab": {
          "base_uri": "https://localhost:8080/",
          "height": 852
        }
      },
      "source": [
        "!pip install ar_wordcloud\n",
        "!pip install arabic-reshaper\n",
        "!pip install python-bidi\n",
        "!pip install --upgrade tqdm"
      ],
      "execution_count": null,
      "outputs": [
        {
          "output_type": "stream",
          "text": [
            "Collecting ar_wordcloud\n",
            "  Downloading https://files.pythonhosted.org/packages/d8/6f/174754e845e9e9795efdc8b54189ffd4a781ab11b72f539e1525f0a68be9/ar_wordcloud-0.0.4-py3-none-any.whl\n",
            "Collecting arabic_reshaper>=2.0.14\n",
            "  Downloading https://files.pythonhosted.org/packages/41/55/e905af99b0172b5550c5e22d76b7737004495354b5f1094adf7cb2a41659/arabic_reshaper-2.1.0.tar.gz\n",
            "Requirement already satisfied: requests in /usr/local/lib/python3.6/dist-packages (from ar_wordcloud) (2.23.0)\n",
            "Collecting wordcloud>=1.7.0\n",
            "\u001b[?25l  Downloading https://files.pythonhosted.org/packages/f6/e7/f4ed7fac1993615b4ba92f473a77e27a3d210c5d23a000c2c98846963f9a/wordcloud-1.7.0-cp36-cp36m-manylinux1_x86_64.whl (364kB)\n",
            "\u001b[K     |████████████████████████████████| 368kB 14.5MB/s \n",
            "\u001b[?25hCollecting python-bidi>=0.4.2\n",
            "  Downloading https://files.pythonhosted.org/packages/33/b0/f942d146a2f457233baaafd6bdf624eba8e0f665045b4abd69d1b62d097d/python_bidi-0.4.2-py2.py3-none-any.whl\n",
            "Requirement already satisfied: future in /usr/local/lib/python3.6/dist-packages (from arabic_reshaper>=2.0.14->ar_wordcloud) (0.16.0)\n",
            "Requirement already satisfied: setuptools in /usr/local/lib/python3.6/dist-packages (from arabic_reshaper>=2.0.14->ar_wordcloud) (49.2.0)\n",
            "Requirement already satisfied: certifi>=2017.4.17 in /usr/local/lib/python3.6/dist-packages (from requests->ar_wordcloud) (2020.6.20)\n",
            "Requirement already satisfied: idna<3,>=2.5 in /usr/local/lib/python3.6/dist-packages (from requests->ar_wordcloud) (2.10)\n",
            "Requirement already satisfied: urllib3!=1.25.0,!=1.25.1,<1.26,>=1.21.1 in /usr/local/lib/python3.6/dist-packages (from requests->ar_wordcloud) (1.24.3)\n",
            "Requirement already satisfied: chardet<4,>=3.0.2 in /usr/local/lib/python3.6/dist-packages (from requests->ar_wordcloud) (3.0.4)\n",
            "Requirement already satisfied: pillow in /usr/local/lib/python3.6/dist-packages (from wordcloud>=1.7.0->ar_wordcloud) (7.0.0)\n",
            "Requirement already satisfied: numpy>=1.6.1 in /usr/local/lib/python3.6/dist-packages (from wordcloud>=1.7.0->ar_wordcloud) (1.18.5)\n",
            "Requirement already satisfied: matplotlib in /usr/local/lib/python3.6/dist-packages (from wordcloud>=1.7.0->ar_wordcloud) (3.2.2)\n",
            "Requirement already satisfied: six in /usr/local/lib/python3.6/dist-packages (from python-bidi>=0.4.2->ar_wordcloud) (1.15.0)\n",
            "Requirement already satisfied: pyparsing!=2.0.4,!=2.1.2,!=2.1.6,>=2.0.1 in /usr/local/lib/python3.6/dist-packages (from matplotlib->wordcloud>=1.7.0->ar_wordcloud) (2.4.7)\n",
            "Requirement already satisfied: cycler>=0.10 in /usr/local/lib/python3.6/dist-packages (from matplotlib->wordcloud>=1.7.0->ar_wordcloud) (0.10.0)\n",
            "Requirement already satisfied: python-dateutil>=2.1 in /usr/local/lib/python3.6/dist-packages (from matplotlib->wordcloud>=1.7.0->ar_wordcloud) (2.8.1)\n",
            "Requirement already satisfied: kiwisolver>=1.0.1 in /usr/local/lib/python3.6/dist-packages (from matplotlib->wordcloud>=1.7.0->ar_wordcloud) (1.2.0)\n",
            "Building wheels for collected packages: arabic-reshaper\n",
            "  Building wheel for arabic-reshaper (setup.py) ... \u001b[?25l\u001b[?25hdone\n",
            "  Created wheel for arabic-reshaper: filename=arabic_reshaper-2.1.0-cp36-none-any.whl size=16501 sha256=4e5589aff53861103de9ae8697a5554b471523a5a9c113f179d8dfb1bf6b53cb\n",
            "  Stored in directory: /root/.cache/pip/wheels/a9/e6/ec/2ba48138d4447d40442dd6ba3bf6b92d9c6afd74e9c720c6fe\n",
            "Successfully built arabic-reshaper\n",
            "Installing collected packages: arabic-reshaper, wordcloud, python-bidi, ar-wordcloud\n",
            "  Found existing installation: wordcloud 1.5.0\n",
            "    Uninstalling wordcloud-1.5.0:\n",
            "      Successfully uninstalled wordcloud-1.5.0\n",
            "Successfully installed ar-wordcloud-0.0.4 arabic-reshaper-2.1.0 python-bidi-0.4.2 wordcloud-1.7.0\n",
            "Requirement already satisfied: arabic-reshaper in /usr/local/lib/python3.6/dist-packages (2.1.0)\n",
            "Requirement already satisfied: future in /usr/local/lib/python3.6/dist-packages (from arabic-reshaper) (0.16.0)\n",
            "Requirement already satisfied: setuptools in /usr/local/lib/python3.6/dist-packages (from arabic-reshaper) (49.2.0)\n",
            "Requirement already satisfied: python-bidi in /usr/local/lib/python3.6/dist-packages (0.4.2)\n",
            "Requirement already satisfied: six in /usr/local/lib/python3.6/dist-packages (from python-bidi) (1.15.0)\n",
            "Collecting tqdm\n",
            "\u001b[?25l  Downloading https://files.pythonhosted.org/packages/28/7e/281edb5bc3274dfb894d90f4dbacfceaca381c2435ec6187a2c6f329aed7/tqdm-4.48.2-py2.py3-none-any.whl (68kB)\n",
            "\u001b[K     |████████████████████████████████| 71kB 4.6MB/s \n",
            "\u001b[?25hInstalling collected packages: tqdm\n",
            "  Found existing installation: tqdm 4.41.1\n",
            "    Uninstalling tqdm-4.41.1:\n",
            "      Successfully uninstalled tqdm-4.41.1\n",
            "Successfully installed tqdm-4.48.2\n"
          ],
          "name": "stdout"
        }
      ]
    },
    {
      "cell_type": "code",
      "metadata": {
        "id": "UNgJrgrVNpvE",
        "outputId": "09e61ae6-6692-490a-80eb-c99e6db71f45",
        "colab": {
          "base_uri": "https://localhost:8080/",
          "height": 53
        }
      },
      "source": [
        "import keras\n",
        "keras.__version__"
      ],
      "execution_count": null,
      "outputs": [
        {
          "output_type": "stream",
          "text": [
            "Using TensorFlow backend.\n"
          ],
          "name": "stderr"
        },
        {
          "output_type": "execute_result",
          "data": {
            "application/vnd.google.colaboratory.intrinsic+json": {
              "type": "string"
            },
            "text/plain": [
              "'2.3.1'"
            ]
          },
          "metadata": {
            "tags": []
          },
          "execution_count": 3
        }
      ]
    },
    {
      "cell_type": "code",
      "metadata": {
        "id": "RsXce235O7S7",
        "outputId": "b3aebd77-6b26-4cd8-a864-f13a24f98e21",
        "colab": {
          "base_uri": "https://localhost:8080/",
          "height": 35
        }
      },
      "source": [
        "import tensorflow\n",
        "tensorflow.__version__"
      ],
      "execution_count": null,
      "outputs": [
        {
          "output_type": "execute_result",
          "data": {
            "application/vnd.google.colaboratory.intrinsic+json": {
              "type": "string"
            },
            "text/plain": [
              "'2.2.0'"
            ]
          },
          "metadata": {
            "tags": []
          },
          "execution_count": 4
        }
      ]
    },
    {
      "cell_type": "code",
      "metadata": {
        "id": "4ukuXxz7PFUX",
        "outputId": "85beb6fd-68b0-49f1-e808-315fff5867c2",
        "colab": {
          "base_uri": "https://localhost:8080/",
          "height": 35
        }
      },
      "source": [
        "%tensorflow_version 2.x\n",
        "import tensorflow as tf\n",
        "device_name = tf.test.gpu_device_name()\n",
        "if device_name != '/device:GPU:0':\n",
        "  raise SystemError('GPU device not found')\n",
        "print('Found GPU at: {}'.format(device_name))"
      ],
      "execution_count": null,
      "outputs": [
        {
          "output_type": "stream",
          "text": [
            "Found GPU at: /device:GPU:0\n"
          ],
          "name": "stdout"
        }
      ]
    },
    {
      "cell_type": "code",
      "metadata": {
        "id": "6WxaB_buPQ4a",
        "outputId": "fa9e65f2-02ba-4d82-d35c-002f6cca922b",
        "colab": {
          "base_uri": "https://localhost:8080/",
          "height": 485
        }
      },
      "source": [
        "from tensorflow.python.client import device_lib\n",
        "device_lib.list_local_devices()"
      ],
      "execution_count": null,
      "outputs": [
        {
          "output_type": "execute_result",
          "data": {
            "text/plain": [
              "[name: \"/device:CPU:0\"\n",
              " device_type: \"CPU\"\n",
              " memory_limit: 268435456\n",
              " locality {\n",
              " }\n",
              " incarnation: 4786675712034616301, name: \"/device:XLA_CPU:0\"\n",
              " device_type: \"XLA_CPU\"\n",
              " memory_limit: 17179869184\n",
              " locality {\n",
              " }\n",
              " incarnation: 10719817841780098687\n",
              " physical_device_desc: \"device: XLA_CPU device\", name: \"/device:XLA_GPU:0\"\n",
              " device_type: \"XLA_GPU\"\n",
              " memory_limit: 17179869184\n",
              " locality {\n",
              " }\n",
              " incarnation: 10904900510228115170\n",
              " physical_device_desc: \"device: XLA_GPU device\", name: \"/device:GPU:0\"\n",
              " device_type: \"GPU\"\n",
              " memory_limit: 15788201792\n",
              " locality {\n",
              "   bus_id: 1\n",
              "   links {\n",
              "   }\n",
              " }\n",
              " incarnation: 2506053281235892304\n",
              " physical_device_desc: \"device: 0, name: Tesla P100-PCIE-16GB, pci bus id: 0000:00:04.0, compute capability: 6.0\"]"
            ]
          },
          "metadata": {
            "tags": []
          },
          "execution_count": 6
        }
      ]
    },
    {
      "cell_type": "code",
      "metadata": {
        "id": "fkLNesFTQd4i",
        "outputId": "8ebb2ea9-7fff-46d3-e4af-919d7c95766e",
        "colab": {
          "base_uri": "https://localhost:8080/",
          "height": 832
        }
      },
      "source": [
        "!cat /proc/meminfo"
      ],
      "execution_count": null,
      "outputs": [
        {
          "output_type": "stream",
          "text": [
            "MemTotal:       26751688 kB\n",
            "MemFree:        14764292 kB\n",
            "MemAvailable:   25511372 kB\n",
            "Buffers:          159500 kB\n",
            "Cached:         10506168 kB\n",
            "SwapCached:            0 kB\n",
            "Active:          1011240 kB\n",
            "Inactive:       10223156 kB\n",
            "Active(anon):     460128 kB\n",
            "Inactive(anon):     8600 kB\n",
            "Active(file):     551112 kB\n",
            "Inactive(file): 10214556 kB\n",
            "Unevictable:           0 kB\n",
            "Mlocked:               0 kB\n",
            "SwapTotal:             0 kB\n",
            "SwapFree:              0 kB\n",
            "Dirty:             20464 kB\n",
            "Writeback:             0 kB\n",
            "AnonPages:        568840 kB\n",
            "Mapped:           450944 kB\n",
            "Shmem:              9160 kB\n",
            "Slab:             466128 kB\n",
            "SReclaimable:     398428 kB\n",
            "SUnreclaim:        67700 kB\n",
            "KernelStack:        4448 kB\n",
            "PageTables:         6708 kB\n",
            "NFS_Unstable:          0 kB\n",
            "Bounce:                0 kB\n",
            "WritebackTmp:          0 kB\n",
            "CommitLimit:    13375844 kB\n",
            "Committed_AS:    2947300 kB\n",
            "VmallocTotal:   34359738367 kB\n",
            "VmallocUsed:           0 kB\n",
            "VmallocChunk:          0 kB\n",
            "Percpu:             1904 kB\n",
            "AnonHugePages:         0 kB\n",
            "ShmemHugePages:        0 kB\n",
            "ShmemPmdMapped:        0 kB\n",
            "HugePages_Total:       0\n",
            "HugePages_Free:        0\n",
            "HugePages_Rsvd:        0\n",
            "HugePages_Surp:        0\n",
            "Hugepagesize:       2048 kB\n",
            "Hugetlb:               0 kB\n",
            "DirectMap4k:      210108 kB\n",
            "DirectMap2M:     7129088 kB\n",
            "DirectMap1G:    22020096 kB\n"
          ],
          "name": "stdout"
        }
      ]
    },
    {
      "cell_type": "code",
      "metadata": {
        "id": "mCZEUToAQjnj",
        "outputId": "a3f96206-7038-47ca-8b52-cf3656caccad",
        "colab": {
          "base_uri": "https://localhost:8080/",
          "height": 124
        }
      },
      "source": [
        "#link the notebook with drive to import files\n",
        "from google.colab import drive\n",
        "drive.mount('/content/drive')"
      ],
      "execution_count": null,
      "outputs": [
        {
          "output_type": "stream",
          "text": [
            "Go to this URL in a browser: https://accounts.google.com/o/oauth2/auth?client_id=947318989803-6bn6qk8qdgf4n4g3pfee6491hc0brc4i.apps.googleusercontent.com&redirect_uri=urn%3aietf%3awg%3aoauth%3a2.0%3aoob&scope=email%20https%3a%2f%2fwww.googleapis.com%2fauth%2fdocs.test%20https%3a%2f%2fwww.googleapis.com%2fauth%2fdrive%20https%3a%2f%2fwww.googleapis.com%2fauth%2fdrive.photos.readonly%20https%3a%2f%2fwww.googleapis.com%2fauth%2fpeopleapi.readonly&response_type=code\n",
            "\n",
            "Enter your authorization code:\n",
            "··········\n",
            "Mounted at /content/drive\n"
          ],
          "name": "stdout"
        }
      ]
    },
    {
      "cell_type": "code",
      "metadata": {
        "id": "h27xrTnGQm5G"
      },
      "source": [
        "!cp /content/drive/My\\ Drive/Colab\\ Notebooks/3-class.csv 3-class.csv"
      ],
      "execution_count": null,
      "outputs": []
    },
    {
      "cell_type": "code",
      "metadata": {
        "id": "C16TeWYgFppl"
      },
      "source": [
        "!cp /content/drive/My\\ Drive/NotoNaskhArabic-Regular.ttf NotoNaskhArabic-Regular.ttf"
      ],
      "execution_count": null,
      "outputs": []
    },
    {
      "cell_type": "code",
      "metadata": {
        "id": "vOQgSnrDQ5LN"
      },
      "source": [
        "!cp /content/drive/My\\ Drive/Colab\\ Notebooks/stop_words.txt stop_words.txt"
      ],
      "execution_count": null,
      "outputs": []
    },
    {
      "cell_type": "code",
      "metadata": {
        "id": "6g5Fh9K5RG7r",
        "outputId": "fa135dbc-5cd9-41bd-f1e5-5826e8e7f086",
        "colab": {
          "base_uri": "https://localhost:8080/",
          "height": 355
        }
      },
      "source": [
        "#discover the dataset\n",
        "import pandas as pd\n",
        "import numpy as np\n",
        "import matplotlib.pyplot as plt\n",
        "plt.style.use('fivethirtyeight')\n",
        "\n",
        "%matplotlib inline\n",
        "%config InlinBackend.figure_format = 'retina'\n",
        "df_original = pd.read_csv('3-class.csv')\n",
        "df_original.head(10)"
      ],
      "execution_count": null,
      "outputs": [
        {
          "output_type": "execute_result",
          "data": {
            "text/html": [
              "<div>\n",
              "<style scoped>\n",
              "    .dataframe tbody tr th:only-of-type {\n",
              "        vertical-align: middle;\n",
              "    }\n",
              "\n",
              "    .dataframe tbody tr th {\n",
              "        vertical-align: top;\n",
              "    }\n",
              "\n",
              "    .dataframe thead th {\n",
              "        text-align: right;\n",
              "    }\n",
              "</style>\n",
              "<table border=\"1\" class=\"dataframe\">\n",
              "  <thead>\n",
              "    <tr style=\"text-align: right;\">\n",
              "      <th></th>\n",
              "      <th>Tweet</th>\n",
              "      <th>Polarity</th>\n",
              "    </tr>\n",
              "  </thead>\n",
              "  <tbody>\n",
              "    <tr>\n",
              "      <th>0</th>\n",
              "      <td>ابراهيم_عيسى الوسخ ابن الوسخه كلما حصل حادث ا...</td>\n",
              "      <td>neg</td>\n",
              "    </tr>\n",
              "    <tr>\n",
              "      <th>1</th>\n",
              "      <td>اخطر حروب الارض حرب العقيده حسيبك الله ي اول ...</td>\n",
              "      <td>neg</td>\n",
              "    </tr>\n",
              "    <tr>\n",
              "      <th>2</th>\n",
              "      <td>اصبحت تقدم برامج عبر الجمعيات الخيريه لايصال ...</td>\n",
              "      <td>neg</td>\n",
              "    </tr>\n",
              "    <tr>\n",
              "      <th>3</th>\n",
              "      <td>اعلامنا متمثل في داوودالشريان و روتانا وطقتهم...</td>\n",
              "      <td>neg</td>\n",
              "    </tr>\n",
              "    <tr>\n",
              "      <th>4</th>\n",
              "      <td>الاصرار مرتزقه_برنامج_الاصرار بضاعه هالمترديه...</td>\n",
              "      <td>neg</td>\n",
              "    </tr>\n",
              "    <tr>\n",
              "      <th>5</th>\n",
              "      <td>الاعلام اللبناني يهاجم السعوديه منذ مده بكل ق...</td>\n",
              "      <td>neg</td>\n",
              "    </tr>\n",
              "    <tr>\n",
              "      <th>6</th>\n",
              "      <td>البرنامج استاجر بعض المشاهير و الهوامير في تو...</td>\n",
              "      <td>neg</td>\n",
              "    </tr>\n",
              "    <tr>\n",
              "      <th>7</th>\n",
              "      <td>الحمد لله ما احتاج اتعلم من واحد فاشل اخلاقيا...</td>\n",
              "      <td>neg</td>\n",
              "    </tr>\n",
              "    <tr>\n",
              "      <th>8</th>\n",
              "      <td>الخرج بيض الله وجه محافظ الخرج فهذه القناه تص...</td>\n",
              "      <td>neg</td>\n",
              "    </tr>\n",
              "    <tr>\n",
              "      <th>9</th>\n",
              "      <td>الرياض السعوديه رسالتي لوزير العمل في حينه عن...</td>\n",
              "      <td>neg</td>\n",
              "    </tr>\n",
              "  </tbody>\n",
              "</table>\n",
              "</div>"
            ],
            "text/plain": [
              "                                               Tweet Polarity\n",
              "0   ابراهيم_عيسى الوسخ ابن الوسخه كلما حصل حادث ا...      neg\n",
              "1   اخطر حروب الارض حرب العقيده حسيبك الله ي اول ...      neg\n",
              "2   اصبحت تقدم برامج عبر الجمعيات الخيريه لايصال ...      neg\n",
              "3   اعلامنا متمثل في داوودالشريان و روتانا وطقتهم...      neg\n",
              "4   الاصرار مرتزقه_برنامج_الاصرار بضاعه هالمترديه...      neg\n",
              "5   الاعلام اللبناني يهاجم السعوديه منذ مده بكل ق...      neg\n",
              "6   البرنامج استاجر بعض المشاهير و الهوامير في تو...      neg\n",
              "7   الحمد لله ما احتاج اتعلم من واحد فاشل اخلاقيا...      neg\n",
              "8   الخرج بيض الله وجه محافظ الخرج فهذه القناه تص...      neg\n",
              "9   الرياض السعوديه رسالتي لوزير العمل في حينه عن...      neg"
            ]
          },
          "metadata": {
            "tags": []
          },
          "execution_count": 12
        }
      ]
    },
    {
      "cell_type": "code",
      "metadata": {
        "id": "hk54HwlDRPBi",
        "outputId": "1b59dad2-bb6e-4242-814c-a69b137ac4f7",
        "colab": {
          "base_uri": "https://localhost:8080/",
          "height": 173
        }
      },
      "source": [
        "#Discovering dataset\n",
        "df_original.info()"
      ],
      "execution_count": null,
      "outputs": [
        {
          "output_type": "stream",
          "text": [
            "<class 'pandas.core.frame.DataFrame'>\n",
            "RangeIndex: 56674 entries, 0 to 56673\n",
            "Data columns (total 2 columns):\n",
            " #   Column    Non-Null Count  Dtype \n",
            "---  ------    --------------  ----- \n",
            " 0   Tweet     56674 non-null  object\n",
            " 1   Polarity  56674 non-null  object\n",
            "dtypes: object(2)\n",
            "memory usage: 885.7+ KB\n"
          ],
          "name": "stdout"
        }
      ]
    },
    {
      "cell_type": "code",
      "metadata": {
        "id": "30Xdh0IIRfpo",
        "outputId": "5f4af81f-93d8-418c-82b5-17cbd139b349",
        "colab": {
          "base_uri": "https://localhost:8080/",
          "height": 173
        }
      },
      "source": [
        "#Discovering dataset if tweet column and polarity column are in the same size\n",
        "df_original.info()"
      ],
      "execution_count": null,
      "outputs": [
        {
          "output_type": "stream",
          "text": [
            "<class 'pandas.core.frame.DataFrame'>\n",
            "RangeIndex: 56674 entries, 0 to 56673\n",
            "Data columns (total 2 columns):\n",
            " #   Column    Non-Null Count  Dtype \n",
            "---  ------    --------------  ----- \n",
            " 0   Tweet     56674 non-null  object\n",
            " 1   Polarity  56674 non-null  object\n",
            "dtypes: object(2)\n",
            "memory usage: 885.7+ KB\n"
          ],
          "name": "stdout"
        }
      ]
    },
    {
      "cell_type": "code",
      "metadata": {
        "id": "VtXQdpzVRjhw",
        "outputId": "6a11c5e1-fdce-4e39-8215-3d8491a391e0",
        "colab": {
          "base_uri": "https://localhost:8080/",
          "height": 279
        }
      },
      "source": [
        "#Discovering the tweets length\n",
        "df_original['Tweet'].str.len().plot.hist()"
      ],
      "execution_count": null,
      "outputs": [
        {
          "output_type": "execute_result",
          "data": {
            "text/plain": [
              "<matplotlib.axes._subplots.AxesSubplot at 0x7fb43c7a1438>"
            ]
          },
          "metadata": {
            "tags": []
          },
          "execution_count": 15
        },
        {
          "output_type": "display_data",
          "data": {
            "image/png": "[encoded data removed]",
            "text/plain": [
              "<Figure size 432x288 with 1 Axes>"
            ]
          },
          "metadata": {
            "tags": [],
            "needs_background": "light"
          }
        }
      ]
    },
    {
      "cell_type": "code",
      "metadata": {
        "id": "O-UdYBgGRoK8",
        "outputId": "f4d2e825-a295-456a-9271-0e88f093df52",
        "colab": {
          "base_uri": "https://localhost:8080/",
          "height": 87
        }
      },
      "source": [
        "#Discovering the count of each class\n",
        "df_original.Polarity.value_counts()"
      ],
      "execution_count": null,
      "outputs": [
        {
          "output_type": "execute_result",
          "data": {
            "text/plain": [
              "neg     20731\n",
              "neut    18726\n",
              "pos     17217\n",
              "Name: Polarity, dtype: int64"
            ]
          },
          "metadata": {
            "tags": []
          },
          "execution_count": 16
        }
      ]
    },
    {
      "cell_type": "code",
      "metadata": {
        "id": "vavR9G2ORsyM"
      },
      "source": [
        "#Change class values from neg pos neut to 0 1 2\n",
        "df_original['Polarity'] = df_original['Polarity'].map({'neg': 0, 'pos': 1, 'neut': 2})"
      ],
      "execution_count": null,
      "outputs": []
    },
    {
      "cell_type": "code",
      "metadata": {
        "id": "T-0wRVI8RxBB",
        "outputId": "ab656af7-7df3-47c3-d55d-13f95a4dd0c2",
        "colab": {
          "base_uri": "https://localhost:8080/",
          "height": 355
        }
      },
      "source": [
        "#check first 10 tweets with negative sentiment\n",
        "df_original[df_original.Polarity == 0].head(10)"
      ],
      "execution_count": null,
      "outputs": [
        {
          "output_type": "execute_result",
          "data": {
            "text/html": [
              "<div>\n",
              "<style scoped>\n",
              "    .dataframe tbody tr th:only-of-type {\n",
              "        vertical-align: middle;\n",
              "    }\n",
              "\n",
              "    .dataframe tbody tr th {\n",
              "        vertical-align: top;\n",
              "    }\n",
              "\n",
              "    .dataframe thead th {\n",
              "        text-align: right;\n",
              "    }\n",
              "</style>\n",
              "<table border=\"1\" class=\"dataframe\">\n",
              "  <thead>\n",
              "    <tr style=\"text-align: right;\">\n",
              "      <th></th>\n",
              "      <th>Tweet</th>\n",
              "      <th>Polarity</th>\n",
              "    </tr>\n",
              "  </thead>\n",
              "  <tbody>\n",
              "    <tr>\n",
              "      <th>0</th>\n",
              "      <td>ابراهيم_عيسى الوسخ ابن الوسخه كلما حصل حادث ا...</td>\n",
              "      <td>0</td>\n",
              "    </tr>\n",
              "    <tr>\n",
              "      <th>1</th>\n",
              "      <td>اخطر حروب الارض حرب العقيده حسيبك الله ي اول ...</td>\n",
              "      <td>0</td>\n",
              "    </tr>\n",
              "    <tr>\n",
              "      <th>2</th>\n",
              "      <td>اصبحت تقدم برامج عبر الجمعيات الخيريه لايصال ...</td>\n",
              "      <td>0</td>\n",
              "    </tr>\n",
              "    <tr>\n",
              "      <th>3</th>\n",
              "      <td>اعلامنا متمثل في داوودالشريان و روتانا وطقتهم...</td>\n",
              "      <td>0</td>\n",
              "    </tr>\n",
              "    <tr>\n",
              "      <th>4</th>\n",
              "      <td>الاصرار مرتزقه_برنامج_الاصرار بضاعه هالمترديه...</td>\n",
              "      <td>0</td>\n",
              "    </tr>\n",
              "    <tr>\n",
              "      <th>5</th>\n",
              "      <td>الاعلام اللبناني يهاجم السعوديه منذ مده بكل ق...</td>\n",
              "      <td>0</td>\n",
              "    </tr>\n",
              "    <tr>\n",
              "      <th>6</th>\n",
              "      <td>البرنامج استاجر بعض المشاهير و الهوامير في تو...</td>\n",
              "      <td>0</td>\n",
              "    </tr>\n",
              "    <tr>\n",
              "      <th>7</th>\n",
              "      <td>الحمد لله ما احتاج اتعلم من واحد فاشل اخلاقيا...</td>\n",
              "      <td>0</td>\n",
              "    </tr>\n",
              "    <tr>\n",
              "      <th>8</th>\n",
              "      <td>الخرج بيض الله وجه محافظ الخرج فهذه القناه تص...</td>\n",
              "      <td>0</td>\n",
              "    </tr>\n",
              "    <tr>\n",
              "      <th>9</th>\n",
              "      <td>الرياض السعوديه رسالتي لوزير العمل في حينه عن...</td>\n",
              "      <td>0</td>\n",
              "    </tr>\n",
              "  </tbody>\n",
              "</table>\n",
              "</div>"
            ],
            "text/plain": [
              "                                               Tweet  Polarity\n",
              "0   ابراهيم_عيسى الوسخ ابن الوسخه كلما حصل حادث ا...         0\n",
              "1   اخطر حروب الارض حرب العقيده حسيبك الله ي اول ...         0\n",
              "2   اصبحت تقدم برامج عبر الجمعيات الخيريه لايصال ...         0\n",
              "3   اعلامنا متمثل في داوودالشريان و روتانا وطقتهم...         0\n",
              "4   الاصرار مرتزقه_برنامج_الاصرار بضاعه هالمترديه...         0\n",
              "5   الاعلام اللبناني يهاجم السعوديه منذ مده بكل ق...         0\n",
              "6   البرنامج استاجر بعض المشاهير و الهوامير في تو...         0\n",
              "7   الحمد لله ما احتاج اتعلم من واحد فاشل اخلاقيا...         0\n",
              "8   الخرج بيض الله وجه محافظ الخرج فهذه القناه تص...         0\n",
              "9   الرياض السعوديه رسالتي لوزير العمل في حينه عن...         0"
            ]
          },
          "metadata": {
            "tags": []
          },
          "execution_count": 18
        }
      ]
    },
    {
      "cell_type": "code",
      "metadata": {
        "id": "Ln1IE0xNjd2p",
        "outputId": "b20aae26-11e3-4475-e7cf-f40e15ff0e81",
        "colab": {
          "base_uri": "https://localhost:8080/",
          "height": 35
        }
      },
      "source": [
        "#check the number of unique tweets (original:56674)\n",
        "df_original['Tweet'].nunique()"
      ],
      "execution_count": null,
      "outputs": [
        {
          "output_type": "execute_result",
          "data": {
            "text/plain": [
              "55176"
            ]
          },
          "metadata": {
            "tags": []
          },
          "execution_count": 19
        }
      ]
    },
    {
      "cell_type": "code",
      "metadata": {
        "id": "8hiILQEFjeyP",
        "outputId": "05299bb8-5dae-423e-892f-a38e745e9e83",
        "colab": {
          "base_uri": "https://localhost:8080/",
          "height": 35
        }
      },
      "source": [
        "#check the number of repeated tweets \n",
        "repeat=[]\n",
        "list_of_tweets = df_original['Tweet'].to_list()\n",
        "for i in range(len(list_of_tweets)-1):\n",
        "  if list_of_tweets[i] in list_of_tweets[i+1:]:\n",
        "    repeat.append(i)\n",
        "len(repeat)"
      ],
      "execution_count": null,
      "outputs": [
        {
          "output_type": "execute_result",
          "data": {
            "text/plain": [
              "1498"
            ]
          },
          "metadata": {
            "tags": []
          },
          "execution_count": 20
        }
      ]
    },
    {
      "cell_type": "code",
      "metadata": {
        "id": "QEbo0a-bjhol",
        "outputId": "2574adca-78f2-45d2-d532-37cbc43abdc5",
        "colab": {
          "base_uri": "https://localhost:8080/",
          "height": 35
        }
      },
      "source": [
        "#drop the repeated tweets from dataset\n",
        "df_original.drop(repeat,axis=0,inplace=True)\n",
        "len(df_original)"
      ],
      "execution_count": null,
      "outputs": [
        {
          "output_type": "execute_result",
          "data": {
            "text/plain": [
              "55176"
            ]
          },
          "metadata": {
            "tags": []
          },
          "execution_count": 21
        }
      ]
    },
    {
      "cell_type": "code",
      "metadata": {
        "id": "gSsN-_aijoKS",
        "outputId": "6e7c6e10-764e-4949-e9e5-e4d1e9f6059b",
        "colab": {
          "base_uri": "https://localhost:8080/",
          "height": 202
        }
      },
      "source": [
        "#reset the index after dropping tweets\n",
        "df_original.reset_index(drop=True, inplace=True)\n",
        "df_original.head()"
      ],
      "execution_count": null,
      "outputs": [
        {
          "output_type": "execute_result",
          "data": {
            "text/html": [
              "<div>\n",
              "<style scoped>\n",
              "    .dataframe tbody tr th:only-of-type {\n",
              "        vertical-align: middle;\n",
              "    }\n",
              "\n",
              "    .dataframe tbody tr th {\n",
              "        vertical-align: top;\n",
              "    }\n",
              "\n",
              "    .dataframe thead th {\n",
              "        text-align: right;\n",
              "    }\n",
              "</style>\n",
              "<table border=\"1\" class=\"dataframe\">\n",
              "  <thead>\n",
              "    <tr style=\"text-align: right;\">\n",
              "      <th></th>\n",
              "      <th>Tweet</th>\n",
              "      <th>Polarity</th>\n",
              "    </tr>\n",
              "  </thead>\n",
              "  <tbody>\n",
              "    <tr>\n",
              "      <th>0</th>\n",
              "      <td>ابراهيم_عيسى الوسخ ابن الوسخه كلما حصل حادث ا...</td>\n",
              "      <td>0</td>\n",
              "    </tr>\n",
              "    <tr>\n",
              "      <th>1</th>\n",
              "      <td>اخطر حروب الارض حرب العقيده حسيبك الله ي اول ...</td>\n",
              "      <td>0</td>\n",
              "    </tr>\n",
              "    <tr>\n",
              "      <th>2</th>\n",
              "      <td>اصبحت تقدم برامج عبر الجمعيات الخيريه لايصال ...</td>\n",
              "      <td>0</td>\n",
              "    </tr>\n",
              "    <tr>\n",
              "      <th>3</th>\n",
              "      <td>اعلامنا متمثل في داوودالشريان و روتانا وطقتهم...</td>\n",
              "      <td>0</td>\n",
              "    </tr>\n",
              "    <tr>\n",
              "      <th>4</th>\n",
              "      <td>الاصرار مرتزقه_برنامج_الاصرار بضاعه هالمترديه...</td>\n",
              "      <td>0</td>\n",
              "    </tr>\n",
              "  </tbody>\n",
              "</table>\n",
              "</div>"
            ],
            "text/plain": [
              "                                               Tweet  Polarity\n",
              "0   ابراهيم_عيسى الوسخ ابن الوسخه كلما حصل حادث ا...         0\n",
              "1   اخطر حروب الارض حرب العقيده حسيبك الله ي اول ...         0\n",
              "2   اصبحت تقدم برامج عبر الجمعيات الخيريه لايصال ...         0\n",
              "3   اعلامنا متمثل في داوودالشريان و روتانا وطقتهم...         0\n",
              "4   الاصرار مرتزقه_برنامج_الاصرار بضاعه هالمترديه...         0"
            ]
          },
          "metadata": {
            "tags": []
          },
          "execution_count": 22
        }
      ]
    },
    {
      "cell_type": "code",
      "metadata": {
        "id": "MZdoripVjs4Y",
        "outputId": "ef9bd612-b514-438f-8999-28e5cf64e500",
        "colab": {
          "base_uri": "https://localhost:8080/",
          "height": 173
        }
      },
      "source": [
        "#check the dataset\n",
        "df_original.info()"
      ],
      "execution_count": null,
      "outputs": [
        {
          "output_type": "stream",
          "text": [
            "<class 'pandas.core.frame.DataFrame'>\n",
            "RangeIndex: 55176 entries, 0 to 55175\n",
            "Data columns (total 2 columns):\n",
            " #   Column    Non-Null Count  Dtype \n",
            "---  ------    --------------  ----- \n",
            " 0   Tweet     55176 non-null  object\n",
            " 1   Polarity  55176 non-null  int64 \n",
            "dtypes: int64(1), object(1)\n",
            "memory usage: 862.2+ KB\n"
          ],
          "name": "stdout"
        }
      ]
    },
    {
      "cell_type": "code",
      "metadata": {
        "id": "QFRlCyj-yDCH",
        "outputId": "5795d6dd-bfa3-4c0e-ee27-0bb8de858af1",
        "colab": {
          "base_uri": "https://localhost:8080/",
          "height": 202
        }
      },
      "source": [
        "#generate (original)column to compare the changes with (tweet) column\n",
        "original = df_original['Tweet'].copy()\n",
        "df_original['original'] = original\n",
        "df_original.head()"
      ],
      "execution_count": null,
      "outputs": [
        {
          "output_type": "execute_result",
          "data": {
            "text/html": [
              "<div>\n",
              "<style scoped>\n",
              "    .dataframe tbody tr th:only-of-type {\n",
              "        vertical-align: middle;\n",
              "    }\n",
              "\n",
              "    .dataframe tbody tr th {\n",
              "        vertical-align: top;\n",
              "    }\n",
              "\n",
              "    .dataframe thead th {\n",
              "        text-align: right;\n",
              "    }\n",
              "</style>\n",
              "<table border=\"1\" class=\"dataframe\">\n",
              "  <thead>\n",
              "    <tr style=\"text-align: right;\">\n",
              "      <th></th>\n",
              "      <th>Tweet</th>\n",
              "      <th>Polarity</th>\n",
              "      <th>original</th>\n",
              "    </tr>\n",
              "  </thead>\n",
              "  <tbody>\n",
              "    <tr>\n",
              "      <th>0</th>\n",
              "      <td>ابراهيم_عيسى الوسخ ابن الوسخه كلما حصل حادث ا...</td>\n",
              "      <td>0</td>\n",
              "      <td>ابراهيم_عيسى الوسخ ابن الوسخه كلما حصل حادث ا...</td>\n",
              "    </tr>\n",
              "    <tr>\n",
              "      <th>1</th>\n",
              "      <td>اخطر حروب الارض حرب العقيده حسيبك الله ي اول ...</td>\n",
              "      <td>0</td>\n",
              "      <td>اخطر حروب الارض حرب العقيده حسيبك الله ي اول ...</td>\n",
              "    </tr>\n",
              "    <tr>\n",
              "      <th>2</th>\n",
              "      <td>اصبحت تقدم برامج عبر الجمعيات الخيريه لايصال ...</td>\n",
              "      <td>0</td>\n",
              "      <td>اصبحت تقدم برامج عبر الجمعيات الخيريه لايصال ...</td>\n",
              "    </tr>\n",
              "    <tr>\n",
              "      <th>3</th>\n",
              "      <td>اعلامنا متمثل في داوودالشريان و روتانا وطقتهم...</td>\n",
              "      <td>0</td>\n",
              "      <td>اعلامنا متمثل في داوودالشريان و روتانا وطقتهم...</td>\n",
              "    </tr>\n",
              "    <tr>\n",
              "      <th>4</th>\n",
              "      <td>الاصرار مرتزقه_برنامج_الاصرار بضاعه هالمترديه...</td>\n",
              "      <td>0</td>\n",
              "      <td>الاصرار مرتزقه_برنامج_الاصرار بضاعه هالمترديه...</td>\n",
              "    </tr>\n",
              "  </tbody>\n",
              "</table>\n",
              "</div>"
            ],
            "text/plain": [
              "                                               Tweet  ...                                           original\n",
              "0   ابراهيم_عيسى الوسخ ابن الوسخه كلما حصل حادث ا...  ...   ابراهيم_عيسى الوسخ ابن الوسخه كلما حصل حادث ا...\n",
              "1   اخطر حروب الارض حرب العقيده حسيبك الله ي اول ...  ...   اخطر حروب الارض حرب العقيده حسيبك الله ي اول ...\n",
              "2   اصبحت تقدم برامج عبر الجمعيات الخيريه لايصال ...  ...   اصبحت تقدم برامج عبر الجمعيات الخيريه لايصال ...\n",
              "3   اعلامنا متمثل في داوودالشريان و روتانا وطقتهم...  ...   اعلامنا متمثل في داوودالشريان و روتانا وطقتهم...\n",
              "4   الاصرار مرتزقه_برنامج_الاصرار بضاعه هالمترديه...  ...   الاصرار مرتزقه_برنامج_الاصرار بضاعه هالمترديه...\n",
              "\n",
              "[5 rows x 3 columns]"
            ]
          },
          "metadata": {
            "tags": []
          },
          "execution_count": 24
        }
      ]
    },
    {
      "cell_type": "code",
      "metadata": {
        "id": "HdLUv3hdj1aS"
      },
      "source": [
        "#save the csv just in case\n",
        "df_original.to_csv('/content/drive/My Drive/Tweets_without_repeat.csv')"
      ],
      "execution_count": null,
      "outputs": []
    },
    {
      "cell_type": "code",
      "metadata": {
        "id": "KMlI1e_vj2IV"
      },
      "source": [
        "#ignore\n",
        "df_original['pre_clean_len'] = [len(t) for t in df_original.Tweet]"
      ],
      "execution_count": null,
      "outputs": []
    },
    {
      "cell_type": "code",
      "metadata": {
        "id": "Wgr77XYLly1w"
      },
      "source": [
        "#ignore\n",
        "x = df_original.Tweet\n",
        "y = df_original.Polarity"
      ],
      "execution_count": null,
      "outputs": []
    },
    {
      "cell_type": "markdown",
      "metadata": {
        "id": "rmgp0maUUZMo"
      },
      "source": [
        "#**Preprocessing**"
      ]
    },
    {
      "cell_type": "code",
      "metadata": {
        "id": "laYpRuDkUIig"
      },
      "source": [
        "# Data cleaning function definition\n",
        "\n",
        "from nltk.tokenize import WordPunctTokenizer\n",
        "tok = WordPunctTokenizer()"
      ],
      "execution_count": null,
      "outputs": []
    },
    {
      "cell_type": "code",
      "metadata": {
        "id": "d-l2-si2Uhep"
      },
      "source": [
        "#use regular expression for discard hashtag, numbers, english letters, symbols\n",
        "#use the beautiful soup for decoding the HTML and removing emojis\n",
        "import re\n",
        "from bs4 import BeautifulSoup\n",
        "\n",
        "pat1 = r'@[A-Za-z0-9_]+'#remove users\n",
        "pat2 = r'https?://[^ ]+'#websites\n",
        "combined_pat = r'|'.join((pat1, pat2))\n",
        "www_pat = r'www.[^ ]+'#websites\n",
        "arabic_num_pat = '[٠١٢٣٤٥٦٧٨٩]'#arabic numbers\n",
        "eng_num_pat = '[0123456789]'#english numbers\n",
        "sharta_pat = '[_]'\n",
        "#sharta_pat = '_[أ-ي]+' #for removing hashtag\n",
        "eng_pat = '[A-Za-z]'#any english letters\n",
        "\n",
        "def tweet_cleaner(text):\n",
        "  soup = BeautifulSoup(text, 'lxml')\n",
        "  souped = soup.get_text()\n",
        "  try:\n",
        "        bom_removed = souped.decode(\"utf-8-sig\").replace(u\"\\ufffd\", \"?\")#HTML encoding didnt decode properly so we decode it again\n",
        "  except:\n",
        "        bom_removed = souped\n",
        "  stripped = re.sub(combined_pat, '', bom_removed)\n",
        "  stripped = re.sub(www_pat, '', stripped)\n",
        "  stripped = re.sub(arabic_num_pat, '', stripped)\n",
        "  stripped = re.sub(eng_num_pat, '', stripped)\n",
        "  #stripped = re.sub(r'\\w+_\\s?','_',stripped) #for removing hashtag\n",
        "  stripped = re.sub(sharta_pat, ' ', stripped)\n",
        "  stripped = re.sub(eng_pat, ' ', stripped)\n",
        "\n",
        "  words = [x for x in tok.tokenize(stripped) if len(x) > 1]#tokenize the tweets to separate words for cleaning\n",
        "  return (\" \".join(words)).strip() #return cleaned tweets"
      ],
      "execution_count": null,
      "outputs": []
    },
    {
      "cell_type": "markdown",
      "metadata": {
        "id": "8PZJMwvFWxO5"
      },
      "source": [
        "##**auto-generated SW**"
      ]
    },
    {
      "cell_type": "code",
      "metadata": {
        "id": "AcoOQpRQWTwt",
        "outputId": "7db2aeed-e325-4e05-f198-d2e2e6bc58dd",
        "colab": {
          "base_uri": "https://localhost:8080/",
          "height": 104
        }
      },
      "source": [
        "clean_tweet_texts = []\n",
        "for i in range(0, len(df_original)):\n",
        "  if( (i+1)%10000 == 0 ):\n",
        "        print(\"Tweets %d of %d has been processed\"%(i+1,len(df_original)))                                                                    \n",
        "  clean_tweet_texts.append(tweet_cleaner(df_original['Tweet'][i])) #apply tweet_cleaner class to clean the dataset"
      ],
      "execution_count": null,
      "outputs": [
        {
          "output_type": "stream",
          "text": [
            "Tweets 10000 of 55176 has been processed\n",
            "Tweets 20000 of 55176 has been processed\n",
            "Tweets 30000 of 55176 has been processed\n",
            "Tweets 40000 of 55176 has been processed\n",
            "Tweets 50000 of 55176 has been processed\n"
          ],
          "name": "stdout"
        }
      ]
    },
    {
      "cell_type": "code",
      "metadata": {
        "id": "ZBDrqldCYsDG"
      },
      "source": [
        "#save cleaned dataset just in case\n",
        "clean_df = pd.DataFrame(clean_tweet_texts, columns=['text'])\n",
        "clean_df['target'] = df_original.Polarity\n",
        "clean_df['original'] = original\n",
        "clean_df.to_csv('clean_tweet.csv', encoding='utf-8')"
      ],
      "execution_count": null,
      "outputs": []
    },
    {
      "cell_type": "code",
      "metadata": {
        "id": "umyJiK2oYtEy"
      },
      "source": [
        "csv = 'clean_tweet.csv'\n",
        "df = pd.read_csv(csv, index_col=0)"
      ],
      "execution_count": null,
      "outputs": []
    },
    {
      "cell_type": "code",
      "metadata": {
        "id": "EKnxLv6O1Qgu",
        "outputId": "68e9a76e-b8d3-4b7a-b43e-d4f9cf6b2a00",
        "colab": {
          "base_uri": "https://localhost:8080/",
          "height": 191
        }
      },
      "source": [
        "df.dropna(inplace=True)\n",
        "df.reset_index(drop=True, inplace=True)\n",
        "df.info()"
      ],
      "execution_count": null,
      "outputs": [
        {
          "output_type": "stream",
          "text": [
            "<class 'pandas.core.frame.DataFrame'>\n",
            "RangeIndex: 55175 entries, 0 to 55174\n",
            "Data columns (total 3 columns):\n",
            " #   Column    Non-Null Count  Dtype \n",
            "---  ------    --------------  ----- \n",
            " 0   text      55175 non-null  object\n",
            " 1   target    55175 non-null  int64 \n",
            " 2   original  55175 non-null  object\n",
            "dtypes: int64(1), object(2)\n",
            "memory usage: 1.3+ MB\n"
          ],
          "name": "stdout"
        }
      ]
    },
    {
      "cell_type": "code",
      "metadata": {
        "id": "VwVQQezp0FUR",
        "outputId": "019edc28-d13e-49ee-88e9-4d535d586951",
        "colab": {
          "base_uri": "https://localhost:8080/",
          "height": 202
        }
      },
      "source": [
        "df.head()"
      ],
      "execution_count": null,
      "outputs": [
        {
          "output_type": "execute_result",
          "data": {
            "text/html": [
              "<div>\n",
              "<style scoped>\n",
              "    .dataframe tbody tr th:only-of-type {\n",
              "        vertical-align: middle;\n",
              "    }\n",
              "\n",
              "    .dataframe tbody tr th {\n",
              "        vertical-align: top;\n",
              "    }\n",
              "\n",
              "    .dataframe thead th {\n",
              "        text-align: right;\n",
              "    }\n",
              "</style>\n",
              "<table border=\"1\" class=\"dataframe\">\n",
              "  <thead>\n",
              "    <tr style=\"text-align: right;\">\n",
              "      <th></th>\n",
              "      <th>text</th>\n",
              "      <th>target</th>\n",
              "      <th>original</th>\n",
              "    </tr>\n",
              "  </thead>\n",
              "  <tbody>\n",
              "    <tr>\n",
              "      <th>0</th>\n",
              "      <td>ابراهيم عيسى الوسخ ابن الوسخه كلما حصل حادث ات...</td>\n",
              "      <td>0</td>\n",
              "      <td>ابراهيم_عيسى الوسخ ابن الوسخه كلما حصل حادث ا...</td>\n",
              "    </tr>\n",
              "    <tr>\n",
              "      <th>1</th>\n",
              "      <td>اخطر حروب الارض حرب العقيده حسيبك الله اول ال ...</td>\n",
              "      <td>0</td>\n",
              "      <td>اخطر حروب الارض حرب العقيده حسيبك الله ي اول ...</td>\n",
              "    </tr>\n",
              "    <tr>\n",
              "      <th>2</th>\n",
              "      <td>اصبحت تقدم برامج عبر الجمعيات الخيريه لايصال خ...</td>\n",
              "      <td>0</td>\n",
              "      <td>اصبحت تقدم برامج عبر الجمعيات الخيريه لايصال ...</td>\n",
              "    </tr>\n",
              "    <tr>\n",
              "      <th>3</th>\n",
              "      <td>اعلامنا متمثل في داوودالشريان روتانا وطقتهم كي...</td>\n",
              "      <td>0</td>\n",
              "      <td>اعلامنا متمثل في داوودالشريان و روتانا وطقتهم...</td>\n",
              "    </tr>\n",
              "    <tr>\n",
              "      <th>4</th>\n",
              "      <td>الاصرار مرتزقه برنامج الاصرار بضاعه هالمترديه ...</td>\n",
              "      <td>0</td>\n",
              "      <td>الاصرار مرتزقه_برنامج_الاصرار بضاعه هالمترديه...</td>\n",
              "    </tr>\n",
              "  </tbody>\n",
              "</table>\n",
              "</div>"
            ],
            "text/plain": [
              "                                                text  ...                                           original\n",
              "0  ابراهيم عيسى الوسخ ابن الوسخه كلما حصل حادث ات...  ...   ابراهيم_عيسى الوسخ ابن الوسخه كلما حصل حادث ا...\n",
              "1  اخطر حروب الارض حرب العقيده حسيبك الله اول ال ...  ...   اخطر حروب الارض حرب العقيده حسيبك الله ي اول ...\n",
              "2  اصبحت تقدم برامج عبر الجمعيات الخيريه لايصال خ...  ...   اصبحت تقدم برامج عبر الجمعيات الخيريه لايصال ...\n",
              "3  اعلامنا متمثل في داوودالشريان روتانا وطقتهم كي...  ...   اعلامنا متمثل في داوودالشريان و روتانا وطقتهم...\n",
              "4  الاصرار مرتزقه برنامج الاصرار بضاعه هالمترديه ...  ...   الاصرار مرتزقه_برنامج_الاصرار بضاعه هالمترديه...\n",
              "\n",
              "[5 rows x 3 columns]"
            ]
          },
          "metadata": {
            "tags": []
          },
          "execution_count": 34
        }
      ]
    },
    {
      "cell_type": "code",
      "metadata": {
        "id": "txQF_qZcWHhU"
      },
      "source": [
        "#specify variable for each column\n",
        "x = df.text\n",
        "y = df.target\n",
        "z = df.original"
      ],
      "execution_count": null,
      "outputs": []
    },
    {
      "cell_type": "code",
      "metadata": {
        "id": "E9Y1c-e5VOlQ",
        "outputId": "47d0a13c-f8e9-46eb-c159-66785241279e",
        "colab": {
          "base_uri": "https://localhost:8080/",
          "height": 415
        }
      },
      "source": [
        "#discovering the most frequent words in the dataset (the order based on the total)\n",
        "from sklearn.feature_extraction.text import CountVectorizer\n",
        "cvec = CountVectorizer()\n",
        "cvec.fit(x)\n",
        "neg_doc_matrix = cvec.transform(df[y ==0].text)\n",
        "pos_doc_matrix = cvec.transform(df[y ==1].text)\n",
        "neut_doc_matrix = cvec.transform(df[y ==2].text)\n",
        "\n",
        "neg_tf = np.sum(neg_doc_matrix, axis=0)\n",
        "pos_tf = np.sum(pos_doc_matrix, axis=0)\n",
        "neut_tf = np.sum(neut_doc_matrix, axis=0)\n",
        "word = cvec.get_feature_names()\n",
        "neg = np.squeeze(np.asarray(neg_tf))\n",
        "pos = np.squeeze(np.asarray(pos_tf))\n",
        "neut = np.squeeze(np.asarray(neut_tf))\n",
        "\n",
        "term_freq_df = pd.DataFrame([word, neg, pos, neut], columns= cvec.get_feature_names()).transpose()\n",
        "\n",
        "term_freq_df.columns = ['word','negative', 'positive', 'neutral']\n",
        "term_freq_df['total']=term_freq_df['negative'] + term_freq_df['positive'] + term_freq_df['neutral']\n",
        "freq = term_freq_df.sort_values(by='total', ascending=False).iloc[:86024]\n",
        "\n",
        "freq"
      ],
      "execution_count": null,
      "outputs": [
        {
          "output_type": "execute_result",
          "data": {
            "text/html": [
              "<div>\n",
              "<style scoped>\n",
              "    .dataframe tbody tr th:only-of-type {\n",
              "        vertical-align: middle;\n",
              "    }\n",
              "\n",
              "    .dataframe tbody tr th {\n",
              "        vertical-align: top;\n",
              "    }\n",
              "\n",
              "    .dataframe thead th {\n",
              "        text-align: right;\n",
              "    }\n",
              "</style>\n",
              "<table border=\"1\" class=\"dataframe\">\n",
              "  <thead>\n",
              "    <tr style=\"text-align: right;\">\n",
              "      <th></th>\n",
              "      <th>word</th>\n",
              "      <th>negative</th>\n",
              "      <th>positive</th>\n",
              "      <th>neutral</th>\n",
              "      <th>total</th>\n",
              "    </tr>\n",
              "  </thead>\n",
              "  <tbody>\n",
              "    <tr>\n",
              "      <th>الهلال</th>\n",
              "      <td>الهلال</td>\n",
              "      <td>8173</td>\n",
              "      <td>9965</td>\n",
              "      <td>4609</td>\n",
              "      <td>22747</td>\n",
              "    </tr>\n",
              "    <tr>\n",
              "      <th>في</th>\n",
              "      <td>في</td>\n",
              "      <td>6348</td>\n",
              "      <td>4091</td>\n",
              "      <td>8040</td>\n",
              "      <td>18479</td>\n",
              "    </tr>\n",
              "    <tr>\n",
              "      <th>من</th>\n",
              "      <td>من</td>\n",
              "      <td>6404</td>\n",
              "      <td>3552</td>\n",
              "      <td>3671</td>\n",
              "      <td>13627</td>\n",
              "    </tr>\n",
              "    <tr>\n",
              "      <th>على</th>\n",
              "      <td>على</td>\n",
              "      <td>2911</td>\n",
              "      <td>2045</td>\n",
              "      <td>2216</td>\n",
              "      <td>7172</td>\n",
              "    </tr>\n",
              "    <tr>\n",
              "      <th>الاهلي</th>\n",
              "      <td>الاهلي</td>\n",
              "      <td>1563</td>\n",
              "      <td>3185</td>\n",
              "      <td>2041</td>\n",
              "      <td>6789</td>\n",
              "    </tr>\n",
              "    <tr>\n",
              "      <th>...</th>\n",
              "      <td>...</td>\n",
              "      <td>...</td>\n",
              "      <td>...</td>\n",
              "      <td>...</td>\n",
              "      <td>...</td>\n",
              "    </tr>\n",
              "    <tr>\n",
              "      <th>سوايا</th>\n",
              "      <td>سوايا</td>\n",
              "      <td>0</td>\n",
              "      <td>1</td>\n",
              "      <td>0</td>\n",
              "      <td>1</td>\n",
              "    </tr>\n",
              "    <tr>\n",
              "      <th>سوايرز</th>\n",
              "      <td>سوايرز</td>\n",
              "      <td>0</td>\n",
              "      <td>1</td>\n",
              "      <td>0</td>\n",
              "      <td>1</td>\n",
              "    </tr>\n",
              "    <tr>\n",
              "      <th>سوبببر</th>\n",
              "      <td>سوبببر</td>\n",
              "      <td>0</td>\n",
              "      <td>1</td>\n",
              "      <td>0</td>\n",
              "      <td>1</td>\n",
              "    </tr>\n",
              "    <tr>\n",
              "      <th>سوبرايز</th>\n",
              "      <td>سوبرايز</td>\n",
              "      <td>0</td>\n",
              "      <td>0</td>\n",
              "      <td>1</td>\n",
              "      <td>1</td>\n",
              "    </tr>\n",
              "    <tr>\n",
              "      <th>گيف</th>\n",
              "      <td>گيف</td>\n",
              "      <td>0</td>\n",
              "      <td>1</td>\n",
              "      <td>0</td>\n",
              "      <td>1</td>\n",
              "    </tr>\n",
              "  </tbody>\n",
              "</table>\n",
              "<p>86024 rows × 5 columns</p>\n",
              "</div>"
            ],
            "text/plain": [
              "            word negative positive neutral  total\n",
              "الهلال    الهلال     8173     9965    4609  22747\n",
              "في            في     6348     4091    8040  18479\n",
              "من            من     6404     3552    3671  13627\n",
              "على          على     2911     2045    2216   7172\n",
              "الاهلي    الاهلي     1563     3185    2041   6789\n",
              "...          ...      ...      ...     ...    ...\n",
              "سوايا      سوايا        0        1       0      1\n",
              "سوايرز    سوايرز        0        1       0      1\n",
              "سوبببر    سوبببر        0        1       0      1\n",
              "سوبرايز  سوبرايز        0        0       1      1\n",
              "گيف          گيف        0        1       0      1\n",
              "\n",
              "[86024 rows x 5 columns]"
            ]
          },
          "metadata": {
            "tags": []
          },
          "execution_count": 36
        }
      ]
    },
    {
      "cell_type": "code",
      "metadata": {
        "id": "OjJXWtypY-le",
        "outputId": "7ea07fea-1870-460c-8e45-c8ac37e78542",
        "colab": {
          "base_uri": "https://localhost:8080/",
          "height": 35
        }
      },
      "source": [
        "#count the number of characters in one of tweets(to see the changes after removing autogenerated stopwords)\n",
        "old_length= len(df['text'][0])\n",
        "old_length"
      ],
      "execution_count": null,
      "outputs": [
        {
          "output_type": "execute_result",
          "data": {
            "text/plain": [
              "105"
            ]
          },
          "metadata": {
            "tags": []
          },
          "execution_count": 37
        }
      ]
    },
    {
      "cell_type": "code",
      "metadata": {
        "id": "NulaPcYgZDJt",
        "outputId": "7b914427-8ad2-42f2-9bb2-d95875ed2635",
        "colab": {
          "base_uri": "https://localhost:8080/",
          "height": 35
        }
      },
      "source": [
        "df['text'][0]"
      ],
      "execution_count": null,
      "outputs": [
        {
          "output_type": "execute_result",
          "data": {
            "application/vnd.google.colaboratory.intrinsic+json": {
              "type": "string"
            },
            "text/plain": [
              "'ابراهيم عيسى الوسخ ابن الوسخه كلما حصل حادث اتهم السعوديه بالارهاب الكلب كان براتب مليون جنيه من سنوي مصر'"
            ]
          },
          "metadata": {
            "tags": []
          },
          "execution_count": 38
        }
      ]
    },
    {
      "cell_type": "code",
      "metadata": {
        "id": "liMFhCJIZFSy"
      },
      "source": [
        "#put each column from the table in a list\n",
        "words = freq['word'].to_list()\n",
        "negative = freq['negative'].to_list()\n",
        "positive = freq['positive'].to_list()\n",
        "neutral = freq['neutral'].to_list()\n",
        "\n",
        "final_labels = []"
      ],
      "execution_count": null,
      "outputs": []
    },
    {
      "cell_type": "code",
      "metadata": {
        "id": "gvT4Tc-9ZIVl"
      },
      "source": [
        "#classify each word in the dataset to positive negative or neutral based on its occurence in the dataset\n",
        "#\n",
        "for i in range(len(words)):\n",
        "    if (negative[i]-positive[i]>=5) and (negative[i]-neutral[i]>=5):#if the word repeated in negative tweets more than positive and neutral tweets (5 and more) then the word is negative regardless the actual classification\n",
        "        final_labels.append('negative')\n",
        "    elif (positive[i]-negative[i]>=5) and (positive[i]-neutral[i]>=5):#if the word repeated in positive tweets more than negative and neutral tweets (5 and more) then the word is positive regardless the actual classification\n",
        "        final_labels.append('positive')\n",
        "    elif (neutral[i]-positive[i]>=5) and (neutral[i]-negative[i]>=5):#if the word repeated in neutral tweets more than positive and negative tweets (5 and more) then the word is neutral regardless the actual classification\n",
        "        final_labels.append('neutral')\n",
        "    elif (positive[i]==0 and neutral[i]==0):#if the occurence or words for neutral and positive ara 0, then for sure the word is negative regardless the actual classification\n",
        "        final_labels.append('negative')\n",
        "    elif (neutral[i]==0 and negative[i]==0):#if the occurence or words for neutral and negative ara 0, then for sure the word is positive regardless the actual classification\n",
        "        final_labels.append('positive')\n",
        "    elif (positive[i]==0 and negative[i]==0):#if the occurence or words for positive and negative ara 0, then for sure the word is neutral regardless the actual classification\n",
        "        final_labels.append('neutral')\n",
        "    else:\n",
        "        final_labels.append('null')#if non of these condition are met (means the same word are occured the same for three classes(or the difference are 4 or less)) then the word is null"
      ],
      "execution_count": null,
      "outputs": []
    },
    {
      "cell_type": "code",
      "metadata": {
        "id": "eHUDA5yfZLj9",
        "outputId": "3d787945-f627-4643-dcfb-37d669c278b0",
        "colab": {
          "base_uri": "https://localhost:8080/",
          "height": 35
        }
      },
      "source": [
        "freq['Polarity'] = final_labels #check the labels for each word\n",
        "final_labels[0:5]"
      ],
      "execution_count": null,
      "outputs": [
        {
          "output_type": "execute_result",
          "data": {
            "text/plain": [
              "['positive', 'neutral', 'negative', 'negative', 'positive']"
            ]
          },
          "metadata": {
            "tags": []
          },
          "execution_count": 41
        }
      ]
    },
    {
      "cell_type": "code",
      "metadata": {
        "id": "8qYL_nbfZSk6",
        "outputId": "94727e68-8e43-4f46-d786-9239e5fbca3a",
        "colab": {
          "base_uri": "https://localhost:8080/",
          "height": 35
        }
      },
      "source": [
        "len(words) #count of all words in the dataset"
      ],
      "execution_count": null,
      "outputs": [
        {
          "output_type": "execute_result",
          "data": {
            "text/plain": [
              "86024"
            ]
          },
          "metadata": {
            "tags": []
          },
          "execution_count": 42
        }
      ]
    },
    {
      "cell_type": "code",
      "metadata": {
        "id": "yY3SJ-A2ZXhB",
        "outputId": "ce951570-630e-422a-cc03-40fbf7c7b577",
        "colab": {
          "base_uri": "https://localhost:8080/",
          "height": 35
        }
      },
      "source": [
        "len(final_labels)#the length of words (previos command) and final labels are same then no word is messing"
      ],
      "execution_count": null,
      "outputs": [
        {
          "output_type": "execute_result",
          "data": {
            "text/plain": [
              "86024"
            ]
          },
          "metadata": {
            "tags": []
          },
          "execution_count": 43
        }
      ]
    },
    {
      "cell_type": "code",
      "metadata": {
        "id": "cl10iyF3ZZq5"
      },
      "source": [
        "freq_null=freq[freq['Polarity']=='null']#collect all words with null classification as noisy words because dont affect the tweets when we remove them"
      ],
      "execution_count": null,
      "outputs": []
    },
    {
      "cell_type": "code",
      "metadata": {
        "id": "SH_TAxB4ZcCp"
      },
      "source": [
        "null_words = freq_null['word'].to_list()#put null words to list"
      ],
      "execution_count": null,
      "outputs": []
    },
    {
      "cell_type": "code",
      "metadata": {
        "id": "c1r7Y1_JZedq",
        "outputId": "46017c87-be7b-45de-8a7d-a5248bb27bac",
        "colab": {
          "base_uri": "https://localhost:8080/",
          "height": 35
        }
      },
      "source": [
        "len(null_words) #no. of null words"
      ],
      "execution_count": null,
      "outputs": [
        {
          "output_type": "execute_result",
          "data": {
            "text/plain": [
              "19883"
            ]
          },
          "metadata": {
            "tags": []
          },
          "execution_count": 46
        }
      ]
    },
    {
      "cell_type": "code",
      "metadata": {
        "id": "3QwPBQCeZjaT",
        "outputId": "6f2708d1-bdc1-47ab-8ac2-7d6cb5668ef0",
        "colab": {
          "base_uri": "https://localhost:8080/",
          "height": 35
        }
      },
      "source": [
        "null_words[0]#sample of null word"
      ],
      "execution_count": null,
      "outputs": [
        {
          "output_type": "execute_result",
          "data": {
            "application/vnd.google.colaboratory.intrinsic+json": {
              "type": "string"
            },
            "text/plain": [
              "'او'"
            ]
          },
          "metadata": {
            "tags": []
          },
          "execution_count": 47
        }
      ]
    },
    {
      "cell_type": "code",
      "metadata": {
        "id": "6or9lqlZZlca"
      },
      "source": [
        "with open('null_words.txt', 'a', encoding='utf-8') as f: #save null words in text file to be used as stopwords\n",
        "    for ele in null_words:\n",
        "        f.write(ele+'\\n')\n",
        "\n",
        "with open('null_words.txt','r',encoding='utf-8') as f:\n",
        "    list_of_words = f.readlines()\n",
        "    \n",
        "clean_list=[]\n",
        "for ele in list_of_words:\n",
        "    clean_list.append(ele.rstrip('\\n'))"
      ],
      "execution_count": null,
      "outputs": []
    },
    {
      "cell_type": "code",
      "metadata": {
        "id": "frE2JuT_F_SS",
        "outputId": "6db0849d-f395-4ab8-8512-85a83e582388",
        "colab": {
          "base_uri": "https://localhost:8080/",
          "height": 236
        }
      },
      "source": [
        "#apply wordcloud for the null words, we can see that all words are nonsentimental so it will not affect the tweet if we remove them\n",
        "from bidi.algorithm import get_display\n",
        "import os\n",
        "import matplotlib.pyplot as plt\n",
        "from wordcloud import WordCloud\n",
        "import arabic_reshaper \n",
        "\n",
        "\n",
        "f = open('null_words.txt', 'r', encoding='utf-8')\n",
        "data = arabic_reshaper.reshape(f.read())\n",
        "data = get_display(data) \n",
        "WordCloud = WordCloud(font_path='NotoNaskhArabic-Regular.ttf', background_color='black',\n",
        "                  mode='RGB', width=2000, height=1000).generate(data)\n",
        "plt.title(\"Generated stopwords\")\n",
        "plt.imshow(WordCloud)\n",
        "plt.axis(\"off\")\n",
        "plt.show()"
      ],
      "execution_count": null,
      "outputs": [
        {
          "output_type": "display_data",
          "data": {
            "image/png": "[encoded data removed]",
            "text/plain": [
              "<Figure size 432x288 with 1 Axes>"
            ]
          },
          "metadata": {
            "tags": [],
            "needs_background": "light"
          }
        }
      ]
    },
    {
      "cell_type": "code",
      "metadata": {
        "id": "63fCw2KjZrFp"
      },
      "source": [
        "#apply stopword removal on the dataset\n",
        "def remove_words(st):\n",
        "    tokens=st.split()\n",
        "    new = []\n",
        "    for word in tokens:\n",
        "        if word not in clean_list:\n",
        "            new.append(word)\n",
        "    return ' '.join(new)\n",
        "\n",
        "df['text']=df['text'].apply(remove_words)"
      ],
      "execution_count": null,
      "outputs": []
    },
    {
      "cell_type": "code",
      "metadata": {
        "id": "ucKtAFmpZwZh",
        "outputId": "60ff089f-d108-4407-87ec-cadb7c5ceabd",
        "colab": {
          "base_uri": "https://localhost:8080/",
          "height": 35
        }
      },
      "source": [
        "#check the character length for one tweet (past:105)\n",
        "new_length=len(df['text'][0])\n",
        "new_length"
      ],
      "execution_count": null,
      "outputs": [
        {
          "output_type": "execute_result",
          "data": {
            "text/plain": [
              "84"
            ]
          },
          "metadata": {
            "tags": []
          },
          "execution_count": 51
        }
      ]
    },
    {
      "cell_type": "code",
      "metadata": {
        "id": "tAoTd9w_ZxKl",
        "outputId": "4c1f69c1-fd0d-42f9-dc5a-387540e081ac",
        "colab": {
          "base_uri": "https://localhost:8080/",
          "height": 35
        }
      },
      "source": [
        "df['text'][0]#null words have removed"
      ],
      "execution_count": null,
      "outputs": [
        {
          "output_type": "execute_result",
          "data": {
            "application/vnd.google.colaboratory.intrinsic+json": {
              "type": "string"
            },
            "text/plain": [
              "'ابراهيم الوسخ ابن الوسخه كلما حصل حادث السعوديه بالارهاب الكلب كان مليون جنيه من مصر'"
            ]
          },
          "metadata": {
            "tags": []
          },
          "execution_count": 52
        }
      ]
    },
    {
      "cell_type": "markdown",
      "metadata": {
        "id": "YLuDhQOxa19K"
      },
      "source": [
        "#complete process"
      ]
    },
    {
      "cell_type": "code",
      "metadata": {
        "id": "b8VJG9peZzJu",
        "outputId": "341ee336-d08e-4d8c-ce40-169344113689",
        "colab": {
          "base_uri": "https://localhost:8080/"
        }
      },
      "source": [
        "#normalization\n",
        "def normalizeArabic(text):\n",
        "    text = re.sub(\"[إأٱآا]\", \"ا\", text)\n",
        "    text = re.sub(\"ى\", \"ي\", text)\n",
        "    text = re.sub(\"ؤ\", \"و\", text)\n",
        "    text = re.sub(\"ئ\", \"ء\", text)\n",
        "    text = re.sub(\"ة\", \"ه\", text)\n",
        "    words = [x for x in tok.tokenize(text) if len(x) > 1]\n",
        "    return (\"\".join(text)).strip()\n",
        "\n",
        "clean_tweet = []\n",
        "for i in range(0, len(df)):\n",
        "  if( (i+1)%10000 == 0 ):\n",
        "        print(\"Tweets %d of %d has been processed\"%(i+1,len(df)))                                                                    \n",
        "  clean_tweet.append(normalizeArabic(df['text'][i]))\n",
        "\n",
        "    \n",
        "#remove repeated letters more than 2 letters\n",
        "import re\n",
        "for i in range(len(clean_tweet)):\n",
        "  clean_tweet[i] = re.sub(r'(.)\\1+', r'\\1\\1', clean_tweet[i])"
      ],
      "execution_count": null,
      "outputs": [
        {
          "output_type": "stream",
          "text": [
            "Tweets 10000 of 55175 has been processed\n",
            "Tweets 20000 of 55175 has been processed\n",
            "Tweets 30000 of 55175 has been processed\n",
            "Tweets 40000 of 55175 has been processed\n",
            "Tweets 50000 of 55175 has been processed\n"
          ],
          "name": "stdout"
        }
      ]
    },
    {
      "cell_type": "code",
      "metadata": {
        "id": "4Mo5oCECbCKy",
        "outputId": "6a3cf503-1f45-4845-ecb3-b358fc7517c5",
        "colab": {
          "base_uri": "https://localhost:8080/"
        }
      },
      "source": [
        "clean_tweet[:10]"
      ],
      "execution_count": null,
      "outputs": [
        {
          "output_type": "execute_result",
          "data": {
            "text/plain": [
              "['ابراهيم الوسخ ابن الوسخه كلما حصل حادث السعوديه بالارهاب الكلب كان مليون جنيه من مصر',\n",
              " 'اخطر حروب الارض حرب حسيبك الله ال راه رب يده زا',\n",
              " 'اصبحت عبر الخيريه لايصال خبثها اين من هذا نطالب خادم الحرمين',\n",
              " 'متمثل في داوودالشريان روتانا كيف ترجي من هالاشكال خير همهم في الحياه المراه',\n",
              " 'الاصرار مرتزقه برنامج الاصرار بضاعه هالمترديه قناه العهر مزجاه في',\n",
              " 'الاعلام يهاجم السعوديه منذ مده بكل قبيح ومجموعه تدعم الاعلام في لبنان فيها',\n",
              " 'استاجر بعض في تويتر عشان يبررو لهم ويرقعو برنامج اصرار',\n",
              " 'الحمد لله ما من واحد فاشل اخلاقيا همه الشحاذه من علي مواطن يفضح برنامج الاصرار برعايه',\n",
              " 'الخرج بيض الله وجه الخرج القناه علي المسلمين من المخالفات والمحرمات تدعو الي الرذيله وتشوه صوره الاسلام',\n",
              " 'الرياض السعوديه لوزير العمل في عن برنامج اصرار برنامج بفكرته منسوخ بشكل مبتذل وفاشل']"
            ]
          },
          "metadata": {
            "tags": []
          },
          "execution_count": 54
        }
      ]
    },
    {
      "cell_type": "code",
      "metadata": {
        "id": "uhi_dIVUZ9RT"
      },
      "source": [
        "#save the csv\n",
        "df = pd.DataFrame(clean_tweet, columns=['text'])\n",
        "df['polarity'] = y\n",
        "df['original'] = z\n",
        "df.rename(columns={'polarity':'target'},inplace=True)\n",
        "df.to_csv('clean_tweet.csv', encoding='utf-8')"
      ],
      "execution_count": null,
      "outputs": []
    },
    {
      "cell_type": "code",
      "metadata": {
        "id": "YYvkL8VicAFf"
      },
      "source": [
        "csv = 'clean_tweet.csv'\n",
        "df = pd.read_csv(csv, index_col=0)"
      ],
      "execution_count": null,
      "outputs": []
    },
    {
      "cell_type": "code",
      "metadata": {
        "id": "U4I7txKPcJpu",
        "outputId": "b4201e09-51c3-4e30-eff4-df2c41096696",
        "colab": {
          "base_uri": "https://localhost:8080/"
        }
      },
      "source": [
        "df.info()#there are 15 tweets missing or blank"
      ],
      "execution_count": null,
      "outputs": [
        {
          "output_type": "stream",
          "text": [
            "<class 'pandas.core.frame.DataFrame'>\n",
            "Int64Index: 55175 entries, 0 to 55174\n",
            "Data columns (total 3 columns):\n",
            " #   Column    Non-Null Count  Dtype \n",
            "---  ------    --------------  ----- \n",
            " 0   text      55160 non-null  object\n",
            " 1   target    55175 non-null  int64 \n",
            " 2   original  55175 non-null  object\n",
            "dtypes: int64(1), object(2)\n",
            "memory usage: 1.7+ MB\n"
          ],
          "name": "stdout"
        }
      ]
    },
    {
      "cell_type": "code",
      "metadata": {
        "id": "VGS3i6TxmO1j",
        "outputId": "ee290cb5-9f7c-45d8-bde4-d7d863a7a726",
        "colab": {
          "base_uri": "https://localhost:8080/"
        }
      },
      "source": [
        "df.head()"
      ],
      "execution_count": null,
      "outputs": [
        {
          "output_type": "execute_result",
          "data": {
            "text/html": [
              "<div>\n",
              "<style scoped>\n",
              "    .dataframe tbody tr th:only-of-type {\n",
              "        vertical-align: middle;\n",
              "    }\n",
              "\n",
              "    .dataframe tbody tr th {\n",
              "        vertical-align: top;\n",
              "    }\n",
              "\n",
              "    .dataframe thead th {\n",
              "        text-align: right;\n",
              "    }\n",
              "</style>\n",
              "<table border=\"1\" class=\"dataframe\">\n",
              "  <thead>\n",
              "    <tr style=\"text-align: right;\">\n",
              "      <th></th>\n",
              "      <th>text</th>\n",
              "      <th>target</th>\n",
              "      <th>original</th>\n",
              "    </tr>\n",
              "  </thead>\n",
              "  <tbody>\n",
              "    <tr>\n",
              "      <th>0</th>\n",
              "      <td>ابراهيم الوسخ ابن الوسخه كلما حصل حادث السعودي...</td>\n",
              "      <td>0</td>\n",
              "      <td>ابراهيم_عيسى الوسخ ابن الوسخه كلما حصل حادث ا...</td>\n",
              "    </tr>\n",
              "    <tr>\n",
              "      <th>1</th>\n",
              "      <td>اخطر حروب الارض حرب حسيبك الله ال راه رب يده زا</td>\n",
              "      <td>0</td>\n",
              "      <td>اخطر حروب الارض حرب العقيده حسيبك الله ي اول ...</td>\n",
              "    </tr>\n",
              "    <tr>\n",
              "      <th>2</th>\n",
              "      <td>اصبحت عبر الخيريه لايصال خبثها اين من هذا نطال...</td>\n",
              "      <td>0</td>\n",
              "      <td>اصبحت تقدم برامج عبر الجمعيات الخيريه لايصال ...</td>\n",
              "    </tr>\n",
              "    <tr>\n",
              "      <th>3</th>\n",
              "      <td>متمثل في داوودالشريان روتانا كيف ترجي من هالاش...</td>\n",
              "      <td>0</td>\n",
              "      <td>اعلامنا متمثل في داوودالشريان و روتانا وطقتهم...</td>\n",
              "    </tr>\n",
              "    <tr>\n",
              "      <th>4</th>\n",
              "      <td>الاصرار مرتزقه برنامج الاصرار بضاعه هالمترديه ...</td>\n",
              "      <td>0</td>\n",
              "      <td>الاصرار مرتزقه_برنامج_الاصرار بضاعه هالمترديه...</td>\n",
              "    </tr>\n",
              "  </tbody>\n",
              "</table>\n",
              "</div>"
            ],
            "text/plain": [
              "                                                text  ...                                           original\n",
              "0  ابراهيم الوسخ ابن الوسخه كلما حصل حادث السعودي...  ...   ابراهيم_عيسى الوسخ ابن الوسخه كلما حصل حادث ا...\n",
              "1    اخطر حروب الارض حرب حسيبك الله ال راه رب يده زا  ...   اخطر حروب الارض حرب العقيده حسيبك الله ي اول ...\n",
              "2  اصبحت عبر الخيريه لايصال خبثها اين من هذا نطال...  ...   اصبحت تقدم برامج عبر الجمعيات الخيريه لايصال ...\n",
              "3  متمثل في داوودالشريان روتانا كيف ترجي من هالاش...  ...   اعلامنا متمثل في داوودالشريان و روتانا وطقتهم...\n",
              "4  الاصرار مرتزقه برنامج الاصرار بضاعه هالمترديه ...  ...   الاصرار مرتزقه_برنامج_الاصرار بضاعه هالمترديه...\n",
              "\n",
              "[5 rows x 3 columns]"
            ]
          },
          "metadata": {
            "tags": []
          },
          "execution_count": 58
        }
      ]
    },
    {
      "cell_type": "code",
      "metadata": {
        "id": "oS9hMJILcKU-",
        "outputId": "7e3553f7-c869-4b65-f40a-4ded897ea808",
        "colab": {
          "base_uri": "https://localhost:8080/"
        }
      },
      "source": [
        "df.dropna(inplace=True) #remove all rows with missing tweets\n",
        "df.reset_index(drop=True, inplace=True)#reset index after removing rows\n",
        "df.info()"
      ],
      "execution_count": null,
      "outputs": [
        {
          "output_type": "stream",
          "text": [
            "<class 'pandas.core.frame.DataFrame'>\n",
            "RangeIndex: 55160 entries, 0 to 55159\n",
            "Data columns (total 3 columns):\n",
            " #   Column    Non-Null Count  Dtype \n",
            "---  ------    --------------  ----- \n",
            " 0   text      55160 non-null  object\n",
            " 1   target    55160 non-null  int64 \n",
            " 2   original  55160 non-null  object\n",
            "dtypes: int64(1), object(2)\n",
            "memory usage: 1.3+ MB\n"
          ],
          "name": "stdout"
        }
      ]
    },
    {
      "cell_type": "code",
      "metadata": {
        "id": "c19trYmluidu",
        "outputId": "0a2b3363-3a64-48c6-89fc-ea5264bf9355",
        "colab": {
          "base_uri": "https://localhost:8080/"
        }
      },
      "source": [
        "df.head()"
      ],
      "execution_count": null,
      "outputs": [
        {
          "output_type": "execute_result",
          "data": {
            "text/html": [
              "<div>\n",
              "<style scoped>\n",
              "    .dataframe tbody tr th:only-of-type {\n",
              "        vertical-align: middle;\n",
              "    }\n",
              "\n",
              "    .dataframe tbody tr th {\n",
              "        vertical-align: top;\n",
              "    }\n",
              "\n",
              "    .dataframe thead th {\n",
              "        text-align: right;\n",
              "    }\n",
              "</style>\n",
              "<table border=\"1\" class=\"dataframe\">\n",
              "  <thead>\n",
              "    <tr style=\"text-align: right;\">\n",
              "      <th></th>\n",
              "      <th>text</th>\n",
              "      <th>target</th>\n",
              "      <th>original</th>\n",
              "    </tr>\n",
              "  </thead>\n",
              "  <tbody>\n",
              "    <tr>\n",
              "      <th>0</th>\n",
              "      <td>ابراهيم الوسخ ابن الوسخه كلما حصل حادث السعودي...</td>\n",
              "      <td>0</td>\n",
              "      <td>ابراهيم_عيسى الوسخ ابن الوسخه كلما حصل حادث ا...</td>\n",
              "    </tr>\n",
              "    <tr>\n",
              "      <th>1</th>\n",
              "      <td>اخطر حروب الارض حرب حسيبك الله ال راه رب يده زا</td>\n",
              "      <td>0</td>\n",
              "      <td>اخطر حروب الارض حرب العقيده حسيبك الله ي اول ...</td>\n",
              "    </tr>\n",
              "    <tr>\n",
              "      <th>2</th>\n",
              "      <td>اصبحت عبر الخيريه لايصال خبثها اين من هذا نطال...</td>\n",
              "      <td>0</td>\n",
              "      <td>اصبحت تقدم برامج عبر الجمعيات الخيريه لايصال ...</td>\n",
              "    </tr>\n",
              "    <tr>\n",
              "      <th>3</th>\n",
              "      <td>متمثل في داوودالشريان روتانا كيف ترجي من هالاش...</td>\n",
              "      <td>0</td>\n",
              "      <td>اعلامنا متمثل في داوودالشريان و روتانا وطقتهم...</td>\n",
              "    </tr>\n",
              "    <tr>\n",
              "      <th>4</th>\n",
              "      <td>الاصرار مرتزقه برنامج الاصرار بضاعه هالمترديه ...</td>\n",
              "      <td>0</td>\n",
              "      <td>الاصرار مرتزقه_برنامج_الاصرار بضاعه هالمترديه...</td>\n",
              "    </tr>\n",
              "  </tbody>\n",
              "</table>\n",
              "</div>"
            ],
            "text/plain": [
              "                                                text  ...                                           original\n",
              "0  ابراهيم الوسخ ابن الوسخه كلما حصل حادث السعودي...  ...   ابراهيم_عيسى الوسخ ابن الوسخه كلما حصل حادث ا...\n",
              "1    اخطر حروب الارض حرب حسيبك الله ال راه رب يده زا  ...   اخطر حروب الارض حرب العقيده حسيبك الله ي اول ...\n",
              "2  اصبحت عبر الخيريه لايصال خبثها اين من هذا نطال...  ...   اصبحت تقدم برامج عبر الجمعيات الخيريه لايصال ...\n",
              "3  متمثل في داوودالشريان روتانا كيف ترجي من هالاش...  ...   اعلامنا متمثل في داوودالشريان و روتانا وطقتهم...\n",
              "4  الاصرار مرتزقه برنامج الاصرار بضاعه هالمترديه ...  ...   الاصرار مرتزقه_برنامج_الاصرار بضاعه هالمترديه...\n",
              "\n",
              "[5 rows x 3 columns]"
            ]
          },
          "metadata": {
            "tags": []
          },
          "execution_count": 60
        }
      ]
    },
    {
      "cell_type": "code",
      "metadata": {
        "id": "LpbfiqTU1Sin",
        "outputId": "0fe53d09-301e-4a3d-9dc1-98625f704981",
        "colab": {
          "base_uri": "https://localhost:8080/"
        }
      },
      "source": [
        "text = df['text'].copy()\n",
        "target = df['target'].copy()\n",
        "original = df['original'].copy()\n",
        "\n",
        "#copy with 3 columns\n",
        "df = pd.DataFrame(text, columns=['text'])\n",
        "df['target'] = target\n",
        "df['original'] = original\n",
        "df.to_csv('/content/drive/My Drive/clean_tweet.csv', encoding='utf-8')\n",
        "\n",
        "#copy with 2 columns\n",
        "my_df = pd.DataFrame(text, columns=['text'])\n",
        "my_df['target'] = target\n",
        "\n",
        "my_df.head()"
      ],
      "execution_count": null,
      "outputs": [
        {
          "output_type": "execute_result",
          "data": {
            "text/html": [
              "<div>\n",
              "<style scoped>\n",
              "    .dataframe tbody tr th:only-of-type {\n",
              "        vertical-align: middle;\n",
              "    }\n",
              "\n",
              "    .dataframe tbody tr th {\n",
              "        vertical-align: top;\n",
              "    }\n",
              "\n",
              "    .dataframe thead th {\n",
              "        text-align: right;\n",
              "    }\n",
              "</style>\n",
              "<table border=\"1\" class=\"dataframe\">\n",
              "  <thead>\n",
              "    <tr style=\"text-align: right;\">\n",
              "      <th></th>\n",
              "      <th>text</th>\n",
              "      <th>target</th>\n",
              "    </tr>\n",
              "  </thead>\n",
              "  <tbody>\n",
              "    <tr>\n",
              "      <th>0</th>\n",
              "      <td>ابراهيم الوسخ ابن الوسخه كلما حصل حادث السعودي...</td>\n",
              "      <td>0</td>\n",
              "    </tr>\n",
              "    <tr>\n",
              "      <th>1</th>\n",
              "      <td>اخطر حروب الارض حرب حسيبك الله ال راه رب يده زا</td>\n",
              "      <td>0</td>\n",
              "    </tr>\n",
              "    <tr>\n",
              "      <th>2</th>\n",
              "      <td>اصبحت عبر الخيريه لايصال خبثها اين من هذا نطال...</td>\n",
              "      <td>0</td>\n",
              "    </tr>\n",
              "    <tr>\n",
              "      <th>3</th>\n",
              "      <td>متمثل في داوودالشريان روتانا كيف ترجي من هالاش...</td>\n",
              "      <td>0</td>\n",
              "    </tr>\n",
              "    <tr>\n",
              "      <th>4</th>\n",
              "      <td>الاصرار مرتزقه برنامج الاصرار بضاعه هالمترديه ...</td>\n",
              "      <td>0</td>\n",
              "    </tr>\n",
              "  </tbody>\n",
              "</table>\n",
              "</div>"
            ],
            "text/plain": [
              "                                                text  target\n",
              "0  ابراهيم الوسخ ابن الوسخه كلما حصل حادث السعودي...       0\n",
              "1    اخطر حروب الارض حرب حسيبك الله ال راه رب يده زا       0\n",
              "2  اصبحت عبر الخيريه لايصال خبثها اين من هذا نطال...       0\n",
              "3  متمثل في داوودالشريان روتانا كيف ترجي من هالاش...       0\n",
              "4  الاصرار مرتزقه برنامج الاصرار بضاعه هالمترديه ...       0"
            ]
          },
          "metadata": {
            "tags": []
          },
          "execution_count": 61
        }
      ]
    },
    {
      "cell_type": "code",
      "metadata": {
        "id": "eoL1OKAIOGIe",
        "outputId": "de5bbf7f-e695-421c-b465-d166626cc2a2",
        "colab": {
          "base_uri": "https://localhost:8080/"
        }
      },
      "source": [
        "my_df.info()"
      ],
      "execution_count": null,
      "outputs": [
        {
          "output_type": "stream",
          "text": [
            "<class 'pandas.core.frame.DataFrame'>\n",
            "RangeIndex: 55160 entries, 0 to 55159\n",
            "Data columns (total 2 columns):\n",
            " #   Column  Non-Null Count  Dtype \n",
            "---  ------  --------------  ----- \n",
            " 0   text    55160 non-null  object\n",
            " 1   target  55160 non-null  int64 \n",
            "dtypes: int64(1), object(1)\n",
            "memory usage: 862.0+ KB\n"
          ],
          "name": "stdout"
        }
      ]
    },
    {
      "cell_type": "code",
      "metadata": {
        "id": "z6GDs5PQcSRt"
      },
      "source": [
        "x = my_df.text\n",
        "y = my_df.target\n",
        "z = df.original"
      ],
      "execution_count": null,
      "outputs": []
    },
    {
      "cell_type": "code",
      "metadata": {
        "id": "HirzfE9lcTDX"
      },
      "source": [
        "from sklearn.model_selection import train_test_split\n",
        "SEED = 666\n",
        "\n",
        "#split the tweets to train, validation and test\n",
        "x_train, x_validation_and_test, y_train, y_validation_and_test = train_test_split(x, y, test_size=.2, random_state=SEED)#train:80%, validation:20%\n",
        "x_validation, x_test, y_validation, y_test = train_test_split(x_validation_and_test, y_validation_and_test, test_size=.5, random_state=SEED)#split the validation that we already have (20%) to validation:10%, test:10%\n",
        "\n",
        "#ignore, we use this to save the original testing tweets after testing instead of cleaned one\n",
        "x_train_original, x_validation_and_test_original, y_train_original, y_validation_and_test_original = train_test_split(z, y, test_size=.2, random_state=SEED)\n",
        "x_validation_original, x_test_original, y_validation_original, y_test_original = train_test_split(x_validation_and_test_original, y_validation_and_test_original, test_size=.5, random_state=SEED)"
      ],
      "execution_count": null,
      "outputs": []
    },
    {
      "cell_type": "code",
      "metadata": {
        "id": "l_ncVZg3vkcj",
        "outputId": "05c915c5-a86f-4811-9b3e-a9256ed0c2f8",
        "colab": {
          "base_uri": "https://localhost:8080/"
        }
      },
      "source": [
        "x_test[5500:5516]"
      ],
      "execution_count": null,
      "outputs": [
        {
          "output_type": "execute_result",
          "data": {
            "text/plain": [
              "2389     لو رجل بدال الكويك نت حقكم والله انها اشلا من ...\n",
              "53765    رجال الحد الجنوبي اللهم اني اسالك بكل اسم به ن...\n",
              "7215     الهلال هجر حديثوا الصداره الطحلبيه يصيحون ويسم...\n",
              "9554     معقوله اداراه الهلال ماتشوف التحكيم ضد فريقها ...\n",
              "10691    طيب ليش عن اخطاا الحكم الفاضحه ضد الهلال قدع ل...\n",
              "27359    بالون اختبار يبدو ان كانت اكبر من المتوقع ان ه...\n",
              "29709    تعليق الدراسه في القصيم تعليق الدراسه سنابييني...\n",
              "1647     حذف قناه العربيه من الريسيفر مع الاسف قناتين م...\n",
              "32249    اذا صحت التسريبات قرار رسوم الاراضي البيضاا ال...\n",
              "37958            وزير الداخليه البلجيكي يرفض امن اسال اكثر\n",
              "53838    رجال الحد الجنوبي ربي لاتحرم شهداءهم الجنه وان...\n",
              "14883    خدع الضعفاا من سنوات بشعاراته الكاذبه وضيع مدخ...\n",
              "3659     حين اهل الحق عن اهل انهم علي حق علي بن طالب رض...\n",
              "29170    بعطي اجازه لنفسي شكرا تيتشر نور تعليق الدراسه ...\n",
              "54830       باتريوت امان لقوي التحالف في اليمن عاصفه الحزم\n",
              "40158    نزيدوا صبابتا ويزيدوا وصلا بطولات هي السحر امت...\n",
              "Name: text, dtype: object"
            ]
          },
          "metadata": {
            "tags": []
          },
          "execution_count": 65
        }
      ]
    },
    {
      "cell_type": "code",
      "metadata": {
        "id": "kqLG9BYHwk8Q",
        "outputId": "81ea5544-8f9f-4a0c-fa47-454b752547a0",
        "colab": {
          "base_uri": "https://localhost:8080/"
        }
      },
      "source": [
        "x_test_original[5500:5516]"
      ],
      "execution_count": null,
      "outputs": [
        {
          "output_type": "execute_result",
          "data": {
            "text/plain": [
              "2389     لو اعلق رجل جدتي بدال الكويك نت حقكم والله انه...\n",
              "53765     رجال_الحد_الجنوبي اللهم اني اسالك بكل اسم سمي...\n",
              "7215      الهلال_هجر حديثوا الصداره الطحلبيه يصيحون ويس...\n",
              "9554     معقوله اداراه الهلال ماتشوف التحكيم ضد فريقها ...\n",
              "10691     طيب ليش ماتتكلم عن اخطاا الحكم الفاضحه ضد اله...\n",
              "27359     بالون اختبار يبدو ان رده الفعل كانت اكبر من ا...\n",
              "29709     تعليق_الدراسه_في_القصيم تعليق_الدراسه سنابيين...\n",
              "1647      حذف_قناه_العربيه_من_الريسيفر مع الاسف نشاهد ق...\n",
              "32249     اذا صحت التسريبات التي تخص قرار رسوم_الاراضي_...\n",
              "37958     وزير الداخليه البلجيكي يرفض اتهام اجهزه امن ب...\n",
              "53838     رجال_الحد_الجنوبي ربي لاتحرم شهدائهم الجنه وا...\n",
              "14883     خدع الضعفاا من سنوات بشعاراته المزيفه الكاذبه...\n",
              "3659      حين سكت اهل الحق عن الباطل توهم اهل الباطل ان...\n",
              "29170    بعطي اجازه لنفسي شكرا تيتشر نور تعليق_الدراسه_...\n",
              "54830    صواريخ باتريوت الاماراتيه توفر مظله امان لقوى ...\n",
              "40158     نزيدوا صبابتا ويزيدوا وصلا بطولات هي السحر ال...\n",
              "Name: original, dtype: object"
            ]
          },
          "metadata": {
            "tags": []
          },
          "execution_count": 66
        }
      ]
    },
    {
      "cell_type": "code",
      "metadata": {
        "id": "8ZiRv1NMcXSx",
        "outputId": "eef4d51a-8687-41a5-9d70-8453754a5d2e",
        "colab": {
          "base_uri": "https://localhost:8080/"
        }
      },
      "source": [
        "print(\"Train set has total {0} entries with {1:.2f}% negative, {2:.2f}% positive, {3:.2f}% neutral\".format(len(x_train),\n",
        "                                                                             (len(x_train[y_train == 0]) / (len(x_train)*1.))*100,\n",
        "                                                                            (len(x_train[y_train == 1]) / (len(x_train)*1.))*100,\n",
        "                                                                            (len(x_train[y_train == 2]) / (len(x_train)*1.))*100))\n",
        "print(\"Validation set has total {0} entries with {1:.2f}% negative, {2:.2f}% positive, {3:.2f}% neutral\".format(len(x_validation),\n",
        "                                                                             (len(x_validation[y_validation == 0]) / (len(x_validation)*1.))*100,\n",
        "                                                                            (len(x_validation[y_validation == 1]) / (len(x_validation)*1.))*100,\n",
        "                                                                            (len(x_validation[y_validation == 2]) / (len(x_validation)*1.))*100))\n",
        "print(\"Test set has total {0} entries with {1:.2f}% negative, {2:.2f}% positive, {3:.2f}% neutral\".format(len(x_test),\n",
        "                                                                             (len(x_test[y_test == 0]) / (len(x_test)*1.))*100,\n",
        "                                                                            (len(x_test[y_test == 1]) / (len(x_test)*1.))*100,\n",
        "                                                                            (len(x_test[y_test == 2]) / (len(x_test)*1.))*100))\n"
      ],
      "execution_count": null,
      "outputs": [
        {
          "output_type": "stream",
          "text": [
            "Train set has total 44128 entries with 36.15% negative, 30.95% positive, 32.90% neutral\n",
            "Validation set has total 5516 entries with 35.88% negative, 29.71% positive, 34.41% neutral\n",
            "Test set has total 5516 entries with 36.40% negative, 29.88% positive, 33.72% neutral\n"
          ],
          "name": "stdout"
        }
      ]
    },
    {
      "cell_type": "code",
      "metadata": {
        "id": "OPlLPd7ccaSx",
        "outputId": "a87be0e5-3d11-423e-ece4-47b8379c06aa",
        "colab": {
          "base_uri": "https://localhost:8080/"
        }
      },
      "source": [
        "#converting the labels to categorical data\n",
        "\n",
        "from keras.utils import to_categorical\n",
        "y_train = to_categorical(y_train)\n",
        "y_train.shape"
      ],
      "execution_count": null,
      "outputs": [
        {
          "output_type": "execute_result",
          "data": {
            "text/plain": [
              "(44128, 3)"
            ]
          },
          "metadata": {
            "tags": []
          },
          "execution_count": 68
        }
      ]
    },
    {
      "cell_type": "code",
      "metadata": {
        "id": "Nkv1sE5rcdDS"
      },
      "source": [
        "y_validation = to_categorical(y_validation)#the same for validation"
      ],
      "execution_count": null,
      "outputs": []
    },
    {
      "cell_type": "code",
      "metadata": {
        "id": "vJEpV-t4ce-7",
        "outputId": "ca55027a-0d5e-4f38-b382-9173ecadc3b8",
        "colab": {
          "base_uri": "https://localhost:8080/"
        }
      },
      "source": [
        "y_validation.shape"
      ],
      "execution_count": null,
      "outputs": [
        {
          "output_type": "execute_result",
          "data": {
            "text/plain": [
              "(5516, 3)"
            ]
          },
          "metadata": {
            "tags": []
          },
          "execution_count": 70
        }
      ]
    },
    {
      "cell_type": "markdown",
      "metadata": {
        "id": "6eiL-stPco2L"
      },
      "source": [
        "#**word to vector**"
      ]
    },
    {
      "cell_type": "code",
      "metadata": {
        "id": "4jG165zUcllu"
      },
      "source": [
        "from tqdm import tqdm\n",
        "tqdm.pandas(desc=\"progress-bar\")\n",
        "import gensim\n",
        "from gensim.models.word2vec import Word2Vec\n",
        "from gensim.models.doc2vec import TaggedDocument\n",
        "import multiprocessing\n",
        "from sklearn import utils\n",
        "from keras.preprocessing.text import Tokenizer"
      ],
      "execution_count": null,
      "outputs": []
    },
    {
      "cell_type": "markdown",
      "metadata": {
        "id": "UiWJmXRLeY1v"
      },
      "source": [
        "##**AraVec**"
      ]
    },
    {
      "cell_type": "code",
      "metadata": {
        "id": "uL0pOiA1eOGC"
      },
      "source": [
        "!cp /content/drive/My\\ Drive/Colab\\ Notebooks/full_uni_cbow_100_twitter.zip /content/"
      ],
      "execution_count": null,
      "outputs": []
    },
    {
      "cell_type": "code",
      "metadata": {
        "id": "mWSf7wz-ei82"
      },
      "source": [
        "!cp /content/drive/My\\ Drive/Colab\\ Notebooks/full_uni_sg_100_twitter.zip /content/"
      ],
      "execution_count": null,
      "outputs": []
    },
    {
      "cell_type": "code",
      "metadata": {
        "id": "Em6Sadnceltb",
        "outputId": "9b2f12c3-c277-43bf-c731-2de17bf623ad",
        "colab": {
          "base_uri": "https://localhost:8080/"
        }
      },
      "source": [
        "!unzip full_uni_cbow_100_twitter.zip"
      ],
      "execution_count": null,
      "outputs": [
        {
          "output_type": "stream",
          "text": [
            "Archive:  full_uni_cbow_100_twitter.zip\n",
            "  inflating: full_uni_cbow_100_twitter.mdl  \n",
            "  inflating: full_uni_cbow_100_twitter.mdl.trainables.syn1neg.npy  \n",
            "  inflating: full_uni_cbow_100_twitter.mdl.wv.vectors.npy  \n"
          ],
          "name": "stdout"
        }
      ]
    },
    {
      "cell_type": "code",
      "metadata": {
        "id": "UP2Fd1MPeorj",
        "outputId": "cd0e49d9-cbcc-4544-94c2-1975471755d2",
        "colab": {
          "base_uri": "https://localhost:8080/"
        }
      },
      "source": [
        "!unzip full_uni_sg_100_twitter.zip"
      ],
      "execution_count": null,
      "outputs": [
        {
          "output_type": "stream",
          "text": [
            "Archive:  full_uni_sg_100_twitter.zip\n",
            "  inflating: full_uni_sg_100_twitter.mdl  \n",
            "  inflating: full_uni_sg_100_twitter.mdl.trainables.syn1neg.npy  \n",
            "  inflating: full_uni_sg_100_twitter.mdl.wv.vectors.npy  \n"
          ],
          "name": "stdout"
        }
      ]
    },
    {
      "cell_type": "code",
      "metadata": {
        "id": "T3ycWq1ser2j",
        "outputId": "fd1781b6-ae20-48fa-ce50-6a40e02beea1",
        "colab": {
          "base_uri": "https://localhost:8080/"
        }
      },
      "source": [
        "from gensim.models import KeyedVectors\n",
        "model_ug_cbow = KeyedVectors.load('full_uni_cbow_100_twitter.mdl')#CBOW\n",
        "model_ug_sg = KeyedVectors.load('full_uni_cbow_100_twitter.mdl')#SG"
      ],
      "execution_count": null,
      "outputs": [
        {
          "output_type": "stream",
          "text": [
            "/usr/local/lib/python3.6/dist-packages/smart_open/smart_open_lib.py:254: UserWarning: This function is deprecated, use smart_open.open instead. See the migration notes for details: https://github.com/RaRe-Technologies/smart_open/blob/master/README.rst#migrating-to-the-new-open-function\n",
            "  'See the migration notes for details: %s' % _MIGRATION_NOTES_URL\n"
          ],
          "name": "stderr"
        }
      ]
    },
    {
      "cell_type": "code",
      "metadata": {
        "id": "C16nHRyFewqG",
        "outputId": "020e6b92-f990-4bac-eeab-336d69a85fd8",
        "colab": {
          "base_uri": "https://localhost:8080/"
        }
      },
      "source": [
        "len(model_ug_cbow.wv.vocab.keys())#total vocabulary words in CBOW AraVec"
      ],
      "execution_count": null,
      "outputs": [
        {
          "output_type": "execute_result",
          "data": {
            "text/plain": [
              "1259756"
            ]
          },
          "metadata": {
            "tags": []
          },
          "execution_count": 77
        }
      ]
    },
    {
      "cell_type": "code",
      "metadata": {
        "id": "gyMUbEVbexaq",
        "outputId": "d34b1776-ecbd-4036-ed10-cbecf4e6cbfd",
        "colab": {
          "base_uri": "https://localhost:8080/"
        }
      },
      "source": [
        "#generate embedding index from appending CBOW and SG (embedding matrix will be filled with embedding index )\n",
        "embeddings_index = {}\n",
        "for w in model_ug_cbow.wv.vocab.keys():\n",
        "  embeddings_index[w] = np.append(model_ug_cbow.wv[w], \n",
        "                                  model_ug_sg.wv[w])\n",
        "print(f'Found {len(embeddings_index)} word vectors.')"
      ],
      "execution_count": null,
      "outputs": [
        {
          "output_type": "stream",
          "text": [
            "Found 1259756 word vectors.\n"
          ],
          "name": "stdout"
        }
      ]
    },
    {
      "cell_type": "markdown",
      "metadata": {
        "id": "zYeOSWRTe3ti"
      },
      "source": [
        "#**Pad Sequence**"
      ]
    },
    {
      "cell_type": "code",
      "metadata": {
        "id": "jX2YAYmCe6aV"
      },
      "source": [
        "from keras.preprocessing.text import Tokenizer\n",
        "from keras.preprocessing.sequence import pad_sequences\n",
        "\n",
        "tokenizer = Tokenizer(num_words=100000) #generate index with maximum 100000 words\n",
        "tokenizer.fit_on_texts(x_train)#creates the vocabulary index based on word frequency 1 most frequent word, 2 second most frequent word and vice versa, 0 reserved for padding (word_index)\n",
        "sequences = tokenizer.texts_to_sequences(x_train)#(Transforms each text in texts to a sequence of integers)takes each word in the text and replaces it with its corresponding integer value from the word_index"
      ],
      "execution_count": null,
      "outputs": []
    },
    {
      "cell_type": "code",
      "metadata": {
        "id": "1BqABRjbe0PT",
        "outputId": "0a2b8859-bd93-493c-dd01-5ebd321cf57f",
        "colab": {
          "base_uri": "https://localhost:8080/"
        }
      },
      "source": [
        "len(tokenizer.word_index)#total no. of words in the word index (same as no. of training words)"
      ],
      "execution_count": null,
      "outputs": [
        {
          "output_type": "execute_result",
          "data": {
            "text/plain": [
              "54873"
            ]
          },
          "metadata": {
            "tags": []
          },
          "execution_count": 80
        }
      ]
    },
    {
      "cell_type": "code",
      "metadata": {
        "id": "Tm5Or_z9fCzA",
        "outputId": "4ddd192e-1994-4dc0-8f66-c8b3624cd6dd",
        "colab": {
          "base_uri": "https://localhost:8080/"
        }
      },
      "source": [
        "#check first 5 tweets of training\n",
        "for x in x_train[:5]:\n",
        "  print(x)"
      ],
      "execution_count": null,
      "outputs": [
        {
          "output_type": "stream",
          "text": [
            "رفع اسعار البنزين والكهرباا والقادم اجمل واصلي يابلادي السعوديه اليمن\n",
            "تعليق الدراسه في القصيم المطر في المدينه الدراسه بالقصيم غلط\n",
            "بكره عندي اوف ان شاالله تعليق الدراسه في الرياض\n",
            "هذا اللي يلعب من قلبب هذا روح الهلال الله لنا كثر مانحبك الهلال\n",
            "الهلال هجر خماسيه راءعه اجمل عوده الشلهوب القاءد\n"
          ],
          "name": "stdout"
        }
      ]
    },
    {
      "cell_type": "code",
      "metadata": {
        "id": "G-t_6j7ufF3B"
      },
      "source": [
        "length = []\n",
        "for x in x_train:\n",
        "  length.append(len(x.split()))"
      ],
      "execution_count": null,
      "outputs": []
    },
    {
      "cell_type": "code",
      "metadata": {
        "id": "Tn_QJ_swfIIZ",
        "outputId": "b3174010-87e1-44fa-cb8b-a167e01802b5",
        "colab": {
          "base_uri": "https://localhost:8080/"
        }
      },
      "source": [
        "#maximum words in the tweet for the training dataset\n",
        "tweetlen= max(length)\n",
        "tweetlen"
      ],
      "execution_count": null,
      "outputs": [
        {
          "output_type": "execute_result",
          "data": {
            "text/plain": [
              "28"
            ]
          },
          "metadata": {
            "tags": []
          },
          "execution_count": 83
        }
      ]
    },
    {
      "cell_type": "code",
      "metadata": {
        "id": "bzI-c79_fMRG",
        "outputId": "ad222d8f-8fd0-413a-bfc1-9adbf2f415c9",
        "colab": {
          "base_uri": "https://localhost:8080/"
        }
      },
      "source": [
        "x_train_seq = pad_sequences(sequences, maxlen=tweetlen)# apply 0 index so all tweets have the same length (28)\n",
        "print('Shape of data tensor: ', x_train_seq.shape)"
      ],
      "execution_count": null,
      "outputs": [
        {
          "output_type": "stream",
          "text": [
            "Shape of data tensor:  (44128, 28)\n"
          ],
          "name": "stdout"
        }
      ]
    },
    {
      "cell_type": "code",
      "metadata": {
        "id": "8ubcvRvFfOxP",
        "outputId": "fb962db3-a5cc-4cb3-c369-d8cfef29d636",
        "colab": {
          "base_uri": "https://localhost:8080/"
        }
      },
      "source": [
        "x_train_seq[:5]"
      ],
      "execution_count": null,
      "outputs": [
        {
          "output_type": "execute_result",
          "data": {
            "text/plain": [
              "array([[    0,     0,     0,     0,     0,     0,     0,     0,     0,\n",
              "            0,     0,     0,     0,     0,     0,     0,     0,     0,\n",
              "           20,    21,    19,    24,   611,   180,  4913,  4317,     6,\n",
              "           55],\n",
              "       [    0,     0,     0,     0,     0,     0,     0,     0,     0,\n",
              "            0,     0,     0,     0,     0,     0,     0,     0,     0,\n",
              "            7,     8,     2,    12,   550,     2,   593,     8,   846,\n",
              "         1218],\n",
              "       [    0,     0,     0,     0,     0,     0,     0,     0,     0,\n",
              "            0,     0,     0,     0,     0,     0,     0,     0,     0,\n",
              "            0,   323,   308,  1315,    14,   916,     7,     8,     2,\n",
              "           39],\n",
              "       [    0,     0,     0,     0,     0,     0,     0,     0,     0,\n",
              "            0,     0,     0,     0,     0,     0,    28,    40,   237,\n",
              "            3, 14152,    28,   339,     1,     9,   160,   574, 14153,\n",
              "            1],\n",
              "       [    0,     0,     0,     0,     0,     0,     0,     0,     0,\n",
              "            0,     0,     0,     0,     0,     0,     0,     0,     0,\n",
              "            0,     0,     1,    25,  2512,  1679,   180,   216,   434,\n",
              "          659]], dtype=int32)"
            ]
          },
          "metadata": {
            "tags": []
          },
          "execution_count": 85
        }
      ]
    },
    {
      "cell_type": "code",
      "metadata": {
        "id": "RzTETr_GfRO5"
      },
      "source": [
        "sequences_val = tokenizer.texts_to_sequences(x_validation) #same as training, generate sequence of integer and apply zero padding\n",
        "x_val_seq = pad_sequences(sequences_val, maxlen=tweetlen)"
      ],
      "execution_count": null,
      "outputs": []
    },
    {
      "cell_type": "code",
      "metadata": {
        "id": "8M7GrJS4fVSe"
      },
      "source": [
        "num_words = 100000\n",
        "embedding_matrix = np.zeros((num_words, 200)) #AraVec (num_words=100000)(vector size (dimention)=200) (100000*200 matrix) (we add embedding index in embedding matrix)\n",
        "#embedding_matrix = np.zeros((num_words, 300)) #ArabicNews & Fasttext\n",
        "\n",
        "#for the words in the training dataset, \n",
        "for word, i in tokenizer.word_index.items(): # 54873\n",
        "  if i >= num_words:\n",
        "    continue\n",
        "  embedding_vector = embeddings_index.get(word)\n",
        "  if embedding_vector is not None:\n",
        "    embedding_matrix[i] = embedding_vector"
      ],
      "execution_count": null,
      "outputs": []
    },
    {
      "cell_type": "code",
      "metadata": {
        "id": "87rU82FcfjI6"
      },
      "source": [
        "seed = 3\n",
        "\n",
        "from keras.models import Sequential\n",
        "from keras.layers import Dense, Dropout, Flatten\n",
        "from keras.layers.embeddings import Embedding"
      ],
      "execution_count": null,
      "outputs": []
    },
    {
      "cell_type": "code",
      "metadata": {
        "id": "aSwjRdpkfmIx"
      },
      "source": [
        "sequences_test = tokenizer.texts_to_sequences(x_test)#same for testing\n",
        "x_test_seq = pad_sequences(sequences_test, maxlen=tweetlen)\n",
        "y_test = to_categorical(y_test)"
      ],
      "execution_count": null,
      "outputs": []
    },
    {
      "cell_type": "code",
      "metadata": {
        "id": "DilJ5EbIfpUi",
        "outputId": "771a7a66-3fe7-4dcd-fd96-4be48d433ee4",
        "colab": {
          "base_uri": "https://localhost:8080/"
        }
      },
      "source": [
        "!pip install keras_metrics"
      ],
      "execution_count": null,
      "outputs": [
        {
          "output_type": "stream",
          "text": [
            "Collecting keras_metrics\n",
            "  Downloading https://files.pythonhosted.org/packages/32/c9/a87420da8e73de944e63a8e9cdcfb1f03ca31a7c4cdcdbd45d2cdf13275a/keras_metrics-1.1.0-py2.py3-none-any.whl\n",
            "Requirement already satisfied: Keras>=2.1.5 in /usr/local/lib/python3.6/dist-packages (from keras_metrics) (2.3.1)\n",
            "Requirement already satisfied: pyyaml in /usr/local/lib/python3.6/dist-packages (from Keras>=2.1.5->keras_metrics) (3.13)\n",
            "Requirement already satisfied: scipy>=0.14 in /usr/local/lib/python3.6/dist-packages (from Keras>=2.1.5->keras_metrics) (1.4.1)\n",
            "Requirement already satisfied: keras-applications>=1.0.6 in /usr/local/lib/python3.6/dist-packages (from Keras>=2.1.5->keras_metrics) (1.0.8)\n",
            "Requirement already satisfied: six>=1.9.0 in /usr/local/lib/python3.6/dist-packages (from Keras>=2.1.5->keras_metrics) (1.15.0)\n",
            "Requirement already satisfied: numpy>=1.9.1 in /usr/local/lib/python3.6/dist-packages (from Keras>=2.1.5->keras_metrics) (1.18.5)\n",
            "Requirement already satisfied: h5py in /usr/local/lib/python3.6/dist-packages (from Keras>=2.1.5->keras_metrics) (2.10.0)\n",
            "Requirement already satisfied: keras-preprocessing>=1.0.5 in /usr/local/lib/python3.6/dist-packages (from Keras>=2.1.5->keras_metrics) (1.1.2)\n",
            "Installing collected packages: keras-metrics\n",
            "Successfully installed keras-metrics-1.1.0\n"
          ],
          "name": "stdout"
        }
      ]
    },
    {
      "cell_type": "code",
      "metadata": {
        "id": "LUV_TRJafus_"
      },
      "source": [
        "import keras\n",
        "import keras_metrics\n",
        "from keras import layers\n",
        "from keras.optimizers import Adam\n",
        "from keras.callbacks import TensorBoard\n",
        "import shutil"
      ],
      "execution_count": null,
      "outputs": []
    },
    {
      "cell_type": "markdown",
      "metadata": {
        "id": "7G-uyqGX-7R1"
      },
      "source": [
        "#**GRU with Auto-generated stopword**"
      ]
    },
    {
      "cell_type": "markdown",
      "metadata": {
        "id": "6mzpYVj2-7R8"
      },
      "source": [
        "##**1 layer**"
      ]
    },
    {
      "cell_type": "code",
      "metadata": {
        "id": "4vc7usOe-7R-"
      },
      "source": [
        "tensorboard = TensorBoard(log_dir=\"./logs/model_gru\")\n",
        "keras_callbacks = [tensorboard]"
      ],
      "execution_count": null,
      "outputs": []
    },
    {
      "cell_type": "code",
      "metadata": {
        "id": "3sNFaElG-7SH",
        "outputId": "dd380ab0-b912-4c9d-b565-118796ef49e8",
        "colab": {
          "base_uri": "https://localhost:8080/",
          "height": 679
        }
      },
      "source": [
        "%%time\n",
        "\n",
        "model_gru = Sequential()\n",
        "e = Embedding(100000, 200, weights=[embedding_matrix], input_length=tweetlen #100000:max. no. of words, 200: vector size, (add weights to 100000*200 matrix) \n",
        "              , trainable=True)\n",
        "model_gru.add(e)\n",
        "model_gru.add(keras.layers.GRU(100, dropout=0.2))#100: no. of nodes, we drop 20% of the nodes to avoid overfitting\n",
        "model_gru.add(Dense(3, activation='softmax'))#3 classes\n",
        "#optimizers=Adam(lr=0.001,momentum=0.9, clipnorm=1.0)\n",
        "model_gru.compile(loss='categorical_crossentropy', optimizer='adam',\n",
        "                  metrics=['accuracy', keras_metrics.precision(), \n",
        "                           keras_metrics.recall(), keras_metrics.f1_score()])\n",
        "model_gru.summary()\n",
        "model_gru.fit(x_train_seq, y_train, \n",
        "          validation_data=(x_val_seq, y_validation),\n",
        "          epochs=5, batch_size=64, callbacks=keras_callbacks)"
      ],
      "execution_count": null,
      "outputs": [
        {
          "output_type": "stream",
          "text": [
            "tracking <tf.Variable 'Variable:0' shape=() dtype=int32, numpy=0> tp\n",
            "tracking <tf.Variable 'Variable:0' shape=() dtype=int32, numpy=0> fp\n",
            "tracking <tf.Variable 'Variable:0' shape=() dtype=int32, numpy=0> tp\n",
            "tracking <tf.Variable 'Variable:0' shape=() dtype=int32, numpy=0> fn\n",
            "tracking <tf.Variable 'Variable:0' shape=() dtype=int32, numpy=0> tp\n",
            "tracking <tf.Variable 'Variable:0' shape=() dtype=int32, numpy=0> fp\n",
            "tracking <tf.Variable 'Variable:0' shape=() dtype=int32, numpy=0> tp\n",
            "tracking <tf.Variable 'Variable:0' shape=() dtype=int32, numpy=0> fn\n",
            "Model: \"sequential_1\"\n",
            "_________________________________________________________________\n",
            "Layer (type)                 Output Shape              Param #   \n",
            "=================================================================\n",
            "embedding_1 (Embedding)      (None, 28, 200)           20000000  \n",
            "_________________________________________________________________\n",
            "gru_1 (GRU)                  (None, 100)               90300     \n",
            "_________________________________________________________________\n",
            "dense_1 (Dense)              (None, 3)                 303       \n",
            "=================================================================\n",
            "Total params: 20,090,603\n",
            "Trainable params: 20,090,603\n",
            "Non-trainable params: 0\n",
            "_________________________________________________________________\n"
          ],
          "name": "stdout"
        },
        {
          "output_type": "stream",
          "text": [
            "/usr/local/lib/python3.6/dist-packages/tensorflow/python/framework/indexed_slices.py:434: UserWarning: Converting sparse IndexedSlices to a dense Tensor of unknown shape. This may consume a large amount of memory.\n",
            "  \"Converting sparse IndexedSlices to a dense Tensor of unknown shape. \"\n"
          ],
          "name": "stderr"
        },
        {
          "output_type": "stream",
          "text": [
            "Train on 44128 samples, validate on 5516 samples\n",
            "Epoch 1/5\n",
            "44128/44128 [==============================] - 49s 1ms/step - loss: 0.6566 - accuracy: 0.7227 - precision: 0.7025 - recall: 0.6080 - f1_score: 0.6508 - val_loss: 0.5576 - val_accuracy: 0.7765 - val_precision: 0.8410 - val_recall: 0.7045 - val_f1_score: 0.7666\n",
            "Epoch 2/5\n",
            "44128/44128 [==============================] - 48s 1ms/step - loss: 0.4962 - accuracy: 0.8024 - precision: 0.8305 - recall: 0.7843 - f1_score: 0.8067 - val_loss: 0.5304 - val_accuracy: 0.7908 - val_precision: 0.8809 - val_recall: 0.6997 - val_f1_score: 0.7798\n",
            "Epoch 3/5\n",
            "44128/44128 [==============================] - 47s 1ms/step - loss: 0.4233 - accuracy: 0.8349 - precision: 0.8639 - recall: 0.8248 - f1_score: 0.8439 - val_loss: 0.5202 - val_accuracy: 0.7966 - val_precision: 0.8977 - val_recall: 0.6965 - val_f1_score: 0.7843\n",
            "Epoch 4/5\n",
            "44128/44128 [==============================] - 47s 1ms/step - loss: 0.3611 - accuracy: 0.8603 - precision: 0.8902 - recall: 0.8509 - f1_score: 0.8700 - val_loss: 0.5253 - val_accuracy: 0.7959 - val_precision: 0.8864 - val_recall: 0.7030 - val_f1_score: 0.7840\n",
            "Epoch 5/5\n",
            "44128/44128 [==============================] - 47s 1ms/step - loss: 0.3053 - accuracy: 0.8866 - precision: 0.9128 - recall: 0.8796 - f1_score: 0.8959 - val_loss: 0.5168 - val_accuracy: 0.8075 - val_precision: 0.8636 - val_recall: 0.7617 - val_f1_score: 0.8094\n",
            "CPU times: user 8min 8s, sys: 1min 18s, total: 9min 26s\n",
            "Wall time: 4min 8s\n"
          ],
          "name": "stdout"
        }
      ]
    },
    {
      "cell_type": "code",
      "metadata": {
        "id": "DHleSiLs-7SS",
        "outputId": "921f2878-9ccc-446d-cc96-df00532522ed",
        "colab": {
          "base_uri": "https://localhost:8080/",
          "height": 121
        }
      },
      "source": [
        "#1 layer gru\n",
        "model_gru.evaluate(x_test_seq, y_test)"
      ],
      "execution_count": null,
      "outputs": [
        {
          "output_type": "stream",
          "text": [
            "5516/5516 [==============================] - 1s 253us/step\n"
          ],
          "name": "stdout"
        },
        {
          "output_type": "execute_result",
          "data": {
            "text/plain": [
              "[0.48745916248923893,\n",
              " 0.8139956593513489,\n",
              " 0.8744043111801147,\n",
              " 0.7651523351669312,\n",
              " 0.816035807132721]"
            ]
          },
          "metadata": {
            "tags": []
          },
          "execution_count": 94
        }
      ]
    },
    {
      "cell_type": "code",
      "metadata": {
        "id": "dEyNJBlmfuvI",
        "outputId": "0cc4d708-e230-4dbf-9b53-42ccc658133f",
        "colab": {
          "base_uri": "https://localhost:8080/",
          "height": 121
        }
      },
      "source": [
        "#1 layer gru without remove generated\n",
        "model_gru.evaluate(x_test_seq, y_test)"
      ],
      "execution_count": null,
      "outputs": [
        {
          "output_type": "stream",
          "text": [
            "5516/5516 [==============================] - 1s 271us/step\n"
          ],
          "name": "stdout"
        },
        {
          "output_type": "execute_result",
          "data": {
            "text/plain": [
              "[0.5811821083126939,\n",
              " 0.7842639684677124,\n",
              " 0.8277873396873474,\n",
              " 0.7431692481040955,\n",
              " 0.7827061414718628]"
            ]
          },
          "metadata": {
            "tags": []
          },
          "execution_count": 138
        }
      ]
    },
    {
      "cell_type": "code",
      "metadata": {
        "id": "TlBKfoFR-7Sa",
        "outputId": "df35f57f-e247-4f57-be75-9eaaaa62634b",
        "colab": {
          "base_uri": "https://localhost:8080/",
          "height": 35
        }
      },
      "source": [
        "# serialize model to JSON\n",
        "model_json = model_gru.to_json()\n",
        "with open(\"/content/drive/My Drive/3-class/gru-1-layer/model_gru.json\", \"w\") as json_file:\n",
        "    json_file.write(model_json)\n",
        "    \n",
        "# serialize weights to HDF5\n",
        "model_gru.save_weights(\"/content/drive/My Drive/3-class/gru-1-layer/model_gru.h5\")\n",
        "print(\"Saved model to disk\")"
      ],
      "execution_count": null,
      "outputs": [
        {
          "output_type": "stream",
          "text": [
            "Saved model to disk\n"
          ],
          "name": "stdout"
        }
      ]
    },
    {
      "cell_type": "code",
      "metadata": {
        "id": "nZ3qKmDH-7Sh",
        "outputId": "b226025f-2222-47cc-e042-b231b5ef04d8",
        "colab": {
          "base_uri": "https://localhost:8080/",
          "height": 35
        }
      },
      "source": [
        "shutil.move('/content/logs/model_gru','/content/drive/My Drive/3-class/gru-1-layer/model_gru')"
      ],
      "execution_count": null,
      "outputs": [
        {
          "output_type": "execute_result",
          "data": {
            "application/vnd.google.colaboratory.intrinsic+json": {
              "type": "string"
            },
            "text/plain": [
              "'/content/drive/My Drive/3-class/gru-1-layer/model_gru'"
            ]
          },
          "metadata": {
            "tags": []
          },
          "execution_count": 96
        }
      ]
    },
    {
      "cell_type": "markdown",
      "metadata": {
        "id": "Qh3LncZavHNJ"
      },
      "source": [
        "##**2 layer**"
      ]
    },
    {
      "cell_type": "code",
      "metadata": {
        "id": "1adBFlbGvHNN"
      },
      "source": [
        "tensorboard = TensorBoard(log_dir=\"./logs/model_2gru\")\n",
        "keras_callbacks = [tensorboard]"
      ],
      "execution_count": null,
      "outputs": []
    },
    {
      "cell_type": "code",
      "metadata": {
        "id": "D_OekM1rvHNP",
        "outputId": "fd298d00-bb5d-4798-8f7c-f90b0d83252f",
        "colab": {
          "base_uri": "https://localhost:8080/",
          "height": 748
        }
      },
      "source": [
        "%%time\n",
        "\n",
        "model_2gru = Sequential()\n",
        "e = Embedding(100000, 200, weights=[embedding_matrix], input_length=tweetlen\n",
        "              , trainable=True)\n",
        "model_2gru.add(e)\n",
        "model_2gru.add(keras.layers.GRU(100, dropout=0.2, return_sequences=True))\n",
        "model_2gru.add(keras.layers.GRU(100, dropout=0.2))\n",
        "model_2gru.add(Dense(3, activation='softmax'))\n",
        "#optimizers=Adam(lr=0.001,momentum=0.9, clipnorm=1.0)\n",
        "model_2gru.compile(loss='categorical_crossentropy', optimizer='adam',\n",
        "                  metrics=['accuracy', keras_metrics.precision(), \n",
        "                           keras_metrics.recall(), keras_metrics.f1_score()])\n",
        "model_2gru.summary()\n",
        "model_2gru.fit(x_train_seq, y_train, \n",
        "          validation_data=(x_val_seq, y_validation),\n",
        "          epochs=5, batch_size=64, callbacks=keras_callbacks)"
      ],
      "execution_count": null,
      "outputs": [
        {
          "output_type": "stream",
          "text": [
            "tracking <tf.Variable 'Variable:0' shape=() dtype=int32, numpy=0> tp\n",
            "tracking <tf.Variable 'Variable:0' shape=() dtype=int32, numpy=0> fp\n",
            "tracking <tf.Variable 'Variable:0' shape=() dtype=int32, numpy=0> tp\n",
            "tracking <tf.Variable 'Variable:0' shape=() dtype=int32, numpy=0> fn\n",
            "tracking <tf.Variable 'Variable:0' shape=() dtype=int32, numpy=0> tp\n",
            "tracking <tf.Variable 'Variable:0' shape=() dtype=int32, numpy=0> fp\n",
            "tracking <tf.Variable 'Variable:0' shape=() dtype=int32, numpy=0> tp\n",
            "tracking <tf.Variable 'Variable:0' shape=() dtype=int32, numpy=0> fn\n",
            "Model: \"sequential_2\"\n",
            "_________________________________________________________________\n",
            "Layer (type)                 Output Shape              Param #   \n",
            "=================================================================\n",
            "embedding_2 (Embedding)      (None, 28, 200)           20000000  \n",
            "_________________________________________________________________\n",
            "gru_2 (GRU)                  (None, 28, 100)           90300     \n",
            "_________________________________________________________________\n",
            "gru_3 (GRU)                  (None, 100)               60300     \n",
            "_________________________________________________________________\n",
            "dense_2 (Dense)              (None, 3)                 303       \n",
            "=================================================================\n",
            "Total params: 20,150,903\n",
            "Trainable params: 20,150,903\n",
            "Non-trainable params: 0\n",
            "_________________________________________________________________\n"
          ],
          "name": "stdout"
        },
        {
          "output_type": "stream",
          "text": [
            "/usr/local/lib/python3.6/dist-packages/tensorflow/python/framework/indexed_slices.py:434: UserWarning: Converting sparse IndexedSlices to a dense Tensor of unknown shape. This may consume a large amount of memory.\n",
            "  \"Converting sparse IndexedSlices to a dense Tensor of unknown shape. \"\n"
          ],
          "name": "stderr"
        },
        {
          "output_type": "stream",
          "text": [
            "Train on 44128 samples, validate on 5516 samples\n",
            "Epoch 1/5\n",
            "  192/44128 [..............................] - ETA: 6:21 - loss: 1.1524 - accuracy: 0.3750 - precision: 0.5057 - recall: 0.2124 - f1_score: 0.2953"
          ],
          "name": "stdout"
        },
        {
          "output_type": "stream",
          "text": [
            "/usr/local/lib/python3.6/dist-packages/keras/callbacks/callbacks.py:95: RuntimeWarning: Method (on_train_batch_end) is slow compared to the batch update (0.275700). Check your callbacks.\n",
            "  % (hook_name, delta_t_median), RuntimeWarning)\n"
          ],
          "name": "stderr"
        },
        {
          "output_type": "stream",
          "text": [
            "44128/44128 [==============================] - 90s 2ms/step - loss: 0.6198 - accuracy: 0.7412 - precision: 0.7272 - recall: 0.6169 - f1_score: 0.6643 - val_loss: 0.5259 - val_accuracy: 0.7886 - val_precision: 0.8586 - val_recall: 0.7197 - val_f1_score: 0.7829\n",
            "Epoch 2/5\n",
            "44128/44128 [==============================] - 89s 2ms/step - loss: 0.4913 - accuracy: 0.8032 - precision: 0.8359 - recall: 0.7870 - f1_score: 0.8107 - val_loss: 0.5273 - val_accuracy: 0.7975 - val_precision: 0.9061 - val_recall: 0.6832 - val_f1_score: 0.7788\n",
            "Epoch 3/5\n",
            "44128/44128 [==============================] - 88s 2ms/step - loss: 0.4180 - accuracy: 0.8372 - precision: 0.8677 - recall: 0.8275 - f1_score: 0.8471 - val_loss: 0.4972 - val_accuracy: 0.8055 - val_precision: 0.8804 - val_recall: 0.7390 - val_f1_score: 0.8035\n",
            "Epoch 4/5\n",
            "44128/44128 [==============================] - 89s 2ms/step - loss: 0.3476 - accuracy: 0.8668 - precision: 0.8971 - recall: 0.8618 - f1_score: 0.8791 - val_loss: 0.4920 - val_accuracy: 0.8073 - val_precision: 0.8592 - val_recall: 0.7641 - val_f1_score: 0.8088\n",
            "Epoch 5/5\n",
            "44128/44128 [==============================] - 90s 2ms/step - loss: 0.2918 - accuracy: 0.8898 - precision: 0.9247 - recall: 0.8906 - f1_score: 0.9073 - val_loss: 0.4932 - val_accuracy: 0.8133 - val_precision: 0.8811 - val_recall: 0.7497 - val_f1_score: 0.8101\n",
            "CPU times: user 15min 34s, sys: 2min 17s, total: 17min 51s\n",
            "Wall time: 7min 28s\n"
          ],
          "name": "stdout"
        }
      ]
    },
    {
      "cell_type": "code",
      "metadata": {
        "id": "4qsPxInYvHNQ",
        "outputId": "177b4238-9616-4aa0-f483-acc8e76b6f33",
        "colab": {
          "base_uri": "https://localhost:8080/",
          "height": 121
        }
      },
      "source": [
        "#2 layer gru\n",
        "model_2gru.evaluate(x_test_seq, y_test)"
      ],
      "execution_count": null,
      "outputs": [
        {
          "output_type": "stream",
          "text": [
            "5516/5516 [==============================] - 2s 424us/step\n"
          ],
          "name": "stdout"
        },
        {
          "output_type": "execute_result",
          "data": {
            "text/plain": [
              "[0.4789708266878923,\n",
              " 0.8154459595680237,\n",
              " 0.8917208313941956,\n",
              " 0.7450277805328369,\n",
              " 0.8115642666816711]"
            ]
          },
          "metadata": {
            "tags": []
          },
          "execution_count": 99
        }
      ]
    },
    {
      "cell_type": "code",
      "metadata": {
        "id": "nB7ruAlRvHNR",
        "outputId": "3b036839-568f-4194-f5d5-e0ffc3086bb3",
        "colab": {
          "base_uri": "https://localhost:8080/",
          "height": 35
        }
      },
      "source": [
        "# serialize model to JSON\n",
        "model_json = model_2gru.to_json()\n",
        "with open(\"/content/drive/My Drive/3-class/gru-2-layer/model_2gru.json\", \"w\") as json_file:\n",
        "    json_file.write(model_json)\n",
        "    \n",
        "# serialize weights to HDF5\n",
        "model_2gru.save_weights(\"/content/drive/My Drive/3-class/gru-2-layer/model_gru.h5\")\n",
        "print(\"Saved model to disk\")"
      ],
      "execution_count": null,
      "outputs": [
        {
          "output_type": "stream",
          "text": [
            "Saved model to disk\n"
          ],
          "name": "stdout"
        }
      ]
    },
    {
      "cell_type": "code",
      "metadata": {
        "id": "3PjWtHFjvHNT",
        "outputId": "c4fcf240-eacd-416c-ead6-1f0d0d5fce65",
        "colab": {
          "base_uri": "https://localhost:8080/",
          "height": 35
        }
      },
      "source": [
        "shutil.move('/content/logs/model_2gru','/content/drive/My Drive/3-class/gru-2-layer/model_2gru')"
      ],
      "execution_count": null,
      "outputs": [
        {
          "output_type": "execute_result",
          "data": {
            "application/vnd.google.colaboratory.intrinsic+json": {
              "type": "string"
            },
            "text/plain": [
              "'/content/drive/My Drive/3-class/gru-2-layer/model_2gru'"
            ]
          },
          "metadata": {
            "tags": []
          },
          "execution_count": 101
        }
      ]
    },
    {
      "cell_type": "markdown",
      "metadata": {
        "id": "Pc7EEpwIvuD5"
      },
      "source": [
        "##**3 layer**"
      ]
    },
    {
      "cell_type": "code",
      "metadata": {
        "id": "IaM98A2GvuD6"
      },
      "source": [
        "tensorboard = TensorBoard(log_dir=\"./logs/model_3gru\")\n",
        "keras_callbacks = [tensorboard]"
      ],
      "execution_count": null,
      "outputs": []
    },
    {
      "cell_type": "code",
      "metadata": {
        "id": "sfq75y7LvuD_",
        "outputId": "2644af17-593e-42d4-a500-9783b1c67904",
        "colab": {
          "base_uri": "https://localhost:8080/",
          "height": 783
        }
      },
      "source": [
        "%%time\n",
        "\n",
        "model_3gru = Sequential()\n",
        "e = Embedding(100000, 200, weights=[embedding_matrix], input_length=tweetlen\n",
        "              , trainable=True)\n",
        "model_3gru.add(e)\n",
        "model_3gru.add(keras.layers.GRU(100, dropout=0.2, return_sequences=True))\n",
        "model_3gru.add(keras.layers.GRU(100, dropout=0.2, return_sequences=True))\n",
        "model_3gru.add(keras.layers.GRU(100, dropout=0.2))\n",
        "model_3gru.add(Dense(3, activation='softmax'))\n",
        "#optimizers=Adam(lr=0.001,momentum=0.9, clipnorm=1.0)\n",
        "model_3gru.compile(loss='categorical_crossentropy', optimizer='adam',\n",
        "                  metrics=['accuracy', keras_metrics.precision(), \n",
        "                           keras_metrics.recall(), keras_metrics.f1_score()])\n",
        "model_3gru.summary()\n",
        "model_3gru.fit(x_train_seq, y_train, \n",
        "          validation_data=(x_val_seq, y_validation),\n",
        "          epochs=5, batch_size=64, callbacks=keras_callbacks)"
      ],
      "execution_count": null,
      "outputs": [
        {
          "output_type": "stream",
          "text": [
            "tracking <tf.Variable 'Variable:0' shape=() dtype=int32, numpy=0> tp\n",
            "tracking <tf.Variable 'Variable:0' shape=() dtype=int32, numpy=0> fp\n",
            "tracking <tf.Variable 'Variable:0' shape=() dtype=int32, numpy=0> tp\n",
            "tracking <tf.Variable 'Variable:0' shape=() dtype=int32, numpy=0> fn\n",
            "tracking <tf.Variable 'Variable:0' shape=() dtype=int32, numpy=0> tp\n",
            "tracking <tf.Variable 'Variable:0' shape=() dtype=int32, numpy=0> fp\n",
            "tracking <tf.Variable 'Variable:0' shape=() dtype=int32, numpy=0> tp\n",
            "tracking <tf.Variable 'Variable:0' shape=() dtype=int32, numpy=0> fn\n",
            "Model: \"sequential_3\"\n",
            "_________________________________________________________________\n",
            "Layer (type)                 Output Shape              Param #   \n",
            "=================================================================\n",
            "embedding_3 (Embedding)      (None, 28, 200)           20000000  \n",
            "_________________________________________________________________\n",
            "gru_4 (GRU)                  (None, 28, 100)           90300     \n",
            "_________________________________________________________________\n",
            "gru_5 (GRU)                  (None, 28, 100)           60300     \n",
            "_________________________________________________________________\n",
            "gru_6 (GRU)                  (None, 100)               60300     \n",
            "_________________________________________________________________\n",
            "dense_3 (Dense)              (None, 3)                 303       \n",
            "=================================================================\n",
            "Total params: 20,211,203\n",
            "Trainable params: 20,211,203\n",
            "Non-trainable params: 0\n",
            "_________________________________________________________________\n"
          ],
          "name": "stdout"
        },
        {
          "output_type": "stream",
          "text": [
            "/usr/local/lib/python3.6/dist-packages/tensorflow/python/framework/indexed_slices.py:434: UserWarning: Converting sparse IndexedSlices to a dense Tensor of unknown shape. This may consume a large amount of memory.\n",
            "  \"Converting sparse IndexedSlices to a dense Tensor of unknown shape. \"\n"
          ],
          "name": "stderr"
        },
        {
          "output_type": "stream",
          "text": [
            "Train on 44128 samples, validate on 5516 samples\n",
            "Epoch 1/5\n",
            "  192/44128 [..............................] - ETA: 9:30 - loss: 1.0872 - accuracy: 0.4062 - precision: 0.2515 - recall: 0.0517 - f1_score: 0.0844"
          ],
          "name": "stdout"
        },
        {
          "output_type": "stream",
          "text": [
            "/usr/local/lib/python3.6/dist-packages/keras/callbacks/callbacks.py:95: RuntimeWarning: Method (on_train_batch_end) is slow compared to the batch update (0.418650). Check your callbacks.\n",
            "  % (hook_name, delta_t_median), RuntimeWarning)\n"
          ],
          "name": "stderr"
        },
        {
          "output_type": "stream",
          "text": [
            "44128/44128 [==============================] - 133s 3ms/step - loss: 0.6270 - accuracy: 0.7382 - precision: 0.7236 - recall: 0.6227 - f1_score: 0.6674 - val_loss: 0.5546 - val_accuracy: 0.7763 - val_precision: 0.8180 - val_recall: 0.7688 - val_f1_score: 0.7925\n",
            "Epoch 2/5\n",
            "44128/44128 [==============================] - 128s 3ms/step - loss: 0.5014 - accuracy: 0.8011 - precision: 0.8282 - recall: 0.7897 - f1_score: 0.8085 - val_loss: 0.5050 - val_accuracy: 0.8008 - val_precision: 0.8258 - val_recall: 0.7774 - val_f1_score: 0.8007\n",
            "Epoch 3/5\n",
            "44128/44128 [==============================] - 129s 3ms/step - loss: 0.4264 - accuracy: 0.8342 - precision: 0.8614 - recall: 0.8210 - f1_score: 0.8407 - val_loss: 0.5082 - val_accuracy: 0.8040 - val_precision: 0.8967 - val_recall: 0.7082 - val_f1_score: 0.7912\n",
            "Epoch 4/5\n",
            "44128/44128 [==============================] - 129s 3ms/step - loss: 0.3543 - accuracy: 0.8658 - precision: 0.8959 - recall: 0.8611 - f1_score: 0.8782 - val_loss: 0.4958 - val_accuracy: 0.8082 - val_precision: 0.8883 - val_recall: 0.7521 - val_f1_score: 0.8145\n",
            "Epoch 5/5\n",
            "44128/44128 [==============================] - 129s 3ms/step - loss: 0.3000 - accuracy: 0.8864 - precision: 0.9180 - recall: 0.8847 - f1_score: 0.9010 - val_loss: 0.5024 - val_accuracy: 0.8093 - val_precision: 0.8909 - val_recall: 0.7429 - val_f1_score: 0.8101\n",
            "CPU times: user 22min 46s, sys: 3min 15s, total: 26min 2s\n",
            "Wall time: 10min 51s\n"
          ],
          "name": "stdout"
        }
      ]
    },
    {
      "cell_type": "code",
      "metadata": {
        "id": "a_Plk-q7vuEC",
        "outputId": "b03535c0-132c-45d0-90a1-7c587011ff32",
        "colab": {
          "base_uri": "https://localhost:8080/",
          "height": 121
        }
      },
      "source": [
        "#3 layer gru\n",
        "model_3gru.evaluate(x_test_seq, y_test)"
      ],
      "execution_count": null,
      "outputs": [
        {
          "output_type": "stream",
          "text": [
            "5516/5516 [==============================] - 3s 606us/step\n"
          ],
          "name": "stdout"
        },
        {
          "output_type": "execute_result",
          "data": {
            "text/plain": [
              "[0.4828744101472485,\n",
              " 0.8154459595680237,\n",
              " 0.8912469744682312,\n",
              " 0.7410087585449219,\n",
              " 0.8090125322341919]"
            ]
          },
          "metadata": {
            "tags": []
          },
          "execution_count": 104
        }
      ]
    },
    {
      "cell_type": "code",
      "metadata": {
        "id": "LtiLmGa2vuEE",
        "outputId": "cd880e06-080d-4b19-d65e-7456babb5413",
        "colab": {
          "base_uri": "https://localhost:8080/",
          "height": 35
        }
      },
      "source": [
        "# serialize model to JSON\n",
        "model_json = model_3gru.to_json()\n",
        "with open(\"/content/drive/My Drive/3-class/gru-3-layer/model_3gru.json\", \"w\") as json_file:\n",
        "    json_file.write(model_json)\n",
        "    \n",
        "# serialize weights to HDF5\n",
        "model_3gru.save_weights(\"/content/drive/My Drive/3-class/gru-3-layer/model_3gru.h5\")\n",
        "print(\"Saved model to disk\")"
      ],
      "execution_count": null,
      "outputs": [
        {
          "output_type": "stream",
          "text": [
            "Saved model to disk\n"
          ],
          "name": "stdout"
        }
      ]
    },
    {
      "cell_type": "code",
      "metadata": {
        "id": "QGvjYzxFvuEG",
        "outputId": "6db6152f-35b6-43cb-8f78-3705a6944548",
        "colab": {
          "base_uri": "https://localhost:8080/",
          "height": 35
        }
      },
      "source": [
        "shutil.move('/content/logs/model_3gru','/content/drive/My Drive/3-class/gru-3-layer/model_3gru')"
      ],
      "execution_count": null,
      "outputs": [
        {
          "output_type": "execute_result",
          "data": {
            "application/vnd.google.colaboratory.intrinsic+json": {
              "type": "string"
            },
            "text/plain": [
              "'/content/drive/My Drive/3-class/gru-3-layer/model_3gru'"
            ]
          },
          "metadata": {
            "tags": []
          },
          "execution_count": 106
        }
      ]
    },
    {
      "cell_type": "markdown",
      "metadata": {
        "id": "zAO_IX-hwHCN"
      },
      "source": [
        "##**4 layer**"
      ]
    },
    {
      "cell_type": "code",
      "metadata": {
        "id": "ZmrD5yRiwHCP"
      },
      "source": [
        "tensorboard = TensorBoard(log_dir=\"./logs/model_4gru\")\n",
        "keras_callbacks = [tensorboard]"
      ],
      "execution_count": null,
      "outputs": []
    },
    {
      "cell_type": "code",
      "metadata": {
        "id": "m__ifjIvwHCR",
        "outputId": "7c37bd2b-e853-4c86-c3c5-7d27c2613b50",
        "colab": {
          "base_uri": "https://localhost:8080/",
          "height": 817
        }
      },
      "source": [
        "%%time\n",
        "\n",
        "model_4gru = Sequential()\n",
        "e = Embedding(100000, 200, weights=[embedding_matrix], input_length=tweetlen\n",
        "              , trainable=True)\n",
        "model_4gru.add(e)\n",
        "model_4gru.add(keras.layers.GRU(100, dropout=0.2, return_sequences=True))\n",
        "model_4gru.add(keras.layers.GRU(100, dropout=0.2, return_sequences=True))\n",
        "model_4gru.add(keras.layers.GRU(100, dropout=0.2, return_sequences=True))\n",
        "model_4gru.add(keras.layers.GRU(100, dropout=0.2))\n",
        "model_4gru.add(Dense(3, activation='softmax'))\n",
        "#optimizers=Adam(lr=0.001,momentum=0.9, clipnorm=1.0)\n",
        "model_4gru.compile(loss='categorical_crossentropy', optimizer='adam',\n",
        "                  metrics=['accuracy', keras_metrics.precision(), \n",
        "                           keras_metrics.recall(), keras_metrics.f1_score()])\n",
        "model_4gru.summary()\n",
        "model_4gru.fit(x_train_seq, y_train, \n",
        "          validation_data=(x_val_seq, y_validation),\n",
        "          epochs=5, batch_size=64, callbacks=keras_callbacks)"
      ],
      "execution_count": null,
      "outputs": [
        {
          "output_type": "stream",
          "text": [
            "tracking <tf.Variable 'Variable:0' shape=() dtype=int32, numpy=0> tp\n",
            "tracking <tf.Variable 'Variable:0' shape=() dtype=int32, numpy=0> fp\n",
            "tracking <tf.Variable 'Variable:0' shape=() dtype=int32, numpy=0> tp\n",
            "tracking <tf.Variable 'Variable:0' shape=() dtype=int32, numpy=0> fn\n",
            "tracking <tf.Variable 'Variable:0' shape=() dtype=int32, numpy=0> tp\n",
            "tracking <tf.Variable 'Variable:0' shape=() dtype=int32, numpy=0> fp\n",
            "tracking <tf.Variable 'Variable:0' shape=() dtype=int32, numpy=0> tp\n",
            "tracking <tf.Variable 'Variable:0' shape=() dtype=int32, numpy=0> fn\n",
            "Model: \"sequential_4\"\n",
            "_________________________________________________________________\n",
            "Layer (type)                 Output Shape              Param #   \n",
            "=================================================================\n",
            "embedding_4 (Embedding)      (None, 28, 200)           20000000  \n",
            "_________________________________________________________________\n",
            "gru_7 (GRU)                  (None, 28, 100)           90300     \n",
            "_________________________________________________________________\n",
            "gru_8 (GRU)                  (None, 28, 100)           60300     \n",
            "_________________________________________________________________\n",
            "gru_9 (GRU)                  (None, 28, 100)           60300     \n",
            "_________________________________________________________________\n",
            "gru_10 (GRU)                 (None, 100)               60300     \n",
            "_________________________________________________________________\n",
            "dense_4 (Dense)              (None, 3)                 303       \n",
            "=================================================================\n",
            "Total params: 20,271,503\n",
            "Trainable params: 20,271,503\n",
            "Non-trainable params: 0\n",
            "_________________________________________________________________\n"
          ],
          "name": "stdout"
        },
        {
          "output_type": "stream",
          "text": [
            "/usr/local/lib/python3.6/dist-packages/tensorflow/python/framework/indexed_slices.py:434: UserWarning: Converting sparse IndexedSlices to a dense Tensor of unknown shape. This may consume a large amount of memory.\n",
            "  \"Converting sparse IndexedSlices to a dense Tensor of unknown shape. \"\n"
          ],
          "name": "stderr"
        },
        {
          "output_type": "stream",
          "text": [
            "Train on 44128 samples, validate on 5516 samples\n",
            "Epoch 1/5\n",
            "  128/44128 [..............................] - ETA: 11:00 - loss: 1.0897 - accuracy: 0.3906 - precision: 0.0000e+00 - recall: 0.0000e+00 - f1_score: 0.0000e+00"
          ],
          "name": "stdout"
        },
        {
          "output_type": "stream",
          "text": [
            "/usr/local/lib/python3.6/dist-packages/keras/callbacks/callbacks.py:95: RuntimeWarning: Method (on_train_batch_end) is slow compared to the batch update (0.584729). Check your callbacks.\n",
            "  % (hook_name, delta_t_median), RuntimeWarning)\n"
          ],
          "name": "stderr"
        },
        {
          "output_type": "stream",
          "text": [
            "44128/44128 [==============================] - 171s 4ms/step - loss: 0.6304 - accuracy: 0.7397 - precision: 0.7354 - recall: 0.6259 - f1_score: 0.6724 - val_loss: 0.5455 - val_accuracy: 0.7839 - val_precision: 0.8552 - val_recall: 0.7363 - val_f1_score: 0.7912\n",
            "Epoch 2/5\n",
            "44128/44128 [==============================] - 168s 4ms/step - loss: 0.5054 - accuracy: 0.7994 - precision: 0.8230 - recall: 0.7837 - f1_score: 0.8029 - val_loss: 0.5249 - val_accuracy: 0.7959 - val_precision: 0.8678 - val_recall: 0.7360 - val_f1_score: 0.7964\n",
            "Epoch 3/5\n",
            "44128/44128 [==============================] - 168s 4ms/step - loss: 0.4328 - accuracy: 0.8324 - precision: 0.8694 - recall: 0.8231 - f1_score: 0.8456 - val_loss: 0.5078 - val_accuracy: 0.7997 - val_precision: 0.9144 - val_recall: 0.6802 - val_f1_score: 0.7800\n",
            "Epoch 4/5\n",
            "44128/44128 [==============================] - 168s 4ms/step - loss: 0.3606 - accuracy: 0.8631 - precision: 0.8938 - recall: 0.8577 - f1_score: 0.8753 - val_loss: 0.5267 - val_accuracy: 0.8067 - val_precision: 0.8963 - val_recall: 0.7290 - val_f1_score: 0.8040\n",
            "Epoch 5/5\n",
            "44128/44128 [==============================] - 168s 4ms/step - loss: 0.3057 - accuracy: 0.8846 - precision: 0.9173 - recall: 0.8756 - f1_score: 0.8959 - val_loss: 0.4959 - val_accuracy: 0.8067 - val_precision: 0.8649 - val_recall: 0.7686 - val_f1_score: 0.8139\n",
            "CPU times: user 29min 58s, sys: 4min 12s, total: 34min 11s\n",
            "Wall time: 14min 7s\n"
          ],
          "name": "stdout"
        }
      ]
    },
    {
      "cell_type": "code",
      "metadata": {
        "id": "OPeZ8d_xwHCT",
        "outputId": "42666a08-566e-481c-9f4b-aa23da7d9c2d",
        "colab": {
          "base_uri": "https://localhost:8080/",
          "height": 121
        }
      },
      "source": [
        "#4 layer gru\n",
        "model_4gru.evaluate(x_test_seq, y_test)"
      ],
      "execution_count": null,
      "outputs": [
        {
          "output_type": "stream",
          "text": [
            "5516/5516 [==============================] - 4s 757us/step\n"
          ],
          "name": "stdout"
        },
        {
          "output_type": "execute_result",
          "data": {
            "text/plain": [
              "[0.47373916073671885,\n",
              " 0.8179840445518494,\n",
              " 0.8769240975379944,\n",
              " 0.7816586494445801,\n",
              " 0.8264801502227783]"
            ]
          },
          "metadata": {
            "tags": []
          },
          "execution_count": 109
        }
      ]
    },
    {
      "cell_type": "code",
      "metadata": {
        "id": "d2ec3RSEwHCV",
        "outputId": "e7384b77-31f9-434d-8d76-fa2f252e12d1",
        "colab": {
          "base_uri": "https://localhost:8080/",
          "height": 35
        }
      },
      "source": [
        "# serialize model to JSON\n",
        "model_json = model_4gru.to_json()\n",
        "with open(\"/content/drive/My Drive/3-class/gru-4-layer/model_4gru.json\", \"w\") as json_file:\n",
        "    json_file.write(model_json)\n",
        "    \n",
        "# serialize weights to HDF5\n",
        "model_4gru.save_weights(\"/content/drive/My Drive/3-class/gru-4-layer/model_4gru.h5\")\n",
        "print(\"Saved model to disk\")"
      ],
      "execution_count": null,
      "outputs": [
        {
          "output_type": "stream",
          "text": [
            "Saved model to disk\n"
          ],
          "name": "stdout"
        }
      ]
    },
    {
      "cell_type": "code",
      "metadata": {
        "id": "GdWLUltewHCW",
        "outputId": "3c3689d6-c316-42e1-89d5-1605a3b36a5f",
        "colab": {
          "base_uri": "https://localhost:8080/",
          "height": 35
        }
      },
      "source": [
        "shutil.move('/content/logs/model_4gru','/content/drive/My Drive/3-class/gru-4-layer/model_4gru')"
      ],
      "execution_count": null,
      "outputs": [
        {
          "output_type": "execute_result",
          "data": {
            "application/vnd.google.colaboratory.intrinsic+json": {
              "type": "string"
            },
            "text/plain": [
              "'/content/drive/My Drive/3-class/gru-4-layer/model_4gru'"
            ]
          },
          "metadata": {
            "tags": []
          },
          "execution_count": 111
        }
      ]
    },
    {
      "cell_type": "markdown",
      "metadata": {
        "id": "UCICoSGVS5ZO"
      },
      "source": [
        "##**5 layer**"
      ]
    },
    {
      "cell_type": "code",
      "metadata": {
        "id": "EVCeYUrvS5ZQ"
      },
      "source": [
        "tensorboard = TensorBoard(log_dir=\"./logs/model_5gru\")\n",
        "keras_callbacks = [tensorboard]"
      ],
      "execution_count": null,
      "outputs": []
    },
    {
      "cell_type": "code",
      "metadata": {
        "id": "Zvl9yaueS5ZT",
        "outputId": "fc847fcf-a07a-4908-b355-c327849d3778",
        "colab": {
          "base_uri": "https://localhost:8080/",
          "height": 852
        }
      },
      "source": [
        "%%time\n",
        "\n",
        "model_5gru = Sequential()\n",
        "e = Embedding(100000, 200, weights=[embedding_matrix], input_length=tweetlen\n",
        "              , trainable=True)\n",
        "model_5gru.add(e)\n",
        "model_5gru.add(keras.layers.GRU(100, dropout=0.2, return_sequences=True))\n",
        "model_5gru.add(keras.layers.GRU(100, dropout=0.2, return_sequences=True))\n",
        "model_5gru.add(keras.layers.GRU(100, dropout=0.2, return_sequences=True))\n",
        "model_5gru.add(keras.layers.GRU(100, dropout=0.2, return_sequences=True))\n",
        "model_5gru.add(keras.layers.GRU(100, dropout=0.2))\n",
        "model_5gru.add(Dense(3, activation='softmax'))\n",
        "#optimizers=Adam(lr=0.001,momentum=0.9, clipnorm=1.0)\n",
        "model_5gru.compile(loss='categorical_crossentropy', optimizer='adam',\n",
        "                  metrics=['accuracy', keras_metrics.precision(), \n",
        "                           keras_metrics.recall(), keras_metrics.f1_score()])\n",
        "model_5gru.summary()\n",
        "model_5gru.fit(x_train_seq, y_train, \n",
        "          validation_data=(x_val_seq, y_validation),\n",
        "          epochs=5, batch_size=64, callbacks=keras_callbacks)"
      ],
      "execution_count": null,
      "outputs": [
        {
          "output_type": "stream",
          "text": [
            "tracking <tf.Variable 'Variable:0' shape=() dtype=int32, numpy=0> tp\n",
            "tracking <tf.Variable 'Variable:0' shape=() dtype=int32, numpy=0> fp\n",
            "tracking <tf.Variable 'Variable:0' shape=() dtype=int32, numpy=0> tp\n",
            "tracking <tf.Variable 'Variable:0' shape=() dtype=int32, numpy=0> fn\n",
            "tracking <tf.Variable 'Variable:0' shape=() dtype=int32, numpy=0> tp\n",
            "tracking <tf.Variable 'Variable:0' shape=() dtype=int32, numpy=0> fp\n",
            "tracking <tf.Variable 'Variable:0' shape=() dtype=int32, numpy=0> tp\n",
            "tracking <tf.Variable 'Variable:0' shape=() dtype=int32, numpy=0> fn\n",
            "Model: \"sequential_5\"\n",
            "_________________________________________________________________\n",
            "Layer (type)                 Output Shape              Param #   \n",
            "=================================================================\n",
            "embedding_5 (Embedding)      (None, 28, 200)           20000000  \n",
            "_________________________________________________________________\n",
            "gru_11 (GRU)                 (None, 28, 100)           90300     \n",
            "_________________________________________________________________\n",
            "gru_12 (GRU)                 (None, 28, 100)           60300     \n",
            "_________________________________________________________________\n",
            "gru_13 (GRU)                 (None, 28, 100)           60300     \n",
            "_________________________________________________________________\n",
            "gru_14 (GRU)                 (None, 28, 100)           60300     \n",
            "_________________________________________________________________\n",
            "gru_15 (GRU)                 (None, 100)               60300     \n",
            "_________________________________________________________________\n",
            "dense_5 (Dense)              (None, 3)                 303       \n",
            "=================================================================\n",
            "Total params: 20,331,803\n",
            "Trainable params: 20,331,803\n",
            "Non-trainable params: 0\n",
            "_________________________________________________________________\n"
          ],
          "name": "stdout"
        },
        {
          "output_type": "stream",
          "text": [
            "/usr/local/lib/python3.6/dist-packages/tensorflow/python/framework/indexed_slices.py:434: UserWarning: Converting sparse IndexedSlices to a dense Tensor of unknown shape. This may consume a large amount of memory.\n",
            "  \"Converting sparse IndexedSlices to a dense Tensor of unknown shape. \"\n"
          ],
          "name": "stderr"
        },
        {
          "output_type": "stream",
          "text": [
            "Train on 44128 samples, validate on 5516 samples\n",
            "Epoch 1/5\n",
            "  128/44128 [..............................] - ETA: 14:31 - loss: 1.1189 - accuracy: 0.2969 - precision: 0.0000e+00 - recall: 0.0000e+00 - f1_score: 0.0000e+00"
          ],
          "name": "stdout"
        },
        {
          "output_type": "stream",
          "text": [
            "/usr/local/lib/python3.6/dist-packages/keras/callbacks/callbacks.py:95: RuntimeWarning: Method (on_train_batch_end) is slow compared to the batch update (0.664128). Check your callbacks.\n",
            "  % (hook_name, delta_t_median), RuntimeWarning)\n"
          ],
          "name": "stderr"
        },
        {
          "output_type": "stream",
          "text": [
            "44128/44128 [==============================] - 212s 5ms/step - loss: 0.6419 - accuracy: 0.7332 - precision: 0.7165 - recall: 0.6089 - f1_score: 0.6551 - val_loss: 0.5447 - val_accuracy: 0.7846 - val_precision: 0.8409 - val_recall: 0.7230 - val_f1_score: 0.7774\n",
            "Epoch 2/5\n",
            "44128/44128 [==============================] - 209s 5ms/step - loss: 0.5142 - accuracy: 0.7981 - precision: 0.8180 - recall: 0.7791 - f1_score: 0.7981 - val_loss: 0.5146 - val_accuracy: 0.7946 - val_precision: 0.8595 - val_recall: 0.7577 - val_f1_score: 0.8053\n",
            "Epoch 3/5\n",
            "44128/44128 [==============================] - 209s 5ms/step - loss: 0.4374 - accuracy: 0.8311 - precision: 0.8642 - recall: 0.8153 - f1_score: 0.8390 - val_loss: 0.5291 - val_accuracy: 0.8006 - val_precision: 0.9030 - val_recall: 0.6996 - val_f1_score: 0.7883\n",
            "Epoch 4/5\n",
            "44128/44128 [==============================] - 210s 5ms/step - loss: 0.3713 - accuracy: 0.8586 - precision: 0.8961 - recall: 0.8567 - f1_score: 0.8759 - val_loss: 0.4892 - val_accuracy: 0.8133 - val_precision: 0.8786 - val_recall: 0.7419 - val_f1_score: 0.8043\n",
            "Epoch 5/5\n",
            "44128/44128 [==============================] - 211s 5ms/step - loss: 0.3157 - accuracy: 0.8814 - precision: 0.9180 - recall: 0.8752 - f1_score: 0.8961 - val_loss: 0.5091 - val_accuracy: 0.8144 - val_precision: 0.8708 - val_recall: 0.7656 - val_f1_score: 0.8148\n",
            "CPU times: user 37min 18s, sys: 5min 12s, total: 42min 31s\n",
            "Wall time: 17min 35s\n"
          ],
          "name": "stdout"
        }
      ]
    },
    {
      "cell_type": "code",
      "metadata": {
        "id": "l-8uZmswS5ZW",
        "outputId": "0f9578ce-17d5-43f1-e0c6-d94030465354",
        "colab": {
          "base_uri": "https://localhost:8080/",
          "height": 121
        }
      },
      "source": [
        "#5 layer gru\n",
        "model_5gru.evaluate(x_test_seq, y_test)"
      ],
      "execution_count": null,
      "outputs": [
        {
          "output_type": "stream",
          "text": [
            "5516/5516 [==============================] - 5s 990us/step\n"
          ],
          "name": "stdout"
        },
        {
          "output_type": "execute_result",
          "data": {
            "text/plain": [
              "[0.48430013881376294,\n",
              " 0.8196156620979309,\n",
              " 0.8946077823638916,\n",
              " 0.7610257267951965,\n",
              " 0.8222148418426514]"
            ]
          },
          "metadata": {
            "tags": []
          },
          "execution_count": 114
        }
      ]
    },
    {
      "cell_type": "code",
      "metadata": {
        "id": "5zDJyT0LS5Za",
        "outputId": "ddadf163-9ca1-48ee-bcd0-67d3124c3191",
        "colab": {
          "base_uri": "https://localhost:8080/",
          "height": 35
        }
      },
      "source": [
        "# serialize model to JSON\n",
        "model_json = model_5gru.to_json()\n",
        "with open(\"/content/drive/My Drive/3-class/gru-5-layer/model_5gru.json\", \"w\") as json_file:\n",
        "    json_file.write(model_json)\n",
        "    \n",
        "# serialize weights to HDF5\n",
        "model_5gru.save_weights(\"/content/drive/My Drive/3-class/gru-5-layer/model_5gru.h5\")\n",
        "print(\"Saved model to disk\")"
      ],
      "execution_count": null,
      "outputs": [
        {
          "output_type": "stream",
          "text": [
            "Saved model to disk\n"
          ],
          "name": "stdout"
        }
      ]
    },
    {
      "cell_type": "code",
      "metadata": {
        "id": "d3AWNlIiS5Zc",
        "outputId": "81459762-9fa5-4815-90e9-32aaaf2fbbdd",
        "colab": {
          "base_uri": "https://localhost:8080/",
          "height": 35
        }
      },
      "source": [
        "shutil.move('/content/logs/model_5gru','/content/drive/My Drive/3-class/gru-5-layer/model_5gru')"
      ],
      "execution_count": null,
      "outputs": [
        {
          "output_type": "execute_result",
          "data": {
            "application/vnd.google.colaboratory.intrinsic+json": {
              "type": "string"
            },
            "text/plain": [
              "'/content/drive/My Drive/3-class/gru-5-layer/model_5gru'"
            ]
          },
          "metadata": {
            "tags": []
          },
          "execution_count": 116
        }
      ]
    },
    {
      "cell_type": "markdown",
      "metadata": {
        "id": "KiVPaH_MuE_0"
      },
      "source": [
        "##**6 layer**"
      ]
    },
    {
      "cell_type": "code",
      "metadata": {
        "id": "9t0ndYC2uE_1"
      },
      "source": [
        "tensorboard = TensorBoard(log_dir=\"./logs/model_6gru\")\n",
        "keras_callbacks = [tensorboard]"
      ],
      "execution_count": null,
      "outputs": []
    },
    {
      "cell_type": "code",
      "metadata": {
        "id": "8aUl2ITIuE_4",
        "outputId": "10adf7b9-d5c8-492f-d4f2-b4cdee1a34ff",
        "colab": {
          "base_uri": "https://localhost:8080/",
          "height": 887
        }
      },
      "source": [
        "%%time\n",
        "\n",
        "model_6gru = Sequential()\n",
        "e = Embedding(100000, 200, weights=[embedding_matrix], input_length=tweetlen\n",
        "              , trainable=True)\n",
        "model_6gru.add(e)\n",
        "model_6gru.add(keras.layers.GRU(100, dropout=0.2, return_sequences=True))\n",
        "model_6gru.add(keras.layers.GRU(100, dropout=0.2, return_sequences=True))\n",
        "model_6gru.add(keras.layers.GRU(100, dropout=0.2, return_sequences=True))\n",
        "model_6gru.add(keras.layers.GRU(100, dropout=0.2, return_sequences=True))\n",
        "model_6gru.add(keras.layers.GRU(100, dropout=0.2, return_sequences=True))\n",
        "model_6gru.add(keras.layers.GRU(100, dropout=0.2))\n",
        "model_6gru.add(Dense(3, activation='softmax'))\n",
        "#optimizers=Adam(lr=0.001,momentum=0.9, clipnorm=1.0)\n",
        "model_6gru.compile(loss='categorical_crossentropy', optimizer='adam',\n",
        "                  metrics=['accuracy', keras_metrics.precision(), \n",
        "                           keras_metrics.recall(), keras_metrics.f1_score()])\n",
        "model_6gru.summary()\n",
        "model_6gru.fit(x_train_seq, y_train, \n",
        "          validation_data=(x_val_seq, y_validation),\n",
        "          epochs=5, batch_size=64, callbacks=keras_callbacks)"
      ],
      "execution_count": null,
      "outputs": [
        {
          "output_type": "stream",
          "text": [
            "tracking <tf.Variable 'Variable:0' shape=() dtype=int32, numpy=0> tp\n",
            "tracking <tf.Variable 'Variable:0' shape=() dtype=int32, numpy=0> fp\n",
            "tracking <tf.Variable 'Variable:0' shape=() dtype=int32, numpy=0> tp\n",
            "tracking <tf.Variable 'Variable:0' shape=() dtype=int32, numpy=0> fn\n",
            "tracking <tf.Variable 'Variable:0' shape=() dtype=int32, numpy=0> tp\n",
            "tracking <tf.Variable 'Variable:0' shape=() dtype=int32, numpy=0> fp\n",
            "tracking <tf.Variable 'Variable:0' shape=() dtype=int32, numpy=0> tp\n",
            "tracking <tf.Variable 'Variable:0' shape=() dtype=int32, numpy=0> fn\n",
            "Model: \"sequential_6\"\n",
            "_________________________________________________________________\n",
            "Layer (type)                 Output Shape              Param #   \n",
            "=================================================================\n",
            "embedding_6 (Embedding)      (None, 28, 200)           20000000  \n",
            "_________________________________________________________________\n",
            "gru_16 (GRU)                 (None, 28, 100)           90300     \n",
            "_________________________________________________________________\n",
            "gru_17 (GRU)                 (None, 28, 100)           60300     \n",
            "_________________________________________________________________\n",
            "gru_18 (GRU)                 (None, 28, 100)           60300     \n",
            "_________________________________________________________________\n",
            "gru_19 (GRU)                 (None, 28, 100)           60300     \n",
            "_________________________________________________________________\n",
            "gru_20 (GRU)                 (None, 28, 100)           60300     \n",
            "_________________________________________________________________\n",
            "gru_21 (GRU)                 (None, 100)               60300     \n",
            "_________________________________________________________________\n",
            "dense_6 (Dense)              (None, 3)                 303       \n",
            "=================================================================\n",
            "Total params: 20,392,103\n",
            "Trainable params: 20,392,103\n",
            "Non-trainable params: 0\n",
            "_________________________________________________________________\n"
          ],
          "name": "stdout"
        },
        {
          "output_type": "stream",
          "text": [
            "/usr/local/lib/python3.6/dist-packages/tensorflow/python/framework/indexed_slices.py:434: UserWarning: Converting sparse IndexedSlices to a dense Tensor of unknown shape. This may consume a large amount of memory.\n",
            "  \"Converting sparse IndexedSlices to a dense Tensor of unknown shape. \"\n"
          ],
          "name": "stderr"
        },
        {
          "output_type": "stream",
          "text": [
            "Train on 44128 samples, validate on 5516 samples\n",
            "Epoch 1/5\n",
            "  128/44128 [..............................] - ETA: 17:59 - loss: 1.1045 - accuracy: 0.3906 - precision: 0.0000e+00 - recall: 0.0000e+00 - f1_score: 0.0000e+00"
          ],
          "name": "stdout"
        },
        {
          "output_type": "stream",
          "text": [
            "/usr/local/lib/python3.6/dist-packages/keras/callbacks/callbacks.py:95: RuntimeWarning: Method (on_train_batch_end) is slow compared to the batch update (0.835163). Check your callbacks.\n",
            "  % (hook_name, delta_t_median), RuntimeWarning)\n"
          ],
          "name": "stderr"
        },
        {
          "output_type": "stream",
          "text": [
            "44128/44128 [==============================] - 257s 6ms/step - loss: 0.6516 - accuracy: 0.7311 - precision: 0.7223 - recall: 0.5884 - f1_score: 0.6423 - val_loss: 0.5602 - val_accuracy: 0.7812 - val_precision: 0.8910 - val_recall: 0.6844 - val_f1_score: 0.7740\n",
            "Epoch 2/5\n",
            "44128/44128 [==============================] - 252s 6ms/step - loss: 0.5180 - accuracy: 0.7970 - precision: 0.8275 - recall: 0.7843 - f1_score: 0.8053 - val_loss: 0.5627 - val_accuracy: 0.7928 - val_precision: 0.8939 - val_recall: 0.7099 - val_f1_score: 0.7913\n",
            "Epoch 3/5\n",
            "44128/44128 [==============================] - 252s 6ms/step - loss: 0.4480 - accuracy: 0.8285 - precision: 0.8597 - recall: 0.8139 - f1_score: 0.8361 - val_loss: 0.5106 - val_accuracy: 0.7951 - val_precision: 0.9102 - val_recall: 0.6919 - val_f1_score: 0.7860\n",
            "Epoch 4/5\n",
            "44128/44128 [==============================] - 251s 6ms/step - loss: 0.3844 - accuracy: 0.8566 - precision: 0.8869 - recall: 0.8483 - f1_score: 0.8671 - val_loss: 0.5034 - val_accuracy: 0.8071 - val_precision: 0.8828 - val_recall: 0.7463 - val_f1_score: 0.8087\n",
            "Epoch 5/5\n",
            "44128/44128 [==============================] - 250s 6ms/step - loss: 0.3289 - accuracy: 0.8788 - precision: 0.9172 - recall: 0.8716 - f1_score: 0.8938 - val_loss: 0.5130 - val_accuracy: 0.8071 - val_precision: 0.8521 - val_recall: 0.7914 - val_f1_score: 0.8205\n",
            "CPU times: user 44min 56s, sys: 6min 12s, total: 51min 8s\n",
            "Wall time: 21min 8s\n"
          ],
          "name": "stdout"
        }
      ]
    },
    {
      "cell_type": "code",
      "metadata": {
        "id": "CdjaUOrGuE_9",
        "outputId": "5b23e001-c155-459c-85ef-93c4b4be8b8d",
        "colab": {
          "base_uri": "https://localhost:8080/",
          "height": 121
        }
      },
      "source": [
        "#6 layer gru\n",
        "model_6gru.evaluate(x_test_seq, y_test)"
      ],
      "execution_count": null,
      "outputs": [
        {
          "output_type": "stream",
          "text": [
            "5516/5516 [==============================] - 6s 1ms/step\n"
          ],
          "name": "stdout"
        },
        {
          "output_type": "execute_result",
          "data": {
            "text/plain": [
              "[0.4773360592805449,\n",
              " 0.8208847045898438,\n",
              " 0.8632632493972778,\n",
              " 0.7870810031890869,\n",
              " 0.8233022689819336]"
            ]
          },
          "metadata": {
            "tags": []
          },
          "execution_count": 119
        }
      ]
    },
    {
      "cell_type": "code",
      "metadata": {
        "id": "9tF-xu4FuE__",
        "outputId": "add12ba2-1e6f-44a3-d164-1e7f777212ff",
        "colab": {
          "base_uri": "https://localhost:8080/",
          "height": 35
        }
      },
      "source": [
        "# serialize model to JSON\n",
        "model_json = model_6gru.to_json()\n",
        "with open(\"/content/drive/My Drive/3-class/gru-6-layer/model_6gru.json\", \"w\") as json_file:\n",
        "    json_file.write(model_json)\n",
        "    \n",
        "# serialize weights to HDF5\n",
        "model_6gru.save_weights(\"/content/drive/My Drive/3-class/gru-6-layer/model_6gru.h5\")\n",
        "print(\"Saved model to disk\")"
      ],
      "execution_count": null,
      "outputs": [
        {
          "output_type": "stream",
          "text": [
            "Saved model to disk\n"
          ],
          "name": "stdout"
        }
      ]
    },
    {
      "cell_type": "code",
      "metadata": {
        "id": "tVtslldWuFAC",
        "outputId": "50b45d47-83a9-48a9-e34e-b2bc27c1c6e4",
        "colab": {
          "base_uri": "https://localhost:8080/",
          "height": 35
        }
      },
      "source": [
        "shutil.move('/content/logs/model_6gru','/content/drive/My Drive/3-class/gru-6-layer/model_6gru')"
      ],
      "execution_count": null,
      "outputs": [
        {
          "output_type": "execute_result",
          "data": {
            "application/vnd.google.colaboratory.intrinsic+json": {
              "type": "string"
            },
            "text/plain": [
              "'/content/drive/My Drive/3-class/gru-6-layer/model_6gru'"
            ]
          },
          "metadata": {
            "tags": []
          },
          "execution_count": 121
        }
      ]
    },
    {
      "cell_type": "markdown",
      "metadata": {
        "id": "4HGuhvZIyuK-"
      },
      "source": [
        "##**7 layer**"
      ]
    },
    {
      "cell_type": "code",
      "metadata": {
        "id": "uz2xdvoIyuK_"
      },
      "source": [
        "tensorboard = TensorBoard(log_dir=\"./logs/model_7gru\")\n",
        "keras_callbacks = [tensorboard]"
      ],
      "execution_count": null,
      "outputs": []
    },
    {
      "cell_type": "code",
      "metadata": {
        "id": "oFrRH2jhyuLC",
        "outputId": "252373fa-66f1-43a5-c246-9b4be1767313",
        "colab": {
          "base_uri": "https://localhost:8080/",
          "height": 921
        }
      },
      "source": [
        "%%time\n",
        "\n",
        "model_7gru = Sequential()\n",
        "e = Embedding(100000, 200, weights=[embedding_matrix], input_length=tweetlen\n",
        "              , trainable=True)\n",
        "model_7gru.add(e)\n",
        "model_7gru.add(keras.layers.GRU(100, dropout=0.2, return_sequences=True))\n",
        "model_7gru.add(keras.layers.GRU(100, dropout=0.2, return_sequences=True))\n",
        "model_7gru.add(keras.layers.GRU(100, dropout=0.2, return_sequences=True))\n",
        "model_7gru.add(keras.layers.GRU(100, dropout=0.2, return_sequences=True))\n",
        "model_7gru.add(keras.layers.GRU(100, dropout=0.2, return_sequences=True))\n",
        "model_7gru.add(keras.layers.GRU(100, dropout=0.2, return_sequences=True))\n",
        "model_7gru.add(keras.layers.GRU(100, dropout=0.2))\n",
        "model_7gru.add(Dense(3, activation='softmax'))\n",
        "#optimizers=Adam(lr=0.001,momentum=0.9, clipnorm=1.0)\n",
        "model_7gru.compile(loss='categorical_crossentropy', optimizer='adam',\n",
        "                  metrics=['accuracy', keras_metrics.precision(), \n",
        "                           keras_metrics.recall(), keras_metrics.f1_score()])\n",
        "model_7gru.summary()\n",
        "model_7gru.fit(x_train_seq, y_train, \n",
        "          validation_data=(x_val_seq, y_validation),\n",
        "          epochs=5, batch_size=64, callbacks=keras_callbacks)"
      ],
      "execution_count": null,
      "outputs": [
        {
          "output_type": "stream",
          "text": [
            "tracking <tf.Variable 'Variable:0' shape=() dtype=int32, numpy=0> tp\n",
            "tracking <tf.Variable 'Variable:0' shape=() dtype=int32, numpy=0> fp\n",
            "tracking <tf.Variable 'Variable:0' shape=() dtype=int32, numpy=0> tp\n",
            "tracking <tf.Variable 'Variable:0' shape=() dtype=int32, numpy=0> fn\n",
            "tracking <tf.Variable 'Variable:0' shape=() dtype=int32, numpy=0> tp\n",
            "tracking <tf.Variable 'Variable:0' shape=() dtype=int32, numpy=0> fp\n",
            "tracking <tf.Variable 'Variable:0' shape=() dtype=int32, numpy=0> tp\n",
            "tracking <tf.Variable 'Variable:0' shape=() dtype=int32, numpy=0> fn\n",
            "Model: \"sequential_7\"\n",
            "_________________________________________________________________\n",
            "Layer (type)                 Output Shape              Param #   \n",
            "=================================================================\n",
            "embedding_7 (Embedding)      (None, 28, 200)           20000000  \n",
            "_________________________________________________________________\n",
            "gru_22 (GRU)                 (None, 28, 100)           90300     \n",
            "_________________________________________________________________\n",
            "gru_23 (GRU)                 (None, 28, 100)           60300     \n",
            "_________________________________________________________________\n",
            "gru_24 (GRU)                 (None, 28, 100)           60300     \n",
            "_________________________________________________________________\n",
            "gru_25 (GRU)                 (None, 28, 100)           60300     \n",
            "_________________________________________________________________\n",
            "gru_26 (GRU)                 (None, 28, 100)           60300     \n",
            "_________________________________________________________________\n",
            "gru_27 (GRU)                 (None, 28, 100)           60300     \n",
            "_________________________________________________________________\n",
            "gru_28 (GRU)                 (None, 100)               60300     \n",
            "_________________________________________________________________\n",
            "dense_7 (Dense)              (None, 3)                 303       \n",
            "=================================================================\n",
            "Total params: 20,452,403\n",
            "Trainable params: 20,452,403\n",
            "Non-trainable params: 0\n",
            "_________________________________________________________________\n"
          ],
          "name": "stdout"
        },
        {
          "output_type": "stream",
          "text": [
            "/usr/local/lib/python3.6/dist-packages/tensorflow/python/framework/indexed_slices.py:434: UserWarning: Converting sparse IndexedSlices to a dense Tensor of unknown shape. This may consume a large amount of memory.\n",
            "  \"Converting sparse IndexedSlices to a dense Tensor of unknown shape. \"\n"
          ],
          "name": "stderr"
        },
        {
          "output_type": "stream",
          "text": [
            "Train on 44128 samples, validate on 5516 samples\n",
            "Epoch 1/5\n",
            "  128/44128 [..............................] - ETA: 19:47 - loss: 1.1152 - accuracy: 0.2344 - precision: 0.0000e+00 - recall: 0.0000e+00 - f1_score: 0.0000e+00"
          ],
          "name": "stdout"
        },
        {
          "output_type": "stream",
          "text": [
            "/usr/local/lib/python3.6/dist-packages/keras/callbacks/callbacks.py:95: RuntimeWarning: Method (on_train_batch_end) is slow compared to the batch update (0.971545). Check your callbacks.\n",
            "  % (hook_name, delta_t_median), RuntimeWarning)\n"
          ],
          "name": "stderr"
        },
        {
          "output_type": "stream",
          "text": [
            "44128/44128 [==============================] - 295s 7ms/step - loss: 0.6609 - accuracy: 0.7276 - precision: 0.7221 - recall: 0.6076 - f1_score: 0.6565 - val_loss: 0.5580 - val_accuracy: 0.7808 - val_precision: 0.8755 - val_recall: 0.6844 - val_f1_score: 0.7681\n",
            "Epoch 2/5\n",
            "44128/44128 [==============================] - 291s 7ms/step - loss: 0.5237 - accuracy: 0.7953 - precision: 0.8263 - recall: 0.7772 - f1_score: 0.8009 - val_loss: 0.5236 - val_accuracy: 0.7991 - val_precision: 0.8750 - val_recall: 0.7251 - val_f1_score: 0.7929\n",
            "Epoch 3/5\n",
            "44128/44128 [==============================] - 292s 7ms/step - loss: 0.4533 - accuracy: 0.8270 - precision: 0.8542 - recall: 0.8177 - f1_score: 0.8355 - val_loss: 0.5183 - val_accuracy: 0.7988 - val_precision: 0.8915 - val_recall: 0.7156 - val_f1_score: 0.7938\n",
            "Epoch 4/5\n",
            "44128/44128 [==============================] - 294s 7ms/step - loss: 0.3794 - accuracy: 0.8605 - precision: 0.8962 - recall: 0.8526 - f1_score: 0.8738 - val_loss: 0.5134 - val_accuracy: 0.8046 - val_precision: 0.8515 - val_recall: 0.7651 - val_f1_score: 0.8059\n",
            "Epoch 5/5\n",
            "44128/44128 [==============================] - 294s 7ms/step - loss: 0.3296 - accuracy: 0.8785 - precision: 0.9131 - recall: 0.8702 - f1_score: 0.8912 - val_loss: 0.5240 - val_accuracy: 0.8100 - val_precision: 0.8734 - val_recall: 0.7548 - val_f1_score: 0.8097\n",
            "CPU times: user 52min 18s, sys: 7min 12s, total: 59min 31s\n",
            "Wall time: 24min 32s\n"
          ],
          "name": "stdout"
        }
      ]
    },
    {
      "cell_type": "code",
      "metadata": {
        "id": "GLsR3kT6yuLF",
        "outputId": "ef553d0b-9c4e-4805-ca26-255b3a3f25c5",
        "colab": {
          "base_uri": "https://localhost:8080/",
          "height": 121
        }
      },
      "source": [
        "#7 layer gru\n",
        "model_7gru.evaluate(x_test_seq, y_test)"
      ],
      "execution_count": null,
      "outputs": [
        {
          "output_type": "stream",
          "text": [
            "5516/5516 [==============================] - 7s 1ms/step\n"
          ],
          "name": "stdout"
        },
        {
          "output_type": "execute_result",
          "data": {
            "text/plain": [
              "[0.5163614454478609,\n",
              " 0.8134517669677734,\n",
              " 0.8824370503425598,\n",
              " 0.7495964765548706,\n",
              " 0.810487687587738]"
            ]
          },
          "metadata": {
            "tags": []
          },
          "execution_count": 124
        }
      ]
    },
    {
      "cell_type": "code",
      "metadata": {
        "id": "olbPMnMkyuLH",
        "outputId": "1156a54e-f210-4781-cc6b-6ea479a28b3f",
        "colab": {
          "base_uri": "https://localhost:8080/",
          "height": 35
        }
      },
      "source": [
        "# serialize model to JSON\n",
        "model_json = model_7gru.to_json()\n",
        "with open(\"/content/drive/My Drive/3-class/gru-7-layer/model_7gru.json\", \"w\") as json_file:\n",
        "    json_file.write(model_json)\n",
        "    \n",
        "# serialize weights to HDF5\n",
        "model_7gru.save_weights(\"/content/drive/My Drive/3-class/gru-7-layer/model_7gru.h5\")\n",
        "print(\"Saved model to disk\")"
      ],
      "execution_count": null,
      "outputs": [
        {
          "output_type": "stream",
          "text": [
            "Saved model to disk\n"
          ],
          "name": "stdout"
        }
      ]
    },
    {
      "cell_type": "code",
      "metadata": {
        "id": "Mg56m1ltyuLJ",
        "outputId": "451fee28-196a-49bc-ca5c-8d5718ff758c",
        "colab": {
          "base_uri": "https://localhost:8080/",
          "height": 35
        }
      },
      "source": [
        "shutil.move('/content/logs/model_7gru','/content/drive/My Drive/3-class/gru-7-layer/model_7gru')"
      ],
      "execution_count": null,
      "outputs": [
        {
          "output_type": "execute_result",
          "data": {
            "application/vnd.google.colaboratory.intrinsic+json": {
              "type": "string"
            },
            "text/plain": [
              "'/content/drive/My Drive/3-class/gru-7-layer/model_7gru'"
            ]
          },
          "metadata": {
            "tags": []
          },
          "execution_count": 126
        }
      ]
    },
    {
      "cell_type": "markdown",
      "metadata": {
        "id": "TVONVJSan40W"
      },
      "source": [
        "#**Save model**"
      ]
    },
    {
      "cell_type": "code",
      "metadata": {
        "id": "kudiClX3n40s"
      },
      "source": [
        "l = x_test_original.to_list()\n",
        "pred = model_6gru.predict_classes(x_test_seq)"
      ],
      "execution_count": null,
      "outputs": []
    },
    {
      "cell_type": "code",
      "metadata": {
        "id": "ovRz6l-Fn40t",
        "outputId": "f1aabf5b-2ba7-455f-d86b-de17747c68f1",
        "colab": {
          "base_uri": "https://localhost:8080/"
        }
      },
      "source": [
        "new = [] \n",
        "for ele in l: \n",
        "  x = [] \n",
        "  x.append(l[l.index(ele)]) \n",
        "  x.append(pred[l.index(ele)]) \n",
        "  new.append(x)  \n",
        "print(new[0:5])\n"
      ],
      "execution_count": null,
      "outputs": [
        {
          "output_type": "stream",
          "text": [
            "[['ايش هالنباح الهلال التعاون', 2], ['الف مبروك عشاق الزعيم البطوله ولا للمجد بقيه الهلال يعني ان اكثر واكثر ان تفرح اكثر واكثر', 1], ['اخبار اعتقالات بسلوفاكيا علي خلفيه هجمات باريس القت السلطات السلوفاكيه القبض علي الجزيره', 2], ['مشكله برشلونه ان شقوك وان هاجمت جلدوك وان لعبت جننونك يا اخوان هذا اللعين خرشنا الحمدلله ماهو معه', 0], ['الحمدلله حتي ترضي الحمدلله بعد الرضي الحمدلله اذا رضيت الف مبروك شعب العالمي اداا ومستوي النصر الاتحاد', 1]]\n"
          ],
          "name": "stdout"
        }
      ]
    },
    {
      "cell_type": "code",
      "metadata": {
        "id": "gzgA7Yjqn40v",
        "outputId": "64c0c4f6-5ae4-48fd-f8ed-4792145bdcb3",
        "colab": {
          "base_uri": "https://localhost:8080/"
        }
      },
      "source": [
        "df = pd.DataFrame(new, columns=['Testing Data','Predicted Labels'])  \n",
        "df.head()"
      ],
      "execution_count": null,
      "outputs": [
        {
          "output_type": "execute_result",
          "data": {
            "text/html": [
              "<div>\n",
              "<style scoped>\n",
              "    .dataframe tbody tr th:only-of-type {\n",
              "        vertical-align: middle;\n",
              "    }\n",
              "\n",
              "    .dataframe tbody tr th {\n",
              "        vertical-align: top;\n",
              "    }\n",
              "\n",
              "    .dataframe thead th {\n",
              "        text-align: right;\n",
              "    }\n",
              "</style>\n",
              "<table border=\"1\" class=\"dataframe\">\n",
              "  <thead>\n",
              "    <tr style=\"text-align: right;\">\n",
              "      <th></th>\n",
              "      <th>Testing Data</th>\n",
              "      <th>Predicted Labels</th>\n",
              "    </tr>\n",
              "  </thead>\n",
              "  <tbody>\n",
              "    <tr>\n",
              "      <th>0</th>\n",
              "      <td>ايش هالنباح الهلال التعاون</td>\n",
              "      <td>2</td>\n",
              "    </tr>\n",
              "    <tr>\n",
              "      <th>1</th>\n",
              "      <td>الف مبروك عشاق الزعيم البطوله ولا للمجد بقيه ا...</td>\n",
              "      <td>1</td>\n",
              "    </tr>\n",
              "    <tr>\n",
              "      <th>2</th>\n",
              "      <td>اخبار اعتقالات بسلوفاكيا علي خلفيه هجمات باريس...</td>\n",
              "      <td>2</td>\n",
              "    </tr>\n",
              "    <tr>\n",
              "      <th>3</th>\n",
              "      <td>مشكله برشلونه ان شقوك وان هاجمت جلدوك وان لعبت...</td>\n",
              "      <td>0</td>\n",
              "    </tr>\n",
              "    <tr>\n",
              "      <th>4</th>\n",
              "      <td>الحمدلله حتي ترضي الحمدلله بعد الرضي الحمدلله ...</td>\n",
              "      <td>1</td>\n",
              "    </tr>\n",
              "  </tbody>\n",
              "</table>\n",
              "</div>"
            ],
            "text/plain": [
              "                                        Testing Data  Predicted Labels\n",
              "0                         ايش هالنباح الهلال التعاون                 2\n",
              "1  الف مبروك عشاق الزعيم البطوله ولا للمجد بقيه ا...                 1\n",
              "2  اخبار اعتقالات بسلوفاكيا علي خلفيه هجمات باريس...                 2\n",
              "3  مشكله برشلونه ان شقوك وان هاجمت جلدوك وان لعبت...                 0\n",
              "4  الحمدلله حتي ترضي الحمدلله بعد الرضي الحمدلله ...                 1"
            ]
          },
          "metadata": {
            "tags": []
          },
          "execution_count": 170
        }
      ]
    },
    {
      "cell_type": "code",
      "metadata": {
        "id": "hcGjggOen40x",
        "outputId": "749bfe47-4840-43fb-9135-dcd6e9358851",
        "colab": {
          "base_uri": "https://localhost:8080/"
        }
      },
      "source": [
        "df.info()"
      ],
      "execution_count": null,
      "outputs": [
        {
          "output_type": "stream",
          "text": [
            "<class 'pandas.core.frame.DataFrame'>\n",
            "RangeIndex: 5516 entries, 0 to 5515\n",
            "Data columns (total 2 columns):\n",
            " #   Column            Non-Null Count  Dtype \n",
            "---  ------            --------------  ----- \n",
            " 0   Testing Data      5516 non-null   object\n",
            " 1   Predicted Labels  5516 non-null   int64 \n",
            "dtypes: int64(1), object(1)\n",
            "memory usage: 86.3+ KB\n"
          ],
          "name": "stdout"
        }
      ]
    },
    {
      "cell_type": "code",
      "metadata": {
        "id": "bV7sQiRSn40z"
      },
      "source": [
        "df.to_csv('/content/drive/My Drive/3-class/gru.csv', encoding='utf-8')"
      ],
      "execution_count": null,
      "outputs": []
    }
  ]
}