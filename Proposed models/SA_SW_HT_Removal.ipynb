{
  "nbformat": 4,
  "nbformat_minor": 0,
  "metadata": {
    "colab": {
      "name": "SA_SW_HT_Removal.ipynb",
      "provenance": [],
      "machine_shape": "hm"
    },
    "kernelspec": {
      "name": "python3",
      "display_name": "Python 3"
    },
    "accelerator": "GPU"
  },
  "cells": [
    {
      "cell_type": "markdown",
      "metadata": {
        "id": "VTuN1ICeEgPk",
        "colab_type": "text"
      },
      "source": [
        "#**Before Start**"
      ]
    },
    {
      "cell_type": "code",
      "metadata": {
        "id": "3O1F80-wolWV",
        "colab_type": "code",
        "colab": {
          "base_uri": "https://localhost:8080/",
          "height": 176
        },
        "outputId": "df3f5a1e-3024-4c4b-97a2-ffdf864fa4e7"
      },
      "source": [
        "!pip install --upgrade tqdm"
      ],
      "execution_count": 1,
      "outputs": [
        {
          "output_type": "stream",
          "text": [
            "Collecting tqdm\n",
            "\u001b[?25l  Downloading https://files.pythonhosted.org/packages/28/7e/281edb5bc3274dfb894d90f4dbacfceaca381c2435ec6187a2c6f329aed7/tqdm-4.48.2-py2.py3-none-any.whl (68kB)\n",
            "\r\u001b[K     |████▉                           | 10kB 19.1MB/s eta 0:00:01\r\u001b[K     |█████████▋                      | 20kB 1.6MB/s eta 0:00:01\r\u001b[K     |██████████████▍                 | 30kB 2.3MB/s eta 0:00:01\r\u001b[K     |███████████████████▏            | 40kB 3.1MB/s eta 0:00:01\r\u001b[K     |████████████████████████        | 51kB 2.0MB/s eta 0:00:01\r\u001b[K     |████████████████████████████▉   | 61kB 2.3MB/s eta 0:00:01\r\u001b[K     |████████████████████████████████| 71kB 2.0MB/s \n",
            "\u001b[?25hInstalling collected packages: tqdm\n",
            "  Found existing installation: tqdm 4.41.1\n",
            "    Uninstalling tqdm-4.41.1:\n",
            "      Successfully uninstalled tqdm-4.41.1\n",
            "Successfully installed tqdm-4.48.2\n"
          ],
          "name": "stdout"
        }
      ]
    },
    {
      "cell_type": "code",
      "metadata": {
        "id": "fC5yofj4X0gk",
        "colab_type": "code",
        "colab": {
          "base_uri": "https://localhost:8080/",
          "height": 1000
        },
        "outputId": "fdd779ca-37dd-4970-966b-68e911abda5b"
      },
      "source": [
        "!pip install keras==2.3.1\n",
        "!pip install tensorflow==2.2.0"
      ],
      "execution_count": 2,
      "outputs": [
        {
          "output_type": "stream",
          "text": [
            "Collecting keras==2.3.1\n",
            "\u001b[?25l  Downloading https://files.pythonhosted.org/packages/ad/fd/6bfe87920d7f4fd475acd28500a42482b6b84479832bdc0fe9e589a60ceb/Keras-2.3.1-py2.py3-none-any.whl (377kB)\n",
            "\r\u001b[K     |▉                               | 10kB 22.5MB/s eta 0:00:01\r\u001b[K     |█▊                              | 20kB 1.7MB/s eta 0:00:01\r\u001b[K     |██▋                             | 30kB 2.3MB/s eta 0:00:01\r\u001b[K     |███▌                            | 40kB 2.6MB/s eta 0:00:01\r\u001b[K     |████▍                           | 51kB 2.0MB/s eta 0:00:01\r\u001b[K     |█████▏                          | 61kB 2.3MB/s eta 0:00:01\r\u001b[K     |██████                          | 71kB 2.6MB/s eta 0:00:01\r\u001b[K     |███████                         | 81kB 2.8MB/s eta 0:00:01\r\u001b[K     |███████▉                        | 92kB 3.0MB/s eta 0:00:01\r\u001b[K     |████████▊                       | 102kB 2.8MB/s eta 0:00:01\r\u001b[K     |█████████▌                      | 112kB 2.8MB/s eta 0:00:01\r\u001b[K     |██████████▍                     | 122kB 2.8MB/s eta 0:00:01\r\u001b[K     |███████████▎                    | 133kB 2.8MB/s eta 0:00:01\r\u001b[K     |████████████▏                   | 143kB 2.8MB/s eta 0:00:01\r\u001b[K     |█████████████                   | 153kB 2.8MB/s eta 0:00:01\r\u001b[K     |█████████████▉                  | 163kB 2.8MB/s eta 0:00:01\r\u001b[K     |██████████████▊                 | 174kB 2.8MB/s eta 0:00:01\r\u001b[K     |███████████████▋                | 184kB 2.8MB/s eta 0:00:01\r\u001b[K     |████████████████▌               | 194kB 2.8MB/s eta 0:00:01\r\u001b[K     |█████████████████▍              | 204kB 2.8MB/s eta 0:00:01\r\u001b[K     |██████████████████▏             | 215kB 2.8MB/s eta 0:00:01\r\u001b[K     |███████████████████             | 225kB 2.8MB/s eta 0:00:01\r\u001b[K     |████████████████████            | 235kB 2.8MB/s eta 0:00:01\r\u001b[K     |████████████████████▉           | 245kB 2.8MB/s eta 0:00:01\r\u001b[K     |█████████████████████▊          | 256kB 2.8MB/s eta 0:00:01\r\u001b[K     |██████████████████████▌         | 266kB 2.8MB/s eta 0:00:01\r\u001b[K     |███████████████████████▍        | 276kB 2.8MB/s eta 0:00:01\r\u001b[K     |████████████████████████▎       | 286kB 2.8MB/s eta 0:00:01\r\u001b[K     |█████████████████████████▏      | 296kB 2.8MB/s eta 0:00:01\r\u001b[K     |██████████████████████████      | 307kB 2.8MB/s eta 0:00:01\r\u001b[K     |██████████████████████████▉     | 317kB 2.8MB/s eta 0:00:01\r\u001b[K     |███████████████████████████▊    | 327kB 2.8MB/s eta 0:00:01\r\u001b[K     |████████████████████████████▋   | 337kB 2.8MB/s eta 0:00:01\r\u001b[K     |█████████████████████████████▌  | 348kB 2.8MB/s eta 0:00:01\r\u001b[K     |██████████████████████████████▍ | 358kB 2.8MB/s eta 0:00:01\r\u001b[K     |███████████████████████████████▏| 368kB 2.8MB/s eta 0:00:01\r\u001b[K     |████████████████████████████████| 378kB 2.8MB/s \n",
            "\u001b[?25hRequirement already satisfied: keras-preprocessing>=1.0.5 in /usr/local/lib/python3.6/dist-packages (from keras==2.3.1) (1.1.2)\n",
            "Requirement already satisfied: pyyaml in /usr/local/lib/python3.6/dist-packages (from keras==2.3.1) (3.13)\n",
            "Requirement already satisfied: numpy>=1.9.1 in /usr/local/lib/python3.6/dist-packages (from keras==2.3.1) (1.18.5)\n",
            "Requirement already satisfied: six>=1.9.0 in /usr/local/lib/python3.6/dist-packages (from keras==2.3.1) (1.15.0)\n",
            "Requirement already satisfied: scipy>=0.14 in /usr/local/lib/python3.6/dist-packages (from keras==2.3.1) (1.4.1)\n",
            "Requirement already satisfied: h5py in /usr/local/lib/python3.6/dist-packages (from keras==2.3.1) (2.10.0)\n",
            "Collecting keras-applications>=1.0.6\n",
            "\u001b[?25l  Downloading https://files.pythonhosted.org/packages/71/e3/19762fdfc62877ae9102edf6342d71b28fbfd9dea3d2f96a882ce099b03f/Keras_Applications-1.0.8-py3-none-any.whl (50kB)\n",
            "\u001b[K     |████████████████████████████████| 51kB 5.6MB/s \n",
            "\u001b[?25hInstalling collected packages: keras-applications, keras\n",
            "  Found existing installation: Keras 2.4.3\n",
            "    Uninstalling Keras-2.4.3:\n",
            "      Successfully uninstalled Keras-2.4.3\n",
            "Successfully installed keras-2.3.1 keras-applications-1.0.8\n",
            "Collecting tensorflow==2.2.0\n",
            "\u001b[?25l  Downloading https://files.pythonhosted.org/packages/3d/be/679ce5254a8c8d07470efb4a4c00345fae91f766e64f1c2aece8796d7218/tensorflow-2.2.0-cp36-cp36m-manylinux2010_x86_64.whl (516.2MB)\n",
            "\u001b[K     |████████████████████████████████| 516.2MB 26kB/s \n",
            "\u001b[?25hRequirement already satisfied: termcolor>=1.1.0 in /usr/local/lib/python3.6/dist-packages (from tensorflow==2.2.0) (1.1.0)\n",
            "Requirement already satisfied: astunparse==1.6.3 in /usr/local/lib/python3.6/dist-packages (from tensorflow==2.2.0) (1.6.3)\n",
            "Requirement already satisfied: wrapt>=1.11.1 in /usr/local/lib/python3.6/dist-packages (from tensorflow==2.2.0) (1.12.1)\n",
            "Requirement already satisfied: grpcio>=1.8.6 in /usr/local/lib/python3.6/dist-packages (from tensorflow==2.2.0) (1.31.0)\n",
            "Requirement already satisfied: wheel>=0.26; python_version >= \"3\" in /usr/local/lib/python3.6/dist-packages (from tensorflow==2.2.0) (0.34.2)\n",
            "Collecting tensorboard<2.3.0,>=2.2.0\n",
            "\u001b[?25l  Downloading https://files.pythonhosted.org/packages/1d/74/0a6fcb206dcc72a6da9a62dd81784bfdbff5fedb099982861dc2219014fb/tensorboard-2.2.2-py3-none-any.whl (3.0MB)\n",
            "\u001b[K     |████████████████████████████████| 3.0MB 37.9MB/s \n",
            "\u001b[?25hRequirement already satisfied: opt-einsum>=2.3.2 in /usr/local/lib/python3.6/dist-packages (from tensorflow==2.2.0) (3.3.0)\n",
            "Requirement already satisfied: scipy==1.4.1; python_version >= \"3\" in /usr/local/lib/python3.6/dist-packages (from tensorflow==2.2.0) (1.4.1)\n",
            "Requirement already satisfied: google-pasta>=0.1.8 in /usr/local/lib/python3.6/dist-packages (from tensorflow==2.2.0) (0.2.0)\n",
            "Requirement already satisfied: keras-preprocessing>=1.1.0 in /usr/local/lib/python3.6/dist-packages (from tensorflow==2.2.0) (1.1.2)\n",
            "Requirement already satisfied: six>=1.12.0 in /usr/local/lib/python3.6/dist-packages (from tensorflow==2.2.0) (1.15.0)\n",
            "Requirement already satisfied: h5py<2.11.0,>=2.10.0 in /usr/local/lib/python3.6/dist-packages (from tensorflow==2.2.0) (2.10.0)\n",
            "Collecting tensorflow-estimator<2.3.0,>=2.2.0\n",
            "\u001b[?25l  Downloading https://files.pythonhosted.org/packages/a4/f5/926ae53d6a226ec0fda5208e0e581cffed895ccc89e36ba76a8e60895b78/tensorflow_estimator-2.2.0-py2.py3-none-any.whl (454kB)\n",
            "\u001b[K     |████████████████████████████████| 460kB 45.9MB/s \n",
            "\u001b[?25hRequirement already satisfied: gast==0.3.3 in /usr/local/lib/python3.6/dist-packages (from tensorflow==2.2.0) (0.3.3)\n",
            "Requirement already satisfied: numpy<2.0,>=1.16.0 in /usr/local/lib/python3.6/dist-packages (from tensorflow==2.2.0) (1.18.5)\n",
            "Requirement already satisfied: absl-py>=0.7.0 in /usr/local/lib/python3.6/dist-packages (from tensorflow==2.2.0) (0.9.0)\n",
            "Requirement already satisfied: protobuf>=3.8.0 in /usr/local/lib/python3.6/dist-packages (from tensorflow==2.2.0) (3.12.4)\n",
            "Requirement already satisfied: setuptools>=41.0.0 in /usr/local/lib/python3.6/dist-packages (from tensorboard<2.3.0,>=2.2.0->tensorflow==2.2.0) (49.2.0)\n",
            "Requirement already satisfied: google-auth<2,>=1.6.3 in /usr/local/lib/python3.6/dist-packages (from tensorboard<2.3.0,>=2.2.0->tensorflow==2.2.0) (1.17.2)\n",
            "Requirement already satisfied: google-auth-oauthlib<0.5,>=0.4.1 in /usr/local/lib/python3.6/dist-packages (from tensorboard<2.3.0,>=2.2.0->tensorflow==2.2.0) (0.4.1)\n",
            "Requirement already satisfied: requests<3,>=2.21.0 in /usr/local/lib/python3.6/dist-packages (from tensorboard<2.3.0,>=2.2.0->tensorflow==2.2.0) (2.23.0)\n",
            "Requirement already satisfied: tensorboard-plugin-wit>=1.6.0 in /usr/local/lib/python3.6/dist-packages (from tensorboard<2.3.0,>=2.2.0->tensorflow==2.2.0) (1.7.0)\n",
            "Requirement already satisfied: werkzeug>=0.11.15 in /usr/local/lib/python3.6/dist-packages (from tensorboard<2.3.0,>=2.2.0->tensorflow==2.2.0) (1.0.1)\n",
            "Requirement already satisfied: markdown>=2.6.8 in /usr/local/lib/python3.6/dist-packages (from tensorboard<2.3.0,>=2.2.0->tensorflow==2.2.0) (3.2.2)\n",
            "Requirement already satisfied: rsa<5,>=3.1.4; python_version >= \"3\" in /usr/local/lib/python3.6/dist-packages (from google-auth<2,>=1.6.3->tensorboard<2.3.0,>=2.2.0->tensorflow==2.2.0) (4.6)\n",
            "Requirement already satisfied: pyasn1-modules>=0.2.1 in /usr/local/lib/python3.6/dist-packages (from google-auth<2,>=1.6.3->tensorboard<2.3.0,>=2.2.0->tensorflow==2.2.0) (0.2.8)\n",
            "Requirement already satisfied: cachetools<5.0,>=2.0.0 in /usr/local/lib/python3.6/dist-packages (from google-auth<2,>=1.6.3->tensorboard<2.3.0,>=2.2.0->tensorflow==2.2.0) (4.1.1)\n",
            "Requirement already satisfied: requests-oauthlib>=0.7.0 in /usr/local/lib/python3.6/dist-packages (from google-auth-oauthlib<0.5,>=0.4.1->tensorboard<2.3.0,>=2.2.0->tensorflow==2.2.0) (1.3.0)\n",
            "Requirement already satisfied: idna<3,>=2.5 in /usr/local/lib/python3.6/dist-packages (from requests<3,>=2.21.0->tensorboard<2.3.0,>=2.2.0->tensorflow==2.2.0) (2.10)\n",
            "Requirement already satisfied: certifi>=2017.4.17 in /usr/local/lib/python3.6/dist-packages (from requests<3,>=2.21.0->tensorboard<2.3.0,>=2.2.0->tensorflow==2.2.0) (2020.6.20)\n",
            "Requirement already satisfied: urllib3!=1.25.0,!=1.25.1,<1.26,>=1.21.1 in /usr/local/lib/python3.6/dist-packages (from requests<3,>=2.21.0->tensorboard<2.3.0,>=2.2.0->tensorflow==2.2.0) (1.24.3)\n",
            "Requirement already satisfied: chardet<4,>=3.0.2 in /usr/local/lib/python3.6/dist-packages (from requests<3,>=2.21.0->tensorboard<2.3.0,>=2.2.0->tensorflow==2.2.0) (3.0.4)\n",
            "Requirement already satisfied: importlib-metadata; python_version < \"3.8\" in /usr/local/lib/python3.6/dist-packages (from markdown>=2.6.8->tensorboard<2.3.0,>=2.2.0->tensorflow==2.2.0) (1.7.0)\n",
            "Requirement already satisfied: pyasn1>=0.1.3 in /usr/local/lib/python3.6/dist-packages (from rsa<5,>=3.1.4; python_version >= \"3\"->google-auth<2,>=1.6.3->tensorboard<2.3.0,>=2.2.0->tensorflow==2.2.0) (0.4.8)\n",
            "Requirement already satisfied: oauthlib>=3.0.0 in /usr/local/lib/python3.6/dist-packages (from requests-oauthlib>=0.7.0->google-auth-oauthlib<0.5,>=0.4.1->tensorboard<2.3.0,>=2.2.0->tensorflow==2.2.0) (3.1.0)\n",
            "Requirement already satisfied: zipp>=0.5 in /usr/local/lib/python3.6/dist-packages (from importlib-metadata; python_version < \"3.8\"->markdown>=2.6.8->tensorboard<2.3.0,>=2.2.0->tensorflow==2.2.0) (3.1.0)\n",
            "Installing collected packages: tensorboard, tensorflow-estimator, tensorflow\n",
            "  Found existing installation: tensorboard 2.3.0\n",
            "    Uninstalling tensorboard-2.3.0:\n",
            "      Successfully uninstalled tensorboard-2.3.0\n",
            "  Found existing installation: tensorflow-estimator 2.3.0\n",
            "    Uninstalling tensorflow-estimator-2.3.0:\n",
            "      Successfully uninstalled tensorflow-estimator-2.3.0\n",
            "  Found existing installation: tensorflow 2.3.0\n",
            "    Uninstalling tensorflow-2.3.0:\n",
            "      Successfully uninstalled tensorflow-2.3.0\n",
            "Successfully installed tensorboard-2.2.2 tensorflow-2.2.0 tensorflow-estimator-2.2.0\n"
          ],
          "name": "stdout"
        }
      ]
    },
    {
      "cell_type": "code",
      "metadata": {
        "id": "UNgJrgrVNpvE",
        "colab_type": "code",
        "colab": {
          "base_uri": "https://localhost:8080/",
          "height": 53
        },
        "outputId": "4dc1452c-77d3-47e6-f6fe-bdbb3a363277"
      },
      "source": [
        "import keras\n",
        "keras.__version__"
      ],
      "execution_count": 3,
      "outputs": [
        {
          "output_type": "stream",
          "text": [
            "Using TensorFlow backend.\n"
          ],
          "name": "stderr"
        },
        {
          "output_type": "execute_result",
          "data": {
            "application/vnd.google.colaboratory.intrinsic+json": {
              "type": "string"
            },
            "text/plain": [
              "'2.3.1'"
            ]
          },
          "metadata": {
            "tags": []
          },
          "execution_count": 3
        }
      ]
    },
    {
      "cell_type": "code",
      "metadata": {
        "id": "RsXce235O7S7",
        "colab_type": "code",
        "colab": {
          "base_uri": "https://localhost:8080/",
          "height": 35
        },
        "outputId": "6ddfeefb-8f58-4c4e-da28-10b0b2b87375"
      },
      "source": [
        "import tensorflow\n",
        "tensorflow.__version__"
      ],
      "execution_count": 4,
      "outputs": [
        {
          "output_type": "execute_result",
          "data": {
            "application/vnd.google.colaboratory.intrinsic+json": {
              "type": "string"
            },
            "text/plain": [
              "'2.2.0'"
            ]
          },
          "metadata": {
            "tags": []
          },
          "execution_count": 4
        }
      ]
    },
    {
      "cell_type": "code",
      "metadata": {
        "id": "4ukuXxz7PFUX",
        "colab_type": "code",
        "colab": {
          "base_uri": "https://localhost:8080/",
          "height": 35
        },
        "outputId": "fb4b47b0-9d45-4595-b781-49a2b7e0854e"
      },
      "source": [
        "%tensorflow_version 2.x\n",
        "import tensorflow as tf\n",
        "device_name = tf.test.gpu_device_name()\n",
        "if device_name != '/device:GPU:0':\n",
        "  raise SystemError('GPU device not found')\n",
        "print('Found GPU at: {}'.format(device_name))"
      ],
      "execution_count": 5,
      "outputs": [
        {
          "output_type": "stream",
          "text": [
            "Found GPU at: /device:GPU:0\n"
          ],
          "name": "stdout"
        }
      ]
    },
    {
      "cell_type": "code",
      "metadata": {
        "id": "6WxaB_buPQ4a",
        "colab_type": "code",
        "colab": {
          "base_uri": "https://localhost:8080/",
          "height": 485
        },
        "outputId": "917d938a-4b2a-4a68-a65f-464bf08244cf"
      },
      "source": [
        "from tensorflow.python.client import device_lib\n",
        "device_lib.list_local_devices()"
      ],
      "execution_count": 6,
      "outputs": [
        {
          "output_type": "execute_result",
          "data": {
            "text/plain": [
              "[name: \"/device:CPU:0\"\n",
              " device_type: \"CPU\"\n",
              " memory_limit: 268435456\n",
              " locality {\n",
              " }\n",
              " incarnation: 180215731935086488, name: \"/device:XLA_CPU:0\"\n",
              " device_type: \"XLA_CPU\"\n",
              " memory_limit: 17179869184\n",
              " locality {\n",
              " }\n",
              " incarnation: 2211572986561212776\n",
              " physical_device_desc: \"device: XLA_CPU device\", name: \"/device:XLA_GPU:0\"\n",
              " device_type: \"XLA_GPU\"\n",
              " memory_limit: 17179869184\n",
              " locality {\n",
              " }\n",
              " incarnation: 17272405395674758339\n",
              " physical_device_desc: \"device: XLA_GPU device\", name: \"/device:GPU:0\"\n",
              " device_type: \"GPU\"\n",
              " memory_limit: 15788201792\n",
              " locality {\n",
              "   bus_id: 1\n",
              "   links {\n",
              "   }\n",
              " }\n",
              " incarnation: 17651832807286161712\n",
              " physical_device_desc: \"device: 0, name: Tesla P100-PCIE-16GB, pci bus id: 0000:00:04.0, compute capability: 6.0\"]"
            ]
          },
          "metadata": {
            "tags": []
          },
          "execution_count": 6
        }
      ]
    },
    {
      "cell_type": "code",
      "metadata": {
        "id": "fkLNesFTQd4i",
        "colab_type": "code",
        "colab": {
          "base_uri": "https://localhost:8080/",
          "height": 832
        },
        "outputId": "d3ab8cd8-330c-4a1a-829b-f3371a0ed810"
      },
      "source": [
        "!cat /proc/meminfo"
      ],
      "execution_count": 7,
      "outputs": [
        {
          "output_type": "stream",
          "text": [
            "MemTotal:       26751688 kB\n",
            "MemFree:        14780556 kB\n",
            "MemAvailable:   25512436 kB\n",
            "Buffers:          159196 kB\n",
            "Cached:         10489544 kB\n",
            "SwapCached:            0 kB\n",
            "Active:          1009660 kB\n",
            "Inactive:       10209064 kB\n",
            "Active(anon):     459892 kB\n",
            "Inactive(anon):     8588 kB\n",
            "Active(file):     549768 kB\n",
            "Inactive(file): 10200476 kB\n",
            "Unevictable:           0 kB\n",
            "Mlocked:               0 kB\n",
            "SwapTotal:             0 kB\n",
            "SwapFree:              0 kB\n",
            "Dirty:            107524 kB\n",
            "Writeback:           104 kB\n",
            "AnonPages:        570276 kB\n",
            "Mapped:           448864 kB\n",
            "Shmem:              9164 kB\n",
            "Slab:             465752 kB\n",
            "SReclaimable:     398656 kB\n",
            "SUnreclaim:        67096 kB\n",
            "KernelStack:        4544 kB\n",
            "PageTables:         6756 kB\n",
            "NFS_Unstable:          0 kB\n",
            "Bounce:                0 kB\n",
            "WritebackTmp:          0 kB\n",
            "CommitLimit:    13375844 kB\n",
            "Committed_AS:    3007172 kB\n",
            "VmallocTotal:   34359738367 kB\n",
            "VmallocUsed:           0 kB\n",
            "VmallocChunk:          0 kB\n",
            "Percpu:             1904 kB\n",
            "AnonHugePages:         0 kB\n",
            "ShmemHugePages:        0 kB\n",
            "ShmemPmdMapped:        0 kB\n",
            "HugePages_Total:       0\n",
            "HugePages_Free:        0\n",
            "HugePages_Rsvd:        0\n",
            "HugePages_Surp:        0\n",
            "Hugepagesize:       2048 kB\n",
            "Hugetlb:               0 kB\n",
            "DirectMap4k:      218300 kB\n",
            "DirectMap2M:     7120896 kB\n",
            "DirectMap1G:    22020096 kB\n"
          ],
          "name": "stdout"
        }
      ]
    },
    {
      "cell_type": "code",
      "metadata": {
        "id": "mCZEUToAQjnj",
        "colab_type": "code",
        "colab": {
          "base_uri": "https://localhost:8080/",
          "height": 124
        },
        "outputId": "044ce6a6-bb90-49d2-f9d2-3da4dc7fc79a"
      },
      "source": [
        "from google.colab import drive\n",
        "drive.mount('/content/drive')"
      ],
      "execution_count": 8,
      "outputs": [
        {
          "output_type": "stream",
          "text": [
            "Go to this URL in a browser: https://accounts.google.com/o/oauth2/auth?client_id=947318989803-6bn6qk8qdgf4n4g3pfee6491hc0brc4i.apps.googleusercontent.com&redirect_uri=urn%3aietf%3awg%3aoauth%3a2.0%3aoob&scope=email%20https%3a%2f%2fwww.googleapis.com%2fauth%2fdocs.test%20https%3a%2f%2fwww.googleapis.com%2fauth%2fdrive%20https%3a%2f%2fwww.googleapis.com%2fauth%2fdrive.photos.readonly%20https%3a%2f%2fwww.googleapis.com%2fauth%2fpeopleapi.readonly&response_type=code\n",
            "\n",
            "Enter your authorization code:\n",
            "··········\n",
            "Mounted at /content/drive\n"
          ],
          "name": "stdout"
        }
      ]
    },
    {
      "cell_type": "code",
      "metadata": {
        "id": "h27xrTnGQm5G",
        "colab_type": "code",
        "colab": {}
      },
      "source": [
        "!cp /content/drive/My\\ Drive/Colab\\ Notebooks/3-class.csv 3-class.csv"
      ],
      "execution_count": 9,
      "outputs": []
    },
    {
      "cell_type": "code",
      "metadata": {
        "id": "vOQgSnrDQ5LN",
        "colab_type": "code",
        "colab": {}
      },
      "source": [
        "!cp /content/drive/My\\ Drive/Colab\\ Notebooks/stop_words.txt stop_words.txt"
      ],
      "execution_count": 10,
      "outputs": []
    },
    {
      "cell_type": "code",
      "metadata": {
        "id": "6g5Fh9K5RG7r",
        "colab_type": "code",
        "colab": {
          "base_uri": "https://localhost:8080/",
          "height": 355
        },
        "outputId": "c3151f79-1c84-44df-e9ac-098609c33bb5"
      },
      "source": [
        "import pandas as pd\n",
        "import numpy as np\n",
        "import matplotlib.pyplot as plt\n",
        "plt.style.use('fivethirtyeight')\n",
        "\n",
        "%matplotlib inline\n",
        "%config InlinBackend.figure_format = 'retina'\n",
        "df = pd.read_csv('3-class.csv')\n",
        "df.head(10)"
      ],
      "execution_count": 69,
      "outputs": [
        {
          "output_type": "execute_result",
          "data": {
            "text/html": [
              "<div>\n",
              "<style scoped>\n",
              "    .dataframe tbody tr th:only-of-type {\n",
              "        vertical-align: middle;\n",
              "    }\n",
              "\n",
              "    .dataframe tbody tr th {\n",
              "        vertical-align: top;\n",
              "    }\n",
              "\n",
              "    .dataframe thead th {\n",
              "        text-align: right;\n",
              "    }\n",
              "</style>\n",
              "<table border=\"1\" class=\"dataframe\">\n",
              "  <thead>\n",
              "    <tr style=\"text-align: right;\">\n",
              "      <th></th>\n",
              "      <th>Tweet</th>\n",
              "      <th>Polarity</th>\n",
              "    </tr>\n",
              "  </thead>\n",
              "  <tbody>\n",
              "    <tr>\n",
              "      <th>0</th>\n",
              "      <td>ابراهيم_عيسى الوسخ ابن الوسخه كلما حصل حادث ا...</td>\n",
              "      <td>neg</td>\n",
              "    </tr>\n",
              "    <tr>\n",
              "      <th>1</th>\n",
              "      <td>اخطر حروب الارض حرب العقيده حسيبك الله ي اول ...</td>\n",
              "      <td>neg</td>\n",
              "    </tr>\n",
              "    <tr>\n",
              "      <th>2</th>\n",
              "      <td>اصبحت تقدم برامج عبر الجمعيات الخيريه لايصال ...</td>\n",
              "      <td>neg</td>\n",
              "    </tr>\n",
              "    <tr>\n",
              "      <th>3</th>\n",
              "      <td>اعلامنا متمثل في داوودالشريان و روتانا وطقتهم...</td>\n",
              "      <td>neg</td>\n",
              "    </tr>\n",
              "    <tr>\n",
              "      <th>4</th>\n",
              "      <td>الاصرار مرتزقه_برنامج_الاصرار بضاعه هالمترديه...</td>\n",
              "      <td>neg</td>\n",
              "    </tr>\n",
              "    <tr>\n",
              "      <th>5</th>\n",
              "      <td>الاعلام اللبناني يهاجم السعوديه منذ مده بكل ق...</td>\n",
              "      <td>neg</td>\n",
              "    </tr>\n",
              "    <tr>\n",
              "      <th>6</th>\n",
              "      <td>البرنامج استاجر بعض المشاهير و الهوامير في تو...</td>\n",
              "      <td>neg</td>\n",
              "    </tr>\n",
              "    <tr>\n",
              "      <th>7</th>\n",
              "      <td>الحمد لله ما احتاج اتعلم من واحد فاشل اخلاقيا...</td>\n",
              "      <td>neg</td>\n",
              "    </tr>\n",
              "    <tr>\n",
              "      <th>8</th>\n",
              "      <td>الخرج بيض الله وجه محافظ الخرج فهذه القناه تص...</td>\n",
              "      <td>neg</td>\n",
              "    </tr>\n",
              "    <tr>\n",
              "      <th>9</th>\n",
              "      <td>الرياض السعوديه رسالتي لوزير العمل في حينه عن...</td>\n",
              "      <td>neg</td>\n",
              "    </tr>\n",
              "  </tbody>\n",
              "</table>\n",
              "</div>"
            ],
            "text/plain": [
              "                                               Tweet Polarity\n",
              "0   ابراهيم_عيسى الوسخ ابن الوسخه كلما حصل حادث ا...      neg\n",
              "1   اخطر حروب الارض حرب العقيده حسيبك الله ي اول ...      neg\n",
              "2   اصبحت تقدم برامج عبر الجمعيات الخيريه لايصال ...      neg\n",
              "3   اعلامنا متمثل في داوودالشريان و روتانا وطقتهم...      neg\n",
              "4   الاصرار مرتزقه_برنامج_الاصرار بضاعه هالمترديه...      neg\n",
              "5   الاعلام اللبناني يهاجم السعوديه منذ مده بكل ق...      neg\n",
              "6   البرنامج استاجر بعض المشاهير و الهوامير في تو...      neg\n",
              "7   الحمد لله ما احتاج اتعلم من واحد فاشل اخلاقيا...      neg\n",
              "8   الخرج بيض الله وجه محافظ الخرج فهذه القناه تص...      neg\n",
              "9   الرياض السعوديه رسالتي لوزير العمل في حينه عن...      neg"
            ]
          },
          "metadata": {
            "tags": []
          },
          "execution_count": 69
        }
      ]
    },
    {
      "cell_type": "code",
      "metadata": {
        "id": "hk54HwlDRPBi",
        "colab_type": "code",
        "colab": {
          "base_uri": "https://localhost:8080/",
          "height": 173
        },
        "outputId": "b5bfe90a-c57b-40f8-df7b-349aae70b2c8"
      },
      "source": [
        "#Discovering dataset\n",
        "df.info()"
      ],
      "execution_count": 70,
      "outputs": [
        {
          "output_type": "stream",
          "text": [
            "<class 'pandas.core.frame.DataFrame'>\n",
            "RangeIndex: 56674 entries, 0 to 56673\n",
            "Data columns (total 2 columns):\n",
            " #   Column    Non-Null Count  Dtype \n",
            "---  ------    --------------  ----- \n",
            " 0   Tweet     56674 non-null  object\n",
            " 1   Polarity  56674 non-null  object\n",
            "dtypes: object(2)\n",
            "memory usage: 885.7+ KB\n"
          ],
          "name": "stdout"
        }
      ]
    },
    {
      "cell_type": "code",
      "metadata": {
        "id": "30Xdh0IIRfpo",
        "colab_type": "code",
        "colab": {
          "base_uri": "https://localhost:8080/",
          "height": 173
        },
        "outputId": "76b0e4c3-5762-4f35-8db0-7668f2283f3a"
      },
      "source": [
        "#Discovering dataset\n",
        "df.info()"
      ],
      "execution_count": 71,
      "outputs": [
        {
          "output_type": "stream",
          "text": [
            "<class 'pandas.core.frame.DataFrame'>\n",
            "RangeIndex: 56674 entries, 0 to 56673\n",
            "Data columns (total 2 columns):\n",
            " #   Column    Non-Null Count  Dtype \n",
            "---  ------    --------------  ----- \n",
            " 0   Tweet     56674 non-null  object\n",
            " 1   Polarity  56674 non-null  object\n",
            "dtypes: object(2)\n",
            "memory usage: 885.7+ KB\n"
          ],
          "name": "stdout"
        }
      ]
    },
    {
      "cell_type": "code",
      "metadata": {
        "id": "VtXQdpzVRjhw",
        "colab_type": "code",
        "colab": {
          "base_uri": "https://localhost:8080/",
          "height": 279
        },
        "outputId": "0a777bf9-214e-4e1d-ce08-7e0616a453e7"
      },
      "source": [
        "#Discovering the tweets length\n",
        "df['Tweet'].str.len().plot.hist()"
      ],
      "execution_count": 72,
      "outputs": [
        {
          "output_type": "execute_result",
          "data": {
            "text/plain": [
              "<matplotlib.axes._subplots.AxesSubplot at 0x7f5cada69b70>"
            ]
          },
          "metadata": {
            "tags": []
          },
          "execution_count": 72
        },
        {
          "output_type": "display_data",
          "data": {
            "image/png": "[encoded data removed]",
            "text/plain": [
              "<Figure size 432x288 with 1 Axes>"
            ]
          },
          "metadata": {
            "tags": [],
            "needs_background": "light"
          }
        }
      ]
    },
    {
      "cell_type": "code",
      "metadata": {
        "id": "O-UdYBgGRoK8",
        "colab_type": "code",
        "colab": {
          "base_uri": "https://localhost:8080/",
          "height": 87
        },
        "outputId": "48995c88-a790-4fdc-8ae1-252d73856dc8"
      },
      "source": [
        "#Discovering the count of each class\n",
        "df.Polarity.value_counts()"
      ],
      "execution_count": 73,
      "outputs": [
        {
          "output_type": "execute_result",
          "data": {
            "text/plain": [
              "neg     20731\n",
              "neut    18726\n",
              "pos     17217\n",
              "Name: Polarity, dtype: int64"
            ]
          },
          "metadata": {
            "tags": []
          },
          "execution_count": 73
        }
      ]
    },
    {
      "cell_type": "code",
      "metadata": {
        "id": "vavR9G2ORsyM",
        "colab_type": "code",
        "colab": {}
      },
      "source": [
        "#Change class values from neg pos neut to 0 1 2\n",
        "df['Polarity'] = df['Polarity'].map({'neg': 0, 'pos': 1, 'neut': 2})"
      ],
      "execution_count": 74,
      "outputs": []
    },
    {
      "cell_type": "code",
      "metadata": {
        "id": "T-0wRVI8RxBB",
        "colab_type": "code",
        "colab": {
          "base_uri": "https://localhost:8080/",
          "height": 355
        },
        "outputId": "40e8eb4d-2749-48ba-d0fb-a24591417f00"
      },
      "source": [
        "df[df.Polarity == 0].head(10)"
      ],
      "execution_count": 75,
      "outputs": [
        {
          "output_type": "execute_result",
          "data": {
            "text/html": [
              "<div>\n",
              "<style scoped>\n",
              "    .dataframe tbody tr th:only-of-type {\n",
              "        vertical-align: middle;\n",
              "    }\n",
              "\n",
              "    .dataframe tbody tr th {\n",
              "        vertical-align: top;\n",
              "    }\n",
              "\n",
              "    .dataframe thead th {\n",
              "        text-align: right;\n",
              "    }\n",
              "</style>\n",
              "<table border=\"1\" class=\"dataframe\">\n",
              "  <thead>\n",
              "    <tr style=\"text-align: right;\">\n",
              "      <th></th>\n",
              "      <th>Tweet</th>\n",
              "      <th>Polarity</th>\n",
              "    </tr>\n",
              "  </thead>\n",
              "  <tbody>\n",
              "    <tr>\n",
              "      <th>0</th>\n",
              "      <td>ابراهيم_عيسى الوسخ ابن الوسخه كلما حصل حادث ا...</td>\n",
              "      <td>0</td>\n",
              "    </tr>\n",
              "    <tr>\n",
              "      <th>1</th>\n",
              "      <td>اخطر حروب الارض حرب العقيده حسيبك الله ي اول ...</td>\n",
              "      <td>0</td>\n",
              "    </tr>\n",
              "    <tr>\n",
              "      <th>2</th>\n",
              "      <td>اصبحت تقدم برامج عبر الجمعيات الخيريه لايصال ...</td>\n",
              "      <td>0</td>\n",
              "    </tr>\n",
              "    <tr>\n",
              "      <th>3</th>\n",
              "      <td>اعلامنا متمثل في داوودالشريان و روتانا وطقتهم...</td>\n",
              "      <td>0</td>\n",
              "    </tr>\n",
              "    <tr>\n",
              "      <th>4</th>\n",
              "      <td>الاصرار مرتزقه_برنامج_الاصرار بضاعه هالمترديه...</td>\n",
              "      <td>0</td>\n",
              "    </tr>\n",
              "    <tr>\n",
              "      <th>5</th>\n",
              "      <td>الاعلام اللبناني يهاجم السعوديه منذ مده بكل ق...</td>\n",
              "      <td>0</td>\n",
              "    </tr>\n",
              "    <tr>\n",
              "      <th>6</th>\n",
              "      <td>البرنامج استاجر بعض المشاهير و الهوامير في تو...</td>\n",
              "      <td>0</td>\n",
              "    </tr>\n",
              "    <tr>\n",
              "      <th>7</th>\n",
              "      <td>الحمد لله ما احتاج اتعلم من واحد فاشل اخلاقيا...</td>\n",
              "      <td>0</td>\n",
              "    </tr>\n",
              "    <tr>\n",
              "      <th>8</th>\n",
              "      <td>الخرج بيض الله وجه محافظ الخرج فهذه القناه تص...</td>\n",
              "      <td>0</td>\n",
              "    </tr>\n",
              "    <tr>\n",
              "      <th>9</th>\n",
              "      <td>الرياض السعوديه رسالتي لوزير العمل في حينه عن...</td>\n",
              "      <td>0</td>\n",
              "    </tr>\n",
              "  </tbody>\n",
              "</table>\n",
              "</div>"
            ],
            "text/plain": [
              "                                               Tweet  Polarity\n",
              "0   ابراهيم_عيسى الوسخ ابن الوسخه كلما حصل حادث ا...         0\n",
              "1   اخطر حروب الارض حرب العقيده حسيبك الله ي اول ...         0\n",
              "2   اصبحت تقدم برامج عبر الجمعيات الخيريه لايصال ...         0\n",
              "3   اعلامنا متمثل في داوودالشريان و روتانا وطقتهم...         0\n",
              "4   الاصرار مرتزقه_برنامج_الاصرار بضاعه هالمترديه...         0\n",
              "5   الاعلام اللبناني يهاجم السعوديه منذ مده بكل ق...         0\n",
              "6   البرنامج استاجر بعض المشاهير و الهوامير في تو...         0\n",
              "7   الحمد لله ما احتاج اتعلم من واحد فاشل اخلاقيا...         0\n",
              "8   الخرج بيض الله وجه محافظ الخرج فهذه القناه تص...         0\n",
              "9   الرياض السعوديه رسالتي لوزير العمل في حينه عن...         0"
            ]
          },
          "metadata": {
            "tags": []
          },
          "execution_count": 75
        }
      ]
    },
    {
      "cell_type": "code",
      "metadata": {
        "id": "VQi7GVC2YGvX",
        "colab_type": "code",
        "colab": {
          "base_uri": "https://localhost:8080/",
          "height": 35
        },
        "outputId": "5a59166a-d0bf-4755-9994-0bebe0345b87"
      },
      "source": [
        "df['Tweet'].nunique()"
      ],
      "execution_count": 76,
      "outputs": [
        {
          "output_type": "execute_result",
          "data": {
            "text/plain": [
              "55176"
            ]
          },
          "metadata": {
            "tags": []
          },
          "execution_count": 76
        }
      ]
    },
    {
      "cell_type": "code",
      "metadata": {
        "id": "tqP6yDDoYHeP",
        "colab_type": "code",
        "colab": {
          "base_uri": "https://localhost:8080/",
          "height": 35
        },
        "outputId": "1343378b-38dd-4631-eb5f-34f59f62e12d"
      },
      "source": [
        "repeat=[]\n",
        "list_of_tweets = df['Tweet'].to_list()\n",
        "for i in range(len(list_of_tweets)-1):\n",
        "  if list_of_tweets[i] in list_of_tweets[i+1:]:\n",
        "    repeat.append(i)\n",
        "len(repeat)"
      ],
      "execution_count": 77,
      "outputs": [
        {
          "output_type": "execute_result",
          "data": {
            "text/plain": [
              "1498"
            ]
          },
          "metadata": {
            "tags": []
          },
          "execution_count": 77
        }
      ]
    },
    {
      "cell_type": "code",
      "metadata": {
        "id": "jPcH4KrnYJs9",
        "colab_type": "code",
        "colab": {
          "base_uri": "https://localhost:8080/",
          "height": 35
        },
        "outputId": "d9b30702-d3c8-45bb-943d-da07f9a23428"
      },
      "source": [
        "df.drop(repeat,axis=0,inplace=True)\n",
        "len(df)"
      ],
      "execution_count": 78,
      "outputs": [
        {
          "output_type": "execute_result",
          "data": {
            "text/plain": [
              "55176"
            ]
          },
          "metadata": {
            "tags": []
          },
          "execution_count": 78
        }
      ]
    },
    {
      "cell_type": "code",
      "metadata": {
        "id": "bDF940nGYMbk",
        "colab_type": "code",
        "colab": {
          "base_uri": "https://localhost:8080/",
          "height": 173
        },
        "outputId": "4d42e3ab-dfc6-4668-ebb2-e8e51e62b135"
      },
      "source": [
        "df.reset_index(drop=True, inplace=True)\n",
        "df.info()"
      ],
      "execution_count": 79,
      "outputs": [
        {
          "output_type": "stream",
          "text": [
            "<class 'pandas.core.frame.DataFrame'>\n",
            "RangeIndex: 55176 entries, 0 to 55175\n",
            "Data columns (total 2 columns):\n",
            " #   Column    Non-Null Count  Dtype \n",
            "---  ------    --------------  ----- \n",
            " 0   Tweet     55176 non-null  object\n",
            " 1   Polarity  55176 non-null  int64 \n",
            "dtypes: int64(1), object(1)\n",
            "memory usage: 862.2+ KB\n"
          ],
          "name": "stdout"
        }
      ]
    },
    {
      "cell_type": "code",
      "metadata": {
        "id": "DhyyCGs9YR3o",
        "colab_type": "code",
        "colab": {
          "base_uri": "https://localhost:8080/",
          "height": 87
        },
        "outputId": "402926d4-0196-4c73-b9dc-93fb1ee22d9b"
      },
      "source": [
        "df.Polarity.value_counts()"
      ],
      "execution_count": 80,
      "outputs": [
        {
          "output_type": "execute_result",
          "data": {
            "text/plain": [
              "0    19944\n",
              "2    18285\n",
              "1    16947\n",
              "Name: Polarity, dtype: int64"
            ]
          },
          "metadata": {
            "tags": []
          },
          "execution_count": 80
        }
      ]
    },
    {
      "cell_type": "code",
      "metadata": {
        "id": "Wgr77XYLly1w",
        "colab_type": "code",
        "colab": {}
      },
      "source": [
        "x = df.Tweet\n",
        "y = df.Polarity"
      ],
      "execution_count": 81,
      "outputs": []
    },
    {
      "cell_type": "markdown",
      "metadata": {
        "id": "rmgp0maUUZMo",
        "colab_type": "text"
      },
      "source": [
        "#**Preprocessing**"
      ]
    },
    {
      "cell_type": "code",
      "metadata": {
        "id": "laYpRuDkUIig",
        "colab_type": "code",
        "colab": {}
      },
      "source": [
        "# Data cleaning function definition\n",
        "\n",
        "from nltk.tokenize import WordPunctTokenizer\n",
        "tok = WordPunctTokenizer()"
      ],
      "execution_count": 82,
      "outputs": []
    },
    {
      "cell_type": "code",
      "metadata": {
        "id": "d-l2-si2Uhep",
        "colab_type": "code",
        "colab": {}
      },
      "source": [
        "import re\n",
        "from bs4 import BeautifulSoup\n",
        "\n",
        "pat1 = r'@[A-Za-z0-9_]+'\n",
        "pat2 = r'https?://[^ ]+'\n",
        "combined_pat = r'|'.join((pat1, pat2))\n",
        "www_pat = r'www.[^ ]+'\n",
        "arabic_num_pat = '[٠١٢٣٤٥٦٧٨٩]'\n",
        "eng_num_pat = '[0123456789]'\n",
        "sharta_pat = '[_]'\n",
        "#sharta_pat = '_[أ-ي]+' #for removing hashtag\n",
        "eng_pat = '[A-Za-z]'\n",
        "\n",
        "def tweet_cleaner(text):\n",
        "  soup = BeautifulSoup(text, 'lxml')\n",
        "  souped = soup.get_text()\n",
        "  try:\n",
        "        bom_removed = souped.decode(\"utf-8-sig\").replace(u\"\\ufffd\", \"?\")\n",
        "  except:\n",
        "        bom_removed = souped\n",
        "  stripped = re.sub(combined_pat, '', bom_removed)\n",
        "  stripped = re.sub(www_pat, '', stripped)\n",
        "  stripped = re.sub(arabic_num_pat, '', stripped)\n",
        "  stripped = re.sub(eng_num_pat, '', stripped)\n",
        "  #stripped = re.sub(r'\\w+_\\s?','_',stripped) #for removing hashtag\n",
        "  stripped = re.sub(sharta_pat, ' ', stripped)\n",
        "  stripped = re.sub(eng_pat, ' ', stripped)\n",
        "\n",
        "  words = [x for x in tok.tokenize(stripped) if len(x) > 1]\n",
        "  return (\" \".join(words)).strip()"
      ],
      "execution_count": 83,
      "outputs": []
    },
    {
      "cell_type": "markdown",
      "metadata": {
        "id": "QnGCfk4dYJyt",
        "colab_type": "text"
      },
      "source": [
        "##**remove SW/hashtag only**"
      ]
    },
    {
      "cell_type": "code",
      "metadata": {
        "id": "tdMuG4HlUoO0",
        "colab_type": "code",
        "colab": {}
      },
      "source": [
        "#stopword function\n",
        "import codecs\n",
        "\n",
        "def get_stop_words():\n",
        "    path = 'stop_words.txt'\n",
        "    stop_words = []\n",
        "    with codecs.open(path, \"r\", encoding=\"utf-8\", errors=\"ignore\") as myfile:\n",
        "        stop_words = myfile.readlines()\n",
        "    stop_words = [word.strip() for word in stop_words]\n",
        "    return stop_words\n",
        "\n",
        "stop_words = get_stop_words()\n",
        "\n",
        "def remove_stop_words(strList):\n",
        "  resList = []\n",
        "  for i in range(0, len(strList)):\n",
        "    if(strList[i] not in stop_words):\n",
        "      resList.append(strList[i])\n",
        "  return ' '.join(resList)"
      ],
      "execution_count": 84,
      "outputs": []
    },
    {
      "cell_type": "code",
      "metadata": {
        "id": "WZMZ5ZVJUvbq",
        "colab_type": "code",
        "colab": {
          "base_uri": "https://localhost:8080/",
          "height": 104
        },
        "outputId": "1e72cf08-cab6-439b-8b36-dde951242ad9"
      },
      "source": [
        "clean_tweet_texts = []\n",
        "for i in range(0, len(df)):\n",
        "  if( (i+1)%10000 == 0 ):\n",
        "        print(\"Tweets %d of %d has been processed\"%(i+1,len(df)))                                                                    \n",
        "  #clean_tweet_texts.append(remove_stop_words(tweet_cleaner(df['Tweet'][i]).split(' ')))\n",
        "  clean_tweet_texts.append(tweet_cleaner(df['Tweet'][i])) #for removing hashtag only"
      ],
      "execution_count": 85,
      "outputs": [
        {
          "output_type": "stream",
          "text": [
            "Tweets 10000 of 55176 has been processed\n",
            "Tweets 20000 of 55176 has been processed\n",
            "Tweets 30000 of 55176 has been processed\n",
            "Tweets 40000 of 55176 has been processed\n",
            "Tweets 50000 of 55176 has been processed\n"
          ],
          "name": "stdout"
        }
      ]
    },
    {
      "cell_type": "code",
      "metadata": {
        "id": "HKuQka6cU5bO",
        "colab_type": "code",
        "colab": {
          "base_uri": "https://localhost:8080/",
          "height": 191
        },
        "outputId": "ce435a2a-df53-46e1-cdc7-5df14cb9bd0c"
      },
      "source": [
        "clean_tweet_texts[:10]"
      ],
      "execution_count": 86,
      "outputs": [
        {
          "output_type": "execute_result",
          "data": {
            "text/plain": [
              "['الوسخ ابن الوسخه كلما حصل حادث اتهم السعوديه بالارهاب الكلب كان براتب مليون جنيه من سنوي مصر',\n",
              " 'اخطر حروب الارض حرب العقيده حسيبك الله اول ال راه يم رب عل نا وق ده الع يده وات زا',\n",
              " 'اصبحت تقدم برامج عبر الجمعيات الخيريه لايصال خبثها اين مسؤولي الجمعيه من هذا',\n",
              " 'اعلامنا متمثل في داوودالشريان روتانا وطقتهم كيف ترجي من هالاشكال خير همهم الوحيد في الحياه',\n",
              " 'الاصرار بضاعه هالمترديه قناه العهر مزجاه في جميع المجالات',\n",
              " 'الاعلام اللبناني يهاجم السعوديه منذ مده بكل قبيح ومجموعه تدعم الاعلام في لبنان باقامه برامجها الضخمه فيها',\n",
              " 'البرنامج استاجر بعض المشاهير الهوامير في تويتر عشان يبررو لهم ويرقعو لقناه',\n",
              " 'الحمد لله ما احتاج اتعلم من واحد فاشل اخلاقيا همه الشحاذه من على حساب',\n",
              " 'الخرج بيض الله وجه محافظ الخرج فهذه القناه تصب على المسلمين سيل من المخالفات الشرعيه والمحرمات تدعو الى الرذيله وتشوه صوره الاسلام',\n",
              " 'الرياض السعوديه رسالتي لوزير العمل في حينه عن برنامج حتي بفكرته منسوخ بشكل مبتذل وفاشل']"
            ]
          },
          "metadata": {
            "tags": []
          },
          "execution_count": 86
        }
      ]
    },
    {
      "cell_type": "code",
      "metadata": {
        "id": "OAcSboWERJV7",
        "colab_type": "code",
        "colab": {
          "base_uri": "https://localhost:8080/",
          "height": 191
        },
        "outputId": "bd3dd46a-fef7-4d43-fa65-6f42c815e6c3"
      },
      "source": [
        "clean_tweet_texts[:10]"
      ],
      "execution_count": 87,
      "outputs": [
        {
          "output_type": "execute_result",
          "data": {
            "text/plain": [
              "['الوسخ ابن الوسخه كلما حصل حادث اتهم السعوديه بالارهاب الكلب كان براتب مليون جنيه من سنوي مصر',\n",
              " 'اخطر حروب الارض حرب العقيده حسيبك الله اول ال راه يم رب عل نا وق ده الع يده وات زا',\n",
              " 'اصبحت تقدم برامج عبر الجمعيات الخيريه لايصال خبثها اين مسؤولي الجمعيه من هذا',\n",
              " 'اعلامنا متمثل في داوودالشريان روتانا وطقتهم كيف ترجي من هالاشكال خير همهم الوحيد في الحياه',\n",
              " 'الاصرار بضاعه هالمترديه قناه العهر مزجاه في جميع المجالات',\n",
              " 'الاعلام اللبناني يهاجم السعوديه منذ مده بكل قبيح ومجموعه تدعم الاعلام في لبنان باقامه برامجها الضخمه فيها',\n",
              " 'البرنامج استاجر بعض المشاهير الهوامير في تويتر عشان يبررو لهم ويرقعو لقناه',\n",
              " 'الحمد لله ما احتاج اتعلم من واحد فاشل اخلاقيا همه الشحاذه من على حساب',\n",
              " 'الخرج بيض الله وجه محافظ الخرج فهذه القناه تصب على المسلمين سيل من المخالفات الشرعيه والمحرمات تدعو الى الرذيله وتشوه صوره الاسلام',\n",
              " 'الرياض السعوديه رسالتي لوزير العمل في حينه عن برنامج حتي بفكرته منسوخ بشكل مبتذل وفاشل']"
            ]
          },
          "metadata": {
            "tags": []
          },
          "execution_count": 87
        }
      ]
    },
    {
      "cell_type": "code",
      "metadata": {
        "id": "b8VJG9peZzJu",
        "colab_type": "code",
        "colab": {}
      },
      "source": [
        "#normalization\n",
        "def normalizeArabic(text):\n",
        "    text = re.sub(\"[إأٱآا]\", \"ا\", text)\n",
        "    text = re.sub(\"ى\", \"ي\", text)\n",
        "    text = re.sub(\"ؤ\", \"و\", text)\n",
        "    text = re.sub(\"ئ\", \"ء\", text)\n",
        "    text = re.sub(\"ة\", \"ه\", text)\n",
        "    return(text)\n",
        "for i in range(len(clean_tweet_texts)):\n",
        "  clean_tweet_texts[i] = normalizeArabic(clean_tweet_texts[i])\n",
        "#repeated letters\n",
        "import re\n",
        "for i in range(len(clean_tweet_texts)):\n",
        "  clean_tweet_texts[i] = re.sub(r'(.)\\1+', r'\\1\\1', clean_tweet_texts[i])"
      ],
      "execution_count": 88,
      "outputs": []
    },
    {
      "cell_type": "code",
      "metadata": {
        "id": "4Mo5oCECbCKy",
        "colab_type": "code",
        "colab": {
          "base_uri": "https://localhost:8080/",
          "height": 191
        },
        "outputId": "b7b195bb-6c63-454d-97c7-c00f1b7e2172"
      },
      "source": [
        "clean_tweet_texts[:10]"
      ],
      "execution_count": 89,
      "outputs": [
        {
          "output_type": "execute_result",
          "data": {
            "text/plain": [
              "['الوسخ ابن الوسخه كلما حصل حادث اتهم السعوديه بالارهاب الكلب كان براتب مليون جنيه من سنوي مصر',\n",
              " 'اخطر حروب الارض حرب العقيده حسيبك الله اول ال راه يم رب عل نا وق ده الع يده وات زا',\n",
              " 'اصبحت تقدم برامج عبر الجمعيات الخيريه لايصال خبثها اين مسوولي الجمعيه من هذا',\n",
              " 'اعلامنا متمثل في داوودالشريان روتانا وطقتهم كيف ترجي من هالاشكال خير همهم الوحيد في الحياه',\n",
              " 'الاصرار بضاعه هالمترديه قناه العهر مزجاه في جميع المجالات',\n",
              " 'الاعلام اللبناني يهاجم السعوديه منذ مده بكل قبيح ومجموعه تدعم الاعلام في لبنان باقامه برامجها الضخمه فيها',\n",
              " 'البرنامج استاجر بعض المشاهير الهوامير في تويتر عشان يبررو لهم ويرقعو لقناه',\n",
              " 'الحمد لله ما احتاج اتعلم من واحد فاشل اخلاقيا همه الشحاذه من علي حساب',\n",
              " 'الخرج بيض الله وجه محافظ الخرج فهذه القناه تصب علي المسلمين سيل من المخالفات الشرعيه والمحرمات تدعو الي الرذيله وتشوه صوره الاسلام',\n",
              " 'الرياض السعوديه رسالتي لوزير العمل في حينه عن برنامج حتي بفكرته منسوخ بشكل مبتذل وفاشل']"
            ]
          },
          "metadata": {
            "tags": []
          },
          "execution_count": 89
        }
      ]
    },
    {
      "cell_type": "code",
      "metadata": {
        "id": "uhi_dIVUZ9RT",
        "colab_type": "code",
        "colab": {}
      },
      "source": [
        "df = pd.DataFrame(clean_tweet_texts, columns=['text'])\n",
        "df['polarity'] = y\n",
        "df.rename(columns={'polarity':'target'},inplace=True)\n",
        "df.to_csv('clean_tweet.csv', encoding='utf-8')"
      ],
      "execution_count": 90,
      "outputs": []
    },
    {
      "cell_type": "code",
      "metadata": {
        "id": "YYvkL8VicAFf",
        "colab_type": "code",
        "colab": {}
      },
      "source": [
        "csv = 'clean_tweet.csv'\n",
        "df = pd.read_csv(csv, index_col=0)"
      ],
      "execution_count": 91,
      "outputs": []
    },
    {
      "cell_type": "code",
      "metadata": {
        "id": "U4I7txKPcJpu",
        "colab_type": "code",
        "colab": {
          "base_uri": "https://localhost:8080/",
          "height": 173
        },
        "outputId": "d1f3b1ce-3950-4dc9-b0fc-09674e0874ca"
      },
      "source": [
        "df.info()"
      ],
      "execution_count": 92,
      "outputs": [
        {
          "output_type": "stream",
          "text": [
            "<class 'pandas.core.frame.DataFrame'>\n",
            "Int64Index: 55176 entries, 0 to 55175\n",
            "Data columns (total 2 columns):\n",
            " #   Column  Non-Null Count  Dtype \n",
            "---  ------  --------------  ----- \n",
            " 0   text    55171 non-null  object\n",
            " 1   target  55176 non-null  int64 \n",
            "dtypes: int64(1), object(1)\n",
            "memory usage: 1.3+ MB\n"
          ],
          "name": "stdout"
        }
      ]
    },
    {
      "cell_type": "code",
      "metadata": {
        "id": "VGS3i6TxmO1j",
        "colab_type": "code",
        "colab": {
          "base_uri": "https://localhost:8080/",
          "height": 202
        },
        "outputId": "4cce4c46-311b-4804-d75a-8d2d6eab1195"
      },
      "source": [
        "df.head()"
      ],
      "execution_count": 93,
      "outputs": [
        {
          "output_type": "execute_result",
          "data": {
            "text/html": [
              "<div>\n",
              "<style scoped>\n",
              "    .dataframe tbody tr th:only-of-type {\n",
              "        vertical-align: middle;\n",
              "    }\n",
              "\n",
              "    .dataframe tbody tr th {\n",
              "        vertical-align: top;\n",
              "    }\n",
              "\n",
              "    .dataframe thead th {\n",
              "        text-align: right;\n",
              "    }\n",
              "</style>\n",
              "<table border=\"1\" class=\"dataframe\">\n",
              "  <thead>\n",
              "    <tr style=\"text-align: right;\">\n",
              "      <th></th>\n",
              "      <th>text</th>\n",
              "      <th>target</th>\n",
              "    </tr>\n",
              "  </thead>\n",
              "  <tbody>\n",
              "    <tr>\n",
              "      <th>0</th>\n",
              "      <td>الوسخ ابن الوسخه كلما حصل حادث اتهم السعوديه ب...</td>\n",
              "      <td>0</td>\n",
              "    </tr>\n",
              "    <tr>\n",
              "      <th>1</th>\n",
              "      <td>اخطر حروب الارض حرب العقيده حسيبك الله اول ال ...</td>\n",
              "      <td>0</td>\n",
              "    </tr>\n",
              "    <tr>\n",
              "      <th>2</th>\n",
              "      <td>اصبحت تقدم برامج عبر الجمعيات الخيريه لايصال خ...</td>\n",
              "      <td>0</td>\n",
              "    </tr>\n",
              "    <tr>\n",
              "      <th>3</th>\n",
              "      <td>اعلامنا متمثل في داوودالشريان روتانا وطقتهم كي...</td>\n",
              "      <td>0</td>\n",
              "    </tr>\n",
              "    <tr>\n",
              "      <th>4</th>\n",
              "      <td>الاصرار بضاعه هالمترديه قناه العهر مزجاه في جم...</td>\n",
              "      <td>0</td>\n",
              "    </tr>\n",
              "  </tbody>\n",
              "</table>\n",
              "</div>"
            ],
            "text/plain": [
              "                                                text  target\n",
              "0  الوسخ ابن الوسخه كلما حصل حادث اتهم السعوديه ب...       0\n",
              "1  اخطر حروب الارض حرب العقيده حسيبك الله اول ال ...       0\n",
              "2  اصبحت تقدم برامج عبر الجمعيات الخيريه لايصال خ...       0\n",
              "3  اعلامنا متمثل في داوودالشريان روتانا وطقتهم كي...       0\n",
              "4  الاصرار بضاعه هالمترديه قناه العهر مزجاه في جم...       0"
            ]
          },
          "metadata": {
            "tags": []
          },
          "execution_count": 93
        }
      ]
    },
    {
      "cell_type": "code",
      "metadata": {
        "id": "oS9hMJILcKU-",
        "colab_type": "code",
        "colab": {
          "base_uri": "https://localhost:8080/",
          "height": 173
        },
        "outputId": "7d2bb10d-3688-4d95-e34f-b5ef55bb7391"
      },
      "source": [
        "df.dropna(inplace=True)\n",
        "df.reset_index(drop=True, inplace=True)\n",
        "df.info()"
      ],
      "execution_count": 94,
      "outputs": [
        {
          "output_type": "stream",
          "text": [
            "<class 'pandas.core.frame.DataFrame'>\n",
            "RangeIndex: 55171 entries, 0 to 55170\n",
            "Data columns (total 2 columns):\n",
            " #   Column  Non-Null Count  Dtype \n",
            "---  ------  --------------  ----- \n",
            " 0   text    55171 non-null  object\n",
            " 1   target  55171 non-null  int64 \n",
            "dtypes: int64(1), object(1)\n",
            "memory usage: 862.2+ KB\n"
          ],
          "name": "stdout"
        }
      ]
    },
    {
      "cell_type": "code",
      "metadata": {
        "id": "z6GDs5PQcSRt",
        "colab_type": "code",
        "colab": {}
      },
      "source": [
        "x = df.text\n",
        "y = df.target\n"
      ],
      "execution_count": 95,
      "outputs": []
    },
    {
      "cell_type": "code",
      "metadata": {
        "id": "HirzfE9lcTDX",
        "colab_type": "code",
        "colab": {}
      },
      "source": [
        "from sklearn.model_selection import train_test_split\n",
        "SEED = 666\n",
        "x_train, x_validation_and_test, y_train, y_validation_and_test = train_test_split(x, y, test_size=.2, random_state=SEED)\n",
        "x_validation, x_test, y_validation, y_test = train_test_split(x_validation_and_test, y_validation_and_test, test_size=.5, random_state=SEED)"
      ],
      "execution_count": 96,
      "outputs": []
    },
    {
      "cell_type": "code",
      "metadata": {
        "id": "8ZiRv1NMcXSx",
        "colab_type": "code",
        "colab": {
          "base_uri": "https://localhost:8080/",
          "height": 69
        },
        "outputId": "a3a6b906-c12e-4851-a507-249dbaafba63"
      },
      "source": [
        "print(\"Train set has total {0} entries with {1:.2f}% negative, {2:.2f}% positive, {3:.2f}% neutral\".format(len(x_train),\n",
        "                                                                             (len(x_train[y_train == 0]) / (len(x_train)*1.))*100,\n",
        "                                                                            (len(x_train[y_train == 1]) / (len(x_train)*1.))*100,\n",
        "                                                                            (len(x_train[y_train == 2]) / (len(x_train)*1.))*100))\n",
        "print(\"Validation set has total {0} entries with {1:.2f}% negative, {2:.2f}% positive, {3:.2f}% neutral\".format(len(x_validation),\n",
        "                                                                             (len(x_validation[y_validation == 0]) / (len(x_validation)*1.))*100,\n",
        "                                                                            (len(x_validation[y_validation == 1]) / (len(x_validation)*1.))*100,\n",
        "                                                                            (len(x_validation[y_validation == 2]) / (len(x_validation)*1.))*100))\n",
        "print(\"Test set has total {0} entries with {1:.2f}% negative, {2:.2f}% positive, {3:.2f}% neutral\".format(len(x_test),\n",
        "                                                                             (len(x_test[y_test == 0]) / (len(x_test)*1.))*100,\n",
        "                                                                            (len(x_test[y_test == 1]) / (len(x_test)*1.))*100,\n",
        "                                                                            (len(x_test[y_test == 2]) / (len(x_test)*1.))*100))\n"
      ],
      "execution_count": 97,
      "outputs": [
        {
          "output_type": "stream",
          "text": [
            "Train set has total 44136 entries with 36.17% negative, 30.75% positive, 33.09% neutral\n",
            "Validation set has total 5517 entries with 36.47% negative, 30.56% positive, 32.97% neutral\n",
            "Test set has total 5518 entries with 35.67% negative, 30.61% positive, 33.73% neutral\n"
          ],
          "name": "stdout"
        }
      ]
    },
    {
      "cell_type": "code",
      "metadata": {
        "id": "OPlLPd7ccaSx",
        "colab_type": "code",
        "colab": {
          "base_uri": "https://localhost:8080/",
          "height": 35
        },
        "outputId": "ba1dfddd-1342-4ae4-e042-8db9e132bd22"
      },
      "source": [
        "#converting the labels to categorical data\n",
        "\n",
        "from keras.utils import to_categorical\n",
        "y_train = to_categorical(y_train)\n",
        "y_train.shape"
      ],
      "execution_count": 98,
      "outputs": [
        {
          "output_type": "execute_result",
          "data": {
            "text/plain": [
              "(44136, 3)"
            ]
          },
          "metadata": {
            "tags": []
          },
          "execution_count": 98
        }
      ]
    },
    {
      "cell_type": "code",
      "metadata": {
        "id": "Nkv1sE5rcdDS",
        "colab_type": "code",
        "colab": {}
      },
      "source": [
        "y_validation = to_categorical(y_validation)"
      ],
      "execution_count": 99,
      "outputs": []
    },
    {
      "cell_type": "code",
      "metadata": {
        "id": "vJEpV-t4ce-7",
        "colab_type": "code",
        "colab": {
          "base_uri": "https://localhost:8080/",
          "height": 35
        },
        "outputId": "e897fc06-4567-4434-e1b2-a987a014d1fb"
      },
      "source": [
        "y_validation.shape"
      ],
      "execution_count": 100,
      "outputs": [
        {
          "output_type": "execute_result",
          "data": {
            "text/plain": [
              "(5517, 3)"
            ]
          },
          "metadata": {
            "tags": []
          },
          "execution_count": 100
        }
      ]
    },
    {
      "cell_type": "markdown",
      "metadata": {
        "id": "6eiL-stPco2L",
        "colab_type": "text"
      },
      "source": [
        "#**word to vector**"
      ]
    },
    {
      "cell_type": "code",
      "metadata": {
        "id": "4jG165zUcllu",
        "colab_type": "code",
        "colab": {}
      },
      "source": [
        "from tqdm import tqdm\n",
        "tqdm.pandas(desc=\"progress-bar\")\n",
        "import gensim\n",
        "from gensim.models.word2vec import Word2Vec\n",
        "from gensim.models.doc2vec import TaggedDocument\n",
        "import multiprocessing\n",
        "from sklearn import utils\n",
        "from keras.preprocessing.text import Tokenizer"
      ],
      "execution_count": 101,
      "outputs": []
    },
    {
      "cell_type": "markdown",
      "metadata": {
        "id": "UiWJmXRLeY1v",
        "colab_type": "text"
      },
      "source": [
        "##**AraVec**"
      ]
    },
    {
      "cell_type": "code",
      "metadata": {
        "id": "uL0pOiA1eOGC",
        "colab_type": "code",
        "colab": {}
      },
      "source": [
        "!cp /content/drive/My\\ Drive/Colab\\ Notebooks/full_uni_cbow_100_twitter.zip /content/"
      ],
      "execution_count": 102,
      "outputs": []
    },
    {
      "cell_type": "code",
      "metadata": {
        "id": "mWSf7wz-ei82",
        "colab_type": "code",
        "colab": {}
      },
      "source": [
        "!cp /content/drive/My\\ Drive/Colab\\ Notebooks/full_uni_sg_100_twitter.zip /content/"
      ],
      "execution_count": 103,
      "outputs": []
    },
    {
      "cell_type": "code",
      "metadata": {
        "id": "Em6Sadnceltb",
        "colab_type": "code",
        "colab": {
          "base_uri": "https://localhost:8080/",
          "height": 87
        },
        "outputId": "548a0acf-caae-42ae-836f-52f54c2cb3ca"
      },
      "source": [
        "!unzip full_uni_cbow_100_twitter.zip"
      ],
      "execution_count": 104,
      "outputs": [
        {
          "output_type": "stream",
          "text": [
            "Archive:  full_uni_cbow_100_twitter.zip\n",
            "replace full_uni_cbow_100_twitter.mdl? [y]es, [n]o, [A]ll, [N]one, [r]ename: n\n",
            "replace full_uni_cbow_100_twitter.mdl.trainables.syn1neg.npy? [y]es, [n]o, [A]ll, [N]one, [r]ename: n\n",
            "replace full_uni_cbow_100_twitter.mdl.wv.vectors.npy? [y]es, [n]o, [A]ll, [N]one, [r]ename: n\n"
          ],
          "name": "stdout"
        }
      ]
    },
    {
      "cell_type": "code",
      "metadata": {
        "id": "UP2Fd1MPeorj",
        "colab_type": "code",
        "colab": {
          "base_uri": "https://localhost:8080/",
          "height": 87
        },
        "outputId": "20f749ed-00dd-4821-e1e2-d8c394adb69f"
      },
      "source": [
        "!unzip full_uni_sg_100_twitter.zip"
      ],
      "execution_count": 105,
      "outputs": [
        {
          "output_type": "stream",
          "text": [
            "Archive:  full_uni_sg_100_twitter.zip\n",
            "replace full_uni_sg_100_twitter.mdl? [y]es, [n]o, [A]ll, [N]one, [r]ename: n\n",
            "replace full_uni_sg_100_twitter.mdl.trainables.syn1neg.npy? [y]es, [n]o, [A]ll, [N]one, [r]ename: n\n",
            "replace full_uni_sg_100_twitter.mdl.wv.vectors.npy? [y]es, [n]o, [A]ll, [N]one, [r]ename: n\n"
          ],
          "name": "stdout"
        }
      ]
    },
    {
      "cell_type": "code",
      "metadata": {
        "id": "T3ycWq1ser2j",
        "colab_type": "code",
        "colab": {
          "base_uri": "https://localhost:8080/",
          "height": 72
        },
        "outputId": "ab4dcff6-12d7-4955-9592-4a6e0c073ad7"
      },
      "source": [
        "from gensim.models import KeyedVectors\n",
        "model_ug_cbow = KeyedVectors.load('full_uni_cbow_100_twitter.mdl')\n",
        "model_ug_sg = KeyedVectors.load('full_uni_cbow_100_twitter.mdl')"
      ],
      "execution_count": 106,
      "outputs": [
        {
          "output_type": "stream",
          "text": [
            "/usr/local/lib/python3.6/dist-packages/smart_open/smart_open_lib.py:254: UserWarning: This function is deprecated, use smart_open.open instead. See the migration notes for details: https://github.com/RaRe-Technologies/smart_open/blob/master/README.rst#migrating-to-the-new-open-function\n",
            "  'See the migration notes for details: %s' % _MIGRATION_NOTES_URL\n"
          ],
          "name": "stderr"
        }
      ]
    },
    {
      "cell_type": "code",
      "metadata": {
        "id": "C16nHRyFewqG",
        "colab_type": "code",
        "colab": {
          "base_uri": "https://localhost:8080/",
          "height": 35
        },
        "outputId": "987ad8ab-4dac-4daa-d16b-4f328f50360c"
      },
      "source": [
        "len(model_ug_cbow.wv.vocab.keys())"
      ],
      "execution_count": 107,
      "outputs": [
        {
          "output_type": "execute_result",
          "data": {
            "text/plain": [
              "1259756"
            ]
          },
          "metadata": {
            "tags": []
          },
          "execution_count": 107
        }
      ]
    },
    {
      "cell_type": "code",
      "metadata": {
        "id": "gyMUbEVbexaq",
        "colab_type": "code",
        "colab": {
          "base_uri": "https://localhost:8080/",
          "height": 35
        },
        "outputId": "43fdc92e-a728-42c3-df84-a2ae68e650d5"
      },
      "source": [
        "embeddings_index = {}\n",
        "for w in model_ug_cbow.wv.vocab.keys():\n",
        "  embeddings_index[w] = np.append(model_ug_cbow.wv[w], \n",
        "                                  model_ug_sg.wv[w])\n",
        "print(f'Found {len(embeddings_index)} word vectors.')"
      ],
      "execution_count": 108,
      "outputs": [
        {
          "output_type": "stream",
          "text": [
            "Found 1259756 word vectors.\n"
          ],
          "name": "stdout"
        }
      ]
    },
    {
      "cell_type": "markdown",
      "metadata": {
        "id": "zYeOSWRTe3ti",
        "colab_type": "text"
      },
      "source": [
        "#**Pad Sequence**"
      ]
    },
    {
      "cell_type": "code",
      "metadata": {
        "id": "jX2YAYmCe6aV",
        "colab_type": "code",
        "colab": {}
      },
      "source": [
        "from keras.preprocessing.text import Tokenizer\n",
        "from keras.preprocessing.sequence import pad_sequences\n",
        "\n",
        "tokenizer = Tokenizer(num_words=100000)\n",
        "tokenizer.fit_on_texts(x_train)\n",
        "sequences = tokenizer.texts_to_sequences(x_train)"
      ],
      "execution_count": 109,
      "outputs": []
    },
    {
      "cell_type": "code",
      "metadata": {
        "id": "1BqABRjbe0PT",
        "colab_type": "code",
        "colab": {
          "base_uri": "https://localhost:8080/",
          "height": 0
        },
        "outputId": "ed108840-05e2-49e0-bad7-291cb41feb8d"
      },
      "source": [
        "len(tokenizer.word_index)"
      ],
      "execution_count": 110,
      "outputs": [
        {
          "output_type": "execute_result",
          "data": {
            "text/plain": [
              "72870"
            ]
          },
          "metadata": {
            "tags": []
          },
          "execution_count": 110
        }
      ]
    },
    {
      "cell_type": "code",
      "metadata": {
        "id": "Tm5Or_z9fCzA",
        "colab_type": "code",
        "colab": {
          "base_uri": "https://localhost:8080/",
          "height": 0
        },
        "outputId": "223da508-4338-4e28-c662-0e14293908df"
      },
      "source": [
        "for x in x_train[:5]:\n",
        "  print(x)"
      ],
      "execution_count": 111,
      "outputs": [
        {
          "output_type": "stream",
          "text": [
            "افا شالوا عزام\n",
            "اجازه للرياض غدا انتظروا الرسمي\n",
            "بينوعون مصادر الدخل ورفع الانفاق علي حساب عشره البنزين اقص يدي من الذراع اذا تعرضوا لمخصصات الامراا\n",
            "اليمن الجاليه اليمنيه في اميركا عوده هادي لعدن خطوه اولي للوصول الي صنعاا\n",
            "اي ظلم هذا وضيم وقهر يا الخنفوش يارب انزل في مقتك وغضبك اسيويا وارنا بلجنه التحكيم عجاءب قدرتك وغضبك وقوتك\n"
          ],
          "name": "stdout"
        }
      ]
    },
    {
      "cell_type": "code",
      "metadata": {
        "id": "G-t_6j7ufF3B",
        "colab_type": "code",
        "colab": {}
      },
      "source": [
        "length = []\n",
        "for x in x_train:\n",
        "  length.append(len(x.split()))"
      ],
      "execution_count": 112,
      "outputs": []
    },
    {
      "cell_type": "code",
      "metadata": {
        "id": "Tn_QJ_swfIIZ",
        "colab_type": "code",
        "colab": {
          "base_uri": "https://localhost:8080/",
          "height": 0
        },
        "outputId": "3ae5e759-c7cc-4cc0-a22f-48d00df59fc2"
      },
      "source": [
        "tweetlen= max(length)\n",
        "tweetlen"
      ],
      "execution_count": 113,
      "outputs": [
        {
          "output_type": "execute_result",
          "data": {
            "text/plain": [
              "28"
            ]
          },
          "metadata": {
            "tags": []
          },
          "execution_count": 113
        }
      ]
    },
    {
      "cell_type": "code",
      "metadata": {
        "id": "bzI-c79_fMRG",
        "colab_type": "code",
        "colab": {
          "base_uri": "https://localhost:8080/",
          "height": 0
        },
        "outputId": "eda470e7-da6e-4e34-be60-576795b7e260"
      },
      "source": [
        "x_train_seq = pad_sequences(sequences, maxlen=tweetlen)\n",
        "print('Shape of data tensor: ', x_train_seq.shape)"
      ],
      "execution_count": 114,
      "outputs": [
        {
          "output_type": "stream",
          "text": [
            "Shape of data tensor:  (44136, 28)\n"
          ],
          "name": "stdout"
        }
      ]
    },
    {
      "cell_type": "code",
      "metadata": {
        "id": "8ubcvRvFfOxP",
        "colab_type": "code",
        "colab": {
          "base_uri": "https://localhost:8080/",
          "height": 0
        },
        "outputId": "94721cff-7919-4347-d5d9-531fec2f31bd"
      },
      "source": [
        "x_train_seq[:5]"
      ],
      "execution_count": 115,
      "outputs": [
        {
          "output_type": "execute_result",
          "data": {
            "text/plain": [
              "array([[    0,     0,     0,     0,     0,     0,     0,     0,     0,\n",
              "            0,     0,     0,     0,     0,     0,     0,     0,     0,\n",
              "            0,     0,     0,     0,     0,     0,     0,  7216, 12608,\n",
              "          188],\n",
              "       [    0,     0,     0,     0,     0,     0,     0,     0,     0,\n",
              "            0,     0,     0,     0,     0,     0,     0,     0,     0,\n",
              "            0,     0,     0,     0,     0,   101,  3861,   169,  4116,\n",
              "         1905],\n",
              "       [    0,     0,     0,     0,     0,     0,     0,     0,     0,\n",
              "            0,     0, 30825,  1027,  1082,  2291,  2367,     4,   464,\n",
              "         2101,   137, 10633,  6510,     1, 30826,    38, 30827, 20507,\n",
              "         3862],\n",
              "       [    0,     0,     0,     0,     0,     0,     0,     0,     0,\n",
              "            0,     0,     0,     0,     0,     0,    31,  7217,  2655,\n",
              "            3, 12609,   166,  2102, 15553,  1458,  1800, 10634,    16,\n",
              "          615],\n",
              "       [    0,     0,     0,     0,     0,     0,     0,     0,    56,\n",
              "          277,    12, 30828, 12610,    10, 10635,    86,  5032,     3,\n",
              "        30829, 20508, 10636, 10637, 30830,    68,  5954,  7218, 20508,\n",
              "        20509]], dtype=int32)"
            ]
          },
          "metadata": {
            "tags": []
          },
          "execution_count": 115
        }
      ]
    },
    {
      "cell_type": "code",
      "metadata": {
        "id": "RzTETr_GfRO5",
        "colab_type": "code",
        "colab": {}
      },
      "source": [
        "sequences_val = tokenizer.texts_to_sequences(x_validation)\n",
        "x_val_seq = pad_sequences(sequences_val, maxlen=tweetlen)"
      ],
      "execution_count": 116,
      "outputs": []
    },
    {
      "cell_type": "code",
      "metadata": {
        "id": "8M7GrJS4fVSe",
        "colab_type": "code",
        "colab": {}
      },
      "source": [
        "num_words = 100000\n",
        "embedding_matrix = np.zeros((num_words, 200)) #AraVec\n",
        "#embedding_matrix = np.zeros((num_words, 300)) #ArabicNews & Fasttext\n",
        "\n",
        "for word, i in tokenizer.word_index.items():\n",
        "  if i >= num_words:\n",
        "    continue\n",
        "  embedding_vector = embeddings_index.get(word)\n",
        "  if embedding_vector is not None:\n",
        "    embedding_matrix[i] = embedding_vector"
      ],
      "execution_count": 117,
      "outputs": []
    },
    {
      "cell_type": "code",
      "metadata": {
        "id": "87rU82FcfjI6",
        "colab_type": "code",
        "colab": {}
      },
      "source": [
        "seed = 3\n",
        "\n",
        "from keras.models import Sequential\n",
        "from keras.layers import Dense, Dropout, Flatten\n",
        "from keras.layers.embeddings import Embedding"
      ],
      "execution_count": 118,
      "outputs": []
    },
    {
      "cell_type": "code",
      "metadata": {
        "id": "aSwjRdpkfmIx",
        "colab_type": "code",
        "colab": {}
      },
      "source": [
        "sequences_test = tokenizer.texts_to_sequences(x_test)\n",
        "x_test_seq = pad_sequences(sequences_test, maxlen=tweetlen)\n",
        "y_test = to_categorical(y_test)"
      ],
      "execution_count": 119,
      "outputs": []
    },
    {
      "cell_type": "code",
      "metadata": {
        "id": "DilJ5EbIfpUi",
        "colab_type": "code",
        "colab": {
          "base_uri": "https://localhost:8080/",
          "height": 0
        },
        "outputId": "4bc99485-c90f-407f-bdc7-72b637cabd2c"
      },
      "source": [
        "!pip install keras_metrics"
      ],
      "execution_count": 120,
      "outputs": [
        {
          "output_type": "stream",
          "text": [
            "Requirement already satisfied: keras_metrics in /usr/local/lib/python3.6/dist-packages (1.1.0)\n",
            "Requirement already satisfied: Keras>=2.1.5 in /usr/local/lib/python3.6/dist-packages (from keras_metrics) (2.3.1)\n",
            "Requirement already satisfied: h5py in /usr/local/lib/python3.6/dist-packages (from Keras>=2.1.5->keras_metrics) (2.10.0)\n",
            "Requirement already satisfied: scipy>=0.14 in /usr/local/lib/python3.6/dist-packages (from Keras>=2.1.5->keras_metrics) (1.4.1)\n",
            "Requirement already satisfied: numpy>=1.9.1 in /usr/local/lib/python3.6/dist-packages (from Keras>=2.1.5->keras_metrics) (1.18.5)\n",
            "Requirement already satisfied: pyyaml in /usr/local/lib/python3.6/dist-packages (from Keras>=2.1.5->keras_metrics) (3.13)\n",
            "Requirement already satisfied: keras-preprocessing>=1.0.5 in /usr/local/lib/python3.6/dist-packages (from Keras>=2.1.5->keras_metrics) (1.1.2)\n",
            "Requirement already satisfied: keras-applications>=1.0.6 in /usr/local/lib/python3.6/dist-packages (from Keras>=2.1.5->keras_metrics) (1.0.8)\n",
            "Requirement already satisfied: six>=1.9.0 in /usr/local/lib/python3.6/dist-packages (from Keras>=2.1.5->keras_metrics) (1.15.0)\n"
          ],
          "name": "stdout"
        }
      ]
    },
    {
      "cell_type": "code",
      "metadata": {
        "id": "LUV_TRJafus_",
        "colab_type": "code",
        "colab": {}
      },
      "source": [
        "import keras\n",
        "import keras_metrics\n",
        "from keras import layers\n",
        "from keras.optimizers import Adam\n",
        "from keras.callbacks import TensorBoard\n",
        "import shutil"
      ],
      "execution_count": 121,
      "outputs": []
    },
    {
      "cell_type": "markdown",
      "metadata": {
        "id": "xZLwaB1Dkpmw",
        "colab_type": "text"
      },
      "source": [
        "#**GRU with stopword removal**"
      ]
    },
    {
      "cell_type": "code",
      "metadata": {
        "id": "NBabyADZk0Fn",
        "colab_type": "code",
        "colab": {}
      },
      "source": [
        "tensorboard = TensorBoard(log_dir=\"./logs/gru_remove_stopword\")\n",
        "keras_callbacks = [tensorboard]"
      ],
      "execution_count": 64,
      "outputs": []
    },
    {
      "cell_type": "code",
      "metadata": {
        "id": "33dWcix3lFTp",
        "colab_type": "code",
        "colab": {
          "base_uri": "https://localhost:8080/",
          "height": 679
        },
        "outputId": "9f6e25d0-f6fb-4cae-cf16-a4df9d1ae878"
      },
      "source": [
        "%%time\n",
        "\n",
        "model_gru = Sequential()\n",
        "e = Embedding(100000, 200, weights=[embedding_matrix], input_length=tweetlen\n",
        "              , trainable=True)\n",
        "model_gru.add(e)\n",
        "model_gru.add(keras.layers.GRU(100, dropout=0.2))\n",
        "model_gru.add(Dense(3, activation='softmax'))\n",
        "#optimizers=Adam(lr=0.001,momentum=0.9, clipnorm=1.0)\n",
        "model_gru.compile(loss='categorical_crossentropy', optimizer='adam',\n",
        "                  metrics=['accuracy', keras_metrics.precision(), \n",
        "                           keras_metrics.recall(), keras_metrics.f1_score()])\n",
        "model_gru.summary()\n",
        "model_gru.fit(x_train_seq, y_train, \n",
        "          validation_data=(x_val_seq, y_validation),\n",
        "          epochs=5, batch_size=64, callbacks=keras_callbacks)"
      ],
      "execution_count": 65,
      "outputs": [
        {
          "output_type": "stream",
          "text": [
            "tracking <tf.Variable 'Variable:0' shape=() dtype=int32, numpy=0> tp\n",
            "tracking <tf.Variable 'Variable:0' shape=() dtype=int32, numpy=0> fp\n",
            "tracking <tf.Variable 'Variable:0' shape=() dtype=int32, numpy=0> tp\n",
            "tracking <tf.Variable 'Variable:0' shape=() dtype=int32, numpy=0> fn\n",
            "tracking <tf.Variable 'Variable:0' shape=() dtype=int32, numpy=0> tp\n",
            "tracking <tf.Variable 'Variable:0' shape=() dtype=int32, numpy=0> fp\n",
            "tracking <tf.Variable 'Variable:0' shape=() dtype=int32, numpy=0> tp\n",
            "tracking <tf.Variable 'Variable:0' shape=() dtype=int32, numpy=0> fn\n",
            "Model: \"sequential_1\"\n",
            "_________________________________________________________________\n",
            "Layer (type)                 Output Shape              Param #   \n",
            "=================================================================\n",
            "embedding_1 (Embedding)      (None, 24, 200)           20000000  \n",
            "_________________________________________________________________\n",
            "gru_1 (GRU)                  (None, 100)               90300     \n",
            "_________________________________________________________________\n",
            "dense_1 (Dense)              (None, 3)                 303       \n",
            "=================================================================\n",
            "Total params: 20,090,603\n",
            "Trainable params: 20,090,603\n",
            "Non-trainable params: 0\n",
            "_________________________________________________________________\n"
          ],
          "name": "stdout"
        },
        {
          "output_type": "stream",
          "text": [
            "/usr/local/lib/python3.6/dist-packages/tensorflow/python/framework/indexed_slices.py:434: UserWarning: Converting sparse IndexedSlices to a dense Tensor of unknown shape. This may consume a large amount of memory.\n",
            "  \"Converting sparse IndexedSlices to a dense Tensor of unknown shape. \"\n"
          ],
          "name": "stderr"
        },
        {
          "output_type": "stream",
          "text": [
            "Train on 44134 samples, validate on 5517 samples\n",
            "Epoch 1/5\n",
            "44134/44134 [==============================] - 68s 2ms/step - loss: 0.6746 - accuracy: 0.7158 - precision: 0.6899 - recall: 0.6072 - f1_score: 0.6451 - val_loss: 0.5729 - val_accuracy: 0.7658 - val_precision: 0.7930 - val_recall: 0.7449 - val_f1_score: 0.7680\n",
            "Epoch 2/5\n",
            "44134/44134 [==============================] - 67s 2ms/step - loss: 0.5123 - accuracy: 0.7910 - precision: 0.8121 - recall: 0.7749 - f1_score: 0.7930 - val_loss: 0.5245 - val_accuracy: 0.7850 - val_precision: 0.8255 - val_recall: 0.7572 - val_f1_score: 0.7897\n",
            "Epoch 3/5\n",
            "44134/44134 [==============================] - 66s 1ms/step - loss: 0.4305 - accuracy: 0.8298 - precision: 0.8502 - recall: 0.8192 - f1_score: 0.8344 - val_loss: 0.5230 - val_accuracy: 0.7874 - val_precision: 0.8192 - val_recall: 0.7517 - val_f1_score: 0.7838\n",
            "Epoch 4/5\n",
            "44134/44134 [==============================] - 66s 1ms/step - loss: 0.3557 - accuracy: 0.8633 - precision: 0.8847 - recall: 0.8574 - f1_score: 0.8708 - val_loss: 0.5457 - val_accuracy: 0.7892 - val_precision: 0.8285 - val_recall: 0.7477 - val_f1_score: 0.7859\n",
            "Epoch 5/5\n",
            "44134/44134 [==============================] - 66s 1ms/step - loss: 0.2929 - accuracy: 0.8884 - precision: 0.9073 - recall: 0.8876 - f1_score: 0.8973 - val_loss: 0.5655 - val_accuracy: 0.7890 - val_precision: 0.8217 - val_recall: 0.7413 - val_f1_score: 0.7793\n",
            "CPU times: user 11min 3s, sys: 1min 47s, total: 12min 51s\n",
            "Wall time: 5min 42s\n"
          ],
          "name": "stdout"
        }
      ]
    },
    {
      "cell_type": "code",
      "metadata": {
        "id": "Tl8sytyflbzM",
        "colab_type": "code",
        "colab": {
          "base_uri": "https://localhost:8080/",
          "height": 121
        },
        "outputId": "e657ed82-53fa-4734-8f5e-7016802ee29b"
      },
      "source": [
        "#stopword removal\n",
        "model_gru.evaluate(x_test_seq, y_test)"
      ],
      "execution_count": 66,
      "outputs": [
        {
          "output_type": "stream",
          "text": [
            "5517/5517 [==============================] - 2s 353us/step\n"
          ],
          "name": "stdout"
        },
        {
          "output_type": "execute_result",
          "data": {
            "text/plain": [
              "[0.5743116761152783,\n",
              " 0.7853906154632568,\n",
              " 0.8411598801612854,\n",
              " 0.7532173991203308,\n",
              " 0.7946584224700928]"
            ]
          },
          "metadata": {
            "tags": []
          },
          "execution_count": 66
        }
      ]
    },
    {
      "cell_type": "code",
      "metadata": {
        "id": "fRqPclTCln36",
        "colab_type": "code",
        "colab": {
          "base_uri": "https://localhost:8080/",
          "height": 35
        },
        "outputId": "269f5883-5c3c-442a-b07f-1b4a08e19c50"
      },
      "source": [
        "# serialize model to JSON\n",
        "model_json = model_gru.to_json()\n",
        "with open(\"/content/drive/My Drive/3-class/gru_remove_stopword/model_gru.json\", \"w\") as json_file:\n",
        "    json_file.write(model_json)\n",
        "    \n",
        "# serialize weights to HDF5\n",
        "model_gru.save_weights(\"/content/drive/My Drive/3-class/gru_remove_stopword/model_gru.h5\")\n",
        "print(\"Saved model to disk\")"
      ],
      "execution_count": 67,
      "outputs": [
        {
          "output_type": "stream",
          "text": [
            "Saved model to disk\n"
          ],
          "name": "stdout"
        }
      ]
    },
    {
      "cell_type": "code",
      "metadata": {
        "id": "zwXK4XadmMhi",
        "colab_type": "code",
        "colab": {
          "base_uri": "https://localhost:8080/",
          "height": 35
        },
        "outputId": "b800283e-d175-4366-bd48-09b510d8b44b"
      },
      "source": [
        "shutil.move('/content/logs/gru_remove_stopword','/content/drive/My Drive/3-class/gru_remove_stopword/model_gru')"
      ],
      "execution_count": 68,
      "outputs": [
        {
          "output_type": "execute_result",
          "data": {
            "application/vnd.google.colaboratory.intrinsic+json": {
              "type": "string"
            },
            "text/plain": [
              "'/content/drive/My Drive/3-class/gru_remove_stopword/model_gru'"
            ]
          },
          "metadata": {
            "tags": []
          },
          "execution_count": 68
        }
      ]
    },
    {
      "cell_type": "markdown",
      "metadata": {
        "colab_type": "text",
        "id": "_Box1cgTVSSh"
      },
      "source": [
        "#**GRU with hashtag removal**"
      ]
    },
    {
      "cell_type": "code",
      "metadata": {
        "colab_type": "code",
        "id": "YMd98xloVSSj",
        "colab": {}
      },
      "source": [
        "tensorboard = TensorBoard(log_dir=\"./logs/gru_remove_hashtag\")\n",
        "keras_callbacks = [tensorboard]"
      ],
      "execution_count": 122,
      "outputs": []
    },
    {
      "cell_type": "code",
      "metadata": {
        "colab_type": "code",
        "id": "JxD4j3wRVSSm",
        "colab": {
          "base_uri": "https://localhost:8080/",
          "height": 713
        },
        "outputId": "d76f3265-2915-4d9d-c655-7722e452ed9c"
      },
      "source": [
        "%%time\n",
        "\n",
        "model_gru = Sequential()\n",
        "e = Embedding(100000, 200, weights=[embedding_matrix], input_length=tweetlen\n",
        "              , trainable=True)\n",
        "model_gru.add(e)\n",
        "model_gru.add(keras.layers.GRU(100, dropout=0.2))\n",
        "model_gru.add(Dense(3, activation='softmax'))\n",
        "#optimizers=Adam(lr=0.001,momentum=0.9, clipnorm=1.0)\n",
        "model_gru.compile(loss='categorical_crossentropy', optimizer='adam',\n",
        "                  metrics=['accuracy', keras_metrics.precision(), \n",
        "                           keras_metrics.recall(), keras_metrics.f1_score()])\n",
        "model_gru.summary()\n",
        "model_gru.fit(x_train_seq, y_train, \n",
        "          validation_data=(x_val_seq, y_validation),\n",
        "          epochs=5, batch_size=64, callbacks=keras_callbacks)"
      ],
      "execution_count": 123,
      "outputs": [
        {
          "output_type": "stream",
          "text": [
            "tracking <tf.Variable 'Variable:0' shape=() dtype=int32, numpy=0> tp\n",
            "tracking <tf.Variable 'Variable:0' shape=() dtype=int32, numpy=0> fp\n",
            "tracking <tf.Variable 'Variable:0' shape=() dtype=int32, numpy=0> tp\n",
            "tracking <tf.Variable 'Variable:0' shape=() dtype=int32, numpy=0> fn\n",
            "tracking <tf.Variable 'Variable:0' shape=() dtype=int32, numpy=0> tp\n",
            "tracking <tf.Variable 'Variable:0' shape=() dtype=int32, numpy=0> fp\n",
            "tracking <tf.Variable 'Variable:0' shape=() dtype=int32, numpy=0> tp\n",
            "tracking <tf.Variable 'Variable:0' shape=() dtype=int32, numpy=0> fn\n",
            "Model: \"sequential_2\"\n",
            "_________________________________________________________________\n",
            "Layer (type)                 Output Shape              Param #   \n",
            "=================================================================\n",
            "embedding_2 (Embedding)      (None, 28, 200)           20000000  \n",
            "_________________________________________________________________\n",
            "gru_2 (GRU)                  (None, 100)               90300     \n",
            "_________________________________________________________________\n",
            "dense_2 (Dense)              (None, 3)                 303       \n",
            "=================================================================\n",
            "Total params: 20,090,603\n",
            "Trainable params: 20,090,603\n",
            "Non-trainable params: 0\n",
            "_________________________________________________________________\n"
          ],
          "name": "stdout"
        },
        {
          "output_type": "stream",
          "text": [
            "/usr/local/lib/python3.6/dist-packages/tensorflow/python/framework/indexed_slices.py:434: UserWarning: Converting sparse IndexedSlices to a dense Tensor of unknown shape. This may consume a large amount of memory.\n",
            "  \"Converting sparse IndexedSlices to a dense Tensor of unknown shape. \"\n"
          ],
          "name": "stderr"
        },
        {
          "output_type": "stream",
          "text": [
            "Train on 44136 samples, validate on 5517 samples\n",
            "Epoch 1/5\n",
            "  256/44136 [..............................] - ETA: 3:37 - loss: 1.1941 - accuracy: 0.3984 - precision: 0.4824 - recall: 0.2338 - f1_score: 0.3130"
          ],
          "name": "stdout"
        },
        {
          "output_type": "stream",
          "text": [
            "/usr/local/lib/python3.6/dist-packages/keras/callbacks/callbacks.py:95: RuntimeWarning: Method (on_train_batch_end) is slow compared to the batch update (0.194794). Check your callbacks.\n",
            "  % (hook_name, delta_t_median), RuntimeWarning)\n"
          ],
          "name": "stderr"
        },
        {
          "output_type": "stream",
          "text": [
            "44136/44136 [==============================] - 77s 2ms/step - loss: 0.6988 - accuracy: 0.6990 - precision: 0.6624 - recall: 0.5578 - f1_score: 0.6046 - val_loss: 0.5962 - val_accuracy: 0.7528 - val_precision: 0.7662 - val_recall: 0.7640 - val_f1_score: 0.7647\n",
            "Epoch 2/5\n",
            "44136/44136 [==============================] - 75s 2ms/step - loss: 0.5332 - accuracy: 0.7827 - precision: 0.8008 - recall: 0.7601 - f1_score: 0.7799 - val_loss: 0.5630 - val_accuracy: 0.7714 - val_precision: 0.8459 - val_recall: 0.7018 - val_f1_score: 0.7668\n",
            "Epoch 3/5\n",
            "44136/44136 [==============================] - 75s 2ms/step - loss: 0.4526 - accuracy: 0.8196 - precision: 0.8384 - recall: 0.8089 - f1_score: 0.8234 - val_loss: 0.5719 - val_accuracy: 0.7705 - val_precision: 0.8629 - val_recall: 0.6733 - val_f1_score: 0.7559\n",
            "Epoch 4/5\n",
            "44136/44136 [==============================] - 75s 2ms/step - loss: 0.3772 - accuracy: 0.8524 - precision: 0.8763 - recall: 0.8506 - f1_score: 0.8632 - val_loss: 0.5810 - val_accuracy: 0.7752 - val_precision: 0.8513 - val_recall: 0.7127 - val_f1_score: 0.7756\n",
            "Epoch 5/5\n",
            "44136/44136 [==============================] - 75s 2ms/step - loss: 0.3087 - accuracy: 0.8809 - precision: 0.9018 - recall: 0.8816 - f1_score: 0.8915 - val_loss: 0.5972 - val_accuracy: 0.7776 - val_precision: 0.8380 - val_recall: 0.7199 - val_f1_score: 0.7741\n",
            "CPU times: user 12min 39s, sys: 2min 2s, total: 14min 42s\n",
            "Wall time: 6min 19s\n"
          ],
          "name": "stdout"
        }
      ]
    },
    {
      "cell_type": "code",
      "metadata": {
        "colab_type": "code",
        "id": "lmZXZHzIVSSn",
        "colab": {
          "base_uri": "https://localhost:8080/",
          "height": 121
        },
        "outputId": "3c328d59-1ec9-42c3-abf6-e3c4dee4c903"
      },
      "source": [
        "#hashtag removal\n",
        "model_gru.evaluate(x_test_seq, y_test)"
      ],
      "execution_count": 124,
      "outputs": [
        {
          "output_type": "stream",
          "text": [
            "5518/5518 [==============================] - 2s 393us/step\n"
          ],
          "name": "stdout"
        },
        {
          "output_type": "execute_result",
          "data": {
            "text/plain": [
              "[0.5983511477806033,\n",
              " 0.7707502841949463,\n",
              " 0.8141692876815796,\n",
              " 0.7158165574073792,\n",
              " 0.7615773677825928]"
            ]
          },
          "metadata": {
            "tags": []
          },
          "execution_count": 124
        }
      ]
    },
    {
      "cell_type": "code",
      "metadata": {
        "colab_type": "code",
        "id": "H7OSDRlCVSSp",
        "colab": {
          "base_uri": "https://localhost:8080/",
          "height": 35
        },
        "outputId": "56f51c80-3fa0-48f8-ff0f-03a080009e22"
      },
      "source": [
        "# serialize model to JSON\n",
        "model_json = model_gru.to_json()\n",
        "with open(\"/content/drive/My Drive/3-class/gru_remove_hashtag/model_gru.json\", \"w\") as json_file:\n",
        "    json_file.write(model_json)\n",
        "    \n",
        "# serialize weights to HDF5\n",
        "model_gru.save_weights(\"/content/drive/My Drive/3-class/gru_remove_hashtag/model_gru.h5\")\n",
        "print(\"Saved model to disk\")"
      ],
      "execution_count": 125,
      "outputs": [
        {
          "output_type": "stream",
          "text": [
            "Saved model to disk\n"
          ],
          "name": "stdout"
        }
      ]
    },
    {
      "cell_type": "code",
      "metadata": {
        "colab_type": "code",
        "id": "g8wGCkJyVSSr",
        "colab": {
          "base_uri": "https://localhost:8080/",
          "height": 35
        },
        "outputId": "71139cc7-2d14-4515-ef3b-13d28604e1cd"
      },
      "source": [
        "shutil.move('/content/logs/gru_remove_hashtag','/content/drive/My Drive/3-class/gru_remove_hashtag/model_gru')"
      ],
      "execution_count": 126,
      "outputs": [
        {
          "output_type": "execute_result",
          "data": {
            "application/vnd.google.colaboratory.intrinsic+json": {
              "type": "string"
            },
            "text/plain": [
              "'/content/drive/My Drive/3-class/gru_remove_hashtag/model_gru'"
            ]
          },
          "metadata": {
            "tags": []
          },
          "execution_count": 126
        }
      ]
    }
  ]
}