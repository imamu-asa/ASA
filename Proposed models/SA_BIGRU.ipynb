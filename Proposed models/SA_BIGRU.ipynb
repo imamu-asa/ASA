{
  "nbformat": 4,
  "nbformat_minor": 0,
  "metadata": {
    "colab": {
      "name": "SA_BIGRU.ipynb",
      "provenance": [],
      "machine_shape": "hm"
    },
    "kernelspec": {
      "name": "python3",
      "display_name": "Python 3"
    },
    "accelerator": "GPU"
  },
  "cells": [
    {
      "cell_type": "code",
      "metadata": {
        "id": "o6EX2Rz9Cj66",
        "outputId": "4fced0cb-a129-4d6e-9395-f8285882d172",
        "colab": {
          "base_uri": "https://localhost:8080/",
          "height": 1000
        }
      },
      "source": [
        "!pip install keras==2.3.1\n",
        "!pip install tensorflow==2.2.0"
      ],
      "execution_count": null,
      "outputs": [
        {
          "output_type": "stream",
          "text": [
            "Collecting keras==2.3.1\n",
            "\u001b[?25l  Downloading https://files.pythonhosted.org/packages/ad/fd/6bfe87920d7f4fd475acd28500a42482b6b84479832bdc0fe9e589a60ceb/Keras-2.3.1-py2.py3-none-any.whl (377kB)\n",
            "\r\u001b[K     |▉                               | 10kB 21.2MB/s eta 0:00:01\r\u001b[K     |█▊                              | 20kB 3.7MB/s eta 0:00:01\r\u001b[K     |██▋                             | 30kB 4.9MB/s eta 0:00:01\r\u001b[K     |███▌                            | 40kB 5.2MB/s eta 0:00:01\r\u001b[K     |████▍                           | 51kB 4.2MB/s eta 0:00:01\r\u001b[K     |█████▏                          | 61kB 4.8MB/s eta 0:00:01\r\u001b[K     |██████                          | 71kB 5.0MB/s eta 0:00:01\r\u001b[K     |███████                         | 81kB 5.4MB/s eta 0:00:01\r\u001b[K     |███████▉                        | 92kB 5.8MB/s eta 0:00:01\r\u001b[K     |████████▊                       | 102kB 5.7MB/s eta 0:00:01\r\u001b[K     |█████████▌                      | 112kB 5.7MB/s eta 0:00:01\r\u001b[K     |██████████▍                     | 122kB 5.7MB/s eta 0:00:01\r\u001b[K     |███████████▎                    | 133kB 5.7MB/s eta 0:00:01\r\u001b[K     |████████████▏                   | 143kB 5.7MB/s eta 0:00:01\r\u001b[K     |█████████████                   | 153kB 5.7MB/s eta 0:00:01\r\u001b[K     |█████████████▉                  | 163kB 5.7MB/s eta 0:00:01\r\u001b[K     |██████████████▊                 | 174kB 5.7MB/s eta 0:00:01\r\u001b[K     |███████████████▋                | 184kB 5.7MB/s eta 0:00:01\r\u001b[K     |████████████████▌               | 194kB 5.7MB/s eta 0:00:01\r\u001b[K     |█████████████████▍              | 204kB 5.7MB/s eta 0:00:01\r\u001b[K     |██████████████████▏             | 215kB 5.7MB/s eta 0:00:01\r\u001b[K     |███████████████████             | 225kB 5.7MB/s eta 0:00:01\r\u001b[K     |████████████████████            | 235kB 5.7MB/s eta 0:00:01\r\u001b[K     |████████████████████▉           | 245kB 5.7MB/s eta 0:00:01\r\u001b[K     |█████████████████████▊          | 256kB 5.7MB/s eta 0:00:01\r\u001b[K     |██████████████████████▌         | 266kB 5.7MB/s eta 0:00:01\r\u001b[K     |███████████████████████▍        | 276kB 5.7MB/s eta 0:00:01\r\u001b[K     |████████████████████████▎       | 286kB 5.7MB/s eta 0:00:01\r\u001b[K     |█████████████████████████▏      | 296kB 5.7MB/s eta 0:00:01\r\u001b[K     |██████████████████████████      | 307kB 5.7MB/s eta 0:00:01\r\u001b[K     |██████████████████████████▉     | 317kB 5.7MB/s eta 0:00:01\r\u001b[K     |███████████████████████████▊    | 327kB 5.7MB/s eta 0:00:01\r\u001b[K     |████████████████████████████▋   | 337kB 5.7MB/s eta 0:00:01\r\u001b[K     |█████████████████████████████▌  | 348kB 5.7MB/s eta 0:00:01\r\u001b[K     |██████████████████████████████▍ | 358kB 5.7MB/s eta 0:00:01\r\u001b[K     |███████████████████████████████▏| 368kB 5.7MB/s eta 0:00:01\r\u001b[K     |████████████████████████████████| 378kB 5.7MB/s \n",
            "\u001b[?25hRequirement already satisfied: scipy>=0.14 in /usr/local/lib/python3.6/dist-packages (from keras==2.3.1) (1.4.1)\n",
            "Requirement already satisfied: numpy>=1.9.1 in /usr/local/lib/python3.6/dist-packages (from keras==2.3.1) (1.18.5)\n",
            "Collecting keras-applications>=1.0.6\n",
            "\u001b[?25l  Downloading https://files.pythonhosted.org/packages/71/e3/19762fdfc62877ae9102edf6342d71b28fbfd9dea3d2f96a882ce099b03f/Keras_Applications-1.0.8-py3-none-any.whl (50kB)\n",
            "\r\u001b[K     |██████▌                         | 10kB 30.7MB/s eta 0:00:01\r\u001b[K     |█████████████                   | 20kB 14.7MB/s eta 0:00:01\r\u001b[K     |███████████████████▍            | 30kB 19.8MB/s eta 0:00:01\r\u001b[K     |█████████████████████████▉      | 40kB 17.7MB/s eta 0:00:01\r\u001b[K     |████████████████████████████████| 51kB 6.2MB/s \n",
            "\u001b[?25hRequirement already satisfied: keras-preprocessing>=1.0.5 in /usr/local/lib/python3.6/dist-packages (from keras==2.3.1) (1.1.2)\n",
            "Requirement already satisfied: six>=1.9.0 in /usr/local/lib/python3.6/dist-packages (from keras==2.3.1) (1.15.0)\n",
            "Requirement already satisfied: pyyaml in /usr/local/lib/python3.6/dist-packages (from keras==2.3.1) (3.13)\n",
            "Requirement already satisfied: h5py in /usr/local/lib/python3.6/dist-packages (from keras==2.3.1) (2.10.0)\n",
            "Installing collected packages: keras-applications, keras\n",
            "  Found existing installation: Keras 2.4.3\n",
            "    Uninstalling Keras-2.4.3:\n",
            "      Successfully uninstalled Keras-2.4.3\n",
            "Successfully installed keras-2.3.1 keras-applications-1.0.8\n",
            "Collecting tensorflow==2.2.0\n",
            "\u001b[?25l  Downloading https://files.pythonhosted.org/packages/3d/be/679ce5254a8c8d07470efb4a4c00345fae91f766e64f1c2aece8796d7218/tensorflow-2.2.0-cp36-cp36m-manylinux2010_x86_64.whl (516.2MB)\n",
            "\u001b[K     |████████████████████████████████| 516.2MB 29kB/s \n",
            "\u001b[?25hRequirement already satisfied: wrapt>=1.11.1 in /usr/local/lib/python3.6/dist-packages (from tensorflow==2.2.0) (1.12.1)\n",
            "Requirement already satisfied: scipy==1.4.1; python_version >= \"3\" in /usr/local/lib/python3.6/dist-packages (from tensorflow==2.2.0) (1.4.1)\n",
            "Requirement already satisfied: six>=1.12.0 in /usr/local/lib/python3.6/dist-packages (from tensorflow==2.2.0) (1.15.0)\n",
            "Requirement already satisfied: grpcio>=1.8.6 in /usr/local/lib/python3.6/dist-packages (from tensorflow==2.2.0) (1.31.0)\n",
            "Requirement already satisfied: opt-einsum>=2.3.2 in /usr/local/lib/python3.6/dist-packages (from tensorflow==2.2.0) (3.3.0)\n",
            "Requirement already satisfied: h5py<2.11.0,>=2.10.0 in /usr/local/lib/python3.6/dist-packages (from tensorflow==2.2.0) (2.10.0)\n",
            "Requirement already satisfied: absl-py>=0.7.0 in /usr/local/lib/python3.6/dist-packages (from tensorflow==2.2.0) (0.9.0)\n",
            "Collecting tensorboard<2.3.0,>=2.2.0\n",
            "\u001b[?25l  Downloading https://files.pythonhosted.org/packages/1d/74/0a6fcb206dcc72a6da9a62dd81784bfdbff5fedb099982861dc2219014fb/tensorboard-2.2.2-py3-none-any.whl (3.0MB)\n",
            "\u001b[K     |████████████████████████████████| 3.0MB 50.1MB/s \n",
            "\u001b[?25hRequirement already satisfied: google-pasta>=0.1.8 in /usr/local/lib/python3.6/dist-packages (from tensorflow==2.2.0) (0.2.0)\n",
            "Requirement already satisfied: keras-preprocessing>=1.1.0 in /usr/local/lib/python3.6/dist-packages (from tensorflow==2.2.0) (1.1.2)\n",
            "Collecting tensorflow-estimator<2.3.0,>=2.2.0\n",
            "\u001b[?25l  Downloading https://files.pythonhosted.org/packages/a4/f5/926ae53d6a226ec0fda5208e0e581cffed895ccc89e36ba76a8e60895b78/tensorflow_estimator-2.2.0-py2.py3-none-any.whl (454kB)\n",
            "\u001b[K     |████████████████████████████████| 460kB 55.5MB/s \n",
            "\u001b[?25hRequirement already satisfied: wheel>=0.26; python_version >= \"3\" in /usr/local/lib/python3.6/dist-packages (from tensorflow==2.2.0) (0.34.2)\n",
            "Requirement already satisfied: numpy<2.0,>=1.16.0 in /usr/local/lib/python3.6/dist-packages (from tensorflow==2.2.0) (1.18.5)\n",
            "Requirement already satisfied: protobuf>=3.8.0 in /usr/local/lib/python3.6/dist-packages (from tensorflow==2.2.0) (3.12.4)\n",
            "Requirement already satisfied: gast==0.3.3 in /usr/local/lib/python3.6/dist-packages (from tensorflow==2.2.0) (0.3.3)\n",
            "Requirement already satisfied: termcolor>=1.1.0 in /usr/local/lib/python3.6/dist-packages (from tensorflow==2.2.0) (1.1.0)\n",
            "Requirement already satisfied: astunparse==1.6.3 in /usr/local/lib/python3.6/dist-packages (from tensorflow==2.2.0) (1.6.3)\n",
            "Requirement already satisfied: werkzeug>=0.11.15 in /usr/local/lib/python3.6/dist-packages (from tensorboard<2.3.0,>=2.2.0->tensorflow==2.2.0) (1.0.1)\n",
            "Requirement already satisfied: tensorboard-plugin-wit>=1.6.0 in /usr/local/lib/python3.6/dist-packages (from tensorboard<2.3.0,>=2.2.0->tensorflow==2.2.0) (1.7.0)\n",
            "Requirement already satisfied: setuptools>=41.0.0 in /usr/local/lib/python3.6/dist-packages (from tensorboard<2.3.0,>=2.2.0->tensorflow==2.2.0) (49.2.0)\n",
            "Requirement already satisfied: google-auth<2,>=1.6.3 in /usr/local/lib/python3.6/dist-packages (from tensorboard<2.3.0,>=2.2.0->tensorflow==2.2.0) (1.17.2)\n",
            "Requirement already satisfied: google-auth-oauthlib<0.5,>=0.4.1 in /usr/local/lib/python3.6/dist-packages (from tensorboard<2.3.0,>=2.2.0->tensorflow==2.2.0) (0.4.1)\n",
            "Requirement already satisfied: markdown>=2.6.8 in /usr/local/lib/python3.6/dist-packages (from tensorboard<2.3.0,>=2.2.0->tensorflow==2.2.0) (3.2.2)\n",
            "Requirement already satisfied: requests<3,>=2.21.0 in /usr/local/lib/python3.6/dist-packages (from tensorboard<2.3.0,>=2.2.0->tensorflow==2.2.0) (2.23.0)\n",
            "Requirement already satisfied: rsa<5,>=3.1.4; python_version >= \"3\" in /usr/local/lib/python3.6/dist-packages (from google-auth<2,>=1.6.3->tensorboard<2.3.0,>=2.2.0->tensorflow==2.2.0) (4.6)\n",
            "Requirement already satisfied: cachetools<5.0,>=2.0.0 in /usr/local/lib/python3.6/dist-packages (from google-auth<2,>=1.6.3->tensorboard<2.3.0,>=2.2.0->tensorflow==2.2.0) (4.1.1)\n",
            "Requirement already satisfied: pyasn1-modules>=0.2.1 in /usr/local/lib/python3.6/dist-packages (from google-auth<2,>=1.6.3->tensorboard<2.3.0,>=2.2.0->tensorflow==2.2.0) (0.2.8)\n",
            "Requirement already satisfied: requests-oauthlib>=0.7.0 in /usr/local/lib/python3.6/dist-packages (from google-auth-oauthlib<0.5,>=0.4.1->tensorboard<2.3.0,>=2.2.0->tensorflow==2.2.0) (1.3.0)\n",
            "Requirement already satisfied: importlib-metadata; python_version < \"3.8\" in /usr/local/lib/python3.6/dist-packages (from markdown>=2.6.8->tensorboard<2.3.0,>=2.2.0->tensorflow==2.2.0) (1.7.0)\n",
            "Requirement already satisfied: chardet<4,>=3.0.2 in /usr/local/lib/python3.6/dist-packages (from requests<3,>=2.21.0->tensorboard<2.3.0,>=2.2.0->tensorflow==2.2.0) (3.0.4)\n",
            "Requirement already satisfied: urllib3!=1.25.0,!=1.25.1,<1.26,>=1.21.1 in /usr/local/lib/python3.6/dist-packages (from requests<3,>=2.21.0->tensorboard<2.3.0,>=2.2.0->tensorflow==2.2.0) (1.24.3)\n",
            "Requirement already satisfied: idna<3,>=2.5 in /usr/local/lib/python3.6/dist-packages (from requests<3,>=2.21.0->tensorboard<2.3.0,>=2.2.0->tensorflow==2.2.0) (2.10)\n",
            "Requirement already satisfied: certifi>=2017.4.17 in /usr/local/lib/python3.6/dist-packages (from requests<3,>=2.21.0->tensorboard<2.3.0,>=2.2.0->tensorflow==2.2.0) (2020.6.20)\n",
            "Requirement already satisfied: pyasn1>=0.1.3 in /usr/local/lib/python3.6/dist-packages (from rsa<5,>=3.1.4; python_version >= \"3\"->google-auth<2,>=1.6.3->tensorboard<2.3.0,>=2.2.0->tensorflow==2.2.0) (0.4.8)\n",
            "Requirement already satisfied: oauthlib>=3.0.0 in /usr/local/lib/python3.6/dist-packages (from requests-oauthlib>=0.7.0->google-auth-oauthlib<0.5,>=0.4.1->tensorboard<2.3.0,>=2.2.0->tensorflow==2.2.0) (3.1.0)\n",
            "Requirement already satisfied: zipp>=0.5 in /usr/local/lib/python3.6/dist-packages (from importlib-metadata; python_version < \"3.8\"->markdown>=2.6.8->tensorboard<2.3.0,>=2.2.0->tensorflow==2.2.0) (3.1.0)\n",
            "Installing collected packages: tensorboard, tensorflow-estimator, tensorflow\n",
            "  Found existing installation: tensorboard 2.3.0\n",
            "    Uninstalling tensorboard-2.3.0:\n",
            "      Successfully uninstalled tensorboard-2.3.0\n",
            "  Found existing installation: tensorflow-estimator 2.3.0\n",
            "    Uninstalling tensorflow-estimator-2.3.0:\n",
            "      Successfully uninstalled tensorflow-estimator-2.3.0\n",
            "  Found existing installation: tensorflow 2.3.0\n",
            "    Uninstalling tensorflow-2.3.0:\n",
            "      Successfully uninstalled tensorflow-2.3.0\n",
            "Successfully installed tensorboard-2.2.2 tensorflow-2.2.0 tensorflow-estimator-2.2.0\n"
          ],
          "name": "stdout"
        }
      ]
    },
    {
      "cell_type": "markdown",
      "metadata": {
        "id": "VTuN1ICeEgPk"
      },
      "source": [
        "#**Before Start**"
      ]
    },
    {
      "cell_type": "code",
      "metadata": {
        "id": "3O1F80-wolWV",
        "outputId": "2c33203b-d756-4c8d-e75f-c1f36decf176",
        "colab": {
          "base_uri": "https://localhost:8080/",
          "height": 852
        }
      },
      "source": [
        "!pip install ar_wordcloud\n",
        "!pip install arabic-reshaper\n",
        "!pip install python-bidi\n",
        "!pip install --upgrade tqdm"
      ],
      "execution_count": null,
      "outputs": [
        {
          "output_type": "stream",
          "text": [
            "Collecting ar_wordcloud\n",
            "  Downloading https://files.pythonhosted.org/packages/d8/6f/174754e845e9e9795efdc8b54189ffd4a781ab11b72f539e1525f0a68be9/ar_wordcloud-0.0.4-py3-none-any.whl\n",
            "Collecting wordcloud>=1.7.0\n",
            "\u001b[?25l  Downloading https://files.pythonhosted.org/packages/f6/e7/f4ed7fac1993615b4ba92f473a77e27a3d210c5d23a000c2c98846963f9a/wordcloud-1.7.0-cp36-cp36m-manylinux1_x86_64.whl (364kB)\n",
            "\u001b[K     |████████████████████████████████| 368kB 7.3MB/s \n",
            "\u001b[?25hCollecting python-bidi>=0.4.2\n",
            "  Downloading https://files.pythonhosted.org/packages/33/b0/f942d146a2f457233baaafd6bdf624eba8e0f665045b4abd69d1b62d097d/python_bidi-0.4.2-py2.py3-none-any.whl\n",
            "Collecting arabic_reshaper>=2.0.14\n",
            "  Downloading https://files.pythonhosted.org/packages/41/55/e905af99b0172b5550c5e22d76b7737004495354b5f1094adf7cb2a41659/arabic_reshaper-2.1.0.tar.gz\n",
            "Requirement already satisfied: requests in /usr/local/lib/python3.6/dist-packages (from ar_wordcloud) (2.23.0)\n",
            "Requirement already satisfied: numpy>=1.6.1 in /usr/local/lib/python3.6/dist-packages (from wordcloud>=1.7.0->ar_wordcloud) (1.18.5)\n",
            "Requirement already satisfied: matplotlib in /usr/local/lib/python3.6/dist-packages (from wordcloud>=1.7.0->ar_wordcloud) (3.2.2)\n",
            "Requirement already satisfied: pillow in /usr/local/lib/python3.6/dist-packages (from wordcloud>=1.7.0->ar_wordcloud) (7.0.0)\n",
            "Requirement already satisfied: six in /usr/local/lib/python3.6/dist-packages (from python-bidi>=0.4.2->ar_wordcloud) (1.15.0)\n",
            "Requirement already satisfied: future in /usr/local/lib/python3.6/dist-packages (from arabic_reshaper>=2.0.14->ar_wordcloud) (0.16.0)\n",
            "Requirement already satisfied: setuptools in /usr/local/lib/python3.6/dist-packages (from arabic_reshaper>=2.0.14->ar_wordcloud) (49.2.0)\n",
            "Requirement already satisfied: urllib3!=1.25.0,!=1.25.1,<1.26,>=1.21.1 in /usr/local/lib/python3.6/dist-packages (from requests->ar_wordcloud) (1.24.3)\n",
            "Requirement already satisfied: certifi>=2017.4.17 in /usr/local/lib/python3.6/dist-packages (from requests->ar_wordcloud) (2020.6.20)\n",
            "Requirement already satisfied: chardet<4,>=3.0.2 in /usr/local/lib/python3.6/dist-packages (from requests->ar_wordcloud) (3.0.4)\n",
            "Requirement already satisfied: idna<3,>=2.5 in /usr/local/lib/python3.6/dist-packages (from requests->ar_wordcloud) (2.10)\n",
            "Requirement already satisfied: pyparsing!=2.0.4,!=2.1.2,!=2.1.6,>=2.0.1 in /usr/local/lib/python3.6/dist-packages (from matplotlib->wordcloud>=1.7.0->ar_wordcloud) (2.4.7)\n",
            "Requirement already satisfied: cycler>=0.10 in /usr/local/lib/python3.6/dist-packages (from matplotlib->wordcloud>=1.7.0->ar_wordcloud) (0.10.0)\n",
            "Requirement already satisfied: kiwisolver>=1.0.1 in /usr/local/lib/python3.6/dist-packages (from matplotlib->wordcloud>=1.7.0->ar_wordcloud) (1.2.0)\n",
            "Requirement already satisfied: python-dateutil>=2.1 in /usr/local/lib/python3.6/dist-packages (from matplotlib->wordcloud>=1.7.0->ar_wordcloud) (2.8.1)\n",
            "Building wheels for collected packages: arabic-reshaper\n",
            "  Building wheel for arabic-reshaper (setup.py) ... \u001b[?25l\u001b[?25hdone\n",
            "  Created wheel for arabic-reshaper: filename=arabic_reshaper-2.1.0-cp36-none-any.whl size=16501 sha256=f3b1805fc3a7db61e3d426c58095fcd95bafb6b287c589d50986d853d057a0cb\n",
            "  Stored in directory: /root/.cache/pip/wheels/a9/e6/ec/2ba48138d4447d40442dd6ba3bf6b92d9c6afd74e9c720c6fe\n",
            "Successfully built arabic-reshaper\n",
            "Installing collected packages: wordcloud, python-bidi, arabic-reshaper, ar-wordcloud\n",
            "  Found existing installation: wordcloud 1.5.0\n",
            "    Uninstalling wordcloud-1.5.0:\n",
            "      Successfully uninstalled wordcloud-1.5.0\n",
            "Successfully installed ar-wordcloud-0.0.4 arabic-reshaper-2.1.0 python-bidi-0.4.2 wordcloud-1.7.0\n",
            "Requirement already satisfied: arabic-reshaper in /usr/local/lib/python3.6/dist-packages (2.1.0)\n",
            "Requirement already satisfied: setuptools in /usr/local/lib/python3.6/dist-packages (from arabic-reshaper) (49.2.0)\n",
            "Requirement already satisfied: future in /usr/local/lib/python3.6/dist-packages (from arabic-reshaper) (0.16.0)\n",
            "Requirement already satisfied: python-bidi in /usr/local/lib/python3.6/dist-packages (0.4.2)\n",
            "Requirement already satisfied: six in /usr/local/lib/python3.6/dist-packages (from python-bidi) (1.15.0)\n",
            "Collecting tqdm\n",
            "\u001b[?25l  Downloading https://files.pythonhosted.org/packages/28/7e/281edb5bc3274dfb894d90f4dbacfceaca381c2435ec6187a2c6f329aed7/tqdm-4.48.2-py2.py3-none-any.whl (68kB)\n",
            "\u001b[K     |████████████████████████████████| 71kB 3.5MB/s \n",
            "\u001b[?25hInstalling collected packages: tqdm\n",
            "  Found existing installation: tqdm 4.41.1\n",
            "    Uninstalling tqdm-4.41.1:\n",
            "      Successfully uninstalled tqdm-4.41.1\n",
            "Successfully installed tqdm-4.48.2\n"
          ],
          "name": "stdout"
        }
      ]
    },
    {
      "cell_type": "code",
      "metadata": {
        "id": "UNgJrgrVNpvE",
        "outputId": "4972f62a-aca0-4dcd-9d57-02ccdffaba09",
        "colab": {
          "base_uri": "https://localhost:8080/",
          "height": 53
        }
      },
      "source": [
        "import keras\n",
        "keras.__version__"
      ],
      "execution_count": null,
      "outputs": [
        {
          "output_type": "stream",
          "text": [
            "Using TensorFlow backend.\n"
          ],
          "name": "stderr"
        },
        {
          "output_type": "execute_result",
          "data": {
            "application/vnd.google.colaboratory.intrinsic+json": {
              "type": "string"
            },
            "text/plain": [
              "'2.3.1'"
            ]
          },
          "metadata": {
            "tags": []
          },
          "execution_count": 3
        }
      ]
    },
    {
      "cell_type": "code",
      "metadata": {
        "id": "RsXce235O7S7",
        "outputId": "7fa943c4-4950-4c63-e7c7-07e575929080",
        "colab": {
          "base_uri": "https://localhost:8080/",
          "height": 35
        }
      },
      "source": [
        "import tensorflow\n",
        "tensorflow.__version__"
      ],
      "execution_count": null,
      "outputs": [
        {
          "output_type": "execute_result",
          "data": {
            "application/vnd.google.colaboratory.intrinsic+json": {
              "type": "string"
            },
            "text/plain": [
              "'2.2.0'"
            ]
          },
          "metadata": {
            "tags": []
          },
          "execution_count": 4
        }
      ]
    },
    {
      "cell_type": "code",
      "metadata": {
        "id": "4ukuXxz7PFUX",
        "outputId": "04a0cc2f-f1dc-4a80-cd8b-b8cb05864b9b",
        "colab": {
          "base_uri": "https://localhost:8080/",
          "height": 35
        }
      },
      "source": [
        "%tensorflow_version 2.x\n",
        "import tensorflow as tf\n",
        "device_name = tf.test.gpu_device_name()\n",
        "if device_name != '/device:GPU:0':\n",
        "  raise SystemError('GPU device not found')\n",
        "print('Found GPU at: {}'.format(device_name))"
      ],
      "execution_count": null,
      "outputs": [
        {
          "output_type": "stream",
          "text": [
            "Found GPU at: /device:GPU:0\n"
          ],
          "name": "stdout"
        }
      ]
    },
    {
      "cell_type": "code",
      "metadata": {
        "id": "6WxaB_buPQ4a",
        "outputId": "084c2516-2216-4ce0-9264-06b15eee717a",
        "colab": {
          "base_uri": "https://localhost:8080/",
          "height": 485
        }
      },
      "source": [
        "from tensorflow.python.client import device_lib\n",
        "device_lib.list_local_devices()"
      ],
      "execution_count": null,
      "outputs": [
        {
          "output_type": "execute_result",
          "data": {
            "text/plain": [
              "[name: \"/device:CPU:0\"\n",
              " device_type: \"CPU\"\n",
              " memory_limit: 268435456\n",
              " locality {\n",
              " }\n",
              " incarnation: 6041064620044555179, name: \"/device:XLA_CPU:0\"\n",
              " device_type: \"XLA_CPU\"\n",
              " memory_limit: 17179869184\n",
              " locality {\n",
              " }\n",
              " incarnation: 16262557516831006729\n",
              " physical_device_desc: \"device: XLA_CPU device\", name: \"/device:XLA_GPU:0\"\n",
              " device_type: \"XLA_GPU\"\n",
              " memory_limit: 17179869184\n",
              " locality {\n",
              " }\n",
              " incarnation: 5404303989353920758\n",
              " physical_device_desc: \"device: XLA_GPU device\", name: \"/device:GPU:0\"\n",
              " device_type: \"GPU\"\n",
              " memory_limit: 15788201792\n",
              " locality {\n",
              "   bus_id: 1\n",
              "   links {\n",
              "   }\n",
              " }\n",
              " incarnation: 2169546412854412873\n",
              " physical_device_desc: \"device: 0, name: Tesla P100-PCIE-16GB, pci bus id: 0000:00:04.0, compute capability: 6.0\"]"
            ]
          },
          "metadata": {
            "tags": []
          },
          "execution_count": 6
        }
      ]
    },
    {
      "cell_type": "code",
      "metadata": {
        "id": "fkLNesFTQd4i",
        "outputId": "7ab80bf6-5819-4d55-c7f2-d6e2bb9da99e",
        "colab": {
          "base_uri": "https://localhost:8080/",
          "height": 832
        }
      },
      "source": [
        "!cat /proc/meminfo"
      ],
      "execution_count": null,
      "outputs": [
        {
          "output_type": "stream",
          "text": [
            "MemTotal:       26751688 kB\n",
            "MemFree:        14773756 kB\n",
            "MemAvailable:   25517840 kB\n",
            "Buffers:          159204 kB\n",
            "Cached:         10503952 kB\n",
            "SwapCached:            0 kB\n",
            "Active:          1008940 kB\n",
            "Inactive:       10219904 kB\n",
            "Active(anon):     458824 kB\n",
            "Inactive(anon):     8604 kB\n",
            "Active(file):     550116 kB\n",
            "Inactive(file): 10211300 kB\n",
            "Unevictable:           0 kB\n",
            "Mlocked:               0 kB\n",
            "SwapTotal:             0 kB\n",
            "SwapFree:              0 kB\n",
            "Dirty:             20268 kB\n",
            "Writeback:             0 kB\n",
            "AnonPages:        565680 kB\n",
            "Mapped:           448688 kB\n",
            "Shmem:              9164 kB\n",
            "Slab:             465640 kB\n",
            "SReclaimable:     399684 kB\n",
            "SUnreclaim:        65956 kB\n",
            "KernelStack:        4480 kB\n",
            "PageTables:         6788 kB\n",
            "NFS_Unstable:          0 kB\n",
            "Bounce:                0 kB\n",
            "WritebackTmp:          0 kB\n",
            "CommitLimit:    13375844 kB\n",
            "Committed_AS:    2972696 kB\n",
            "VmallocTotal:   34359738367 kB\n",
            "VmallocUsed:           0 kB\n",
            "VmallocChunk:          0 kB\n",
            "Percpu:             1904 kB\n",
            "AnonHugePages:         0 kB\n",
            "ShmemHugePages:        0 kB\n",
            "ShmemPmdMapped:        0 kB\n",
            "HugePages_Total:       0\n",
            "HugePages_Free:        0\n",
            "HugePages_Rsvd:        0\n",
            "HugePages_Surp:        0\n",
            "Hugepagesize:       2048 kB\n",
            "Hugetlb:               0 kB\n",
            "DirectMap4k:      216252 kB\n",
            "DirectMap2M:     7122944 kB\n",
            "DirectMap1G:    22020096 kB\n"
          ],
          "name": "stdout"
        }
      ]
    },
    {
      "cell_type": "code",
      "metadata": {
        "id": "mCZEUToAQjnj",
        "outputId": "121aeafa-084e-46c5-9c99-f13f7d57fda5",
        "colab": {
          "base_uri": "https://localhost:8080/",
          "height": 124
        }
      },
      "source": [
        "from google.colab import drive\n",
        "drive.mount('/content/drive')"
      ],
      "execution_count": null,
      "outputs": [
        {
          "output_type": "stream",
          "text": [
            "Go to this URL in a browser: https://accounts.google.com/o/oauth2/auth?client_id=947318989803-6bn6qk8qdgf4n4g3pfee6491hc0brc4i.apps.googleusercontent.com&redirect_uri=urn%3aietf%3awg%3aoauth%3a2.0%3aoob&scope=email%20https%3a%2f%2fwww.googleapis.com%2fauth%2fdocs.test%20https%3a%2f%2fwww.googleapis.com%2fauth%2fdrive%20https%3a%2f%2fwww.googleapis.com%2fauth%2fdrive.photos.readonly%20https%3a%2f%2fwww.googleapis.com%2fauth%2fpeopleapi.readonly&response_type=code\n",
            "\n",
            "Enter your authorization code:\n",
            "··········\n",
            "Mounted at /content/drive\n"
          ],
          "name": "stdout"
        }
      ]
    },
    {
      "cell_type": "code",
      "metadata": {
        "id": "h27xrTnGQm5G"
      },
      "source": [
        "!cp /content/drive/My\\ Drive/Colab\\ Notebooks/3-class.csv 3-class.csv"
      ],
      "execution_count": null,
      "outputs": []
    },
    {
      "cell_type": "code",
      "metadata": {
        "id": "C16TeWYgFppl"
      },
      "source": [
        "!cp /content/drive/My\\ Drive/NotoNaskhArabic-Regular.ttf NotoNaskhArabic-Regular.ttf"
      ],
      "execution_count": null,
      "outputs": []
    },
    {
      "cell_type": "code",
      "metadata": {
        "id": "vOQgSnrDQ5LN"
      },
      "source": [
        "!cp /content/drive/My\\ Drive/Colab\\ Notebooks/stop_words.txt stop_words.txt"
      ],
      "execution_count": null,
      "outputs": []
    },
    {
      "cell_type": "code",
      "metadata": {
        "id": "6g5Fh9K5RG7r",
        "outputId": "1e57b474-8206-4f0d-d315-698551ca8f40",
        "colab": {
          "base_uri": "https://localhost:8080/",
          "height": 355
        }
      },
      "source": [
        "import pandas as pd\n",
        "import numpy as np\n",
        "import matplotlib.pyplot as plt\n",
        "plt.style.use('fivethirtyeight')\n",
        "\n",
        "%matplotlib inline\n",
        "%config InlinBackend.figure_format = 'retina'\n",
        "df_original = pd.read_csv('3-class.csv')\n",
        "df_original.head(10)"
      ],
      "execution_count": null,
      "outputs": [
        {
          "output_type": "execute_result",
          "data": {
            "text/html": [
              "<div>\n",
              "<style scoped>\n",
              "    .dataframe tbody tr th:only-of-type {\n",
              "        vertical-align: middle;\n",
              "    }\n",
              "\n",
              "    .dataframe tbody tr th {\n",
              "        vertical-align: top;\n",
              "    }\n",
              "\n",
              "    .dataframe thead th {\n",
              "        text-align: right;\n",
              "    }\n",
              "</style>\n",
              "<table border=\"1\" class=\"dataframe\">\n",
              "  <thead>\n",
              "    <tr style=\"text-align: right;\">\n",
              "      <th></th>\n",
              "      <th>Tweet</th>\n",
              "      <th>Polarity</th>\n",
              "    </tr>\n",
              "  </thead>\n",
              "  <tbody>\n",
              "    <tr>\n",
              "      <th>0</th>\n",
              "      <td>ابراهيم_عيسى الوسخ ابن الوسخه كلما حصل حادث ا...</td>\n",
              "      <td>neg</td>\n",
              "    </tr>\n",
              "    <tr>\n",
              "      <th>1</th>\n",
              "      <td>اخطر حروب الارض حرب العقيده حسيبك الله ي اول ...</td>\n",
              "      <td>neg</td>\n",
              "    </tr>\n",
              "    <tr>\n",
              "      <th>2</th>\n",
              "      <td>اصبحت تقدم برامج عبر الجمعيات الخيريه لايصال ...</td>\n",
              "      <td>neg</td>\n",
              "    </tr>\n",
              "    <tr>\n",
              "      <th>3</th>\n",
              "      <td>اعلامنا متمثل في داوودالشريان و روتانا وطقتهم...</td>\n",
              "      <td>neg</td>\n",
              "    </tr>\n",
              "    <tr>\n",
              "      <th>4</th>\n",
              "      <td>الاصرار مرتزقه_برنامج_الاصرار بضاعه هالمترديه...</td>\n",
              "      <td>neg</td>\n",
              "    </tr>\n",
              "    <tr>\n",
              "      <th>5</th>\n",
              "      <td>الاعلام اللبناني يهاجم السعوديه منذ مده بكل ق...</td>\n",
              "      <td>neg</td>\n",
              "    </tr>\n",
              "    <tr>\n",
              "      <th>6</th>\n",
              "      <td>البرنامج استاجر بعض المشاهير و الهوامير في تو...</td>\n",
              "      <td>neg</td>\n",
              "    </tr>\n",
              "    <tr>\n",
              "      <th>7</th>\n",
              "      <td>الحمد لله ما احتاج اتعلم من واحد فاشل اخلاقيا...</td>\n",
              "      <td>neg</td>\n",
              "    </tr>\n",
              "    <tr>\n",
              "      <th>8</th>\n",
              "      <td>الخرج بيض الله وجه محافظ الخرج فهذه القناه تص...</td>\n",
              "      <td>neg</td>\n",
              "    </tr>\n",
              "    <tr>\n",
              "      <th>9</th>\n",
              "      <td>الرياض السعوديه رسالتي لوزير العمل في حينه عن...</td>\n",
              "      <td>neg</td>\n",
              "    </tr>\n",
              "  </tbody>\n",
              "</table>\n",
              "</div>"
            ],
            "text/plain": [
              "                                               Tweet Polarity\n",
              "0   ابراهيم_عيسى الوسخ ابن الوسخه كلما حصل حادث ا...      neg\n",
              "1   اخطر حروب الارض حرب العقيده حسيبك الله ي اول ...      neg\n",
              "2   اصبحت تقدم برامج عبر الجمعيات الخيريه لايصال ...      neg\n",
              "3   اعلامنا متمثل في داوودالشريان و روتانا وطقتهم...      neg\n",
              "4   الاصرار مرتزقه_برنامج_الاصرار بضاعه هالمترديه...      neg\n",
              "5   الاعلام اللبناني يهاجم السعوديه منذ مده بكل ق...      neg\n",
              "6   البرنامج استاجر بعض المشاهير و الهوامير في تو...      neg\n",
              "7   الحمد لله ما احتاج اتعلم من واحد فاشل اخلاقيا...      neg\n",
              "8   الخرج بيض الله وجه محافظ الخرج فهذه القناه تص...      neg\n",
              "9   الرياض السعوديه رسالتي لوزير العمل في حينه عن...      neg"
            ]
          },
          "metadata": {
            "tags": []
          },
          "execution_count": 12
        }
      ]
    },
    {
      "cell_type": "code",
      "metadata": {
        "id": "hk54HwlDRPBi",
        "outputId": "cc83ffc0-1549-428c-929a-5e91a0db427e",
        "colab": {
          "base_uri": "https://localhost:8080/",
          "height": 173
        }
      },
      "source": [
        "#Discovering dataset\n",
        "df_original.info()"
      ],
      "execution_count": null,
      "outputs": [
        {
          "output_type": "stream",
          "text": [
            "<class 'pandas.core.frame.DataFrame'>\n",
            "RangeIndex: 56674 entries, 0 to 56673\n",
            "Data columns (total 2 columns):\n",
            " #   Column    Non-Null Count  Dtype \n",
            "---  ------    --------------  ----- \n",
            " 0   Tweet     56674 non-null  object\n",
            " 1   Polarity  56674 non-null  object\n",
            "dtypes: object(2)\n",
            "memory usage: 885.7+ KB\n"
          ],
          "name": "stdout"
        }
      ]
    },
    {
      "cell_type": "code",
      "metadata": {
        "id": "30Xdh0IIRfpo",
        "outputId": "e3b3f79e-9532-4e95-a164-d29f7159eab2",
        "colab": {
          "base_uri": "https://localhost:8080/",
          "height": 173
        }
      },
      "source": [
        "#Discovering dataset\n",
        "df_original.info()"
      ],
      "execution_count": null,
      "outputs": [
        {
          "output_type": "stream",
          "text": [
            "<class 'pandas.core.frame.DataFrame'>\n",
            "RangeIndex: 56674 entries, 0 to 56673\n",
            "Data columns (total 2 columns):\n",
            " #   Column    Non-Null Count  Dtype \n",
            "---  ------    --------------  ----- \n",
            " 0   Tweet     56674 non-null  object\n",
            " 1   Polarity  56674 non-null  object\n",
            "dtypes: object(2)\n",
            "memory usage: 885.7+ KB\n"
          ],
          "name": "stdout"
        }
      ]
    },
    {
      "cell_type": "code",
      "metadata": {
        "id": "VtXQdpzVRjhw",
        "outputId": "f9041da2-5f31-47e7-e9ab-4b59de2de6be",
        "colab": {
          "base_uri": "https://localhost:8080/",
          "height": 279
        }
      },
      "source": [
        "#Discovering the tweets length\n",
        "df_original['Tweet'].str.len().plot.hist()"
      ],
      "execution_count": null,
      "outputs": [
        {
          "output_type": "execute_result",
          "data": {
            "text/plain": [
              "<matplotlib.axes._subplots.AxesSubplot at 0x7f54977dd550>"
            ]
          },
          "metadata": {
            "tags": []
          },
          "execution_count": 15
        },
        {
          "output_type": "display_data",
          "data": {
            "image/png": "[encoded data removed]",
            "text/plain": [
              "<Figure size 432x288 with 1 Axes>"
            ]
          },
          "metadata": {
            "tags": [],
            "needs_background": "light"
          }
        }
      ]
    },
    {
      "cell_type": "code",
      "metadata": {
        "id": "O-UdYBgGRoK8",
        "outputId": "57658658-4eb3-4fcd-bd7f-1406633c33cc",
        "colab": {
          "base_uri": "https://localhost:8080/",
          "height": 87
        }
      },
      "source": [
        "#Discovering the count of each class\n",
        "df_original.Polarity.value_counts()"
      ],
      "execution_count": null,
      "outputs": [
        {
          "output_type": "execute_result",
          "data": {
            "text/plain": [
              "neg     20731\n",
              "neut    18726\n",
              "pos     17217\n",
              "Name: Polarity, dtype: int64"
            ]
          },
          "metadata": {
            "tags": []
          },
          "execution_count": 16
        }
      ]
    },
    {
      "cell_type": "code",
      "metadata": {
        "id": "vavR9G2ORsyM"
      },
      "source": [
        "#Change class values from neg pos neut to 0 1 2\n",
        "df_original['Polarity'] = df_original['Polarity'].map({'neg': 0, 'pos': 1, 'neut': 2})"
      ],
      "execution_count": null,
      "outputs": []
    },
    {
      "cell_type": "code",
      "metadata": {
        "id": "T-0wRVI8RxBB",
        "outputId": "e93a0dcc-2f73-4664-bd16-28cded22b482",
        "colab": {
          "base_uri": "https://localhost:8080/",
          "height": 355
        }
      },
      "source": [
        "df_original[df_original.Polarity == 0].head(10)"
      ],
      "execution_count": null,
      "outputs": [
        {
          "output_type": "execute_result",
          "data": {
            "text/html": [
              "<div>\n",
              "<style scoped>\n",
              "    .dataframe tbody tr th:only-of-type {\n",
              "        vertical-align: middle;\n",
              "    }\n",
              "\n",
              "    .dataframe tbody tr th {\n",
              "        vertical-align: top;\n",
              "    }\n",
              "\n",
              "    .dataframe thead th {\n",
              "        text-align: right;\n",
              "    }\n",
              "</style>\n",
              "<table border=\"1\" class=\"dataframe\">\n",
              "  <thead>\n",
              "    <tr style=\"text-align: right;\">\n",
              "      <th></th>\n",
              "      <th>Tweet</th>\n",
              "      <th>Polarity</th>\n",
              "    </tr>\n",
              "  </thead>\n",
              "  <tbody>\n",
              "    <tr>\n",
              "      <th>0</th>\n",
              "      <td>ابراهيم_عيسى الوسخ ابن الوسخه كلما حصل حادث ا...</td>\n",
              "      <td>0</td>\n",
              "    </tr>\n",
              "    <tr>\n",
              "      <th>1</th>\n",
              "      <td>اخطر حروب الارض حرب العقيده حسيبك الله ي اول ...</td>\n",
              "      <td>0</td>\n",
              "    </tr>\n",
              "    <tr>\n",
              "      <th>2</th>\n",
              "      <td>اصبحت تقدم برامج عبر الجمعيات الخيريه لايصال ...</td>\n",
              "      <td>0</td>\n",
              "    </tr>\n",
              "    <tr>\n",
              "      <th>3</th>\n",
              "      <td>اعلامنا متمثل في داوودالشريان و روتانا وطقتهم...</td>\n",
              "      <td>0</td>\n",
              "    </tr>\n",
              "    <tr>\n",
              "      <th>4</th>\n",
              "      <td>الاصرار مرتزقه_برنامج_الاصرار بضاعه هالمترديه...</td>\n",
              "      <td>0</td>\n",
              "    </tr>\n",
              "    <tr>\n",
              "      <th>5</th>\n",
              "      <td>الاعلام اللبناني يهاجم السعوديه منذ مده بكل ق...</td>\n",
              "      <td>0</td>\n",
              "    </tr>\n",
              "    <tr>\n",
              "      <th>6</th>\n",
              "      <td>البرنامج استاجر بعض المشاهير و الهوامير في تو...</td>\n",
              "      <td>0</td>\n",
              "    </tr>\n",
              "    <tr>\n",
              "      <th>7</th>\n",
              "      <td>الحمد لله ما احتاج اتعلم من واحد فاشل اخلاقيا...</td>\n",
              "      <td>0</td>\n",
              "    </tr>\n",
              "    <tr>\n",
              "      <th>8</th>\n",
              "      <td>الخرج بيض الله وجه محافظ الخرج فهذه القناه تص...</td>\n",
              "      <td>0</td>\n",
              "    </tr>\n",
              "    <tr>\n",
              "      <th>9</th>\n",
              "      <td>الرياض السعوديه رسالتي لوزير العمل في حينه عن...</td>\n",
              "      <td>0</td>\n",
              "    </tr>\n",
              "  </tbody>\n",
              "</table>\n",
              "</div>"
            ],
            "text/plain": [
              "                                               Tweet  Polarity\n",
              "0   ابراهيم_عيسى الوسخ ابن الوسخه كلما حصل حادث ا...         0\n",
              "1   اخطر حروب الارض حرب العقيده حسيبك الله ي اول ...         0\n",
              "2   اصبحت تقدم برامج عبر الجمعيات الخيريه لايصال ...         0\n",
              "3   اعلامنا متمثل في داوودالشريان و روتانا وطقتهم...         0\n",
              "4   الاصرار مرتزقه_برنامج_الاصرار بضاعه هالمترديه...         0\n",
              "5   الاعلام اللبناني يهاجم السعوديه منذ مده بكل ق...         0\n",
              "6   البرنامج استاجر بعض المشاهير و الهوامير في تو...         0\n",
              "7   الحمد لله ما احتاج اتعلم من واحد فاشل اخلاقيا...         0\n",
              "8   الخرج بيض الله وجه محافظ الخرج فهذه القناه تص...         0\n",
              "9   الرياض السعوديه رسالتي لوزير العمل في حينه عن...         0"
            ]
          },
          "metadata": {
            "tags": []
          },
          "execution_count": 18
        }
      ]
    },
    {
      "cell_type": "code",
      "metadata": {
        "id": "Ln1IE0xNjd2p",
        "outputId": "707dec10-9471-4471-977a-6cdf661c3485",
        "colab": {
          "base_uri": "https://localhost:8080/",
          "height": 35
        }
      },
      "source": [
        "df_original['Tweet'].nunique()"
      ],
      "execution_count": null,
      "outputs": [
        {
          "output_type": "execute_result",
          "data": {
            "text/plain": [
              "55176"
            ]
          },
          "metadata": {
            "tags": []
          },
          "execution_count": 19
        }
      ]
    },
    {
      "cell_type": "code",
      "metadata": {
        "id": "8hiILQEFjeyP",
        "outputId": "d0c3d7a4-506a-42b2-9704-cc263caca97b",
        "colab": {
          "base_uri": "https://localhost:8080/",
          "height": 35
        }
      },
      "source": [
        "repeat=[]\n",
        "list_of_tweets = df_original['Tweet'].to_list()\n",
        "for i in range(len(list_of_tweets)-1):\n",
        "  if list_of_tweets[i] in list_of_tweets[i+1:]:\n",
        "    repeat.append(i)\n",
        "len(repeat)"
      ],
      "execution_count": null,
      "outputs": [
        {
          "output_type": "execute_result",
          "data": {
            "text/plain": [
              "1498"
            ]
          },
          "metadata": {
            "tags": []
          },
          "execution_count": 20
        }
      ]
    },
    {
      "cell_type": "code",
      "metadata": {
        "id": "QEbo0a-bjhol",
        "outputId": "b229a3e5-ba52-4fb2-8528-a03f692d25df",
        "colab": {
          "base_uri": "https://localhost:8080/",
          "height": 35
        }
      },
      "source": [
        "df_original.drop(repeat,axis=0,inplace=True)\n",
        "len(df_original)"
      ],
      "execution_count": null,
      "outputs": [
        {
          "output_type": "execute_result",
          "data": {
            "text/plain": [
              "55176"
            ]
          },
          "metadata": {
            "tags": []
          },
          "execution_count": 21
        }
      ]
    },
    {
      "cell_type": "code",
      "metadata": {
        "id": "gSsN-_aijoKS",
        "outputId": "9a77e328-cade-4854-cd17-9cc67af33ed4",
        "colab": {
          "base_uri": "https://localhost:8080/",
          "height": 202
        }
      },
      "source": [
        "df_original.reset_index(drop=True, inplace=True)\n",
        "df_original.head()"
      ],
      "execution_count": null,
      "outputs": [
        {
          "output_type": "execute_result",
          "data": {
            "text/html": [
              "<div>\n",
              "<style scoped>\n",
              "    .dataframe tbody tr th:only-of-type {\n",
              "        vertical-align: middle;\n",
              "    }\n",
              "\n",
              "    .dataframe tbody tr th {\n",
              "        vertical-align: top;\n",
              "    }\n",
              "\n",
              "    .dataframe thead th {\n",
              "        text-align: right;\n",
              "    }\n",
              "</style>\n",
              "<table border=\"1\" class=\"dataframe\">\n",
              "  <thead>\n",
              "    <tr style=\"text-align: right;\">\n",
              "      <th></th>\n",
              "      <th>Tweet</th>\n",
              "      <th>Polarity</th>\n",
              "    </tr>\n",
              "  </thead>\n",
              "  <tbody>\n",
              "    <tr>\n",
              "      <th>0</th>\n",
              "      <td>ابراهيم_عيسى الوسخ ابن الوسخه كلما حصل حادث ا...</td>\n",
              "      <td>0</td>\n",
              "    </tr>\n",
              "    <tr>\n",
              "      <th>1</th>\n",
              "      <td>اخطر حروب الارض حرب العقيده حسيبك الله ي اول ...</td>\n",
              "      <td>0</td>\n",
              "    </tr>\n",
              "    <tr>\n",
              "      <th>2</th>\n",
              "      <td>اصبحت تقدم برامج عبر الجمعيات الخيريه لايصال ...</td>\n",
              "      <td>0</td>\n",
              "    </tr>\n",
              "    <tr>\n",
              "      <th>3</th>\n",
              "      <td>اعلامنا متمثل في داوودالشريان و روتانا وطقتهم...</td>\n",
              "      <td>0</td>\n",
              "    </tr>\n",
              "    <tr>\n",
              "      <th>4</th>\n",
              "      <td>الاصرار مرتزقه_برنامج_الاصرار بضاعه هالمترديه...</td>\n",
              "      <td>0</td>\n",
              "    </tr>\n",
              "  </tbody>\n",
              "</table>\n",
              "</div>"
            ],
            "text/plain": [
              "                                               Tweet  Polarity\n",
              "0   ابراهيم_عيسى الوسخ ابن الوسخه كلما حصل حادث ا...         0\n",
              "1   اخطر حروب الارض حرب العقيده حسيبك الله ي اول ...         0\n",
              "2   اصبحت تقدم برامج عبر الجمعيات الخيريه لايصال ...         0\n",
              "3   اعلامنا متمثل في داوودالشريان و روتانا وطقتهم...         0\n",
              "4   الاصرار مرتزقه_برنامج_الاصرار بضاعه هالمترديه...         0"
            ]
          },
          "metadata": {
            "tags": []
          },
          "execution_count": 22
        }
      ]
    },
    {
      "cell_type": "code",
      "metadata": {
        "id": "MZdoripVjs4Y",
        "outputId": "dc40e7dd-9d3e-4e7b-ff68-55658786c0ed",
        "colab": {
          "base_uri": "https://localhost:8080/",
          "height": 173
        }
      },
      "source": [
        "df_original.info()"
      ],
      "execution_count": null,
      "outputs": [
        {
          "output_type": "stream",
          "text": [
            "<class 'pandas.core.frame.DataFrame'>\n",
            "RangeIndex: 55176 entries, 0 to 55175\n",
            "Data columns (total 2 columns):\n",
            " #   Column    Non-Null Count  Dtype \n",
            "---  ------    --------------  ----- \n",
            " 0   Tweet     55176 non-null  object\n",
            " 1   Polarity  55176 non-null  int64 \n",
            "dtypes: int64(1), object(1)\n",
            "memory usage: 862.2+ KB\n"
          ],
          "name": "stdout"
        }
      ]
    },
    {
      "cell_type": "code",
      "metadata": {
        "id": "QFRlCyj-yDCH",
        "outputId": "828f4aea-82c3-49ed-879a-478404646081",
        "colab": {
          "base_uri": "https://localhost:8080/",
          "height": 202
        }
      },
      "source": [
        "original = df_original['Tweet'].copy()\n",
        "df_original['original'] = original\n",
        "df_original.head()"
      ],
      "execution_count": null,
      "outputs": [
        {
          "output_type": "execute_result",
          "data": {
            "text/html": [
              "<div>\n",
              "<style scoped>\n",
              "    .dataframe tbody tr th:only-of-type {\n",
              "        vertical-align: middle;\n",
              "    }\n",
              "\n",
              "    .dataframe tbody tr th {\n",
              "        vertical-align: top;\n",
              "    }\n",
              "\n",
              "    .dataframe thead th {\n",
              "        text-align: right;\n",
              "    }\n",
              "</style>\n",
              "<table border=\"1\" class=\"dataframe\">\n",
              "  <thead>\n",
              "    <tr style=\"text-align: right;\">\n",
              "      <th></th>\n",
              "      <th>Tweet</th>\n",
              "      <th>Polarity</th>\n",
              "      <th>original</th>\n",
              "    </tr>\n",
              "  </thead>\n",
              "  <tbody>\n",
              "    <tr>\n",
              "      <th>0</th>\n",
              "      <td>ابراهيم_عيسى الوسخ ابن الوسخه كلما حصل حادث ا...</td>\n",
              "      <td>0</td>\n",
              "      <td>ابراهيم_عيسى الوسخ ابن الوسخه كلما حصل حادث ا...</td>\n",
              "    </tr>\n",
              "    <tr>\n",
              "      <th>1</th>\n",
              "      <td>اخطر حروب الارض حرب العقيده حسيبك الله ي اول ...</td>\n",
              "      <td>0</td>\n",
              "      <td>اخطر حروب الارض حرب العقيده حسيبك الله ي اول ...</td>\n",
              "    </tr>\n",
              "    <tr>\n",
              "      <th>2</th>\n",
              "      <td>اصبحت تقدم برامج عبر الجمعيات الخيريه لايصال ...</td>\n",
              "      <td>0</td>\n",
              "      <td>اصبحت تقدم برامج عبر الجمعيات الخيريه لايصال ...</td>\n",
              "    </tr>\n",
              "    <tr>\n",
              "      <th>3</th>\n",
              "      <td>اعلامنا متمثل في داوودالشريان و روتانا وطقتهم...</td>\n",
              "      <td>0</td>\n",
              "      <td>اعلامنا متمثل في داوودالشريان و روتانا وطقتهم...</td>\n",
              "    </tr>\n",
              "    <tr>\n",
              "      <th>4</th>\n",
              "      <td>الاصرار مرتزقه_برنامج_الاصرار بضاعه هالمترديه...</td>\n",
              "      <td>0</td>\n",
              "      <td>الاصرار مرتزقه_برنامج_الاصرار بضاعه هالمترديه...</td>\n",
              "    </tr>\n",
              "  </tbody>\n",
              "</table>\n",
              "</div>"
            ],
            "text/plain": [
              "                                               Tweet  ...                                           original\n",
              "0   ابراهيم_عيسى الوسخ ابن الوسخه كلما حصل حادث ا...  ...   ابراهيم_عيسى الوسخ ابن الوسخه كلما حصل حادث ا...\n",
              "1   اخطر حروب الارض حرب العقيده حسيبك الله ي اول ...  ...   اخطر حروب الارض حرب العقيده حسيبك الله ي اول ...\n",
              "2   اصبحت تقدم برامج عبر الجمعيات الخيريه لايصال ...  ...   اصبحت تقدم برامج عبر الجمعيات الخيريه لايصال ...\n",
              "3   اعلامنا متمثل في داوودالشريان و روتانا وطقتهم...  ...   اعلامنا متمثل في داوودالشريان و روتانا وطقتهم...\n",
              "4   الاصرار مرتزقه_برنامج_الاصرار بضاعه هالمترديه...  ...   الاصرار مرتزقه_برنامج_الاصرار بضاعه هالمترديه...\n",
              "\n",
              "[5 rows x 3 columns]"
            ]
          },
          "metadata": {
            "tags": []
          },
          "execution_count": 24
        }
      ]
    },
    {
      "cell_type": "code",
      "metadata": {
        "id": "HdLUv3hdj1aS"
      },
      "source": [
        "df_original.to_csv('/content/drive/My Drive/Tweets_without_repeat.csv')"
      ],
      "execution_count": null,
      "outputs": []
    },
    {
      "cell_type": "code",
      "metadata": {
        "id": "KMlI1e_vj2IV"
      },
      "source": [
        "df_original['pre_clean_len'] = [len(t) for t in df_original.Tweet]"
      ],
      "execution_count": null,
      "outputs": []
    },
    {
      "cell_type": "code",
      "metadata": {
        "id": "Wgr77XYLly1w"
      },
      "source": [
        "x = df_original.Tweet\n",
        "y = df_original.Polarity"
      ],
      "execution_count": null,
      "outputs": []
    },
    {
      "cell_type": "markdown",
      "metadata": {
        "id": "rmgp0maUUZMo"
      },
      "source": [
        "#**Preprocessing**"
      ]
    },
    {
      "cell_type": "code",
      "metadata": {
        "id": "laYpRuDkUIig"
      },
      "source": [
        "# Data cleaning function definition\n",
        "\n",
        "from nltk.tokenize import WordPunctTokenizer\n",
        "tok = WordPunctTokenizer()"
      ],
      "execution_count": null,
      "outputs": []
    },
    {
      "cell_type": "code",
      "metadata": {
        "id": "d-l2-si2Uhep"
      },
      "source": [
        "import re\n",
        "from bs4 import BeautifulSoup\n",
        "\n",
        "pat1 = r'@[A-Za-z0-9_]+'\n",
        "pat2 = r'https?://[^ ]+'\n",
        "combined_pat = r'|'.join((pat1, pat2))\n",
        "www_pat = r'www.[^ ]+'\n",
        "arabic_num_pat = '[٠١٢٣٤٥٦٧٨٩]'\n",
        "eng_num_pat = '[0123456789]'\n",
        "sharta_pat = '[_]'\n",
        "#sharta_pat = '_[أ-ي]+' #for removing hashtag\n",
        "eng_pat = '[A-Za-z]'\n",
        "\n",
        "def tweet_cleaner(text):\n",
        "  soup = BeautifulSoup(text, 'lxml')\n",
        "  souped = soup.get_text()\n",
        "  try:\n",
        "        bom_removed = souped.decode(\"utf-8-sig\").replace(u\"\\ufffd\", \"?\")\n",
        "  except:\n",
        "        bom_removed = souped\n",
        "  stripped = re.sub(combined_pat, '', bom_removed)\n",
        "  stripped = re.sub(www_pat, '', stripped)\n",
        "  stripped = re.sub(arabic_num_pat, '', stripped)\n",
        "  stripped = re.sub(eng_num_pat, '', stripped)\n",
        "  #stripped = re.sub(r'\\w+_\\s?','_',stripped) #for removing hashtag\n",
        "  stripped = re.sub(sharta_pat, ' ', stripped)\n",
        "  stripped = re.sub(eng_pat, ' ', stripped)\n",
        "\n",
        "  words = [x for x in tok.tokenize(stripped) if len(x) > 1]\n",
        "  return (\" \".join(words)).strip()"
      ],
      "execution_count": null,
      "outputs": []
    },
    {
      "cell_type": "markdown",
      "metadata": {
        "id": "8PZJMwvFWxO5"
      },
      "source": [
        "##**auto-generated SW**"
      ]
    },
    {
      "cell_type": "code",
      "metadata": {
        "id": "AcoOQpRQWTwt",
        "outputId": "4159a063-d914-4565-f835-df3581e14fbf",
        "colab": {
          "base_uri": "https://localhost:8080/",
          "height": 104
        }
      },
      "source": [
        "clean_tweet_texts = []\n",
        "for i in range(0, len(df_original)):\n",
        "  if( (i+1)%10000 == 0 ):\n",
        "        print(\"Tweets %d of %d has been processed\"%(i+1,len(df_original)))                                                                    \n",
        "  clean_tweet_texts.append(tweet_cleaner(df_original['Tweet'][i]))"
      ],
      "execution_count": null,
      "outputs": [
        {
          "output_type": "stream",
          "text": [
            "Tweets 10000 of 55176 has been processed\n",
            "Tweets 20000 of 55176 has been processed\n",
            "Tweets 30000 of 55176 has been processed\n",
            "Tweets 40000 of 55176 has been processed\n",
            "Tweets 50000 of 55176 has been processed\n"
          ],
          "name": "stdout"
        }
      ]
    },
    {
      "cell_type": "code",
      "metadata": {
        "id": "ZBDrqldCYsDG"
      },
      "source": [
        "clean_df = pd.DataFrame(clean_tweet_texts, columns=['text'])\n",
        "clean_df['target'] = df_original.Polarity\n",
        "clean_df['original'] = original\n",
        "clean_df.to_csv('clean_tweet.csv', encoding='utf-8')"
      ],
      "execution_count": null,
      "outputs": []
    },
    {
      "cell_type": "code",
      "metadata": {
        "id": "umyJiK2oYtEy"
      },
      "source": [
        "csv = 'clean_tweet.csv'\n",
        "df = pd.read_csv(csv, index_col=0)"
      ],
      "execution_count": null,
      "outputs": []
    },
    {
      "cell_type": "code",
      "metadata": {
        "id": "EKnxLv6O1Qgu",
        "outputId": "50887a76-5b3d-4de5-8a32-1085fe5ca597",
        "colab": {
          "base_uri": "https://localhost:8080/",
          "height": 191
        }
      },
      "source": [
        "df.dropna(inplace=True)\n",
        "df.reset_index(drop=True, inplace=True)\n",
        "df.info()"
      ],
      "execution_count": null,
      "outputs": [
        {
          "output_type": "stream",
          "text": [
            "<class 'pandas.core.frame.DataFrame'>\n",
            "RangeIndex: 55175 entries, 0 to 55174\n",
            "Data columns (total 3 columns):\n",
            " #   Column    Non-Null Count  Dtype \n",
            "---  ------    --------------  ----- \n",
            " 0   text      55175 non-null  object\n",
            " 1   target    55175 non-null  int64 \n",
            " 2   original  55175 non-null  object\n",
            "dtypes: int64(1), object(2)\n",
            "memory usage: 1.3+ MB\n"
          ],
          "name": "stdout"
        }
      ]
    },
    {
      "cell_type": "code",
      "metadata": {
        "id": "VwVQQezp0FUR",
        "outputId": "6accc6bc-dfa1-4b70-85ea-60bde52708ba",
        "colab": {
          "base_uri": "https://localhost:8080/",
          "height": 202
        }
      },
      "source": [
        "df.head()"
      ],
      "execution_count": null,
      "outputs": [
        {
          "output_type": "execute_result",
          "data": {
            "text/html": [
              "<div>\n",
              "<style scoped>\n",
              "    .dataframe tbody tr th:only-of-type {\n",
              "        vertical-align: middle;\n",
              "    }\n",
              "\n",
              "    .dataframe tbody tr th {\n",
              "        vertical-align: top;\n",
              "    }\n",
              "\n",
              "    .dataframe thead th {\n",
              "        text-align: right;\n",
              "    }\n",
              "</style>\n",
              "<table border=\"1\" class=\"dataframe\">\n",
              "  <thead>\n",
              "    <tr style=\"text-align: right;\">\n",
              "      <th></th>\n",
              "      <th>text</th>\n",
              "      <th>target</th>\n",
              "      <th>original</th>\n",
              "    </tr>\n",
              "  </thead>\n",
              "  <tbody>\n",
              "    <tr>\n",
              "      <th>0</th>\n",
              "      <td>ابراهيم عيسى الوسخ ابن الوسخه كلما حصل حادث ات...</td>\n",
              "      <td>0</td>\n",
              "      <td>ابراهيم_عيسى الوسخ ابن الوسخه كلما حصل حادث ا...</td>\n",
              "    </tr>\n",
              "    <tr>\n",
              "      <th>1</th>\n",
              "      <td>اخطر حروب الارض حرب العقيده حسيبك الله اول ال ...</td>\n",
              "      <td>0</td>\n",
              "      <td>اخطر حروب الارض حرب العقيده حسيبك الله ي اول ...</td>\n",
              "    </tr>\n",
              "    <tr>\n",
              "      <th>2</th>\n",
              "      <td>اصبحت تقدم برامج عبر الجمعيات الخيريه لايصال خ...</td>\n",
              "      <td>0</td>\n",
              "      <td>اصبحت تقدم برامج عبر الجمعيات الخيريه لايصال ...</td>\n",
              "    </tr>\n",
              "    <tr>\n",
              "      <th>3</th>\n",
              "      <td>اعلامنا متمثل في داوودالشريان روتانا وطقتهم كي...</td>\n",
              "      <td>0</td>\n",
              "      <td>اعلامنا متمثل في داوودالشريان و روتانا وطقتهم...</td>\n",
              "    </tr>\n",
              "    <tr>\n",
              "      <th>4</th>\n",
              "      <td>الاصرار مرتزقه برنامج الاصرار بضاعه هالمترديه ...</td>\n",
              "      <td>0</td>\n",
              "      <td>الاصرار مرتزقه_برنامج_الاصرار بضاعه هالمترديه...</td>\n",
              "    </tr>\n",
              "  </tbody>\n",
              "</table>\n",
              "</div>"
            ],
            "text/plain": [
              "                                                text  ...                                           original\n",
              "0  ابراهيم عيسى الوسخ ابن الوسخه كلما حصل حادث ات...  ...   ابراهيم_عيسى الوسخ ابن الوسخه كلما حصل حادث ا...\n",
              "1  اخطر حروب الارض حرب العقيده حسيبك الله اول ال ...  ...   اخطر حروب الارض حرب العقيده حسيبك الله ي اول ...\n",
              "2  اصبحت تقدم برامج عبر الجمعيات الخيريه لايصال خ...  ...   اصبحت تقدم برامج عبر الجمعيات الخيريه لايصال ...\n",
              "3  اعلامنا متمثل في داوودالشريان روتانا وطقتهم كي...  ...   اعلامنا متمثل في داوودالشريان و روتانا وطقتهم...\n",
              "4  الاصرار مرتزقه برنامج الاصرار بضاعه هالمترديه ...  ...   الاصرار مرتزقه_برنامج_الاصرار بضاعه هالمترديه...\n",
              "\n",
              "[5 rows x 3 columns]"
            ]
          },
          "metadata": {
            "tags": []
          },
          "execution_count": 34
        }
      ]
    },
    {
      "cell_type": "code",
      "metadata": {
        "id": "txQF_qZcWHhU"
      },
      "source": [
        "x = df.text\n",
        "y = df.target\n",
        "z = df.original"
      ],
      "execution_count": null,
      "outputs": []
    },
    {
      "cell_type": "code",
      "metadata": {
        "id": "E9Y1c-e5VOlQ",
        "outputId": "d4a1361f-9d84-40c2-a426-08d7470439f6",
        "colab": {
          "base_uri": "https://localhost:8080/",
          "height": 415
        }
      },
      "source": [
        "from sklearn.feature_extraction.text import CountVectorizer\n",
        "cvec = CountVectorizer()\n",
        "cvec.fit(x)\n",
        "neg_doc_matrix = cvec.transform(df[y ==0].text)\n",
        "pos_doc_matrix = cvec.transform(df[y ==1].text)\n",
        "neut_doc_matrix = cvec.transform(df[y ==2].text)\n",
        "\n",
        "neg_tf = np.sum(neg_doc_matrix, axis=0)\n",
        "pos_tf = np.sum(pos_doc_matrix, axis=0)\n",
        "neut_tf = np.sum(neut_doc_matrix, axis=0)\n",
        "word = cvec.get_feature_names()\n",
        "neg = np.squeeze(np.asarray(neg_tf))\n",
        "pos = np.squeeze(np.asarray(pos_tf))\n",
        "neut = np.squeeze(np.asarray(neut_tf))\n",
        "\n",
        "term_freq_df = pd.DataFrame([word, neg, pos, neut], columns= cvec.get_feature_names()).transpose()\n",
        "\n",
        "term_freq_df.columns = ['word','negative', 'positive', 'neutral']\n",
        "term_freq_df['total']=term_freq_df['negative'] + term_freq_df['positive'] + term_freq_df['neutral']\n",
        "freq = term_freq_df.sort_values(by='total', ascending=False).iloc[:86024]\n",
        "\n",
        "freq"
      ],
      "execution_count": null,
      "outputs": [
        {
          "output_type": "execute_result",
          "data": {
            "text/html": [
              "<div>\n",
              "<style scoped>\n",
              "    .dataframe tbody tr th:only-of-type {\n",
              "        vertical-align: middle;\n",
              "    }\n",
              "\n",
              "    .dataframe tbody tr th {\n",
              "        vertical-align: top;\n",
              "    }\n",
              "\n",
              "    .dataframe thead th {\n",
              "        text-align: right;\n",
              "    }\n",
              "</style>\n",
              "<table border=\"1\" class=\"dataframe\">\n",
              "  <thead>\n",
              "    <tr style=\"text-align: right;\">\n",
              "      <th></th>\n",
              "      <th>word</th>\n",
              "      <th>negative</th>\n",
              "      <th>positive</th>\n",
              "      <th>neutral</th>\n",
              "      <th>total</th>\n",
              "    </tr>\n",
              "  </thead>\n",
              "  <tbody>\n",
              "    <tr>\n",
              "      <th>الهلال</th>\n",
              "      <td>الهلال</td>\n",
              "      <td>8173</td>\n",
              "      <td>9965</td>\n",
              "      <td>4609</td>\n",
              "      <td>22747</td>\n",
              "    </tr>\n",
              "    <tr>\n",
              "      <th>في</th>\n",
              "      <td>في</td>\n",
              "      <td>6348</td>\n",
              "      <td>4091</td>\n",
              "      <td>8040</td>\n",
              "      <td>18479</td>\n",
              "    </tr>\n",
              "    <tr>\n",
              "      <th>من</th>\n",
              "      <td>من</td>\n",
              "      <td>6404</td>\n",
              "      <td>3552</td>\n",
              "      <td>3671</td>\n",
              "      <td>13627</td>\n",
              "    </tr>\n",
              "    <tr>\n",
              "      <th>على</th>\n",
              "      <td>على</td>\n",
              "      <td>2911</td>\n",
              "      <td>2045</td>\n",
              "      <td>2216</td>\n",
              "      <td>7172</td>\n",
              "    </tr>\n",
              "    <tr>\n",
              "      <th>الاهلي</th>\n",
              "      <td>الاهلي</td>\n",
              "      <td>1563</td>\n",
              "      <td>3185</td>\n",
              "      <td>2041</td>\n",
              "      <td>6789</td>\n",
              "    </tr>\n",
              "    <tr>\n",
              "      <th>...</th>\n",
              "      <td>...</td>\n",
              "      <td>...</td>\n",
              "      <td>...</td>\n",
              "      <td>...</td>\n",
              "      <td>...</td>\n",
              "    </tr>\n",
              "    <tr>\n",
              "      <th>سوايا</th>\n",
              "      <td>سوايا</td>\n",
              "      <td>0</td>\n",
              "      <td>1</td>\n",
              "      <td>0</td>\n",
              "      <td>1</td>\n",
              "    </tr>\n",
              "    <tr>\n",
              "      <th>سوايرز</th>\n",
              "      <td>سوايرز</td>\n",
              "      <td>0</td>\n",
              "      <td>1</td>\n",
              "      <td>0</td>\n",
              "      <td>1</td>\n",
              "    </tr>\n",
              "    <tr>\n",
              "      <th>سوبببر</th>\n",
              "      <td>سوبببر</td>\n",
              "      <td>0</td>\n",
              "      <td>1</td>\n",
              "      <td>0</td>\n",
              "      <td>1</td>\n",
              "    </tr>\n",
              "    <tr>\n",
              "      <th>سوبرايز</th>\n",
              "      <td>سوبرايز</td>\n",
              "      <td>0</td>\n",
              "      <td>0</td>\n",
              "      <td>1</td>\n",
              "      <td>1</td>\n",
              "    </tr>\n",
              "    <tr>\n",
              "      <th>گيف</th>\n",
              "      <td>گيف</td>\n",
              "      <td>0</td>\n",
              "      <td>1</td>\n",
              "      <td>0</td>\n",
              "      <td>1</td>\n",
              "    </tr>\n",
              "  </tbody>\n",
              "</table>\n",
              "<p>86024 rows × 5 columns</p>\n",
              "</div>"
            ],
            "text/plain": [
              "            word negative positive neutral  total\n",
              "الهلال    الهلال     8173     9965    4609  22747\n",
              "في            في     6348     4091    8040  18479\n",
              "من            من     6404     3552    3671  13627\n",
              "على          على     2911     2045    2216   7172\n",
              "الاهلي    الاهلي     1563     3185    2041   6789\n",
              "...          ...      ...      ...     ...    ...\n",
              "سوايا      سوايا        0        1       0      1\n",
              "سوايرز    سوايرز        0        1       0      1\n",
              "سوبببر    سوبببر        0        1       0      1\n",
              "سوبرايز  سوبرايز        0        0       1      1\n",
              "گيف          گيف        0        1       0      1\n",
              "\n",
              "[86024 rows x 5 columns]"
            ]
          },
          "metadata": {
            "tags": []
          },
          "execution_count": 36
        }
      ]
    },
    {
      "cell_type": "code",
      "metadata": {
        "id": "OjJXWtypY-le",
        "outputId": "287f4784-e583-431a-e8cc-e35fd32cbefd",
        "colab": {
          "base_uri": "https://localhost:8080/",
          "height": 35
        }
      },
      "source": [
        "old_length= len(df['text'][0])\n",
        "old_length"
      ],
      "execution_count": null,
      "outputs": [
        {
          "output_type": "execute_result",
          "data": {
            "text/plain": [
              "105"
            ]
          },
          "metadata": {
            "tags": []
          },
          "execution_count": 37
        }
      ]
    },
    {
      "cell_type": "code",
      "metadata": {
        "id": "NulaPcYgZDJt",
        "outputId": "ab7a813b-73de-4a03-9241-3db47876e740",
        "colab": {
          "base_uri": "https://localhost:8080/",
          "height": 35
        }
      },
      "source": [
        "df['text'][0]"
      ],
      "execution_count": null,
      "outputs": [
        {
          "output_type": "execute_result",
          "data": {
            "application/vnd.google.colaboratory.intrinsic+json": {
              "type": "string"
            },
            "text/plain": [
              "'ابراهيم عيسى الوسخ ابن الوسخه كلما حصل حادث اتهم السعوديه بالارهاب الكلب كان براتب مليون جنيه من سنوي مصر'"
            ]
          },
          "metadata": {
            "tags": []
          },
          "execution_count": 38
        }
      ]
    },
    {
      "cell_type": "code",
      "metadata": {
        "id": "liMFhCJIZFSy"
      },
      "source": [
        "words = freq['word'].to_list()\n",
        "negative = freq['negative'].to_list()\n",
        "positive = freq['positive'].to_list()\n",
        "neutral = freq['neutral'].to_list()\n",
        "\n",
        "final_labels = []"
      ],
      "execution_count": null,
      "outputs": []
    },
    {
      "cell_type": "code",
      "metadata": {
        "id": "gvT4Tc-9ZIVl"
      },
      "source": [
        "for i in range(len(words)):\n",
        "    if (negative[i]-positive[i]>=5) and (negative[i]-neutral[i]>=5):\n",
        "        final_labels.append('negative')\n",
        "    elif (positive[i]-negative[i]>=5) and (positive[i]-neutral[i]>=5):\n",
        "        final_labels.append('positive')\n",
        "    elif (neutral[i]-positive[i]>=5) and (neutral[i]-negative[i]>=5):\n",
        "        final_labels.append('neutral')\n",
        "    elif (positive[i]==0 and neutral[i]==0):\n",
        "        final_labels.append('negative')\n",
        "    elif (neutral[i]==0 and negative[i]==0):\n",
        "        final_labels.append('positive')\n",
        "    elif (positive[i]==0 and negative[i]==0):\n",
        "        final_labels.append('neutral')\n",
        "    else:\n",
        "        final_labels.append('null')"
      ],
      "execution_count": null,
      "outputs": []
    },
    {
      "cell_type": "code",
      "metadata": {
        "id": "eHUDA5yfZLj9",
        "outputId": "1468f4ad-2cda-4072-80c9-cf48e1395721",
        "colab": {
          "base_uri": "https://localhost:8080/",
          "height": 35
        }
      },
      "source": [
        "freq['Polarity'] = final_labels\n",
        "final_labels[0:5]"
      ],
      "execution_count": null,
      "outputs": [
        {
          "output_type": "execute_result",
          "data": {
            "text/plain": [
              "['positive', 'neutral', 'negative', 'negative', 'positive']"
            ]
          },
          "metadata": {
            "tags": []
          },
          "execution_count": 41
        }
      ]
    },
    {
      "cell_type": "code",
      "metadata": {
        "id": "8qYL_nbfZSk6",
        "outputId": "e5e81cff-24dd-49da-b0f3-1ef5911640df",
        "colab": {
          "base_uri": "https://localhost:8080/",
          "height": 35
        }
      },
      "source": [
        "len(words)"
      ],
      "execution_count": null,
      "outputs": [
        {
          "output_type": "execute_result",
          "data": {
            "text/plain": [
              "86024"
            ]
          },
          "metadata": {
            "tags": []
          },
          "execution_count": 42
        }
      ]
    },
    {
      "cell_type": "code",
      "metadata": {
        "id": "yY3SJ-A2ZXhB",
        "outputId": "7abe709c-edce-48dd-dea2-dc6b71cb9198",
        "colab": {
          "base_uri": "https://localhost:8080/",
          "height": 35
        }
      },
      "source": [
        "len(final_labels)"
      ],
      "execution_count": null,
      "outputs": [
        {
          "output_type": "execute_result",
          "data": {
            "text/plain": [
              "86024"
            ]
          },
          "metadata": {
            "tags": []
          },
          "execution_count": 43
        }
      ]
    },
    {
      "cell_type": "code",
      "metadata": {
        "id": "cl10iyF3ZZq5"
      },
      "source": [
        "freq_null=freq[freq['Polarity']=='null']"
      ],
      "execution_count": null,
      "outputs": []
    },
    {
      "cell_type": "code",
      "metadata": {
        "id": "SH_TAxB4ZcCp"
      },
      "source": [
        "null_words = freq_null['word'].to_list()"
      ],
      "execution_count": null,
      "outputs": []
    },
    {
      "cell_type": "code",
      "metadata": {
        "id": "c1r7Y1_JZedq",
        "outputId": "cb9fa227-e44b-43b7-9f3b-2f002a05abf3",
        "colab": {
          "base_uri": "https://localhost:8080/",
          "height": 35
        }
      },
      "source": [
        "len(null_words)"
      ],
      "execution_count": null,
      "outputs": [
        {
          "output_type": "execute_result",
          "data": {
            "text/plain": [
              "19883"
            ]
          },
          "metadata": {
            "tags": []
          },
          "execution_count": 46
        }
      ]
    },
    {
      "cell_type": "code",
      "metadata": {
        "id": "3QwPBQCeZjaT",
        "outputId": "bb07b6e4-5dfc-4eb0-9a2f-7c00e386ab93",
        "colab": {
          "base_uri": "https://localhost:8080/",
          "height": 35
        }
      },
      "source": [
        "null_words[0]"
      ],
      "execution_count": null,
      "outputs": [
        {
          "output_type": "execute_result",
          "data": {
            "application/vnd.google.colaboratory.intrinsic+json": {
              "type": "string"
            },
            "text/plain": [
              "'او'"
            ]
          },
          "metadata": {
            "tags": []
          },
          "execution_count": 47
        }
      ]
    },
    {
      "cell_type": "code",
      "metadata": {
        "id": "6or9lqlZZlca"
      },
      "source": [
        "with open('null_words.txt', 'a', encoding='utf-8') as f:\n",
        "    for ele in null_words:\n",
        "        f.write(ele+'\\n')\n",
        "\n",
        "with open('null_words.txt','r',encoding='utf-8') as f:\n",
        "    list_of_words = f.readlines()\n",
        "    \n",
        "clean_list=[]\n",
        "for ele in list_of_words:\n",
        "    clean_list.append(ele.rstrip('\\n'))"
      ],
      "execution_count": null,
      "outputs": []
    },
    {
      "cell_type": "code",
      "metadata": {
        "id": "frE2JuT_F_SS",
        "outputId": "2c55e6e8-8ce2-496c-94eb-41268ffcc900",
        "colab": {
          "base_uri": "https://localhost:8080/",
          "height": 236
        }
      },
      "source": [
        "from bidi.algorithm import get_display\n",
        "import os\n",
        "import matplotlib.pyplot as plt\n",
        "from wordcloud import WordCloud\n",
        "import arabic_reshaper \n",
        "\n",
        "\n",
        "f = open('null_words.txt', 'r', encoding='utf-8')\n",
        "data = arabic_reshaper.reshape(f.read())\n",
        "data = get_display(data) \n",
        "WordCloud = WordCloud(font_path='NotoNaskhArabic-Regular.ttf', background_color='black',\n",
        "                  mode='RGB', width=2000, height=1000).generate(data)\n",
        "plt.title(\"Generated stopwords\")\n",
        "plt.imshow(WordCloud)\n",
        "plt.axis(\"off\")\n",
        "plt.show()"
      ],
      "execution_count": null,
      "outputs": [
        {
          "output_type": "display_data",
          "data": {
            "image/png": "[encoded data removed]",
            "text/plain": [
              "<Figure size 432x288 with 1 Axes>"
            ]
          },
          "metadata": {
            "tags": [],
            "needs_background": "light"
          }
        }
      ]
    },
    {
      "cell_type": "code",
      "metadata": {
        "id": "63fCw2KjZrFp"
      },
      "source": [
        "def remove_words(st):\n",
        "    tokens=st.split()\n",
        "    new = []\n",
        "    for word in tokens:\n",
        "        if word not in clean_list:\n",
        "            new.append(word)\n",
        "    return ' '.join(new)\n",
        "\n",
        "df['text']=df['text'].apply(remove_words)"
      ],
      "execution_count": null,
      "outputs": []
    },
    {
      "cell_type": "code",
      "metadata": {
        "id": "ucKtAFmpZwZh",
        "outputId": "cade8322-e2ce-4dd5-8fbc-01ed043e408c",
        "colab": {
          "base_uri": "https://localhost:8080/",
          "height": 35
        }
      },
      "source": [
        "new_length=len(df['text'][0])\n",
        "new_length"
      ],
      "execution_count": null,
      "outputs": [
        {
          "output_type": "execute_result",
          "data": {
            "text/plain": [
              "84"
            ]
          },
          "metadata": {
            "tags": []
          },
          "execution_count": 51
        }
      ]
    },
    {
      "cell_type": "code",
      "metadata": {
        "id": "tAoTd9w_ZxKl",
        "outputId": "8a1672b2-c27a-43da-e733-b851eb53c8b3",
        "colab": {
          "base_uri": "https://localhost:8080/",
          "height": 35
        }
      },
      "source": [
        "df['text'][0]"
      ],
      "execution_count": null,
      "outputs": [
        {
          "output_type": "execute_result",
          "data": {
            "application/vnd.google.colaboratory.intrinsic+json": {
              "type": "string"
            },
            "text/plain": [
              "'ابراهيم الوسخ ابن الوسخه كلما حصل حادث السعوديه بالارهاب الكلب كان مليون جنيه من مصر'"
            ]
          },
          "metadata": {
            "tags": []
          },
          "execution_count": 52
        }
      ]
    },
    {
      "cell_type": "markdown",
      "metadata": {
        "id": "YLuDhQOxa19K"
      },
      "source": [
        "#complete process"
      ]
    },
    {
      "cell_type": "code",
      "metadata": {
        "id": "b8VJG9peZzJu",
        "outputId": "5209377f-dc4f-4b07-eb2e-8ac1b13a6997",
        "colab": {
          "base_uri": "https://localhost:8080/",
          "height": 104
        }
      },
      "source": [
        "def normalizeArabic(text):\n",
        "    text = re.sub(\"[إأٱآا]\", \"ا\", text)\n",
        "    text = re.sub(\"ى\", \"ي\", text)\n",
        "    text = re.sub(\"ؤ\", \"و\", text)\n",
        "    text = re.sub(\"ئ\", \"ء\", text)\n",
        "    text = re.sub(\"ة\", \"ه\", text)\n",
        "    words = [x for x in tok.tokenize(text) if len(x) > 1]\n",
        "    return (\"\".join(text)).strip()\n",
        "\n",
        "clean_tweet = []\n",
        "for i in range(0, len(df)):\n",
        "  if( (i+1)%10000 == 0 ):\n",
        "        print(\"Tweets %d of %d has been processed\"%(i+1,len(df)))                                                                    \n",
        "  clean_tweet.append(normalizeArabic(df['text'][i]))\n",
        "\n",
        "    \n",
        "#repeated letters\n",
        "import re\n",
        "for i in range(len(clean_tweet)):\n",
        "  clean_tweet[i] = re.sub(r'(.)\\1+', r'\\1\\1', clean_tweet[i])"
      ],
      "execution_count": null,
      "outputs": [
        {
          "output_type": "stream",
          "text": [
            "Tweets 10000 of 55175 has been processed\n",
            "Tweets 20000 of 55175 has been processed\n",
            "Tweets 30000 of 55175 has been processed\n",
            "Tweets 40000 of 55175 has been processed\n",
            "Tweets 50000 of 55175 has been processed\n"
          ],
          "name": "stdout"
        }
      ]
    },
    {
      "cell_type": "code",
      "metadata": {
        "id": "4Mo5oCECbCKy",
        "outputId": "1cf05c61-1c0b-4836-eccb-0d3ef561c0ed",
        "colab": {
          "base_uri": "https://localhost:8080/",
          "height": 191
        }
      },
      "source": [
        "clean_tweet[:10]"
      ],
      "execution_count": null,
      "outputs": [
        {
          "output_type": "execute_result",
          "data": {
            "text/plain": [
              "['ابراهيم الوسخ ابن الوسخه كلما حصل حادث السعوديه بالارهاب الكلب كان مليون جنيه من مصر',\n",
              " 'اخطر حروب الارض حرب حسيبك الله ال راه رب يده زا',\n",
              " 'اصبحت عبر الخيريه لايصال خبثها اين من هذا نطالب خادم الحرمين',\n",
              " 'متمثل في داوودالشريان روتانا كيف ترجي من هالاشكال خير همهم في الحياه المراه',\n",
              " 'الاصرار مرتزقه برنامج الاصرار بضاعه هالمترديه قناه العهر مزجاه في',\n",
              " 'الاعلام يهاجم السعوديه منذ مده بكل قبيح ومجموعه تدعم الاعلام في لبنان فيها',\n",
              " 'استاجر بعض في تويتر عشان يبررو لهم ويرقعو برنامج اصرار',\n",
              " 'الحمد لله ما من واحد فاشل اخلاقيا همه الشحاذه من علي مواطن يفضح برنامج الاصرار برعايه',\n",
              " 'الخرج بيض الله وجه الخرج القناه علي المسلمين من المخالفات والمحرمات تدعو الي الرذيله وتشوه صوره الاسلام',\n",
              " 'الرياض السعوديه لوزير العمل في عن برنامج اصرار برنامج بفكرته منسوخ بشكل مبتذل وفاشل']"
            ]
          },
          "metadata": {
            "tags": []
          },
          "execution_count": 54
        }
      ]
    },
    {
      "cell_type": "code",
      "metadata": {
        "id": "uhi_dIVUZ9RT"
      },
      "source": [
        "df = pd.DataFrame(clean_tweet, columns=['text'])\n",
        "df['polarity'] = y\n",
        "df['original'] = z\n",
        "df.rename(columns={'polarity':'target'},inplace=True)\n",
        "df.to_csv('clean_tweet.csv', encoding='utf-8')"
      ],
      "execution_count": null,
      "outputs": []
    },
    {
      "cell_type": "code",
      "metadata": {
        "id": "YYvkL8VicAFf"
      },
      "source": [
        "csv = 'clean_tweet.csv'\n",
        "df = pd.read_csv(csv, index_col=0)"
      ],
      "execution_count": null,
      "outputs": []
    },
    {
      "cell_type": "code",
      "metadata": {
        "id": "U4I7txKPcJpu",
        "outputId": "32db691e-80f1-4ad5-cf83-9d9ed3b1c971",
        "colab": {
          "base_uri": "https://localhost:8080/",
          "height": 191
        }
      },
      "source": [
        "df.info()"
      ],
      "execution_count": null,
      "outputs": [
        {
          "output_type": "stream",
          "text": [
            "<class 'pandas.core.frame.DataFrame'>\n",
            "Int64Index: 55175 entries, 0 to 55174\n",
            "Data columns (total 3 columns):\n",
            " #   Column    Non-Null Count  Dtype \n",
            "---  ------    --------------  ----- \n",
            " 0   text      55160 non-null  object\n",
            " 1   target    55175 non-null  int64 \n",
            " 2   original  55175 non-null  object\n",
            "dtypes: int64(1), object(2)\n",
            "memory usage: 1.7+ MB\n"
          ],
          "name": "stdout"
        }
      ]
    },
    {
      "cell_type": "code",
      "metadata": {
        "id": "VGS3i6TxmO1j",
        "outputId": "26eec979-c905-4c06-d1f5-a62533d917ae",
        "colab": {
          "base_uri": "https://localhost:8080/",
          "height": 202
        }
      },
      "source": [
        "df.head()"
      ],
      "execution_count": null,
      "outputs": [
        {
          "output_type": "execute_result",
          "data": {
            "text/html": [
              "<div>\n",
              "<style scoped>\n",
              "    .dataframe tbody tr th:only-of-type {\n",
              "        vertical-align: middle;\n",
              "    }\n",
              "\n",
              "    .dataframe tbody tr th {\n",
              "        vertical-align: top;\n",
              "    }\n",
              "\n",
              "    .dataframe thead th {\n",
              "        text-align: right;\n",
              "    }\n",
              "</style>\n",
              "<table border=\"1\" class=\"dataframe\">\n",
              "  <thead>\n",
              "    <tr style=\"text-align: right;\">\n",
              "      <th></th>\n",
              "      <th>text</th>\n",
              "      <th>target</th>\n",
              "      <th>original</th>\n",
              "    </tr>\n",
              "  </thead>\n",
              "  <tbody>\n",
              "    <tr>\n",
              "      <th>0</th>\n",
              "      <td>ابراهيم الوسخ ابن الوسخه كلما حصل حادث السعودي...</td>\n",
              "      <td>0</td>\n",
              "      <td>ابراهيم_عيسى الوسخ ابن الوسخه كلما حصل حادث ا...</td>\n",
              "    </tr>\n",
              "    <tr>\n",
              "      <th>1</th>\n",
              "      <td>اخطر حروب الارض حرب حسيبك الله ال راه رب يده زا</td>\n",
              "      <td>0</td>\n",
              "      <td>اخطر حروب الارض حرب العقيده حسيبك الله ي اول ...</td>\n",
              "    </tr>\n",
              "    <tr>\n",
              "      <th>2</th>\n",
              "      <td>اصبحت عبر الخيريه لايصال خبثها اين من هذا نطال...</td>\n",
              "      <td>0</td>\n",
              "      <td>اصبحت تقدم برامج عبر الجمعيات الخيريه لايصال ...</td>\n",
              "    </tr>\n",
              "    <tr>\n",
              "      <th>3</th>\n",
              "      <td>متمثل في داوودالشريان روتانا كيف ترجي من هالاش...</td>\n",
              "      <td>0</td>\n",
              "      <td>اعلامنا متمثل في داوودالشريان و روتانا وطقتهم...</td>\n",
              "    </tr>\n",
              "    <tr>\n",
              "      <th>4</th>\n",
              "      <td>الاصرار مرتزقه برنامج الاصرار بضاعه هالمترديه ...</td>\n",
              "      <td>0</td>\n",
              "      <td>الاصرار مرتزقه_برنامج_الاصرار بضاعه هالمترديه...</td>\n",
              "    </tr>\n",
              "  </tbody>\n",
              "</table>\n",
              "</div>"
            ],
            "text/plain": [
              "                                                text  ...                                           original\n",
              "0  ابراهيم الوسخ ابن الوسخه كلما حصل حادث السعودي...  ...   ابراهيم_عيسى الوسخ ابن الوسخه كلما حصل حادث ا...\n",
              "1    اخطر حروب الارض حرب حسيبك الله ال راه رب يده زا  ...   اخطر حروب الارض حرب العقيده حسيبك الله ي اول ...\n",
              "2  اصبحت عبر الخيريه لايصال خبثها اين من هذا نطال...  ...   اصبحت تقدم برامج عبر الجمعيات الخيريه لايصال ...\n",
              "3  متمثل في داوودالشريان روتانا كيف ترجي من هالاش...  ...   اعلامنا متمثل في داوودالشريان و روتانا وطقتهم...\n",
              "4  الاصرار مرتزقه برنامج الاصرار بضاعه هالمترديه ...  ...   الاصرار مرتزقه_برنامج_الاصرار بضاعه هالمترديه...\n",
              "\n",
              "[5 rows x 3 columns]"
            ]
          },
          "metadata": {
            "tags": []
          },
          "execution_count": 58
        }
      ]
    },
    {
      "cell_type": "code",
      "metadata": {
        "id": "oS9hMJILcKU-",
        "outputId": "a7fc7780-754a-425d-fc43-a126b604cadd",
        "colab": {
          "base_uri": "https://localhost:8080/",
          "height": 191
        }
      },
      "source": [
        "df.dropna(inplace=True)\n",
        "df.reset_index(drop=True, inplace=True)\n",
        "df.info()"
      ],
      "execution_count": null,
      "outputs": [
        {
          "output_type": "stream",
          "text": [
            "<class 'pandas.core.frame.DataFrame'>\n",
            "RangeIndex: 55160 entries, 0 to 55159\n",
            "Data columns (total 3 columns):\n",
            " #   Column    Non-Null Count  Dtype \n",
            "---  ------    --------------  ----- \n",
            " 0   text      55160 non-null  object\n",
            " 1   target    55160 non-null  int64 \n",
            " 2   original  55160 non-null  object\n",
            "dtypes: int64(1), object(2)\n",
            "memory usage: 1.3+ MB\n"
          ],
          "name": "stdout"
        }
      ]
    },
    {
      "cell_type": "code",
      "metadata": {
        "id": "c19trYmluidu",
        "outputId": "d0e83926-066d-4fd8-e09a-0a16be1c206f",
        "colab": {
          "base_uri": "https://localhost:8080/",
          "height": 202
        }
      },
      "source": [
        "df.head()"
      ],
      "execution_count": null,
      "outputs": [
        {
          "output_type": "execute_result",
          "data": {
            "text/html": [
              "<div>\n",
              "<style scoped>\n",
              "    .dataframe tbody tr th:only-of-type {\n",
              "        vertical-align: middle;\n",
              "    }\n",
              "\n",
              "    .dataframe tbody tr th {\n",
              "        vertical-align: top;\n",
              "    }\n",
              "\n",
              "    .dataframe thead th {\n",
              "        text-align: right;\n",
              "    }\n",
              "</style>\n",
              "<table border=\"1\" class=\"dataframe\">\n",
              "  <thead>\n",
              "    <tr style=\"text-align: right;\">\n",
              "      <th></th>\n",
              "      <th>text</th>\n",
              "      <th>target</th>\n",
              "      <th>original</th>\n",
              "    </tr>\n",
              "  </thead>\n",
              "  <tbody>\n",
              "    <tr>\n",
              "      <th>0</th>\n",
              "      <td>ابراهيم الوسخ ابن الوسخه كلما حصل حادث السعودي...</td>\n",
              "      <td>0</td>\n",
              "      <td>ابراهيم_عيسى الوسخ ابن الوسخه كلما حصل حادث ا...</td>\n",
              "    </tr>\n",
              "    <tr>\n",
              "      <th>1</th>\n",
              "      <td>اخطر حروب الارض حرب حسيبك الله ال راه رب يده زا</td>\n",
              "      <td>0</td>\n",
              "      <td>اخطر حروب الارض حرب العقيده حسيبك الله ي اول ...</td>\n",
              "    </tr>\n",
              "    <tr>\n",
              "      <th>2</th>\n",
              "      <td>اصبحت عبر الخيريه لايصال خبثها اين من هذا نطال...</td>\n",
              "      <td>0</td>\n",
              "      <td>اصبحت تقدم برامج عبر الجمعيات الخيريه لايصال ...</td>\n",
              "    </tr>\n",
              "    <tr>\n",
              "      <th>3</th>\n",
              "      <td>متمثل في داوودالشريان روتانا كيف ترجي من هالاش...</td>\n",
              "      <td>0</td>\n",
              "      <td>اعلامنا متمثل في داوودالشريان و روتانا وطقتهم...</td>\n",
              "    </tr>\n",
              "    <tr>\n",
              "      <th>4</th>\n",
              "      <td>الاصرار مرتزقه برنامج الاصرار بضاعه هالمترديه ...</td>\n",
              "      <td>0</td>\n",
              "      <td>الاصرار مرتزقه_برنامج_الاصرار بضاعه هالمترديه...</td>\n",
              "    </tr>\n",
              "  </tbody>\n",
              "</table>\n",
              "</div>"
            ],
            "text/plain": [
              "                                                text  ...                                           original\n",
              "0  ابراهيم الوسخ ابن الوسخه كلما حصل حادث السعودي...  ...   ابراهيم_عيسى الوسخ ابن الوسخه كلما حصل حادث ا...\n",
              "1    اخطر حروب الارض حرب حسيبك الله ال راه رب يده زا  ...   اخطر حروب الارض حرب العقيده حسيبك الله ي اول ...\n",
              "2  اصبحت عبر الخيريه لايصال خبثها اين من هذا نطال...  ...   اصبحت تقدم برامج عبر الجمعيات الخيريه لايصال ...\n",
              "3  متمثل في داوودالشريان روتانا كيف ترجي من هالاش...  ...   اعلامنا متمثل في داوودالشريان و روتانا وطقتهم...\n",
              "4  الاصرار مرتزقه برنامج الاصرار بضاعه هالمترديه ...  ...   الاصرار مرتزقه_برنامج_الاصرار بضاعه هالمترديه...\n",
              "\n",
              "[5 rows x 3 columns]"
            ]
          },
          "metadata": {
            "tags": []
          },
          "execution_count": 60
        }
      ]
    },
    {
      "cell_type": "code",
      "metadata": {
        "id": "LpbfiqTU1Sin",
        "outputId": "3f1d973a-23d7-44bf-cf38-1d3e9469de51",
        "colab": {
          "base_uri": "https://localhost:8080/",
          "height": 202
        }
      },
      "source": [
        "text = df['text'].copy()\n",
        "target = df['target'].copy()\n",
        "original = df['original'].copy()\n",
        "\n",
        "#copy with 3 columns\n",
        "df = pd.DataFrame(text, columns=['text'])\n",
        "df['target'] = target\n",
        "df['original'] = original\n",
        "df.to_csv('/content/drive/My Drive/clean_tweet.csv', encoding='utf-8')\n",
        "\n",
        "#copy with 3 columns\n",
        "my_df = pd.DataFrame(text, columns=['text'])\n",
        "my_df['target'] = target\n",
        "\n",
        "my_df.head()"
      ],
      "execution_count": null,
      "outputs": [
        {
          "output_type": "execute_result",
          "data": {
            "text/html": [
              "<div>\n",
              "<style scoped>\n",
              "    .dataframe tbody tr th:only-of-type {\n",
              "        vertical-align: middle;\n",
              "    }\n",
              "\n",
              "    .dataframe tbody tr th {\n",
              "        vertical-align: top;\n",
              "    }\n",
              "\n",
              "    .dataframe thead th {\n",
              "        text-align: right;\n",
              "    }\n",
              "</style>\n",
              "<table border=\"1\" class=\"dataframe\">\n",
              "  <thead>\n",
              "    <tr style=\"text-align: right;\">\n",
              "      <th></th>\n",
              "      <th>text</th>\n",
              "      <th>target</th>\n",
              "    </tr>\n",
              "  </thead>\n",
              "  <tbody>\n",
              "    <tr>\n",
              "      <th>0</th>\n",
              "      <td>ابراهيم الوسخ ابن الوسخه كلما حصل حادث السعودي...</td>\n",
              "      <td>0</td>\n",
              "    </tr>\n",
              "    <tr>\n",
              "      <th>1</th>\n",
              "      <td>اخطر حروب الارض حرب حسيبك الله ال راه رب يده زا</td>\n",
              "      <td>0</td>\n",
              "    </tr>\n",
              "    <tr>\n",
              "      <th>2</th>\n",
              "      <td>اصبحت عبر الخيريه لايصال خبثها اين من هذا نطال...</td>\n",
              "      <td>0</td>\n",
              "    </tr>\n",
              "    <tr>\n",
              "      <th>3</th>\n",
              "      <td>متمثل في داوودالشريان روتانا كيف ترجي من هالاش...</td>\n",
              "      <td>0</td>\n",
              "    </tr>\n",
              "    <tr>\n",
              "      <th>4</th>\n",
              "      <td>الاصرار مرتزقه برنامج الاصرار بضاعه هالمترديه ...</td>\n",
              "      <td>0</td>\n",
              "    </tr>\n",
              "  </tbody>\n",
              "</table>\n",
              "</div>"
            ],
            "text/plain": [
              "                                                text  target\n",
              "0  ابراهيم الوسخ ابن الوسخه كلما حصل حادث السعودي...       0\n",
              "1    اخطر حروب الارض حرب حسيبك الله ال راه رب يده زا       0\n",
              "2  اصبحت عبر الخيريه لايصال خبثها اين من هذا نطال...       0\n",
              "3  متمثل في داوودالشريان روتانا كيف ترجي من هالاش...       0\n",
              "4  الاصرار مرتزقه برنامج الاصرار بضاعه هالمترديه ...       0"
            ]
          },
          "metadata": {
            "tags": []
          },
          "execution_count": 61
        }
      ]
    },
    {
      "cell_type": "code",
      "metadata": {
        "id": "eoL1OKAIOGIe",
        "outputId": "b3cd4f47-f9a0-46af-e648-3de2589b031e",
        "colab": {
          "base_uri": "https://localhost:8080/",
          "height": 173
        }
      },
      "source": [
        "my_df.info()"
      ],
      "execution_count": null,
      "outputs": [
        {
          "output_type": "stream",
          "text": [
            "<class 'pandas.core.frame.DataFrame'>\n",
            "RangeIndex: 55160 entries, 0 to 55159\n",
            "Data columns (total 2 columns):\n",
            " #   Column  Non-Null Count  Dtype \n",
            "---  ------  --------------  ----- \n",
            " 0   text    55160 non-null  object\n",
            " 1   target  55160 non-null  int64 \n",
            "dtypes: int64(1), object(1)\n",
            "memory usage: 862.0+ KB\n"
          ],
          "name": "stdout"
        }
      ]
    },
    {
      "cell_type": "code",
      "metadata": {
        "id": "z6GDs5PQcSRt"
      },
      "source": [
        "x = my_df.text\n",
        "y = my_df.target\n",
        "z = df.original"
      ],
      "execution_count": null,
      "outputs": []
    },
    {
      "cell_type": "code",
      "metadata": {
        "id": "HirzfE9lcTDX"
      },
      "source": [
        "from sklearn.model_selection import train_test_split\n",
        "SEED = 666\n",
        "x_train, x_validation_and_test, y_train, y_validation_and_test = train_test_split(x, y, test_size=.2, random_state=SEED)\n",
        "x_validation, x_test, y_validation, y_test = train_test_split(x_validation_and_test, y_validation_and_test, test_size=.5, random_state=SEED)\n",
        "\n",
        "x_train_original, x_validation_and_test_original, y_train_original, y_validation_and_test_original = train_test_split(z, y, test_size=.2, random_state=SEED)\n",
        "x_validation_original, x_test_original, y_validation_original, y_test_original = train_test_split(x_validation_and_test_original, y_validation_and_test_original, test_size=.5, random_state=SEED)"
      ],
      "execution_count": null,
      "outputs": []
    },
    {
      "cell_type": "code",
      "metadata": {
        "id": "l_ncVZg3vkcj",
        "outputId": "ecb88976-43fb-4c6e-e983-55500f1cdeaf",
        "colab": {
          "base_uri": "https://localhost:8080/",
          "height": 312
        }
      },
      "source": [
        "x_test[5500:5516]"
      ],
      "execution_count": null,
      "outputs": [
        {
          "output_type": "execute_result",
          "data": {
            "text/plain": [
              "2389     لو رجل بدال الكويك نت حقكم والله انها اشلا من ...\n",
              "53765    رجال الحد الجنوبي اللهم اني اسالك بكل اسم به ن...\n",
              "7215     الهلال هجر حديثوا الصداره الطحلبيه يصيحون ويسم...\n",
              "9554     معقوله اداراه الهلال ماتشوف التحكيم ضد فريقها ...\n",
              "10691    طيب ليش عن اخطاا الحكم الفاضحه ضد الهلال قدع ل...\n",
              "27359    بالون اختبار يبدو ان كانت اكبر من المتوقع ان ه...\n",
              "29709    تعليق الدراسه في القصيم تعليق الدراسه سنابييني...\n",
              "1647     حذف قناه العربيه من الريسيفر مع الاسف قناتين م...\n",
              "32249    اذا صحت التسريبات قرار رسوم الاراضي البيضاا ال...\n",
              "37958            وزير الداخليه البلجيكي يرفض امن اسال اكثر\n",
              "53838    رجال الحد الجنوبي ربي لاتحرم شهداءهم الجنه وان...\n",
              "14883    خدع الضعفاا من سنوات بشعاراته الكاذبه وضيع مدخ...\n",
              "3659     حين اهل الحق عن اهل انهم علي حق علي بن طالب رض...\n",
              "29170    بعطي اجازه لنفسي شكرا تيتشر نور تعليق الدراسه ...\n",
              "54830       باتريوت امان لقوي التحالف في اليمن عاصفه الحزم\n",
              "40158    نزيدوا صبابتا ويزيدوا وصلا بطولات هي السحر امت...\n",
              "Name: text, dtype: object"
            ]
          },
          "metadata": {
            "tags": []
          },
          "execution_count": 65
        }
      ]
    },
    {
      "cell_type": "code",
      "metadata": {
        "id": "kqLG9BYHwk8Q",
        "outputId": "2189bf3c-8f39-4c97-a018-05a05d4384a0",
        "colab": {
          "base_uri": "https://localhost:8080/",
          "height": 312
        }
      },
      "source": [
        "x_test_original[5500:5516]"
      ],
      "execution_count": null,
      "outputs": [
        {
          "output_type": "execute_result",
          "data": {
            "text/plain": [
              "2389     لو اعلق رجل جدتي بدال الكويك نت حقكم والله انه...\n",
              "53765     رجال_الحد_الجنوبي اللهم اني اسالك بكل اسم سمي...\n",
              "7215      الهلال_هجر حديثوا الصداره الطحلبيه يصيحون ويس...\n",
              "9554     معقوله اداراه الهلال ماتشوف التحكيم ضد فريقها ...\n",
              "10691     طيب ليش ماتتكلم عن اخطاا الحكم الفاضحه ضد اله...\n",
              "27359     بالون اختبار يبدو ان رده الفعل كانت اكبر من ا...\n",
              "29709     تعليق_الدراسه_في_القصيم تعليق_الدراسه سنابيين...\n",
              "1647      حذف_قناه_العربيه_من_الريسيفر مع الاسف نشاهد ق...\n",
              "32249     اذا صحت التسريبات التي تخص قرار رسوم_الاراضي_...\n",
              "37958     وزير الداخليه البلجيكي يرفض اتهام اجهزه امن ب...\n",
              "53838     رجال_الحد_الجنوبي ربي لاتحرم شهدائهم الجنه وا...\n",
              "14883     خدع الضعفاا من سنوات بشعاراته المزيفه الكاذبه...\n",
              "3659      حين سكت اهل الحق عن الباطل توهم اهل الباطل ان...\n",
              "29170    بعطي اجازه لنفسي شكرا تيتشر نور تعليق_الدراسه_...\n",
              "54830    صواريخ باتريوت الاماراتيه توفر مظله امان لقوى ...\n",
              "40158     نزيدوا صبابتا ويزيدوا وصلا بطولات هي السحر ال...\n",
              "Name: original, dtype: object"
            ]
          },
          "metadata": {
            "tags": []
          },
          "execution_count": 66
        }
      ]
    },
    {
      "cell_type": "code",
      "metadata": {
        "id": "8ZiRv1NMcXSx",
        "outputId": "2631bb9d-8b51-4eda-92fa-1f8f28475f2a",
        "colab": {
          "base_uri": "https://localhost:8080/",
          "height": 69
        }
      },
      "source": [
        "print(\"Train set has total {0} entries with {1:.2f}% negative, {2:.2f}% positive, {3:.2f}% neutral\".format(len(x_train),\n",
        "                                                                             (len(x_train[y_train == 0]) / (len(x_train)*1.))*100,\n",
        "                                                                            (len(x_train[y_train == 1]) / (len(x_train)*1.))*100,\n",
        "                                                                            (len(x_train[y_train == 2]) / (len(x_train)*1.))*100))\n",
        "print(\"Validation set has total {0} entries with {1:.2f}% negative, {2:.2f}% positive, {3:.2f}% neutral\".format(len(x_validation),\n",
        "                                                                             (len(x_validation[y_validation == 0]) / (len(x_validation)*1.))*100,\n",
        "                                                                            (len(x_validation[y_validation == 1]) / (len(x_validation)*1.))*100,\n",
        "                                                                            (len(x_validation[y_validation == 2]) / (len(x_validation)*1.))*100))\n",
        "print(\"Test set has total {0} entries with {1:.2f}% negative, {2:.2f}% positive, {3:.2f}% neutral\".format(len(x_test),\n",
        "                                                                             (len(x_test[y_test == 0]) / (len(x_test)*1.))*100,\n",
        "                                                                            (len(x_test[y_test == 1]) / (len(x_test)*1.))*100,\n",
        "                                                                            (len(x_test[y_test == 2]) / (len(x_test)*1.))*100))\n"
      ],
      "execution_count": null,
      "outputs": [
        {
          "output_type": "stream",
          "text": [
            "Train set has total 44128 entries with 36.15% negative, 30.95% positive, 32.90% neutral\n",
            "Validation set has total 5516 entries with 35.88% negative, 29.71% positive, 34.41% neutral\n",
            "Test set has total 5516 entries with 36.40% negative, 29.88% positive, 33.72% neutral\n"
          ],
          "name": "stdout"
        }
      ]
    },
    {
      "cell_type": "code",
      "metadata": {
        "id": "OPlLPd7ccaSx",
        "outputId": "c9072b44-ab45-486b-86eb-73f6e333800b",
        "colab": {
          "base_uri": "https://localhost:8080/",
          "height": 35
        }
      },
      "source": [
        "#converting the labels to categorical data\n",
        "\n",
        "from keras.utils import to_categorical\n",
        "y_train = to_categorical(y_train)\n",
        "y_train.shape"
      ],
      "execution_count": null,
      "outputs": [
        {
          "output_type": "execute_result",
          "data": {
            "text/plain": [
              "(44128, 3)"
            ]
          },
          "metadata": {
            "tags": []
          },
          "execution_count": 68
        }
      ]
    },
    {
      "cell_type": "code",
      "metadata": {
        "id": "Nkv1sE5rcdDS"
      },
      "source": [
        "y_validation = to_categorical(y_validation)"
      ],
      "execution_count": null,
      "outputs": []
    },
    {
      "cell_type": "code",
      "metadata": {
        "id": "vJEpV-t4ce-7",
        "outputId": "218402be-1c15-4828-83b0-cc34fe598823",
        "colab": {
          "base_uri": "https://localhost:8080/",
          "height": 35
        }
      },
      "source": [
        "y_validation.shape"
      ],
      "execution_count": null,
      "outputs": [
        {
          "output_type": "execute_result",
          "data": {
            "text/plain": [
              "(5516, 3)"
            ]
          },
          "metadata": {
            "tags": []
          },
          "execution_count": 70
        }
      ]
    },
    {
      "cell_type": "markdown",
      "metadata": {
        "id": "6eiL-stPco2L"
      },
      "source": [
        "#**word to vector**"
      ]
    },
    {
      "cell_type": "code",
      "metadata": {
        "id": "4jG165zUcllu"
      },
      "source": [
        "from tqdm import tqdm\n",
        "tqdm.pandas(desc=\"progress-bar\")\n",
        "import gensim\n",
        "from gensim.models.word2vec import Word2Vec\n",
        "from gensim.models.doc2vec import TaggedDocument\n",
        "import multiprocessing\n",
        "from sklearn import utils\n",
        "from keras.preprocessing.text import Tokenizer"
      ],
      "execution_count": null,
      "outputs": []
    },
    {
      "cell_type": "markdown",
      "metadata": {
        "id": "UiWJmXRLeY1v"
      },
      "source": [
        "##**AraVec**"
      ]
    },
    {
      "cell_type": "code",
      "metadata": {
        "id": "uL0pOiA1eOGC"
      },
      "source": [
        "!cp /content/drive/My\\ Drive/Colab\\ Notebooks/full_uni_cbow_100_twitter.zip /content/"
      ],
      "execution_count": null,
      "outputs": []
    },
    {
      "cell_type": "code",
      "metadata": {
        "id": "mWSf7wz-ei82"
      },
      "source": [
        "!cp /content/drive/My\\ Drive/Colab\\ Notebooks/full_uni_sg_100_twitter.zip /content/"
      ],
      "execution_count": null,
      "outputs": []
    },
    {
      "cell_type": "code",
      "metadata": {
        "id": "Em6Sadnceltb",
        "outputId": "191705bb-fcbc-4457-d869-4d8d7bc8f7d8",
        "colab": {
          "base_uri": "https://localhost:8080/",
          "height": 87
        }
      },
      "source": [
        "!unzip full_uni_cbow_100_twitter.zip"
      ],
      "execution_count": null,
      "outputs": [
        {
          "output_type": "stream",
          "text": [
            "Archive:  full_uni_cbow_100_twitter.zip\n",
            "  inflating: full_uni_cbow_100_twitter.mdl  \n",
            "  inflating: full_uni_cbow_100_twitter.mdl.trainables.syn1neg.npy  \n",
            "  inflating: full_uni_cbow_100_twitter.mdl.wv.vectors.npy  \n"
          ],
          "name": "stdout"
        }
      ]
    },
    {
      "cell_type": "code",
      "metadata": {
        "id": "UP2Fd1MPeorj",
        "outputId": "d34ebd3b-038d-47f1-b21a-0e8cc4cc4ad5",
        "colab": {
          "base_uri": "https://localhost:8080/",
          "height": 87
        }
      },
      "source": [
        "!unzip full_uni_sg_100_twitter.zip"
      ],
      "execution_count": null,
      "outputs": [
        {
          "output_type": "stream",
          "text": [
            "Archive:  full_uni_sg_100_twitter.zip\n",
            "  inflating: full_uni_sg_100_twitter.mdl  \n",
            "  inflating: full_uni_sg_100_twitter.mdl.trainables.syn1neg.npy  \n",
            "  inflating: full_uni_sg_100_twitter.mdl.wv.vectors.npy  \n"
          ],
          "name": "stdout"
        }
      ]
    },
    {
      "cell_type": "code",
      "metadata": {
        "id": "T3ycWq1ser2j",
        "outputId": "476a56fb-f29e-415b-f558-c76251c48bcb",
        "colab": {
          "base_uri": "https://localhost:8080/",
          "height": 72
        }
      },
      "source": [
        "from gensim.models import KeyedVectors\n",
        "model_ug_cbow = KeyedVectors.load('full_uni_cbow_100_twitter.mdl')\n",
        "model_ug_sg = KeyedVectors.load('full_uni_cbow_100_twitter.mdl')"
      ],
      "execution_count": null,
      "outputs": [
        {
          "output_type": "stream",
          "text": [
            "/usr/local/lib/python3.6/dist-packages/smart_open/smart_open_lib.py:254: UserWarning: This function is deprecated, use smart_open.open instead. See the migration notes for details: https://github.com/RaRe-Technologies/smart_open/blob/master/README.rst#migrating-to-the-new-open-function\n",
            "  'See the migration notes for details: %s' % _MIGRATION_NOTES_URL\n"
          ],
          "name": "stderr"
        }
      ]
    },
    {
      "cell_type": "code",
      "metadata": {
        "id": "C16nHRyFewqG",
        "outputId": "d2ad5dde-6087-41d5-c4fb-e7c89e754f05",
        "colab": {
          "base_uri": "https://localhost:8080/",
          "height": 35
        }
      },
      "source": [
        "len(model_ug_cbow.wv.vocab.keys())"
      ],
      "execution_count": null,
      "outputs": [
        {
          "output_type": "execute_result",
          "data": {
            "text/plain": [
              "1259756"
            ]
          },
          "metadata": {
            "tags": []
          },
          "execution_count": 77
        }
      ]
    },
    {
      "cell_type": "code",
      "metadata": {
        "id": "gyMUbEVbexaq",
        "outputId": "c75029a8-2495-41c6-8e3f-5f1293ece80a",
        "colab": {
          "base_uri": "https://localhost:8080/",
          "height": 35
        }
      },
      "source": [
        "embeddings_index = {}\n",
        "for w in model_ug_cbow.wv.vocab.keys():\n",
        "  embeddings_index[w] = np.append(model_ug_cbow.wv[w], \n",
        "                                  model_ug_sg.wv[w])\n",
        "print(f'Found {len(embeddings_index)} word vectors.')"
      ],
      "execution_count": null,
      "outputs": [
        {
          "output_type": "stream",
          "text": [
            "Found 1259756 word vectors.\n"
          ],
          "name": "stdout"
        }
      ]
    },
    {
      "cell_type": "markdown",
      "metadata": {
        "id": "zYeOSWRTe3ti"
      },
      "source": [
        "#**Pad Sequence**"
      ]
    },
    {
      "cell_type": "code",
      "metadata": {
        "id": "jX2YAYmCe6aV"
      },
      "source": [
        "from keras.preprocessing.text import Tokenizer\n",
        "from keras.preprocessing.sequence import pad_sequences\n",
        "\n",
        "tokenizer = Tokenizer(num_words=100000)\n",
        "tokenizer.fit_on_texts(x_train)\n",
        "sequences = tokenizer.texts_to_sequences(x_train)"
      ],
      "execution_count": null,
      "outputs": []
    },
    {
      "cell_type": "code",
      "metadata": {
        "id": "1BqABRjbe0PT",
        "outputId": "86736042-4ee2-460a-ab51-b757f217b71b",
        "colab": {
          "base_uri": "https://localhost:8080/",
          "height": 35
        }
      },
      "source": [
        "len(tokenizer.word_index)"
      ],
      "execution_count": null,
      "outputs": [
        {
          "output_type": "execute_result",
          "data": {
            "text/plain": [
              "54873"
            ]
          },
          "metadata": {
            "tags": []
          },
          "execution_count": 80
        }
      ]
    },
    {
      "cell_type": "code",
      "metadata": {
        "id": "Tm5Or_z9fCzA",
        "outputId": "7ac7f9af-03b7-48d7-94f6-351c39573a97",
        "colab": {
          "base_uri": "https://localhost:8080/",
          "height": 104
        }
      },
      "source": [
        "for x in x_train[:5]:\n",
        "  print(x)"
      ],
      "execution_count": null,
      "outputs": [
        {
          "output_type": "stream",
          "text": [
            "رفع اسعار البنزين والكهرباا والقادم اجمل واصلي يابلادي السعوديه اليمن\n",
            "تعليق الدراسه في القصيم المطر في المدينه الدراسه بالقصيم غلط\n",
            "بكره عندي اوف ان شاالله تعليق الدراسه في الرياض\n",
            "هذا اللي يلعب من قلبب هذا روح الهلال الله لنا كثر مانحبك الهلال\n",
            "الهلال هجر خماسيه راءعه اجمل عوده الشلهوب القاءد\n"
          ],
          "name": "stdout"
        }
      ]
    },
    {
      "cell_type": "code",
      "metadata": {
        "id": "G-t_6j7ufF3B"
      },
      "source": [
        "length = []\n",
        "for x in x_train:\n",
        "  length.append(len(x.split()))"
      ],
      "execution_count": null,
      "outputs": []
    },
    {
      "cell_type": "code",
      "metadata": {
        "id": "Tn_QJ_swfIIZ",
        "outputId": "a1316f0c-dc4f-4e50-f0fb-649070590a9d",
        "colab": {
          "base_uri": "https://localhost:8080/",
          "height": 35
        }
      },
      "source": [
        "tweetlen= max(length)\n",
        "tweetlen"
      ],
      "execution_count": null,
      "outputs": [
        {
          "output_type": "execute_result",
          "data": {
            "text/plain": [
              "28"
            ]
          },
          "metadata": {
            "tags": []
          },
          "execution_count": 83
        }
      ]
    },
    {
      "cell_type": "code",
      "metadata": {
        "id": "bzI-c79_fMRG",
        "outputId": "6efa4307-faab-4bf9-d666-bc00ad1a215c",
        "colab": {
          "base_uri": "https://localhost:8080/",
          "height": 35
        }
      },
      "source": [
        "x_train_seq = pad_sequences(sequences, maxlen=tweetlen)\n",
        "print('Shape of data tensor: ', x_train_seq.shape)"
      ],
      "execution_count": null,
      "outputs": [
        {
          "output_type": "stream",
          "text": [
            "Shape of data tensor:  (44128, 28)\n"
          ],
          "name": "stdout"
        }
      ]
    },
    {
      "cell_type": "code",
      "metadata": {
        "id": "8ubcvRvFfOxP",
        "outputId": "42b63c99-3026-4b12-b409-34d09198c460",
        "colab": {
          "base_uri": "https://localhost:8080/",
          "height": 364
        }
      },
      "source": [
        "x_train_seq[:5]"
      ],
      "execution_count": null,
      "outputs": [
        {
          "output_type": "execute_result",
          "data": {
            "text/plain": [
              "array([[    0,     0,     0,     0,     0,     0,     0,     0,     0,\n",
              "            0,     0,     0,     0,     0,     0,     0,     0,     0,\n",
              "           20,    21,    19,    24,   611,   180,  4913,  4317,     6,\n",
              "           55],\n",
              "       [    0,     0,     0,     0,     0,     0,     0,     0,     0,\n",
              "            0,     0,     0,     0,     0,     0,     0,     0,     0,\n",
              "            7,     8,     2,    12,   550,     2,   593,     8,   846,\n",
              "         1218],\n",
              "       [    0,     0,     0,     0,     0,     0,     0,     0,     0,\n",
              "            0,     0,     0,     0,     0,     0,     0,     0,     0,\n",
              "            0,   323,   308,  1315,    14,   916,     7,     8,     2,\n",
              "           39],\n",
              "       [    0,     0,     0,     0,     0,     0,     0,     0,     0,\n",
              "            0,     0,     0,     0,     0,     0,    28,    40,   237,\n",
              "            3, 14152,    28,   339,     1,     9,   160,   574, 14153,\n",
              "            1],\n",
              "       [    0,     0,     0,     0,     0,     0,     0,     0,     0,\n",
              "            0,     0,     0,     0,     0,     0,     0,     0,     0,\n",
              "            0,     0,     1,    25,  2512,  1679,   180,   216,   434,\n",
              "          659]], dtype=int32)"
            ]
          },
          "metadata": {
            "tags": []
          },
          "execution_count": 85
        }
      ]
    },
    {
      "cell_type": "code",
      "metadata": {
        "id": "RzTETr_GfRO5"
      },
      "source": [
        "sequences_val = tokenizer.texts_to_sequences(x_validation)\n",
        "x_val_seq = pad_sequences(sequences_val, maxlen=tweetlen)"
      ],
      "execution_count": null,
      "outputs": []
    },
    {
      "cell_type": "code",
      "metadata": {
        "id": "8M7GrJS4fVSe"
      },
      "source": [
        "num_words = 100000\n",
        "embedding_matrix = np.zeros((num_words, 200)) #AraVec\n",
        "#embedding_matrix = np.zeros((num_words, 300)) #ArabicNews & Fasttext\n",
        "\n",
        "for word, i in tokenizer.word_index.items():\n",
        "  if i >= num_words:\n",
        "    continue\n",
        "  embedding_vector = embeddings_index.get(word)\n",
        "  if embedding_vector is not None:\n",
        "    embedding_matrix[i] = embedding_vector"
      ],
      "execution_count": null,
      "outputs": []
    },
    {
      "cell_type": "code",
      "metadata": {
        "id": "87rU82FcfjI6"
      },
      "source": [
        "seed = 3\n",
        "\n",
        "from keras.models import Sequential\n",
        "from keras.layers import Dense, Dropout, Flatten\n",
        "from keras.layers.embeddings import Embedding"
      ],
      "execution_count": null,
      "outputs": []
    },
    {
      "cell_type": "code",
      "metadata": {
        "id": "aSwjRdpkfmIx"
      },
      "source": [
        "sequences_test = tokenizer.texts_to_sequences(x_test)\n",
        "x_test_seq = pad_sequences(sequences_test, maxlen=tweetlen)\n",
        "y_test = to_categorical(y_test)"
      ],
      "execution_count": null,
      "outputs": []
    },
    {
      "cell_type": "code",
      "metadata": {
        "id": "DilJ5EbIfpUi",
        "outputId": "31e0cdce-1fc9-4297-fed5-102c3115ff89",
        "colab": {
          "base_uri": "https://localhost:8080/",
          "height": 245
        }
      },
      "source": [
        "!pip install keras_metrics"
      ],
      "execution_count": null,
      "outputs": [
        {
          "output_type": "stream",
          "text": [
            "Collecting keras_metrics\n",
            "  Downloading https://files.pythonhosted.org/packages/32/c9/a87420da8e73de944e63a8e9cdcfb1f03ca31a7c4cdcdbd45d2cdf13275a/keras_metrics-1.1.0-py2.py3-none-any.whl\n",
            "Requirement already satisfied: Keras>=2.1.5 in /usr/local/lib/python3.6/dist-packages (from keras_metrics) (2.3.1)\n",
            "Requirement already satisfied: h5py in /usr/local/lib/python3.6/dist-packages (from Keras>=2.1.5->keras_metrics) (2.10.0)\n",
            "Requirement already satisfied: keras-preprocessing>=1.0.5 in /usr/local/lib/python3.6/dist-packages (from Keras>=2.1.5->keras_metrics) (1.1.2)\n",
            "Requirement already satisfied: six>=1.9.0 in /usr/local/lib/python3.6/dist-packages (from Keras>=2.1.5->keras_metrics) (1.15.0)\n",
            "Requirement already satisfied: numpy>=1.9.1 in /usr/local/lib/python3.6/dist-packages (from Keras>=2.1.5->keras_metrics) (1.18.5)\n",
            "Requirement already satisfied: scipy>=0.14 in /usr/local/lib/python3.6/dist-packages (from Keras>=2.1.5->keras_metrics) (1.4.1)\n",
            "Requirement already satisfied: pyyaml in /usr/local/lib/python3.6/dist-packages (from Keras>=2.1.5->keras_metrics) (3.13)\n",
            "Requirement already satisfied: keras-applications>=1.0.6 in /usr/local/lib/python3.6/dist-packages (from Keras>=2.1.5->keras_metrics) (1.0.8)\n",
            "Installing collected packages: keras-metrics\n",
            "Successfully installed keras-metrics-1.1.0\n"
          ],
          "name": "stdout"
        }
      ]
    },
    {
      "cell_type": "code",
      "metadata": {
        "id": "LUV_TRJafus_"
      },
      "source": [
        "import keras\n",
        "import keras_metrics\n",
        "from keras import layers\n",
        "from keras.optimizers import Adam\n",
        "from keras.callbacks import TensorBoard\n",
        "import shutil"
      ],
      "execution_count": null,
      "outputs": []
    },
    {
      "cell_type": "markdown",
      "metadata": {
        "id": "6fZE3BtpmIPJ"
      },
      "source": [
        "#**Bi-GRU with Auto-generated stopword**"
      ]
    },
    {
      "cell_type": "markdown",
      "metadata": {
        "id": "C_HBe678uP0N"
      },
      "source": [
        "##**1 layer**"
      ]
    },
    {
      "cell_type": "code",
      "metadata": {
        "id": "VAzqLtlZm1LN"
      },
      "source": [
        "tensorboard = TensorBoard(log_dir=\"./logs/model_bigru\")\n",
        "keras_callbacks = [tensorboard]\n",
        "import tensorflow as tf"
      ],
      "execution_count": null,
      "outputs": []
    },
    {
      "cell_type": "code",
      "metadata": {
        "id": "Y4EZ1QDlnAdo",
        "outputId": "8645a6c8-72e0-4a32-8331-1d33004b0cbd",
        "colab": {
          "base_uri": "https://localhost:8080/",
          "height": 713
        }
      },
      "source": [
        "%%time\n",
        "\n",
        "num = 1 #define how many stackings\n",
        "#num = 2\n",
        "#num = 3\n",
        "#num = 4\n",
        "\n",
        "#forward layers\n",
        "rnn_cells_forward = [tf.keras.layers.GRUCell(100, dropout=0.2) for _ in range(num)]\n",
        "stacked_forward = tf.keras.layers.StackedRNNCells(rnn_cells_forward)\n",
        "\n",
        "#backward layers\n",
        "rnn_cells_backward = [tf.keras.layers.GRUCell(100, dropout=0.2) for _ in range(num)]\n",
        "stacked_backward = tf.keras.layers.StackedRNNCells(rnn_cells_backward)\n",
        "\n",
        "forward_layer = tf.keras.layers.RNN(stacked_forward, return_sequences=True)\n",
        "backward_layer = tf.keras.layers.RNN(stacked_backward, return_sequences=True, go_backwards=True)\n",
        "\n",
        "model_bigru = tf.keras.Sequential() \n",
        "e = tf.keras.layers.Embedding(100000, 200, weights=[embedding_matrix], input_length=tweetlen\n",
        "              , trainable=True)\n",
        "model_bigru.add(e)\n",
        "model_bigru.add(tf.keras.layers.Bidirectional(forward_layer, backward_layer= backward_layer))  \n",
        "model_bigru.add(tf.keras.layers.Flatten())\n",
        "model_bigru.add(tf.keras.layers.Dense(64,activation='relu'))\n",
        "model_bigru.add(tf.keras.layers.Dense(3, activation='softmax'))\n",
        "model_bigru.compile(loss='categorical_crossentropy', optimizer='adam', metrics=['accuracy', keras_metrics.precision(), \n",
        "                           keras_metrics.recall(), keras_metrics.f1_score()])\n",
        "print(model_bigru.summary())\n",
        "history = model_bigru.fit(x_train_seq, y_train, validation_data=(x_val_seq, y_validation), epochs=5, batch_size=64, callbacks=keras_callbacks)"
      ],
      "execution_count": null,
      "outputs": [
        {
          "output_type": "stream",
          "text": [
            "tracking <tf.Variable 'Variable:0' shape=() dtype=int32, numpy=0> tp\n",
            "tracking <tf.Variable 'Variable:0' shape=() dtype=int32, numpy=0> fp\n",
            "tracking <tf.Variable 'Variable:0' shape=() dtype=int32, numpy=0> tp\n",
            "tracking <tf.Variable 'Variable:0' shape=() dtype=int32, numpy=0> fn\n",
            "tracking <tf.Variable 'Variable:0' shape=() dtype=int32, numpy=0> tp\n",
            "tracking <tf.Variable 'Variable:0' shape=() dtype=int32, numpy=0> fp\n",
            "tracking <tf.Variable 'Variable:0' shape=() dtype=int32, numpy=0> tp\n",
            "tracking <tf.Variable 'Variable:0' shape=() dtype=int32, numpy=0> fn\n",
            "Model: \"sequential\"\n",
            "_________________________________________________________________\n",
            "Layer (type)                 Output Shape              Param #   \n",
            "=================================================================\n",
            "embedding (Embedding)        (None, 28, 200)           20000000  \n",
            "_________________________________________________________________\n",
            "bidirectional (Bidirectional (None, 28, 200)           181200    \n",
            "_________________________________________________________________\n",
            "flatten (Flatten)            (None, 5600)              0         \n",
            "_________________________________________________________________\n",
            "dense (Dense)                (None, 64)                358464    \n",
            "_________________________________________________________________\n",
            "dense_1 (Dense)              (None, 3)                 195       \n",
            "=================================================================\n",
            "Total params: 20,539,859\n",
            "Trainable params: 20,539,859\n",
            "Non-trainable params: 0\n",
            "_________________________________________________________________\n",
            "None\n",
            "Epoch 1/5\n",
            "690/690 [==============================] - 142s 206ms/step - loss: 0.5938 - accuracy: 0.7550 - precision: 0.7600 - recall: 0.6587 - f1_score: 0.7052 - val_loss: 0.5475 - val_accuracy: 0.7828 - val_precision: 0.7998 - val_recall: 0.7109 - val_f1_score: 0.7527\n",
            "Epoch 2/5\n",
            "690/690 [==============================] - 142s 205ms/step - loss: 0.4553 - accuracy: 0.8178 - precision: 0.8163 - recall: 0.7348 - f1_score: 0.7734 - val_loss: 0.5370 - val_accuracy: 0.7913 - val_precision: 0.8282 - val_recall: 0.7499 - val_f1_score: 0.7872\n",
            "Epoch 3/5\n",
            "690/690 [==============================] - 141s 205ms/step - loss: 0.3697 - accuracy: 0.8538 - precision: 0.8405 - recall: 0.7654 - f1_score: 0.8012 - val_loss: 0.5427 - val_accuracy: 0.7922 - val_precision: 0.8486 - val_recall: 0.7762 - val_f1_score: 0.8108\n",
            "Epoch 4/5\n",
            "690/690 [==============================] - 143s 207ms/step - loss: 0.2921 - accuracy: 0.8866 - precision: 0.8581 - recall: 0.7883 - f1_score: 0.8217 - val_loss: 0.5475 - val_accuracy: 0.7970 - val_precision: 0.8648 - val_recall: 0.7981 - val_f1_score: 0.8301\n",
            "Epoch 5/5\n",
            "690/690 [==============================] - 144s 209ms/step - loss: 0.2300 - accuracy: 0.9112 - precision: 0.8723 - recall: 0.8086 - f1_score: 0.8392 - val_loss: 0.5814 - val_accuracy: 0.8053 - val_precision: 0.8782 - val_recall: 0.8169 - val_f1_score: 0.8465\n",
            "CPU times: user 32min 19s, sys: 2min 14s, total: 34min 34s\n",
            "Wall time: 12min 6s\n"
          ],
          "name": "stdout"
        }
      ]
    },
    {
      "cell_type": "code",
      "metadata": {
        "id": "tlYorYyankJM",
        "outputId": "12d177a3-e6d4-4dee-8c82-aed4f90d0c12",
        "colab": {
          "base_uri": "https://localhost:8080/",
          "height": 121
        }
      },
      "source": [
        "#1 layer gru\n",
        "model_bigru.evaluate(x_test_seq, y_test)"
      ],
      "execution_count": null,
      "outputs": [
        {
          "output_type": "stream",
          "text": [
            "173/173 [==============================] - 2s 13ms/step - loss: 0.5705 - accuracy: 0.8078 - precision: 0.8781 - recall: 0.8154 - f1_score: 0.8456\n"
          ],
          "name": "stdout"
        },
        {
          "output_type": "execute_result",
          "data": {
            "text/plain": [
              "[0.570496141910553,\n",
              " 0.8078317642211914,\n",
              " 0.8780713677406311,\n",
              " 0.8153975605964661,\n",
              " 0.8455744981765747]"
            ]
          },
          "metadata": {
            "tags": []
          },
          "execution_count": 94
        }
      ]
    },
    {
      "cell_type": "code",
      "metadata": {
        "id": "gsy5js9En-8C",
        "outputId": "c957f389-e453-47a3-84dc-f355de301822",
        "colab": {
          "base_uri": "https://localhost:8080/",
          "height": 35
        }
      },
      "source": [
        "# serialize model to JSON\n",
        "model_json = model_bigru.to_json()\n",
        "with open(\"/content/drive/My Drive/3-class/1_bigru/model_bigru.json\", \"w\") as json_file:\n",
        "    json_file.write(model_json)\n",
        "    \n",
        "# serialize weights to HDF5\n",
        "model_bigru.save_weights(\"/content/drive/My Drive/3-class/1_bigru/model_bigru.h5\")\n",
        "print(\"Saved model to disk\")"
      ],
      "execution_count": null,
      "outputs": [
        {
          "output_type": "stream",
          "text": [
            "Saved model to disk\n"
          ],
          "name": "stdout"
        }
      ]
    },
    {
      "cell_type": "code",
      "metadata": {
        "id": "Yvng3i7JooAY",
        "outputId": "7561e1cf-0592-4396-add8-0421a0efa9c5",
        "colab": {
          "base_uri": "https://localhost:8080/",
          "height": 35
        }
      },
      "source": [
        "shutil.move('/content/logs/model_bigru','/content/drive/My Drive/3-class/1_bigru/model_bigru')"
      ],
      "execution_count": null,
      "outputs": [
        {
          "output_type": "execute_result",
          "data": {
            "application/vnd.google.colaboratory.intrinsic+json": {
              "type": "string"
            },
            "text/plain": [
              "'/content/drive/My Drive/3-class/1_bigru/model_bigru'"
            ]
          },
          "metadata": {
            "tags": []
          },
          "execution_count": 96
        }
      ]
    },
    {
      "cell_type": "markdown",
      "metadata": {
        "id": "XiWqYxWCUFgZ"
      },
      "source": [
        "##**2 layer**"
      ]
    },
    {
      "cell_type": "code",
      "metadata": {
        "id": "D_HaVug4UFgh"
      },
      "source": [
        "tensorboard = TensorBoard(log_dir=\"./logs/model_2bigru\")\n",
        "keras_callbacks = [tensorboard]\n",
        "                   "
      ],
      "execution_count": null,
      "outputs": []
    },
    {
      "cell_type": "code",
      "metadata": {
        "id": "ou1DW3NmUFgr",
        "outputId": "2e385fa7-9635-4a53-eecf-9c261a5cfca1",
        "colab": {
          "base_uri": "https://localhost:8080/",
          "height": 713
        }
      },
      "source": [
        "%%time\n",
        "\n",
        "#num = 1 #define how many stackings\n",
        "num = 2\n",
        "#num = 3\n",
        "#num = 4\n",
        "\n",
        "#forward layers\n",
        "rnn_cells_forward = [tf.keras.layers.GRUCell(100, dropout=0.2) for _ in range(num)]\n",
        "stacked_forward = tf.keras.layers.StackedRNNCells(rnn_cells_forward)\n",
        "\n",
        "#backward layers\n",
        "rnn_cells_backward = [tf.keras.layers.GRUCell(100, dropout=0.2) for _ in range(num)]\n",
        "stacked_backward = tf.keras.layers.StackedRNNCells(rnn_cells_backward)\n",
        "\n",
        "forward_layer = tf.keras.layers.RNN(stacked_forward, return_sequences=True)\n",
        "backward_layer = tf.keras.layers.RNN(stacked_backward, return_sequences=True, go_backwards=True)\n",
        "\n",
        "model_2bigru = tf.keras.Sequential() \n",
        "e = tf.keras.layers.Embedding(100000, 200, weights=[embedding_matrix], input_length=tweetlen\n",
        "              , trainable=True)\n",
        "model_2bigru.add(e)\n",
        "model_2bigru.add(tf.keras.layers.Bidirectional(forward_layer, backward_layer= backward_layer))  \n",
        "model_2bigru.add(tf.keras.layers.Flatten())\n",
        "model_2bigru.add(tf.keras.layers.Dense(64,activation='relu'))\n",
        "model_2bigru.add(tf.keras.layers.Dense(3, activation='softmax'))\n",
        "model_2bigru.compile(loss='categorical_crossentropy', optimizer='adam', metrics=['accuracy', keras_metrics.precision(), \n",
        "                           keras_metrics.recall(), keras_metrics.f1_score()])\n",
        "print(model_2bigru.summary())\n",
        "history = model_2bigru.fit(x_train_seq, y_train, validation_data=(x_val_seq, y_validation), epochs=5, batch_size=64, callbacks=keras_callbacks)"
      ],
      "execution_count": null,
      "outputs": [
        {
          "output_type": "stream",
          "text": [
            "tracking <tf.Variable 'Variable:0' shape=() dtype=int32, numpy=0> tp\n",
            "tracking <tf.Variable 'Variable:0' shape=() dtype=int32, numpy=0> fp\n",
            "tracking <tf.Variable 'Variable:0' shape=() dtype=int32, numpy=0> tp\n",
            "tracking <tf.Variable 'Variable:0' shape=() dtype=int32, numpy=0> fn\n",
            "tracking <tf.Variable 'Variable:0' shape=() dtype=int32, numpy=0> tp\n",
            "tracking <tf.Variable 'Variable:0' shape=() dtype=int32, numpy=0> fp\n",
            "tracking <tf.Variable 'Variable:0' shape=() dtype=int32, numpy=0> tp\n",
            "tracking <tf.Variable 'Variable:0' shape=() dtype=int32, numpy=0> fn\n",
            "Model: \"sequential_1\"\n",
            "_________________________________________________________________\n",
            "Layer (type)                 Output Shape              Param #   \n",
            "=================================================================\n",
            "embedding_1 (Embedding)      (None, 28, 200)           20000000  \n",
            "_________________________________________________________________\n",
            "bidirectional_1 (Bidirection (None, 28, 200)           302400    \n",
            "_________________________________________________________________\n",
            "flatten_1 (Flatten)          (None, 5600)              0         \n",
            "_________________________________________________________________\n",
            "dense_2 (Dense)              (None, 64)                358464    \n",
            "_________________________________________________________________\n",
            "dense_3 (Dense)              (None, 3)                 195       \n",
            "=================================================================\n",
            "Total params: 20,661,059\n",
            "Trainable params: 20,661,059\n",
            "Non-trainable params: 0\n",
            "_________________________________________________________________\n",
            "None\n",
            "Epoch 1/5\n",
            "690/690 [==============================] - 208s 302ms/step - loss: 0.5980 - accuracy: 0.7523 - precision: 0.7539 - recall: 0.6497 - f1_score: 0.6969 - val_loss: 0.5336 - val_accuracy: 0.7830 - val_precision: 0.7955 - val_recall: 0.7111 - val_f1_score: 0.7509\n",
            "Epoch 2/5\n",
            "690/690 [==============================] - 209s 302ms/step - loss: 0.4683 - accuracy: 0.8110 - precision: 0.8131 - recall: 0.7316 - f1_score: 0.7702 - val_loss: 0.5176 - val_accuracy: 0.7941 - val_precision: 0.8231 - val_recall: 0.7460 - val_f1_score: 0.7826\n",
            "Epoch 3/5\n",
            "690/690 [==============================] - 207s 301ms/step - loss: 0.3846 - accuracy: 0.8493 - precision: 0.8350 - recall: 0.7607 - f1_score: 0.7961 - val_loss: 0.4972 - val_accuracy: 0.8120 - val_precision: 0.8432 - val_recall: 0.7738 - val_f1_score: 0.8070\n",
            "Epoch 4/5\n",
            "690/690 [==============================] - 209s 303ms/step - loss: 0.3083 - accuracy: 0.8815 - precision: 0.8524 - recall: 0.7875 - f1_score: 0.8187 - val_loss: 0.5169 - val_accuracy: 0.8096 - val_precision: 0.8599 - val_recall: 0.7968 - val_f1_score: 0.8271\n",
            "Epoch 5/5\n",
            "690/690 [==============================] - 209s 303ms/step - loss: 0.2507 - accuracy: 0.9037 - precision: 0.8677 - recall: 0.8061 - f1_score: 0.8358 - val_loss: 0.5346 - val_accuracy: 0.8096 - val_precision: 0.8741 - val_recall: 0.8142 - val_f1_score: 0.8431\n",
            "CPU times: user 44min 54s, sys: 3min 59s, total: 48min 54s\n",
            "Wall time: 17min 28s\n"
          ],
          "name": "stdout"
        }
      ]
    },
    {
      "cell_type": "code",
      "metadata": {
        "id": "kxMJjcVEUFg1",
        "outputId": "20bd8199-fb81-47de-db43-1dce37248621",
        "colab": {
          "base_uri": "https://localhost:8080/",
          "height": 121
        }
      },
      "source": [
        "#2 layer gru\n",
        "model_2bigru.evaluate(x_test_seq, y_test)"
      ],
      "execution_count": null,
      "outputs": [
        {
          "output_type": "stream",
          "text": [
            "173/173 [==============================] - 4s 22ms/step - loss: 0.5239 - accuracy: 0.8124 - precision: 0.8743 - recall: 0.8126 - f1_score: 0.8424\n"
          ],
          "name": "stdout"
        },
        {
          "output_type": "execute_result",
          "data": {
            "text/plain": [
              "[0.523892343044281,\n",
              " 0.8123640418052673,\n",
              " 0.8743351697921753,\n",
              " 0.8126279711723328,\n",
              " 0.8423527479171753]"
            ]
          },
          "metadata": {
            "tags": []
          },
          "execution_count": 99
        }
      ]
    },
    {
      "cell_type": "code",
      "metadata": {
        "id": "87iS0fgArpNF",
        "outputId": "94222b1b-4a51-4de2-b505-7fc881d39ac9",
        "colab": {
          "base_uri": "https://localhost:8080/",
          "height": 35
        }
      },
      "source": [
        "# serialize model to JSON\n",
        "model_json = model_2bigru.to_json()\n",
        "with open(\"/content/drive/My Drive/3-class/2_bigru/model_2bigru.json\", \"w\") as json_file:\n",
        "    json_file.write(model_json)\n",
        "    \n",
        "# serialize weights to HDF5\n",
        "model_2bigru.save_weights(\"/content/drive/My Drive/3-class/2_bigru/model_2bigru.h5\")\n",
        "print(\"Saved model to disk\")"
      ],
      "execution_count": null,
      "outputs": [
        {
          "output_type": "stream",
          "text": [
            "Saved model to disk\n"
          ],
          "name": "stdout"
        }
      ]
    },
    {
      "cell_type": "code",
      "metadata": {
        "id": "zglk5wrQUFhF",
        "outputId": "48588a5c-024a-49fe-d5a5-fa350e78e42b",
        "colab": {
          "base_uri": "https://localhost:8080/",
          "height": 35
        }
      },
      "source": [
        "shutil.move('/content/logs/model_2bigru','/content/drive/My Drive/3-class/2_bigru/model_2bigru')"
      ],
      "execution_count": null,
      "outputs": [
        {
          "output_type": "execute_result",
          "data": {
            "application/vnd.google.colaboratory.intrinsic+json": {
              "type": "string"
            },
            "text/plain": [
              "'/content/drive/My Drive/3-class/2_bigru/model_2bigru'"
            ]
          },
          "metadata": {
            "tags": []
          },
          "execution_count": 101
        }
      ]
    },
    {
      "cell_type": "markdown",
      "metadata": {
        "id": "dC5jeNzGUdbE"
      },
      "source": [
        "##**3 layer**"
      ]
    },
    {
      "cell_type": "code",
      "metadata": {
        "id": "GmwK1RhnUdbH"
      },
      "source": [
        "tensorboard = TensorBoard(log_dir=\"./logs/model_3bigru\")\n",
        "keras_callbacks = [tensorboard]\n",
        "                   "
      ],
      "execution_count": null,
      "outputs": []
    },
    {
      "cell_type": "code",
      "metadata": {
        "id": "_EfZ-bjWUdbQ",
        "outputId": "853d64b1-a95a-46f7-f2f9-03bed81fd2f9",
        "colab": {
          "base_uri": "https://localhost:8080/",
          "height": 731
        }
      },
      "source": [
        "%%time\n",
        "\n",
        "#num = 1 #define how many stackings\n",
        "#num = 2\n",
        "num = 3\n",
        "#num = 4\n",
        "\n",
        "#forward layers\n",
        "rnn_cells_forward = [tf.keras.layers.GRUCell(100, dropout=0.2) for _ in range(num)]\n",
        "stacked_forward = tf.keras.layers.StackedRNNCells(rnn_cells_forward)\n",
        "\n",
        "#backward layers\n",
        "rnn_cells_backward = [tf.keras.layers.GRUCell(100, dropout=0.2) for _ in range(num)]\n",
        "stacked_backward = tf.keras.layers.StackedRNNCells(rnn_cells_backward)\n",
        "\n",
        "forward_layer = tf.keras.layers.RNN(stacked_forward, return_sequences=True)\n",
        "backward_layer = tf.keras.layers.RNN(stacked_backward, return_sequences=True, go_backwards=True)\n",
        "\n",
        "model = tf.keras.Sequential() \n",
        "e = tf.keras.layers.Embedding(100000, 200, weights=[embedding_matrix], input_length=tweetlen\n",
        "              , trainable=True)\n",
        "model.add(e)\n",
        "model.add(tf.keras.layers.Bidirectional(forward_layer, backward_layer= backward_layer))  \n",
        "model.add(tf.keras.layers.Flatten())\n",
        "model.add(tf.keras.layers.Dense(64,activation='relu'))\n",
        "model.add(tf.keras.layers.Dense(3, activation='softmax'))\n",
        "model.compile(loss='categorical_crossentropy', optimizer='adam', metrics=['accuracy', keras_metrics.precision(), \n",
        "                           keras_metrics.recall(), keras_metrics.f1_score()])\n",
        "print(model.summary())\n",
        "history = model.fit(x_train_seq, y_train, validation_data=(x_val_seq, y_validation), epochs=5, batch_size=64, callbacks=keras_callbacks)"
      ],
      "execution_count": null,
      "outputs": [
        {
          "output_type": "stream",
          "text": [
            "tracking <tf.Variable 'Variable:0' shape=() dtype=int32, numpy=0> tp\n",
            "tracking <tf.Variable 'Variable:0' shape=() dtype=int32, numpy=0> fp\n",
            "tracking <tf.Variable 'Variable:0' shape=() dtype=int32, numpy=0> tp\n",
            "tracking <tf.Variable 'Variable:0' shape=() dtype=int32, numpy=0> fn\n",
            "tracking <tf.Variable 'Variable:0' shape=() dtype=int32, numpy=0> tp\n",
            "tracking <tf.Variable 'Variable:0' shape=() dtype=int32, numpy=0> fp\n",
            "tracking <tf.Variable 'Variable:0' shape=() dtype=int32, numpy=0> tp\n",
            "tracking <tf.Variable 'Variable:0' shape=() dtype=int32, numpy=0> fn\n",
            "Model: \"sequential_2\"\n",
            "_________________________________________________________________\n",
            "Layer (type)                 Output Shape              Param #   \n",
            "=================================================================\n",
            "embedding_2 (Embedding)      (None, 28, 200)           20000000  \n",
            "_________________________________________________________________\n",
            "bidirectional_2 (Bidirection (None, 28, 200)           423600    \n",
            "_________________________________________________________________\n",
            "flatten_2 (Flatten)          (None, 5600)              0         \n",
            "_________________________________________________________________\n",
            "dense_4 (Dense)              (None, 64)                358464    \n",
            "_________________________________________________________________\n",
            "dense_5 (Dense)              (None, 3)                 195       \n",
            "=================================================================\n",
            "Total params: 20,782,259\n",
            "Trainable params: 20,782,259\n",
            "Non-trainable params: 0\n",
            "_________________________________________________________________\n",
            "None\n",
            "Epoch 1/5\n",
            "  2/690 [..............................] - ETA: 11:06 - loss: 1.1029 - accuracy: 0.3438 - precision: 0.3333 - recall: 0.0208 - f1_score: 0.0392         WARNING:tensorflow:Method (on_train_batch_end) is slow compared to the batch update (0.721078). Check your callbacks.\n",
            "690/690 [==============================] - 274s 398ms/step - loss: 0.5962 - accuracy: 0.7518 - precision: 0.7601 - recall: 0.6531 - f1_score: 0.7008 - val_loss: 0.5711 - val_accuracy: 0.7716 - val_precision: 0.7968 - val_recall: 0.7092 - val_f1_score: 0.7504\n",
            "Epoch 2/5\n",
            "690/690 [==============================] - 272s 395ms/step - loss: 0.4795 - accuracy: 0.8075 - precision: 0.8123 - recall: 0.7287 - f1_score: 0.7682 - val_loss: 0.5478 - val_accuracy: 0.7877 - val_precision: 0.8226 - val_recall: 0.7428 - val_f1_score: 0.7807\n",
            "Epoch 3/5\n",
            "690/690 [==============================] - 273s 396ms/step - loss: 0.3935 - accuracy: 0.8477 - precision: 0.8336 - recall: 0.7589 - f1_score: 0.7945 - val_loss: 0.5132 - val_accuracy: 0.8015 - val_precision: 0.8423 - val_recall: 0.7716 - val_f1_score: 0.8054\n",
            "Epoch 4/5\n",
            "690/690 [==============================] - 274s 397ms/step - loss: 0.3177 - accuracy: 0.8796 - precision: 0.8521 - recall: 0.7842 - f1_score: 0.8167 - val_loss: 0.5510 - val_accuracy: 0.7997 - val_precision: 0.8601 - val_recall: 0.7938 - val_f1_score: 0.8256\n",
            "Epoch 5/5\n",
            "690/690 [==============================] - 276s 401ms/step - loss: 0.2588 - accuracy: 0.9017 - precision: 0.8681 - recall: 0.8030 - f1_score: 0.8343 - val_loss: 0.5815 - val_accuracy: 0.8042 - val_precision: 0.8743 - val_recall: 0.8110 - val_f1_score: 0.8415\n",
            "CPU times: user 57min 9s, sys: 5min 28s, total: 1h 2min 38s\n",
            "Wall time: 22min 58s\n"
          ],
          "name": "stdout"
        }
      ]
    },
    {
      "cell_type": "code",
      "metadata": {
        "id": "tIfkbuzoUdbZ",
        "outputId": "2eabf683-aac9-4866-c11b-e78da067362f",
        "colab": {
          "base_uri": "https://localhost:8080/",
          "height": 121
        }
      },
      "source": [
        "#3 layer gru\n",
        "model.evaluate(x_test_seq, y_test)"
      ],
      "execution_count": null,
      "outputs": [
        {
          "output_type": "stream",
          "text": [
            "173/173 [==============================] - 6s 32ms/step - loss: 0.5668 - accuracy: 0.8127 - precision: 0.8747 - recall: 0.8093 - f1_score: 0.8407\n"
          ],
          "name": "stdout"
        },
        {
          "output_type": "execute_result",
          "data": {
            "text/plain": [
              "[0.5668079257011414,\n",
              " 0.812726616859436,\n",
              " 0.8746705651283264,\n",
              " 0.8092594742774963,\n",
              " 0.8406943678855896]"
            ]
          },
          "metadata": {
            "tags": []
          },
          "execution_count": 104
        }
      ]
    },
    {
      "cell_type": "code",
      "metadata": {
        "id": "iO7aViOcUdbk",
        "outputId": "12ec5dc7-2435-4bba-a78c-e99980550cca",
        "colab": {
          "base_uri": "https://localhost:8080/",
          "height": 35
        }
      },
      "source": [
        "# serialize model to JSON\n",
        "model_json = model.to_json()\n",
        "with open(\"/content/drive/My Drive/3-class/3_bigru/model.json\", \"w\") as json_file:\n",
        "    json_file.write(model_json)\n",
        "    \n",
        "# serialize weights to HDF5\n",
        "model.save_weights(\"/content/drive/My Drive/3-class/3_bigru/model.h5\")\n",
        "print(\"Saved model to disk\")"
      ],
      "execution_count": null,
      "outputs": [
        {
          "output_type": "stream",
          "text": [
            "Saved model to disk\n"
          ],
          "name": "stdout"
        }
      ]
    },
    {
      "cell_type": "code",
      "metadata": {
        "id": "J3r6yxBwUdbr",
        "outputId": "e93e898b-caeb-4724-bb21-9f662d59c4c9",
        "colab": {
          "base_uri": "https://localhost:8080/",
          "height": 35
        }
      },
      "source": [
        "shutil.move('/content/logs/model_3bigru','/content/drive/My Drive/3-class/3_bigru/model')"
      ],
      "execution_count": null,
      "outputs": [
        {
          "output_type": "execute_result",
          "data": {
            "application/vnd.google.colaboratory.intrinsic+json": {
              "type": "string"
            },
            "text/plain": [
              "'/content/drive/My Drive/3-class/3_bigru/model'"
            ]
          },
          "metadata": {
            "tags": []
          },
          "execution_count": 106
        }
      ]
    },
    {
      "cell_type": "markdown",
      "metadata": {
        "id": "6n1PHD7-U9ZE"
      },
      "source": [
        "##**4 layer**"
      ]
    },
    {
      "cell_type": "code",
      "metadata": {
        "id": "bwpq1-e8U9ZJ"
      },
      "source": [
        "tensorboard = TensorBoard(log_dir=\"./logs/model_4bigru\")\n",
        "keras_callbacks = [tensorboard]\n",
        "                   "
      ],
      "execution_count": null,
      "outputs": []
    },
    {
      "cell_type": "code",
      "metadata": {
        "id": "CRRZiIYQU9ZS",
        "outputId": "c1c97c32-f7c3-479e-a6b6-945cd60b892b",
        "colab": {
          "base_uri": "https://localhost:8080/",
          "height": 713
        }
      },
      "source": [
        "%%time\n",
        "\n",
        "#num = 1 #define how many stackings\n",
        "#num = 2\n",
        "#num = 3\n",
        "num = 4\n",
        "\n",
        "#forward layers\n",
        "rnn_cells_forward = [tf.keras.layers.GRUCell(100, dropout=0.2) for _ in range(num)]\n",
        "stacked_forward = tf.keras.layers.StackedRNNCells(rnn_cells_forward)\n",
        "\n",
        "#backward layers\n",
        "rnn_cells_backward = [tf.keras.layers.GRUCell(100, dropout=0.2) for _ in range(num)]\n",
        "stacked_backward = tf.keras.layers.StackedRNNCells(rnn_cells_backward)\n",
        "\n",
        "forward_layer = tf.keras.layers.RNN(stacked_forward, return_sequences=True)\n",
        "backward_layer = tf.keras.layers.RNN(stacked_backward, return_sequences=True, go_backwards=True)\n",
        "\n",
        "model_4bigru = tf.keras.Sequential() \n",
        "e = tf.keras.layers.Embedding(100000, 200, weights=[embedding_matrix], input_length=tweetlen\n",
        "              , trainable=True)\n",
        "model_4bigru.add(e)\n",
        "model_4bigru.add(tf.keras.layers.Bidirectional(forward_layer, backward_layer= backward_layer))  \n",
        "model_4bigru.add(tf.keras.layers.Flatten())\n",
        "model_4bigru.add(tf.keras.layers.Dense(64,activation='relu'))\n",
        "model_4bigru.add(tf.keras.layers.Dense(3, activation='softmax'))\n",
        "model_4bigru.compile(loss='categorical_crossentropy', optimizer='adam', metrics=['accuracy', keras_metrics.precision(), \n",
        "                           keras_metrics.recall(), keras_metrics.f1_score()])\n",
        "print(model_4bigru.summary())\n",
        "history = model_4bigru.fit(x_train_seq, y_train, validation_data=(x_val_seq, y_validation), epochs=5, batch_size=64, callbacks=keras_callbacks)"
      ],
      "execution_count": null,
      "outputs": [
        {
          "output_type": "stream",
          "text": [
            "tracking <tf.Variable 'Variable:0' shape=() dtype=int32, numpy=0> tp\n",
            "tracking <tf.Variable 'Variable:0' shape=() dtype=int32, numpy=0> fp\n",
            "tracking <tf.Variable 'Variable:0' shape=() dtype=int32, numpy=0> tp\n",
            "tracking <tf.Variable 'Variable:0' shape=() dtype=int32, numpy=0> fn\n",
            "tracking <tf.Variable 'Variable:0' shape=() dtype=int32, numpy=0> tp\n",
            "tracking <tf.Variable 'Variable:0' shape=() dtype=int32, numpy=0> fp\n",
            "tracking <tf.Variable 'Variable:0' shape=() dtype=int32, numpy=0> tp\n",
            "tracking <tf.Variable 'Variable:0' shape=() dtype=int32, numpy=0> fn\n",
            "Model: \"sequential_3\"\n",
            "_________________________________________________________________\n",
            "Layer (type)                 Output Shape              Param #   \n",
            "=================================================================\n",
            "embedding_3 (Embedding)      (None, 28, 200)           20000000  \n",
            "_________________________________________________________________\n",
            "bidirectional_3 (Bidirection (None, 28, 200)           544800    \n",
            "_________________________________________________________________\n",
            "flatten_3 (Flatten)          (None, 5600)              0         \n",
            "_________________________________________________________________\n",
            "dense_6 (Dense)              (None, 64)                358464    \n",
            "_________________________________________________________________\n",
            "dense_7 (Dense)              (None, 3)                 195       \n",
            "=================================================================\n",
            "Total params: 20,903,459\n",
            "Trainable params: 20,903,459\n",
            "Non-trainable params: 0\n",
            "_________________________________________________________________\n",
            "None\n",
            "Epoch 1/5\n",
            "690/690 [==============================] - 347s 503ms/step - loss: 0.6058 - accuracy: 0.7500 - precision: 0.7563 - recall: 0.6474 - f1_score: 0.6959 - val_loss: 0.5450 - val_accuracy: 0.7863 - val_precision: 0.7907 - val_recall: 0.7117 - val_f1_score: 0.7491\n",
            "Epoch 2/5\n",
            "690/690 [==============================] - 344s 499ms/step - loss: 0.4806 - accuracy: 0.8092 - precision: 0.8076 - recall: 0.7328 - f1_score: 0.7684 - val_loss: 0.5236 - val_accuracy: 0.7970 - val_precision: 0.8183 - val_recall: 0.7474 - val_f1_score: 0.7812\n",
            "Epoch 3/5\n",
            "690/690 [==============================] - 336s 487ms/step - loss: 0.3981 - accuracy: 0.8477 - precision: 0.8294 - recall: 0.7635 - f1_score: 0.7951 - val_loss: 0.5301 - val_accuracy: 0.8075 - val_precision: 0.8389 - val_recall: 0.7751 - val_f1_score: 0.8057\n",
            "Epoch 4/5\n",
            "690/690 [==============================] - 338s 489ms/step - loss: 0.3224 - accuracy: 0.8772 - precision: 0.8491 - recall: 0.7867 - f1_score: 0.8167 - val_loss: 0.5190 - val_accuracy: 0.8095 - val_precision: 0.8571 - val_recall: 0.7960 - val_f1_score: 0.8254\n",
            "Epoch 5/5\n",
            "690/690 [==============================] - 332s 481ms/step - loss: 0.2641 - accuracy: 0.8996 - precision: 0.8651 - recall: 0.8054 - f1_score: 0.8342 - val_loss: 0.5805 - val_accuracy: 0.8024 - val_precision: 0.8717 - val_recall: 0.8124 - val_f1_score: 0.8410\n",
            "CPU times: user 1h 9min 8s, sys: 7min 13s, total: 1h 16min 22s\n",
            "Wall time: 28min 29s\n"
          ],
          "name": "stdout"
        }
      ]
    },
    {
      "cell_type": "code",
      "metadata": {
        "id": "yE_FLS5nU9Za",
        "outputId": "5a1f0b3c-09ac-40db-ec3a-3be4fd4b815f",
        "colab": {
          "base_uri": "https://localhost:8080/",
          "height": 121
        }
      },
      "source": [
        "#4 layer gru\n",
        "model_4bigru.evaluate(x_test_seq, y_test)"
      ],
      "execution_count": null,
      "outputs": [
        {
          "output_type": "stream",
          "text": [
            "173/173 [==============================] - 6s 37ms/step - loss: 0.5683 - accuracy: 0.8013 - precision: 0.8724 - recall: 0.8099 - f1_score: 0.8400\n"
          ],
          "name": "stdout"
        },
        {
          "output_type": "execute_result",
          "data": {
            "text/plain": [
              "[0.5683251023292542,\n",
              " 0.8013052940368652,\n",
              " 0.8724077939987183,\n",
              " 0.8098771572113037,\n",
              " 0.8399795889854431]"
            ]
          },
          "metadata": {
            "tags": []
          },
          "execution_count": 109
        }
      ]
    },
    {
      "cell_type": "code",
      "metadata": {
        "id": "xAqJJ6eH9799",
        "outputId": "5b813c32-1086-435c-bebf-9f49d53ddb73",
        "colab": {
          "base_uri": "https://localhost:8080/",
          "height": 35
        }
      },
      "source": [
        "# serialize model to JSON\n",
        "model_json = model_4bigru.to_json()\n",
        "with open(\"/content/drive/My Drive/3-class/4_bigru/model_4bigru.json\", \"w\") as json_file:\n",
        "    json_file.write(model_json)\n",
        "    \n",
        "# serialize weights to HDF5\n",
        "model_4bigru.save_weights(\"/content/drive/My Drive/3-class/4_bigru/model_4bigru.h5\")\n",
        "print(\"Saved model to disk\")"
      ],
      "execution_count": null,
      "outputs": [
        {
          "output_type": "stream",
          "text": [
            "Saved model to disk\n"
          ],
          "name": "stdout"
        }
      ]
    },
    {
      "cell_type": "code",
      "metadata": {
        "id": "8gSu6x6E99Kk",
        "outputId": "2fdee9f9-557c-4594-a423-16a35f139296",
        "colab": {
          "base_uri": "https://localhost:8080/",
          "height": 35
        }
      },
      "source": [
        "shutil.move('/content/logs/model_4bigru','/content/drive/My Drive/3-class/4_bigru/model_4bigru')"
      ],
      "execution_count": null,
      "outputs": [
        {
          "output_type": "execute_result",
          "data": {
            "application/vnd.google.colaboratory.intrinsic+json": {
              "type": "string"
            },
            "text/plain": [
              "'/content/drive/My Drive/3-class/4_bigru/model_4bigru'"
            ]
          },
          "metadata": {
            "tags": []
          },
          "execution_count": 111
        }
      ]
    },
    {
      "cell_type": "markdown",
      "metadata": {
        "id": "ou0lGKLZXBmy"
      },
      "source": [
        "##**5 layer**"
      ]
    },
    {
      "cell_type": "code",
      "metadata": {
        "id": "9fot6EfyXBmz"
      },
      "source": [
        "tensorboard = TensorBoard(log_dir=\"./logs/model_5bigru\")\n",
        "keras_callbacks = [tensorboard]\n",
        "                   "
      ],
      "execution_count": null,
      "outputs": []
    },
    {
      "cell_type": "code",
      "metadata": {
        "id": "jxopS23JXBm2",
        "outputId": "be14cca0-60d7-4378-c7b3-212343b9bf95",
        "colab": {
          "base_uri": "https://localhost:8080/",
          "height": 731
        }
      },
      "source": [
        "%%time\n",
        "\n",
        "#num = 1 #define how many stackings\n",
        "#num = 2\n",
        "#num = 3\n",
        "#num = 4\n",
        "num = 5\n",
        "#forward layers\n",
        "rnn_cells_forward = [tf.keras.layers.GRUCell(100, dropout=0.2) for _ in range(num)]\n",
        "stacked_forward = tf.keras.layers.StackedRNNCells(rnn_cells_forward)\n",
        "\n",
        "#backward layers\n",
        "rnn_cells_backward = [tf.keras.layers.GRUCell(100, dropout=0.2) for _ in range(num)]\n",
        "stacked_backward = tf.keras.layers.StackedRNNCells(rnn_cells_backward)\n",
        "\n",
        "forward_layer = tf.keras.layers.RNN(stacked_forward, return_sequences=True)\n",
        "backward_layer = tf.keras.layers.RNN(stacked_backward, return_sequences=True, go_backwards=True)\n",
        "\n",
        "model_5bigru = tf.keras.Sequential() \n",
        "e = tf.keras.layers.Embedding(100000, 200, weights=[embedding_matrix], input_length=tweetlen\n",
        "              , trainable=True)\n",
        "model_5bigru.add(e)\n",
        "model_5bigru.add(tf.keras.layers.Bidirectional(forward_layer, backward_layer= backward_layer))  \n",
        "model_5bigru.add(tf.keras.layers.Flatten())\n",
        "model_5bigru.add(tf.keras.layers.Dense(64,activation='relu'))\n",
        "model_5bigru.add(tf.keras.layers.Dense(3, activation='softmax'))\n",
        "model_5bigru.compile(loss='categorical_crossentropy', optimizer='adam', metrics=['accuracy', keras_metrics.precision(), \n",
        "                           keras_metrics.recall(), keras_metrics.f1_score()])\n",
        "print(model_5bigru.summary())\n",
        "history = model_5bigru.fit(x_train_seq, y_train, validation_data=(x_val_seq, y_validation), epochs=5, batch_size=64, callbacks=keras_callbacks)"
      ],
      "execution_count": null,
      "outputs": [
        {
          "output_type": "stream",
          "text": [
            "tracking <tf.Variable 'Variable:0' shape=() dtype=int32, numpy=0> tp\n",
            "tracking <tf.Variable 'Variable:0' shape=() dtype=int32, numpy=0> fp\n",
            "tracking <tf.Variable 'Variable:0' shape=() dtype=int32, numpy=0> tp\n",
            "tracking <tf.Variable 'Variable:0' shape=() dtype=int32, numpy=0> fn\n",
            "tracking <tf.Variable 'Variable:0' shape=() dtype=int32, numpy=0> tp\n",
            "tracking <tf.Variable 'Variable:0' shape=() dtype=int32, numpy=0> fp\n",
            "tracking <tf.Variable 'Variable:0' shape=() dtype=int32, numpy=0> tp\n",
            "tracking <tf.Variable 'Variable:0' shape=() dtype=int32, numpy=0> fn\n",
            "Model: \"sequential_4\"\n",
            "_________________________________________________________________\n",
            "Layer (type)                 Output Shape              Param #   \n",
            "=================================================================\n",
            "embedding_4 (Embedding)      (None, 28, 200)           20000000  \n",
            "_________________________________________________________________\n",
            "bidirectional_4 (Bidirection (None, 28, 200)           666000    \n",
            "_________________________________________________________________\n",
            "flatten_4 (Flatten)          (None, 5600)              0         \n",
            "_________________________________________________________________\n",
            "dense_8 (Dense)              (None, 64)                358464    \n",
            "_________________________________________________________________\n",
            "dense_9 (Dense)              (None, 3)                 195       \n",
            "=================================================================\n",
            "Total params: 21,024,659\n",
            "Trainable params: 21,024,659\n",
            "Non-trainable params: 0\n",
            "_________________________________________________________________\n",
            "None\n",
            "Epoch 1/5\n",
            "  2/690 [..............................] - ETA: 18:06 - loss: 1.0746 - accuracy: 0.3594 - precision: 0.3000 - recall: 0.0268 - f1_score: 0.0492         WARNING:tensorflow:Method (on_train_batch_end) is slow compared to the batch update (1.205787). Check your callbacks.\n",
            "690/690 [==============================] - 409s 593ms/step - loss: 0.6116 - accuracy: 0.7478 - precision: 0.7517 - recall: 0.6491 - f1_score: 0.6952 - val_loss: 0.5722 - val_accuracy: 0.7848 - val_precision: 0.7918 - val_recall: 0.7064 - val_f1_score: 0.7467\n",
            "Epoch 2/5\n",
            "690/690 [==============================] - 405s 586ms/step - loss: 0.4818 - accuracy: 0.8093 - precision: 0.8085 - recall: 0.7287 - f1_score: 0.7665 - val_loss: 0.5063 - val_accuracy: 0.8038 - val_precision: 0.8187 - val_recall: 0.7463 - val_f1_score: 0.7808\n",
            "Epoch 3/5\n",
            "690/690 [==============================] - 404s 585ms/step - loss: 0.4033 - accuracy: 0.8439 - precision: 0.8291 - recall: 0.7619 - f1_score: 0.7941 - val_loss: 0.5010 - val_accuracy: 0.8091 - val_precision: 0.8382 - val_recall: 0.7738 - val_f1_score: 0.8047\n",
            "Epoch 4/5\n",
            "690/690 [==============================] - 403s 585ms/step - loss: 0.3243 - accuracy: 0.8768 - precision: 0.8481 - recall: 0.7857 - f1_score: 0.8157 - val_loss: 0.5091 - val_accuracy: 0.8142 - val_precision: 0.8563 - val_recall: 0.7953 - val_f1_score: 0.8247\n",
            "Epoch 5/5\n",
            "690/690 [==============================] - 405s 586ms/step - loss: 0.2677 - accuracy: 0.8999 - precision: 0.8640 - recall: 0.8047 - f1_score: 0.8333 - val_loss: 0.5267 - val_accuracy: 0.8115 - val_precision: 0.8702 - val_recall: 0.8127 - val_f1_score: 0.8405\n",
            "CPU times: user 1h 21min 20s, sys: 10min 46s, total: 1h 32min 6s\n",
            "Wall time: 33min 58s\n"
          ],
          "name": "stdout"
        }
      ]
    },
    {
      "cell_type": "code",
      "metadata": {
        "id": "or4DvUdNXBm4",
        "outputId": "c71a9601-b6bd-4e04-e815-ae7e2678e6db",
        "colab": {
          "base_uri": "https://localhost:8080/",
          "height": 121
        }
      },
      "source": [
        "#5 layer gru\n",
        "model_5bigru.evaluate(x_test_seq, y_test)"
      ],
      "execution_count": null,
      "outputs": [
        {
          "output_type": "stream",
          "text": [
            "173/173 [==============================] - 8s 44ms/step - loss: 0.5272 - accuracy: 0.8160 - precision: 0.8697 - recall: 0.8126 - f1_score: 0.8402\n"
          ],
          "name": "stdout"
        },
        {
          "output_type": "execute_result",
          "data": {
            "text/plain": [
              "[0.5271825194358826,\n",
              " 0.8159898519515991,\n",
              " 0.8697239756584167,\n",
              " 0.812615692615509,\n",
              " 0.8402007222175598]"
            ]
          },
          "metadata": {
            "tags": []
          },
          "execution_count": 114
        }
      ]
    },
    {
      "cell_type": "code",
      "metadata": {
        "id": "7pyGSKlAXBm5",
        "outputId": "fb340e1d-3706-42ad-9e52-618fcc76a0d6",
        "colab": {
          "base_uri": "https://localhost:8080/",
          "height": 35
        }
      },
      "source": [
        "# serialize model to JSON\n",
        "model_json = model_5bigru.to_json()\n",
        "with open(\"/content/drive/My Drive/3-class/5_bigru/model_5bigru.json\", \"w\") as json_file:\n",
        "    json_file.write(model_json)\n",
        "    \n",
        "# serialize weights to HDF5\n",
        "model_5bigru.save_weights(\"/content/drive/My Drive/3-class/5_bigru/model_5bigru.h5\")\n",
        "print(\"Saved model to disk\")"
      ],
      "execution_count": null,
      "outputs": [
        {
          "output_type": "stream",
          "text": [
            "Saved model to disk\n"
          ],
          "name": "stdout"
        }
      ]
    },
    {
      "cell_type": "code",
      "metadata": {
        "id": "vfFWy64eXBm7",
        "outputId": "26c55d66-b17c-41f1-96e1-17f85457d1f8",
        "colab": {
          "base_uri": "https://localhost:8080/",
          "height": 35
        }
      },
      "source": [
        "shutil.move('/content/logs/model_5bigru','/content/drive/My Drive/3-class/5_bigru/model_5bigru')"
      ],
      "execution_count": null,
      "outputs": [
        {
          "output_type": "execute_result",
          "data": {
            "application/vnd.google.colaboratory.intrinsic+json": {
              "type": "string"
            },
            "text/plain": [
              "'/content/drive/My Drive/3-class/5_bigru/model_5bigru'"
            ]
          },
          "metadata": {
            "tags": []
          },
          "execution_count": 116
        }
      ]
    },
    {
      "cell_type": "markdown",
      "metadata": {
        "id": "Zxe5UI0nkCo3"
      },
      "source": [
        "##**6 layer**"
      ]
    },
    {
      "cell_type": "code",
      "metadata": {
        "id": "fyJMSF9JkCo8"
      },
      "source": [
        "tensorboard = TensorBoard(log_dir=\"./logs/model_6bigru\")\n",
        "keras_callbacks = [tensorboard]\n",
        "                   "
      ],
      "execution_count": null,
      "outputs": []
    },
    {
      "cell_type": "code",
      "metadata": {
        "id": "lff47cMpkCo_",
        "outputId": "7090e1f0-a68e-4ac4-dc59-8c67e2f86449",
        "colab": {
          "base_uri": "https://localhost:8080/",
          "height": 731
        }
      },
      "source": [
        "%%time\n",
        "\n",
        "#num = 1 #define how many stackings\n",
        "#num = 2\n",
        "#num = 3\n",
        "#num = 4\n",
        "#num = 5\n",
        "num=6\n",
        "#forward layers\n",
        "rnn_cells_forward = [tf.keras.layers.GRUCell(100, dropout=0.2) for _ in range(num)]\n",
        "stacked_forward = tf.keras.layers.StackedRNNCells(rnn_cells_forward)\n",
        "\n",
        "#backward layers\n",
        "rnn_cells_backward = [tf.keras.layers.GRUCell(100, dropout=0.2) for _ in range(num)]\n",
        "stacked_backward = tf.keras.layers.StackedRNNCells(rnn_cells_backward)\n",
        "\n",
        "forward_layer = tf.keras.layers.RNN(stacked_forward, return_sequences=True)\n",
        "backward_layer = tf.keras.layers.RNN(stacked_backward, return_sequences=True, go_backwards=True)\n",
        "\n",
        "model_6bigru = tf.keras.Sequential() \n",
        "e = tf.keras.layers.Embedding(100000, 200, weights=[embedding_matrix], input_length=tweetlen\n",
        "              , trainable=True)\n",
        "model_6bigru.add(e)\n",
        "model_6bigru.add(tf.keras.layers.Bidirectional(forward_layer, backward_layer= backward_layer))  \n",
        "model_6bigru.add(tf.keras.layers.Flatten())\n",
        "model_6bigru.add(tf.keras.layers.Dense(64,activation='relu'))\n",
        "model_6bigru.add(tf.keras.layers.Dense(3, activation='softmax'))\n",
        "model_6bigru.compile(loss='categorical_crossentropy', optimizer='adam', metrics=['accuracy', keras_metrics.precision(), \n",
        "                           keras_metrics.recall(), keras_metrics.f1_score()])\n",
        "print(model_6bigru.summary())\n",
        "history = model_6bigru.fit(x_train_seq, y_train, validation_data=(x_val_seq, y_validation), epochs=5, batch_size=64, callbacks=keras_callbacks)"
      ],
      "execution_count": null,
      "outputs": [
        {
          "output_type": "stream",
          "text": [
            "tracking <tf.Variable 'Variable:0' shape=() dtype=int32, numpy=0> tp\n",
            "tracking <tf.Variable 'Variable:0' shape=() dtype=int32, numpy=0> fp\n",
            "tracking <tf.Variable 'Variable:0' shape=() dtype=int32, numpy=0> tp\n",
            "tracking <tf.Variable 'Variable:0' shape=() dtype=int32, numpy=0> fn\n",
            "tracking <tf.Variable 'Variable:0' shape=() dtype=int32, numpy=0> tp\n",
            "tracking <tf.Variable 'Variable:0' shape=() dtype=int32, numpy=0> fp\n",
            "tracking <tf.Variable 'Variable:0' shape=() dtype=int32, numpy=0> tp\n",
            "tracking <tf.Variable 'Variable:0' shape=() dtype=int32, numpy=0> fn\n",
            "Model: \"sequential_5\"\n",
            "_________________________________________________________________\n",
            "Layer (type)                 Output Shape              Param #   \n",
            "=================================================================\n",
            "embedding_5 (Embedding)      (None, 28, 200)           20000000  \n",
            "_________________________________________________________________\n",
            "bidirectional_5 (Bidirection (None, 28, 200)           787200    \n",
            "_________________________________________________________________\n",
            "flatten_5 (Flatten)          (None, 5600)              0         \n",
            "_________________________________________________________________\n",
            "dense_10 (Dense)             (None, 64)                358464    \n",
            "_________________________________________________________________\n",
            "dense_11 (Dense)             (None, 3)                 195       \n",
            "=================================================================\n",
            "Total params: 21,145,859\n",
            "Trainable params: 21,145,859\n",
            "Non-trainable params: 0\n",
            "_________________________________________________________________\n",
            "None\n",
            "Epoch 1/5\n",
            "  2/690 [..............................] - ETA: 21:06 - loss: 1.0944 - accuracy: 0.3516 - precision: 0.0000e+00 - recall: 0.0000e+00 - f1_score: 0.0000e+00WARNING:tensorflow:Method (on_train_batch_end) is slow compared to the batch update (1.413397). Check your callbacks.\n",
            "690/690 [==============================] - 473s 686ms/step - loss: 0.6122 - accuracy: 0.7510 - precision: 0.7583 - recall: 0.6376 - f1_score: 0.6894 - val_loss: 0.5389 - val_accuracy: 0.7881 - val_precision: 0.7935 - val_recall: 0.7138 - val_f1_score: 0.7515\n",
            "Epoch 2/5\n",
            "690/690 [==============================] - 468s 679ms/step - loss: 0.4880 - accuracy: 0.8078 - precision: 0.8093 - recall: 0.7369 - f1_score: 0.7714 - val_loss: 0.5240 - val_accuracy: 0.7977 - val_precision: 0.8190 - val_recall: 0.7486 - val_f1_score: 0.7822\n",
            "Epoch 3/5\n",
            "690/690 [==============================] - 469s 679ms/step - loss: 0.4096 - accuracy: 0.8413 - precision: 0.8306 - recall: 0.7611 - f1_score: 0.7943 - val_loss: 0.4984 - val_accuracy: 0.8080 - val_precision: 0.8392 - val_recall: 0.7721 - val_f1_score: 0.8043\n",
            "Epoch 4/5\n",
            "690/690 [==============================] - 467s 677ms/step - loss: 0.3340 - accuracy: 0.8754 - precision: 0.8487 - recall: 0.7843 - f1_score: 0.8153 - val_loss: 0.5058 - val_accuracy: 0.8075 - val_precision: 0.8562 - val_recall: 0.7938 - val_f1_score: 0.8238\n",
            "Epoch 5/5\n",
            "690/690 [==============================] - 470s 681ms/step - loss: 0.2724 - accuracy: 0.8989 - precision: 0.8638 - recall: 0.8029 - f1_score: 0.8323 - val_loss: 0.5328 - val_accuracy: 0.8142 - val_precision: 0.8700 - val_recall: 0.8110 - val_f1_score: 0.8394\n",
            "CPU times: user 1h 33min 36s, sys: 13min 10s, total: 1h 46min 47s\n",
            "Wall time: 39min 24s\n"
          ],
          "name": "stdout"
        }
      ]
    },
    {
      "cell_type": "code",
      "metadata": {
        "id": "1iZEemRBkCpB",
        "outputId": "081f4bdd-7c8e-4a32-ed60-680af57ed44b",
        "colab": {
          "base_uri": "https://localhost:8080/",
          "height": 121
        }
      },
      "source": [
        "#6 layer gru\n",
        "model_6bigru.evaluate(x_test_seq, y_test)"
      ],
      "execution_count": null,
      "outputs": [
        {
          "output_type": "stream",
          "text": [
            "173/173 [==============================] - 9s 53ms/step - loss: 0.5261 - accuracy: 0.8106 - precision: 0.8696 - recall: 0.8104 - f1_score: 0.8390\n"
          ],
          "name": "stdout"
        },
        {
          "output_type": "execute_result",
          "data": {
            "text/plain": [
              "[0.526131808757782,\n",
              " 0.810551106929779,\n",
              " 0.8696079850196838,\n",
              " 0.8104419112205505,\n",
              " 0.8389829993247986]"
            ]
          },
          "metadata": {
            "tags": []
          },
          "execution_count": 119
        }
      ]
    },
    {
      "cell_type": "code",
      "metadata": {
        "id": "rI7iERyBkCpD",
        "outputId": "a157b7b3-a18e-46a1-b8f7-070cc7d0e7cf",
        "colab": {
          "base_uri": "https://localhost:8080/",
          "height": 35
        }
      },
      "source": [
        "# serialize model to JSON\n",
        "model_json = model_6bigru.to_json()\n",
        "with open(\"/content/drive/My Drive/3-class/6_bigru/model_6bigru.json\", \"w\") as json_file:\n",
        "    json_file.write(model_json)\n",
        "    \n",
        "# serialize weights to HDF5\n",
        "model_6bigru.save_weights(\"/content/drive/My Drive/3-class/6_bigru/model_6bigru.h5\")\n",
        "print(\"Saved model to disk\")"
      ],
      "execution_count": null,
      "outputs": [
        {
          "output_type": "stream",
          "text": [
            "Saved model to disk\n"
          ],
          "name": "stdout"
        }
      ]
    },
    {
      "cell_type": "code",
      "metadata": {
        "id": "rbCKSwuOkCpF",
        "outputId": "03e51eab-b285-4376-c253-dd1997b4df86",
        "colab": {
          "base_uri": "https://localhost:8080/",
          "height": 35
        }
      },
      "source": [
        "shutil.move('/content/logs/model_6bigru','/content/drive/My Drive/3-class/6_bigru/model_6bigru')"
      ],
      "execution_count": null,
      "outputs": [
        {
          "output_type": "execute_result",
          "data": {
            "application/vnd.google.colaboratory.intrinsic+json": {
              "type": "string"
            },
            "text/plain": [
              "'/content/drive/My Drive/3-class/6_bigru/model_6bigru'"
            ]
          },
          "metadata": {
            "tags": []
          },
          "execution_count": 121
        }
      ]
    },
    {
      "cell_type": "markdown",
      "metadata": {
        "id": "mFlLwO0fkmJL"
      },
      "source": [
        "##**7 layer**"
      ]
    },
    {
      "cell_type": "code",
      "metadata": {
        "id": "6jmzg5pLkmJN"
      },
      "source": [
        "tensorboard = TensorBoard(log_dir=\"./logs/model_7bigru\")\n",
        "keras_callbacks = [tensorboard]\n",
        "                   "
      ],
      "execution_count": null,
      "outputs": []
    },
    {
      "cell_type": "code",
      "metadata": {
        "id": "hkKOqBCfkmJQ",
        "outputId": "704920e1-ca8a-498a-9991-7e17a17a4af7",
        "colab": {
          "base_uri": "https://localhost:8080/",
          "height": 731
        }
      },
      "source": [
        "%%time\n",
        "\n",
        "#num = 1 #define how many stackings\n",
        "#num = 2\n",
        "#num = 3\n",
        "#num = 4\n",
        "#num = 5\n",
        "#num = 6\n",
        "num=7\n",
        "#forward layers\n",
        "rnn_cells_forward = [tf.keras.layers.GRUCell(100, dropout=0.2) for _ in range(num)]\n",
        "stacked_forward = tf.keras.layers.StackedRNNCells(rnn_cells_forward)\n",
        "\n",
        "#backward layers\n",
        "rnn_cells_backward = [tf.keras.layers.GRUCell(100, dropout=0.2) for _ in range(num)]\n",
        "stacked_backward = tf.keras.layers.StackedRNNCells(rnn_cells_backward)\n",
        "\n",
        "forward_layer = tf.keras.layers.RNN(stacked_forward, return_sequences=True)\n",
        "backward_layer = tf.keras.layers.RNN(stacked_backward, return_sequences=True, go_backwards=True)\n",
        "\n",
        "model_7bigru = tf.keras.Sequential() \n",
        "e = tf.keras.layers.Embedding(100000, 200, weights=[embedding_matrix], input_length=tweetlen\n",
        "              , trainable=True)\n",
        "model_7bigru.add(e)\n",
        "model_7bigru.add(tf.keras.layers.Bidirectional(forward_layer, backward_layer= backward_layer))  \n",
        "model_7bigru.add(tf.keras.layers.Flatten())\n",
        "model_7bigru.add(tf.keras.layers.Dense(64,activation='relu'))\n",
        "model_7bigru.add(tf.keras.layers.Dense(3, activation='softmax'))\n",
        "model_7bigru.compile(loss='categorical_crossentropy', optimizer='adam', metrics=['accuracy', keras_metrics.precision(), \n",
        "                           keras_metrics.recall(), keras_metrics.f1_score()])\n",
        "print(model_7bigru.summary())\n",
        "history = model_7bigru.fit(x_train_seq, y_train, validation_data=(x_val_seq, y_validation), epochs=5, batch_size=64, callbacks=keras_callbacks)"
      ],
      "execution_count": null,
      "outputs": [
        {
          "output_type": "stream",
          "text": [
            "tracking <tf.Variable 'Variable:0' shape=() dtype=int32, numpy=0> tp\n",
            "tracking <tf.Variable 'Variable:0' shape=() dtype=int32, numpy=0> fp\n",
            "tracking <tf.Variable 'Variable:0' shape=() dtype=int32, numpy=0> tp\n",
            "tracking <tf.Variable 'Variable:0' shape=() dtype=int32, numpy=0> fn\n",
            "tracking <tf.Variable 'Variable:0' shape=() dtype=int32, numpy=0> tp\n",
            "tracking <tf.Variable 'Variable:0' shape=() dtype=int32, numpy=0> fp\n",
            "tracking <tf.Variable 'Variable:0' shape=() dtype=int32, numpy=0> tp\n",
            "tracking <tf.Variable 'Variable:0' shape=() dtype=int32, numpy=0> fn\n",
            "Model: \"sequential_6\"\n",
            "_________________________________________________________________\n",
            "Layer (type)                 Output Shape              Param #   \n",
            "=================================================================\n",
            "embedding_6 (Embedding)      (None, 28, 200)           20000000  \n",
            "_________________________________________________________________\n",
            "bidirectional_6 (Bidirection (None, 28, 200)           908400    \n",
            "_________________________________________________________________\n",
            "flatten_6 (Flatten)          (None, 5600)              0         \n",
            "_________________________________________________________________\n",
            "dense_12 (Dense)             (None, 64)                358464    \n",
            "_________________________________________________________________\n",
            "dense_13 (Dense)             (None, 3)                 195       \n",
            "=================================================================\n",
            "Total params: 21,267,059\n",
            "Trainable params: 21,267,059\n",
            "Non-trainable params: 0\n",
            "_________________________________________________________________\n",
            "None\n",
            "Epoch 1/5\n",
            "  2/690 [..............................] - ETA: 24:19 - loss: 1.0922 - accuracy: 0.4141 - precision: 0.0000e+00 - recall: 0.0000e+00 - f1_score: 0.0000e+00WARNING:tensorflow:Method (on_train_batch_end) is slow compared to the batch update (1.643597). Check your callbacks.\n",
            "690/690 [==============================] - 542s 785ms/step - loss: 0.6165 - accuracy: 0.7464 - precision: 0.7496 - recall: 0.6430 - f1_score: 0.6906 - val_loss: 0.5541 - val_accuracy: 0.7803 - val_precision: 0.7906 - val_recall: 0.7057 - val_f1_score: 0.7457\n",
            "Epoch 2/5\n",
            "690/690 [==============================] - 540s 783ms/step - loss: 0.4881 - accuracy: 0.8062 - precision: 0.8080 - recall: 0.7260 - f1_score: 0.7648 - val_loss: 0.5471 - val_accuracy: 0.7873 - val_precision: 0.8165 - val_recall: 0.7455 - val_f1_score: 0.7794\n",
            "Epoch 3/5\n",
            "690/690 [==============================] - 535s 776ms/step - loss: 0.4103 - accuracy: 0.8428 - precision: 0.8261 - recall: 0.7625 - f1_score: 0.7930 - val_loss: 0.5005 - val_accuracy: 0.8077 - val_precision: 0.8352 - val_recall: 0.7752 - val_f1_score: 0.8041\n",
            "Epoch 4/5\n",
            "690/690 [==============================] - 535s 775ms/step - loss: 0.3343 - accuracy: 0.8748 - precision: 0.8448 - recall: 0.7869 - f1_score: 0.8148 - val_loss: 0.5416 - val_accuracy: 0.8011 - val_precision: 0.8530 - val_recall: 0.7963 - val_f1_score: 0.8237\n",
            "Epoch 5/5\n",
            "690/690 [==============================] - 534s 774ms/step - loss: 0.2793 - accuracy: 0.8971 - precision: 0.8611 - recall: 0.8054 - f1_score: 0.8323 - val_loss: 0.5263 - val_accuracy: 0.8113 - val_precision: 0.8674 - val_recall: 0.8131 - val_f1_score: 0.8394\n",
            "CPU times: user 1h 46min 35s, sys: 15min 30s, total: 2h 2min 5s\n",
            "Wall time: 45min 4s\n"
          ],
          "name": "stdout"
        }
      ]
    },
    {
      "cell_type": "code",
      "metadata": {
        "id": "65vW7hDRkmJT",
        "outputId": "ed67ec50-7bb6-4840-d292-04f866a8b621",
        "colab": {
          "base_uri": "https://localhost:8080/",
          "height": 121
        }
      },
      "source": [
        "#7 layer gru\n",
        "model_7bigru.evaluate(x_test_seq, y_test)"
      ],
      "execution_count": null,
      "outputs": [
        {
          "output_type": "stream",
          "text": [
            "173/173 [==============================] - 10s 60ms/step - loss: 0.5183 - accuracy: 0.8089 - precision: 0.8675 - recall: 0.8118 - f1_score: 0.8387\n"
          ],
          "name": "stdout"
        },
        {
          "output_type": "execute_result",
          "data": {
            "text/plain": [
              "[0.5182809233665466,\n",
              " 0.8089194893836975,\n",
              " 0.8675015568733215,\n",
              " 0.8118181228637695,\n",
              " 0.8387364149093628]"
            ]
          },
          "metadata": {
            "tags": []
          },
          "execution_count": 124
        }
      ]
    },
    {
      "cell_type": "code",
      "metadata": {
        "id": "Up3ej1wjkmJV",
        "outputId": "03e6a59a-98b8-4494-f7f7-2347f945c1b0",
        "colab": {
          "base_uri": "https://localhost:8080/",
          "height": 35
        }
      },
      "source": [
        "# serialize model to JSON\n",
        "model_json = model_7bigru.to_json()\n",
        "with open(\"/content/drive/My Drive/3-class/7_bigru/model_7bigru.json\", \"w\") as json_file:\n",
        "    json_file.write(model_json)\n",
        "    \n",
        "# serialize weights to HDF5\n",
        "model_7bigru.save_weights(\"/content/drive/My Drive/3-class/7_bigru/model_7bigru.h5\")\n",
        "print(\"Saved model to disk\")"
      ],
      "execution_count": null,
      "outputs": [
        {
          "output_type": "stream",
          "text": [
            "Saved model to disk\n"
          ],
          "name": "stdout"
        }
      ]
    },
    {
      "cell_type": "code",
      "metadata": {
        "id": "GNS30CYYkmJW",
        "outputId": "937d9821-e667-46c3-e89e-3021319739e8",
        "colab": {
          "base_uri": "https://localhost:8080/",
          "height": 35
        }
      },
      "source": [
        "shutil.move('/content/logs/model_7bigru','/content/drive/My Drive/3-class/7_bigru/model_7bigru')"
      ],
      "execution_count": null,
      "outputs": [
        {
          "output_type": "execute_result",
          "data": {
            "application/vnd.google.colaboratory.intrinsic+json": {
              "type": "string"
            },
            "text/plain": [
              "'/content/drive/My Drive/3-class/7_bigru/model_7bigru'"
            ]
          },
          "metadata": {
            "tags": []
          },
          "execution_count": 126
        }
      ]
    },
    {
      "cell_type": "markdown",
      "metadata": {
        "id": "lykQcXlIVOxE"
      },
      "source": [
        "#**Bi-LSTM with Auto-generated stopword**"
      ]
    },
    {
      "cell_type": "markdown",
      "metadata": {
        "id": "NEaumI6cV8O8"
      },
      "source": [
        "##**2 layer**"
      ]
    },
    {
      "cell_type": "code",
      "metadata": {
        "id": "yl-1N8f0V8PC"
      },
      "source": [
        "tensorboard = TensorBoard(log_dir=\"./logs/model_2bilstm\")\n",
        "keras_callbacks = [tensorboard] "
      ],
      "execution_count": null,
      "outputs": []
    },
    {
      "cell_type": "code",
      "metadata": {
        "id": "uqEbXrkfV8PM",
        "outputId": "40b96657-bdc2-41a5-b93f-e16721f9fcad",
        "colab": {
          "base_uri": "https://localhost:8080/"
        }
      },
      "source": [
        "%%time\n",
        "\n",
        "#num = 1 #define how many stackings\n",
        "num = 2\n",
        "#num = 3\n",
        "#num = 4\n",
        "\n",
        "#forward layers\n",
        "rnn_cells_forward = [tf.keras.layers.LSTMCell(100, dropout=0.2) for _ in range(num)]\n",
        "stacked_forward = tf.keras.layers.StackedRNNCells(rnn_cells_forward)\n",
        "\n",
        "#backward layers\n",
        "rnn_cells_backward = [tf.keras.layers.LSTMCell(100, dropout=0.2) for _ in range(num)]\n",
        "stacked_backward = tf.keras.layers.StackedRNNCells(rnn_cells_backward)\n",
        "\n",
        "forward_layer = tf.keras.layers.RNN(stacked_forward, return_sequences=True)\n",
        "backward_layer = tf.keras.layers.RNN(stacked_backward, return_sequences=True, go_backwards=True)\n",
        "\n",
        "model_2bilstm = tf.keras.Sequential() \n",
        "e = tf.keras.layers.Embedding(100000, 200, weights=[embedding_matrix], input_length=tweetlen\n",
        "              , trainable=True)\n",
        "model_2bilstm.add(e)\n",
        "model_2bilstm.add(tf.keras.layers.Bidirectional(forward_layer, backward_layer= backward_layer))  \n",
        "model_2bilstm.add(tf.keras.layers.Flatten())\n",
        "model_2bilstm.add(tf.keras.layers.Dense(64,activation='relu'))\n",
        "model_2bilstm.add(tf.keras.layers.Dense(3, activation='softmax'))\n",
        "model_2bilstm.compile(loss='categorical_crossentropy', optimizer='adam', metrics=['accuracy', keras_metrics.precision(), \n",
        "                           keras_metrics.recall(), keras_metrics.f1_score()])\n",
        "print(model_2bilstm.summary())\n",
        "history = model_2bilstm.fit(x_train_seq, y_train, validation_data=(x_val_seq, y_validation), epochs=5, batch_size=64, callbacks=keras_callbacks)"
      ],
      "execution_count": null,
      "outputs": [
        {
          "output_type": "stream",
          "text": [
            "tracking <tf.Variable 'Variable:0' shape=() dtype=int32, numpy=0> tp\n",
            "tracking <tf.Variable 'Variable:0' shape=() dtype=int32, numpy=0> fp\n",
            "tracking <tf.Variable 'Variable:0' shape=() dtype=int32, numpy=0> tp\n",
            "tracking <tf.Variable 'Variable:0' shape=() dtype=int32, numpy=0> fn\n",
            "tracking <tf.Variable 'Variable:0' shape=() dtype=int32, numpy=0> tp\n",
            "tracking <tf.Variable 'Variable:0' shape=() dtype=int32, numpy=0> fp\n",
            "tracking <tf.Variable 'Variable:0' shape=() dtype=int32, numpy=0> tp\n",
            "tracking <tf.Variable 'Variable:0' shape=() dtype=int32, numpy=0> fn\n",
            "Model: \"sequential_8\"\n",
            "_________________________________________________________________\n",
            "Layer (type)                 Output Shape              Param #   \n",
            "=================================================================\n",
            "embedding_8 (Embedding)      (None, 28, 200)           20000000  \n",
            "_________________________________________________________________\n",
            "bidirectional_8 (Bidirection (None, 28, 200)           401600    \n",
            "_________________________________________________________________\n",
            "flatten_8 (Flatten)          (None, 5600)              0         \n",
            "_________________________________________________________________\n",
            "dense_16 (Dense)             (None, 64)                358464    \n",
            "_________________________________________________________________\n",
            "dense_17 (Dense)             (None, 3)                 195       \n",
            "=================================================================\n",
            "Total params: 20,760,259\n",
            "Trainable params: 20,760,259\n",
            "Non-trainable params: 0\n",
            "_________________________________________________________________\n",
            "None\n",
            "Epoch 1/5\n",
            "  2/690 [..............................] - ETA: 7:04 - loss: 1.0756 - accuracy: 0.3984 - precision: 0.5000 - recall: 0.0408 - f1_score: 0.0755          WARNING:tensorflow:Method (on_train_batch_end) is slow compared to the batch update (0.461316). Check your callbacks.\n",
            "690/690 [==============================] - 178s 258ms/step - loss: 0.5861 - accuracy: 0.7573 - precision: 0.7654 - recall: 0.6588 - f1_score: 0.7061 - val_loss: 0.5383 - val_accuracy: 0.7839 - val_precision: 0.7979 - val_recall: 0.7232 - val_f1_score: 0.7587\n",
            "Epoch 2/5\n",
            "690/690 [==============================] - 174s 253ms/step - loss: 0.4596 - accuracy: 0.8160 - precision: 0.8136 - recall: 0.7454 - f1_score: 0.7780 - val_loss: 0.5005 - val_accuracy: 0.7980 - val_precision: 0.8238 - val_recall: 0.7574 - val_f1_score: 0.7892\n",
            "Epoch 3/5\n",
            "690/690 [==============================] - 175s 254ms/step - loss: 0.3807 - accuracy: 0.8506 - precision: 0.8355 - recall: 0.7710 - f1_score: 0.8019 - val_loss: 0.4991 - val_accuracy: 0.8091 - val_precision: 0.8438 - val_recall: 0.7822 - val_f1_score: 0.8119\n",
            "Epoch 4/5\n",
            "690/690 [==============================] - 173s 251ms/step - loss: 0.3098 - accuracy: 0.8799 - precision: 0.8527 - recall: 0.7935 - f1_score: 0.8221 - val_loss: 0.5187 - val_accuracy: 0.8055 - val_precision: 0.8596 - val_recall: 0.8027 - val_f1_score: 0.8302\n",
            "Epoch 5/5\n",
            "690/690 [==============================] - 173s 250ms/step - loss: 0.2497 - accuracy: 0.9045 - precision: 0.8672 - recall: 0.8122 - f1_score: 0.8388 - val_loss: 0.5232 - val_accuracy: 0.8069 - val_precision: 0.8738 - val_recall: 0.8195 - val_f1_score: 0.8458\n",
            "CPU times: user 39min 3s, sys: 3min 13s, total: 42min 17s\n",
            "Wall time: 14min 39s\n"
          ],
          "name": "stdout"
        }
      ]
    },
    {
      "cell_type": "code",
      "metadata": {
        "id": "lld0sjC0V8PV",
        "outputId": "34e87a16-71d7-429a-b145-faeb9e9ba8b3",
        "colab": {
          "base_uri": "https://localhost:8080/"
        }
      },
      "source": [
        "#2 layer lstm\n",
        "model_2bilstm.evaluate(x_test_seq, y_test)"
      ],
      "execution_count": null,
      "outputs": [
        {
          "output_type": "stream",
          "text": [
            "173/173 [==============================] - 3s 17ms/step - loss: 0.5154 - accuracy: 0.8136 - precision: 0.8743 - recall: 0.8176 - f1_score: 0.8450\n"
          ],
          "name": "stdout"
        },
        {
          "output_type": "execute_result",
          "data": {
            "text/plain": [
              "[0.5154424905776978,\n",
              " 0.8136330842971802,\n",
              " 0.8742858171463013,\n",
              " 0.8175840973854065,\n",
              " 0.8449844717979431]"
            ]
          },
          "metadata": {
            "tags": []
          },
          "execution_count": 134
        }
      ]
    },
    {
      "cell_type": "code",
      "metadata": {
        "id": "wBEEBDWNV8Pd",
        "outputId": "7752cc5f-3fa1-4ed4-832b-af78fc6a1739",
        "colab": {
          "base_uri": "https://localhost:8080/"
        }
      },
      "source": [
        "# serialize model to JSON\n",
        "model_json = model_2bilstm.to_json()\n",
        "with open(\"/content/drive/My Drive/3-class/2_bilstm/model_2bilstm.json\", \"w\") as json_file:\n",
        "    json_file.write(model_json)\n",
        "    \n",
        "# serialize weights to HDF5\n",
        "model_2bilstm.save_weights(\"/content/drive/My Drive/3-class/2_bilstm/model_2bilstm.h5\")\n",
        "print(\"Saved model to disk\")"
      ],
      "execution_count": null,
      "outputs": [
        {
          "output_type": "stream",
          "text": [
            "Saved model to disk\n"
          ],
          "name": "stdout"
        }
      ]
    },
    {
      "cell_type": "code",
      "metadata": {
        "id": "_E0vL5z2V8Pk",
        "outputId": "77983246-2eb9-434a-8351-7ddbcd030a45",
        "colab": {
          "base_uri": "https://localhost:8080/"
        }
      },
      "source": [
        "shutil.move('/content/logs/model_2bilstm','/content/drive/My Drive/3-class/2_bilstm/model_2bilstm')"
      ],
      "execution_count": null,
      "outputs": [
        {
          "output_type": "execute_result",
          "data": {
            "application/vnd.google.colaboratory.intrinsic+json": {
              "type": "string"
            },
            "text/plain": [
              "'/content/drive/My Drive/3-class/2_bilstm/model_2bilstm'"
            ]
          },
          "metadata": {
            "tags": []
          },
          "execution_count": 136
        }
      ]
    },
    {
      "cell_type": "markdown",
      "metadata": {
        "id": "oAl9Ovhn9nkH"
      },
      "source": [
        "#**Save model**"
      ]
    },
    {
      "cell_type": "code",
      "metadata": {
        "id": "0FSeVSAny808"
      },
      "source": [
        "l = x_test_original.to_list()\n",
        "pred = model_5bigru.predict_classes(x_test_seq)"
      ],
      "execution_count": null,
      "outputs": []
    },
    {
      "cell_type": "code",
      "metadata": {
        "id": "hn6itVtheabj",
        "outputId": "95c4d5b8-33cc-45ac-f925-794c6da37178",
        "colab": {
          "base_uri": "https://localhost:8080/",
          "height": 55
        }
      },
      "source": [
        "new = [] \n",
        "for ele in l: \n",
        "  x = [] \n",
        "  x.append(l[l.index(ele)]) \n",
        "  x.append(pred[l.index(ele)]) \n",
        "  new.append(x)  \n",
        "print(new[0:5])\n"
      ],
      "execution_count": null,
      "outputs": [
        {
          "output_type": "stream",
          "text": [
            "[['ايش هالنباح الهلال التعاون', 2], ['الف مبروك عشاق الزعيم البطوله ولا للمجد بقيه الهلال يعني ان اكثر واكثر ان تفرح اكثر واكثر', 1], ['اخبار اعتقالات بسلوفاكيا علي خلفيه هجمات باريس القت السلطات السلوفاكيه القبض علي الجزيره', 2], ['مشكله برشلونه ان شقوك وان هاجمت جلدوك وان لعبت جننونك يا اخوان هذا اللعين خرشنا الحمدلله ماهو معه', 0], ['الحمدلله حتي ترضي الحمدلله بعد الرضي الحمدلله اذا رضيت الف مبروك شعب العالمي اداا ومستوي النصر الاتحاد', 1]]\n"
          ],
          "name": "stdout"
        }
      ]
    },
    {
      "cell_type": "code",
      "metadata": {
        "id": "opRR2BBTfSQG",
        "outputId": "75b3d14c-03ba-4cf2-85fd-3359fc459d47",
        "colab": {
          "base_uri": "https://localhost:8080/",
          "height": 202
        }
      },
      "source": [
        "df = pd.DataFrame(new, columns=['Testing Data','Predicted Labels'])  \n",
        "df.head()"
      ],
      "execution_count": null,
      "outputs": [
        {
          "output_type": "execute_result",
          "data": {
            "text/html": [
              "<div>\n",
              "<style scoped>\n",
              "    .dataframe tbody tr th:only-of-type {\n",
              "        vertical-align: middle;\n",
              "    }\n",
              "\n",
              "    .dataframe tbody tr th {\n",
              "        vertical-align: top;\n",
              "    }\n",
              "\n",
              "    .dataframe thead th {\n",
              "        text-align: right;\n",
              "    }\n",
              "</style>\n",
              "<table border=\"1\" class=\"dataframe\">\n",
              "  <thead>\n",
              "    <tr style=\"text-align: right;\">\n",
              "      <th></th>\n",
              "      <th>Testing Data</th>\n",
              "      <th>Predicted Labels</th>\n",
              "    </tr>\n",
              "  </thead>\n",
              "  <tbody>\n",
              "    <tr>\n",
              "      <th>0</th>\n",
              "      <td>ايش هالنباح الهلال التعاون</td>\n",
              "      <td>2</td>\n",
              "    </tr>\n",
              "    <tr>\n",
              "      <th>1</th>\n",
              "      <td>الف مبروك عشاق الزعيم البطوله ولا للمجد بقيه ا...</td>\n",
              "      <td>1</td>\n",
              "    </tr>\n",
              "    <tr>\n",
              "      <th>2</th>\n",
              "      <td>اخبار اعتقالات بسلوفاكيا علي خلفيه هجمات باريس...</td>\n",
              "      <td>2</td>\n",
              "    </tr>\n",
              "    <tr>\n",
              "      <th>3</th>\n",
              "      <td>مشكله برشلونه ان شقوك وان هاجمت جلدوك وان لعبت...</td>\n",
              "      <td>0</td>\n",
              "    </tr>\n",
              "    <tr>\n",
              "      <th>4</th>\n",
              "      <td>الحمدلله حتي ترضي الحمدلله بعد الرضي الحمدلله ...</td>\n",
              "      <td>1</td>\n",
              "    </tr>\n",
              "  </tbody>\n",
              "</table>\n",
              "</div>"
            ],
            "text/plain": [
              "                                        Testing Data  Predicted Labels\n",
              "0                         ايش هالنباح الهلال التعاون                 2\n",
              "1  الف مبروك عشاق الزعيم البطوله ولا للمجد بقيه ا...                 1\n",
              "2  اخبار اعتقالات بسلوفاكيا علي خلفيه هجمات باريس...                 2\n",
              "3  مشكله برشلونه ان شقوك وان هاجمت جلدوك وان لعبت...                 0\n",
              "4  الحمدلله حتي ترضي الحمدلله بعد الرضي الحمدلله ...                 1"
            ]
          },
          "metadata": {
            "tags": []
          },
          "execution_count": 169
        }
      ]
    },
    {
      "cell_type": "code",
      "metadata": {
        "id": "Zk-6YZgAy-Bg",
        "outputId": "25468486-e387-4325-e5f7-40304c622c83",
        "colab": {
          "base_uri": "https://localhost:8080/",
          "height": 173
        }
      },
      "source": [
        "df.info()"
      ],
      "execution_count": null,
      "outputs": [
        {
          "output_type": "stream",
          "text": [
            "<class 'pandas.core.frame.DataFrame'>\n",
            "RangeIndex: 5516 entries, 0 to 5515\n",
            "Data columns (total 2 columns):\n",
            " #   Column            Non-Null Count  Dtype \n",
            "---  ------            --------------  ----- \n",
            " 0   Testing Data      5516 non-null   object\n",
            " 1   Predicted Labels  5516 non-null   int64 \n",
            "dtypes: int64(1), object(1)\n",
            "memory usage: 86.3+ KB\n"
          ],
          "name": "stdout"
        }
      ]
    },
    {
      "cell_type": "code",
      "metadata": {
        "id": "bKbbT4xLf2wy"
      },
      "source": [
        "df.to_csv('/content/drive/My Drive/3-class/bigru.csv', encoding='utf-8')"
      ],
      "execution_count": null,
      "outputs": []
    }
  ]
}